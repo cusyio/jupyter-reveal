{
 "cells": [
  {
   "cell_type": "markdown",
   "id": "a2958f27",
   "metadata": {
    "slideshow": {
     "slide_type": "slide"
    }
   },
   "source": [
    "# Technisches Schreiben 1\n",
    "\n",
    "<img src=\"../img/veit-duotone.png\" alt=\"Portrait Veit Schiele\" style=\"float: left; width:256px; margin-right:32px; border-radius: 50%;\"/>\n",
    "\n",
    "Veit Schiele<br>Cusy GmbH, Berlin<br>21. Juni 2021"
   ]
  },
  {
   "cell_type": "markdown",
   "id": "239dd73f",
   "metadata": {
    "slideshow": {
     "slide_type": "fragment"
    }
   },
   "source": [
    "<p style=\"clear: both; margin-bottom: 0;\">\n",
    "    <br>\n",
    "    <img src=\"qrcode-technisches-schreiben-1.svg\" alt=\"QR-Code\" style=\"width:128px; margin: 20px 32px 0 0;\"/>\n",
    "    <br>\n",
    "    <a href=\"https://github.com/cusyio/jupyter-reveal/blob/main/technical-writing/teschnisches-schreiben-1.pdf\">github.com/cusyio/jupyter-reveal/blob/main/technical-writing/teschnisches-schreiben-1.pdf</a>\n",
    "<p/>"
   ]
  },
  {
   "cell_type": "markdown",
   "id": "cfb21414",
   "metadata": {
    "slideshow": {
     "slide_type": "slide"
    }
   },
   "source": [
    "## Einführung\n",
    "\n",
    "Das Training bringt Euch das klare und einfache Schreiben technischer Dokumentationen bei."
   ]
  },
  {
   "cell_type": "markdown",
   "id": "6355bf9a",
   "metadata": {
    "slideshow": {
     "slide_type": "subslide"
    }
   },
   "source": [
    "### Zielgruppe\n",
    "\n",
    "Ihr müsst ein wenig deutsche Schreibkenntnisse haben, jedoch keine literarisch anerkannten Texte verfasst haben um diesen Kurs zu belegen."
   ]
  },
  {
   "cell_type": "markdown",
   "id": "77fc0d8f",
   "metadata": {
    "slideshow": {
     "slide_type": "subslide"
    }
   },
   "source": [
    "### Lernziele\n",
    "\n",
    "* Verwenden von Terminologien\n",
    "* Pronomen\n",
    "* Unterscheiden von Aktiv und Passiv\n",
    "* Möglichkeiten des Aktiv\n",
    "* Strategien für klare und ansprechende Sätze\n",
    "* Strategien zum Kürzen von Sätzen\n",
    "* Unterschiede zwischen Aufzählungslisten und nummerierten Listen\n",
    "* …"
   ]
  },
  {
   "cell_type": "markdown",
   "id": "b7c22a5a",
   "metadata": {
    "slideshow": {
     "slide_type": "subslide"
    }
   },
   "source": [
    "### Lernziele\n",
    "\n",
    "* …\n",
    "* Idiome erkennen und überarbeiten\n",
    "* Zusammenfassungen für Texte schreiben\n",
    "* Zielgruppen identifizieren\n",
    "* Voraussetzungen und Lernziele bestimmen\n",
    "* Gliedern von umfangreichen Themen\n",
    "* Konzentration von Absätzen auf ein Thema"
   ]
  },
  {
   "cell_type": "markdown",
   "id": "5903c433",
   "metadata": {
    "slideshow": {
     "slide_type": "subslide"
    }
   },
   "source": [
    "### Anforderungen\n",
    "\n",
    "Wir werden in diesem Kurs einige der Voraussetzungen in einem Vorkurs auffrischen, sodass Ihr anschließend alle die wesentlichen grammatischen Anforderungen erfüllt."
   ]
  },
  {
   "cell_type": "markdown",
   "id": "5302abb4",
   "metadata": {
    "slideshow": {
     "slide_type": "fragment"
    }
   },
   "source": [
    "Technisch empfehlen wir Laptops oder Desktop-Computer, da Ihr sehr viel tippen werdet. Tablets oder Smartphones sind hierfür weniger gut geeignet. Zudem benötigt Ihr eine stabile Internetverbindung mit durchschnittlichen Transferraten."
   ]
  },
  {
   "cell_type": "markdown",
   "id": "0da80ab5",
   "metadata": {
    "slideshow": {
     "slide_type": "slide"
    }
   },
   "source": [
    "## Grundlegende Grammatik\n",
    "\n",
    "Diese Lerneinheit vermittelt Euch die deutsche Grammatik nicht vollständig sondern nur die für diesen Kurs erforderlichen Grundlagen."
   ]
  },
  {
   "cell_type": "markdown",
   "id": "0c0fba41",
   "metadata": {
    "slideshow": {
     "slide_type": "subslide"
    }
   },
   "source": [
    "### Wortarten\n",
    "\n",
    "| Wortart | Definition | Beispiel |\n",
    "| ------- | ---------- | -------- |\n",
    "| Substantiv | eine Person, ein Ort, ein Konzept oder eine Sache | **Tim** schreibt einen **Artikel**. |\n",
    "| Pronomen | Fürwort, das ein anderes Nomen ersetzt | Tim schreibt einen Artikel. **Er** gibt **ihm** den Titel »Alles neu«. |\n",
    "| Adjektiv | ein Wort oder eine Phrase, die ein Nomen verändert | Es ist ein **langer** Artikel. |\n",
    "| Verb | ein Aktionswort oder eine Phrase | Tim **schreibt** einen Artikel. |\n",
    "| Adverb | ein Wort oder eine Phrase, die ein Verb, ein Adjektiv oder ein anderes Adverb modifiziert | Tim schreibt **langsam**. |\n",
    "| Präposition | ein Wort oder eine Phrase, die die Positionsbeziehung zweier Nomen angibt | Tim schreibt **meistens** Artikel für sein eigenes Blog |\n",
    "| Konjunktion | ein Wort, das zwei Nomen oder Sätze verbindet | Tims Artikel **und** Bücher haben immer dasselbe Thema. |\n",
    "| Transition | ein Wort oder eine Phrase, die zwei Sätze verbindet | Tim schreibt einen Artikel. **Allerdings** kommt er nur langsam voran. |"
   ]
  },
  {
   "cell_type": "markdown",
   "id": "bdcaf520",
   "metadata": {
    "slideshow": {
     "slide_type": "subslide"
    }
   },
   "source": [
    "#### Übungen\n",
    "\n",
    "##### Substantive\n",
    "\n",
    "Identifiziert die drei Substantive in der folgenden Textpassage:\n",
    "\n",
    "> Tim erklärt anderen, wie sie barrierefreie Websites erstellen können. Dies macht ihm große Freude."
   ]
  },
  {
   "cell_type": "markdown",
   "id": "e325d259",
   "metadata": {
    "slideshow": {
     "slide_type": "fragment"
    }
   },
   "source": [
    ">> **Tim** erklärt anderen, wie sie barrierefreie **Websites** erstellen können. Dies macht ihm große **Freude**."
   ]
  },
  {
   "cell_type": "markdown",
   "id": "d60ddcb7",
   "metadata": {
    "slideshow": {
     "slide_type": "fragment"
    }
   },
   "source": [
    ">>> **andere** ist ein Adjektiv, da es auf eine unbestimmte Anzahl von Personen verweist.\n",
    ">>> **Dies** ist ein Adverb, das auf das Verb **erklärt** verweist."
   ]
  },
  {
   "cell_type": "markdown",
   "id": "c6443c5c",
   "metadata": {
    "slideshow": {
     "slide_type": "subslide"
    }
   },
   "source": [
    "#### Übungen\n",
    "\n",
    "##### Pronomen\n",
    "\n",
    "Identifiziert die zwei Pronomen in der folgenden Textpassage:\n",
    "\n",
    "> Tims Artikel über Barrierefreiheit wurde von der Lektorin sehr gelobt. Sie schlug ihm vor, öfter zu diesem Thema zu schreiben."
   ]
  },
  {
   "cell_type": "markdown",
   "id": "8af23a3b",
   "metadata": {
    "slideshow": {
     "slide_type": "fragment"
    }
   },
   "source": [
    ">> Tims Artikel über Barrierefreiheit wurde von der Lektorin sehr gelobt. **Sie** schlug **ihm** vor, öfter zu **diesem** Thema zu schreiben."
   ]
  },
  {
   "cell_type": "markdown",
   "id": "2d746493",
   "metadata": {
    "slideshow": {
     "slide_type": "subslide"
    }
   },
   "source": [
    "#### Übungen\n",
    "\n",
    "##### Verben\n",
    "\n",
    "> Der Text liest sich gut und trägt auch zu einem besseren Verständnis bei."
   ]
  },
  {
   "cell_type": "markdown",
   "id": "6d66c3d6",
   "metadata": {
    "slideshow": {
     "slide_type": "fragment"
    }
   },
   "source": [
    ">> Der Text **liest** sich gut und **trägt** auch zu einem besseren Verständnis **bei**."
   ]
  },
  {
   "cell_type": "markdown",
   "id": "dcddda60",
   "metadata": {
    "slideshow": {
     "slide_type": "subslide"
    }
   },
   "source": [
    "#### Übungen\n",
    "\n",
    "##### Adjektive und Adverben\n",
    "\n",
    "> In Toms langem Artikel befanden sich nur zwei Fehler. Die Lektorin erkannte sie schnell."
   ]
  },
  {
   "cell_type": "markdown",
   "id": "17a4b876",
   "metadata": {
    "slideshow": {
     "slide_type": "fragment"
    }
   },
   "source": [
    ">> In Toms **langem** Artikel befanden sich nur **zwei** Fehler. Die Lektorin entdeckte sie **schnell**."
   ]
  },
  {
   "cell_type": "markdown",
   "id": "131f3e08",
   "metadata": {
    "slideshow": {
     "slide_type": "subslide"
    }
   },
   "source": [
    "#### Übungen\n",
    "\n",
    "##### Präpositionen\n",
    "\n",
    "> Der Abschnitt über einfache Sprache sollte früher im Artikel erscheinen und umfangreicher sein."
   ]
  },
  {
   "cell_type": "markdown",
   "id": "ed216242",
   "metadata": {
    "slideshow": {
     "slide_type": "fragment"
    }
   },
   "source": [
    ">> Der Abschnitt über einfache Sprache sollte **früher** im Artikel erscheinen und **umfangreicher** sein."
   ]
  },
  {
   "cell_type": "markdown",
   "id": "bba17f2b",
   "metadata": {
    "slideshow": {
     "slide_type": "subslide"
    }
   },
   "source": [
    "#### Übungen\n",
    "\n",
    "##### Konjunktionen und Transitionen\n",
    "\n",
    "> Tim schreibt Artikel und lesbaren Code, arbeitet jedoch selten an größeren Projekten."
   ]
  },
  {
   "cell_type": "markdown",
   "id": "2f0fa043",
   "metadata": {
    "slideshow": {
     "slide_type": "fragment"
    }
   },
   "source": [
    ">> Tim schreibt Artikel **und** lesbaren Code, arbeitet **jedoch** selten an größeren Projekten."
   ]
  },
  {
   "cell_type": "markdown",
   "id": "9882952b",
   "metadata": {
    "slideshow": {
     "slide_type": "slide"
    }
   },
   "source": [
    "## Wörter"
   ]
  },
  {
   "cell_type": "markdown",
   "id": "34124973",
   "metadata": {
    "slideshow": {
     "slide_type": "fragment"
    }
   },
   "source": [
    "1. Definiert neue oder unbekannte Begriffe"
   ]
  },
  {
   "cell_type": "markdown",
   "id": "a0f54759",
   "metadata": {
    "slideshow": {
     "slide_type": "fragment"
    }
   },
   "source": [
    "2. Verwendet die Begriffe konsequent"
   ]
  },
  {
   "cell_type": "markdown",
   "id": "6896d3ea",
   "metadata": {
    "slideshow": {
     "slide_type": "fragment"
    }
   },
   "source": [
    "3. Akronyme richtig verwenden\n",
    "\n",
    "   Wann sollten Akronyme und wann der vollständige Begriff verwendet werden?"
   ]
  },
  {
   "cell_type": "markdown",
   "id": "658c9754",
   "metadata": {
    "slideshow": {
     "slide_type": "fragment"
    }
   },
   "source": [
    "4. Pronomen eindeutig zuordnen"
   ]
  },
  {
   "cell_type": "markdown",
   "id": "f7328b81",
   "metadata": {
    "slideshow": {
     "slide_type": "slide"
    }
   },
   "source": [
    "## Aktiv vs. Passiv"
   ]
  },
  {
   "cell_type": "markdown",
   "id": "fa5d14e4",
   "metadata": {
    "slideshow": {
     "slide_type": "fragment"
    }
   },
   "source": [
    "Die meisten Sätze in technischen Dokumentationen sollten im Aktiv sein."
   ]
  },
  {
   "cell_type": "markdown",
   "id": "8091df56",
   "metadata": {
    "slideshow": {
     "slide_type": "subslide"
    }
   },
   "source": [
    "### Unterscheiden zwischen Aktiv und Passiv"
   ]
  },
  {
   "cell_type": "markdown",
   "id": "e304ce5b",
   "metadata": {
    "slideshow": {
     "slide_type": "fragment"
    }
   },
   "source": [
    "Beim Aktiv handelt eine Person auf ein bestimmtes Ziel hin: `Person+Verb+Ziel`."
   ]
  },
  {
   "cell_type": "markdown",
   "id": "a2b23f86",
   "metadata": {
    "slideshow": {
     "slide_type": "fragment"
    }
   },
   "source": [
    "Beim Passiv ist es meist umgekehrt: `Ziel+Verb+Person`."
   ]
  },
  {
   "cell_type": "markdown",
   "id": "3cddc5db",
   "metadata": {
    "slideshow": {
     "slide_type": "subslide"
    }
   },
   "source": [
    "### Passive Verben erkennen"
   ]
  },
  {
   "cell_type": "markdown",
   "id": "cf2add43",
   "metadata": {
    "slideshow": {
     "slide_type": "fragment"
    }
   },
   "source": [
    "Passive Verben setzen sich meist aus einer Form von sein und einem Partizip Perfekt zusammen."
   ]
  },
  {
   "cell_type": "markdown",
   "id": "8d847ff9",
   "metadata": {
    "slideshow": {
     "slide_type": "fragment"
    }
   },
   "source": [
    "#### Beispiele\n",
    "\n",
    "* wurde interpretiert\n",
    "* wird erzeugt durch\n",
    "* wurde gebildet von"
   ]
  },
  {
   "cell_type": "markdown",
   "id": "1e9a9525",
   "metadata": {
    "slideshow": {
     "slide_type": "subslide"
    }
   },
   "source": [
    "### Imperativverben sind normalerweise aktiv"
   ]
  },
  {
   "cell_type": "markdown",
   "id": "51bf6da9",
   "metadata": {
    "slideshow": {
     "slide_type": "fragment"
    }
   },
   "source": [
    "In Sätzen mit Imperativverben werden aktive Personen nicht explizit erwähnt, sondern implizit angesprochen."
   ]
  },
  {
   "cell_type": "markdown",
   "id": "da37b86c",
   "metadata": {
    "slideshow": {
     "slide_type": "fragment"
    }
   },
   "source": [
    "#### Beispiele\n",
    "\n",
    "* Öffnet die Konfigurationsdatei.\n",
    "* Setzt die Variable `protected` auf `False`"
   ]
  },
  {
   "cell_type": "markdown",
   "id": "525a4fef",
   "metadata": {
    "slideshow": {
     "slide_type": "subslide"
    }
   },
   "source": [
    "### Übung\n",
    "\n",
    "Markiert die folgenden Sätze als Aktiv oder Passiv:\n",
    "\n",
    "* `protected` bietet schreibgeschützten Zugriff.\n",
    "* Der schreibgeschützte Zugriff wurde konfiguriert.\n",
    "* Die Leistung wurde gemessen.\n",
    "* Python wurde von Guido van Rossum erfunden.\n",
    "* Zufällig entdeckte ich die Sprache.\n",
    "* Diese Einstellung wird von der `MutableInput`-Methode verwendet.\n",
    "* Klickt auf *Senden*."
   ]
  },
  {
   "cell_type": "markdown",
   "id": "64b83cc4",
   "metadata": {
    "slideshow": {
     "slide_type": "slide"
    }
   },
   "source": [
    "## Treffende Formulierungen"
   ]
  },
  {
   "cell_type": "markdown",
   "id": "43e9e5a4",
   "metadata": {
    "slideshow": {
     "slide_type": "fragment"
    }
   },
   "source": [
    "### Wählt starke Verben"
   ]
  },
  {
   "cell_type": "markdown",
   "id": "9b41397b",
   "metadata": {
    "slideshow": {
     "slide_type": "fragment"
    }
   },
   "source": [
    "Reduziert ungenaue, schwache oder generische Verben wie die folgenden:\n",
    "\n",
    "* Formen von sein: ist, sind, waren usw.\n",
    "* erscheinen\n",
    "* geschehen"
   ]
  },
  {
   "cell_type": "markdown",
   "id": "ca1f4c8e",
   "metadata": {
    "slideshow": {
     "slide_type": "subslide"
    }
   },
   "source": [
    "#### Beispiele\n",
    "\n",
    "Im folgenden ein paar Beispiele, wie Ihr schwache Verben durch starke ersetzen könnt:\n",
    "\n",
    "| schwaches Verb | starkes Verb |\n",
    "| -------------- | ------------ |\n",
    "| Der Fehler tritt auf, wenn Ihr auf *Senden* klickt. | Ein Klick auf Senden löst den Fehler aus. |\n",
    "| Diese Fehlermeldung kommt, wenn … | Die Anwendung überprüft die Eingabe und erstellt eine möglichst hilfreiche Fehlermeldung |\n",
    "| Wir sind sehr vorsichtig , um sicherzustellen | Wir prüfen sorgfältig |"
   ]
  },
  {
   "cell_type": "markdown",
   "id": "520518e3",
   "metadata": {
    "slideshow": {
     "slide_type": "subslide"
    }
   },
   "source": [
    "#### Übung 1:  Wählt starke Verben\n",
    "\n",
    "> Wenn kein Datentyp angegeben wird, wird er anhand der Methoden oder Attribute festgelegt.\n",
    "> \n",
    "> Der Syntaxfehler tritt auf, wenn am Ende der Zeile das Semikolon vergessen wurde."
   ]
  },
  {
   "cell_type": "markdown",
   "id": "99af65fb",
   "metadata": {
    "slideshow": {
     "slide_type": "subslide"
    }
   },
   "source": [
    "#### Übung 2: Ersetzt *es gibt*\n",
    "\n",
    "> Es gibt viele Überschneidungen zwischen diesem und jenem.\n",
    "> \n",
    "> Es gibt eine Low-Level-Schnittstelle zum Laden des Modells.\n",
    "> \n",
    "> Es gibt eine Funktion namens `mutable`, die Änderungen erlaubt."
   ]
  },
  {
   "cell_type": "markdown",
   "id": "189ee796",
   "metadata": {
    "slideshow": {
     "slide_type": "slide"
    }
   },
   "source": [
    "## Kurze, prägnante Sätze"
   ]
  },
  {
   "cell_type": "markdown",
   "id": "a32c1b1d",
   "metadata": {
    "slideshow": {
     "slide_type": "fragment"
    }
   },
   "source": [
    "Personen, die in der Programmiersprache Python schreiben, lieben deren Lesbarkeit, die auch in den kurzen Ausdrücken begründet ist."
   ]
  },
  {
   "cell_type": "markdown",
   "id": "e5c70c46",
   "metadata": {
    "slideshow": {
     "slide_type": "fragment"
    }
   },
   "source": [
    "In [The Zen of Python](https://www.python.org/dev/peps/pep-0020/) ist dies ausführlicher dargestellt:"
   ]
  },
  {
   "cell_type": "markdown",
   "id": "f604ace9",
   "metadata": {
    "slideshow": {
     "slide_type": "fragment"
    }
   },
   "source": [
    "> Beautiful is better than ugly.\n",
    "> \n",
    "> Explicit is better than implicit.\n",
    "> \n",
    "> Simple is better than complex.\n",
    "> \n",
    "> Complex is better than complicated.\n",
    "> \n",
    "> Flat is better than nested.\n",
    "> \n",
    "> Sparse is better than dense.\n",
    "> \n",
    "> Readability counts.\n",
    "> \n",
    "> …"
   ]
  },
  {
   "cell_type": "markdown",
   "id": "257496a7",
   "metadata": {
    "slideshow": {
     "slide_type": "fragment"
    }
   },
   "source": [
    "Sehr ähnliche Regeln gelten auch für das technische Schreiben."
   ]
  },
  {
   "cell_type": "markdown",
   "id": "3db3844d",
   "metadata": {
    "slideshow": {
     "slide_type": "subslide"
    }
   },
   "source": [
    "### Konzentriere einen Satz auf eine Idee"
   ]
  },
  {
   "cell_type": "markdown",
   "id": "f80a088b",
   "metadata": {
    "slideshow": {
     "slide_type": "fragment"
    }
   },
   "source": [
    "Konzentriert jeden Satz auf eine einzelne Idee, einen Gedanken oder ein Konzept. So wie Anweisungen in einem Programm eine einzelne Aufgabe ausführen, sollten Sätze eine einzelne Idee ausführen."
   ]
  },
  {
   "cell_type": "markdown",
   "id": "defed2ad",
   "metadata": {
    "slideshow": {
     "slide_type": "subslide"
    }
   },
   "source": [
    "#### Übung 1: Wandelt lange Sätze in Listen um\n",
    "\n",
    "> Die KornShell – so die durch ihren Autor geprägte Schreibung – wurde Anfang der 1980er Jahre von David Korn bei den Bell Labs der AT&T entwickelt und bei der USENIX-Konferenz am 14. Juli 1983 vorgestellt.\n",
    "\n",
    "Quelle: [Wikipedia: Kornshell](https://de.wikipedia.org/wiki/Kornshell)"
   ]
  },
  {
   "cell_type": "markdown",
   "id": "1a41c6de",
   "metadata": {
    "slideshow": {
     "slide_type": "subslide"
    }
   },
   "source": [
    "#### Übung 2 – verzichtet auf überflüssige Wörter\n",
    "\n",
    "Viele Sätze enthalten Füllwörter und Phrasen, die nichts zur Verständigung beitragen, z.B.:\n",
    "\n",
    "| wortreich | prägnant |\n",
    "| --------- | -------- |\n",
    "| zu diesem Zeitpunkt | jetzt |\n",
    "| bestimmen Sie den Wert von | finden Sie |\n",
    "| in der Lage sein … zu tun | können |"
   ]
  },
  {
   "cell_type": "markdown",
   "id": "5b73face",
   "metadata": {
    "slideshow": {
     "slide_type": "subslide"
    }
   },
   "source": [
    "#### Übung 3 – Nebensätze reduzieren\n",
    "\n",
    "Klauseln sind unabhängige logische Fragmente eines Satzes, die den Hauptsatz modiffizieren, z.B.:\n",
    "\n",
    "> Python ist eine interpretierte Programmiersprache, die den Anspruch hat, einen gut lesbaren, knappen Programmierstil zu fördern."
   ]
  },
  {
   "cell_type": "markdown",
   "id": "d4a1aedf",
   "metadata": {
    "slideshow": {
     "slide_type": "slide"
    }
   },
   "source": [
    "## Listen und Tabellen\n",
    "\n",
    "Listen und Tabellen können vielschichtige Themen ordnen. Wenn sich Euer Thema auf eine solche Weise ordnen lässt, solltet Ihr Euren Text entsprechend umwandeln."
   ]
  },
  {
   "cell_type": "markdown",
   "id": "d0bb4c0d",
   "metadata": {
    "slideshow": {
     "slide_type": "subslide"
    }
   },
   "source": [
    "### Wählt den richtigen Listentyp\n",
    "\n",
    "* **Aufzählungen** werden für ungeordnete Inhalte verwendet, bei denen die Änderung der Reihenfolge nicht die Bedeutung verändert."
   ]
  },
  {
   "cell_type": "markdown",
   "id": "3ddc37e6",
   "metadata": {
    "slideshow": {
     "slide_type": "fragment"
    }
   },
   "source": [
    "* **Nummerierte Listen** werden verwendet, wenn die Reihenfolge der einzelnen Punkte bedeutend ist."
   ]
  },
  {
   "cell_type": "markdown",
   "id": "6381d7e2",
   "metadata": {
    "slideshow": {
     "slide_type": "fragment"
    }
   },
   "source": [
    "* **Definitionslisten** werden verwendet, um Begriffe zu definieren, z.B.:"
   ]
  },
  {
   "cell_type": "markdown",
   "id": "917999f2",
   "metadata": {
    "slideshow": {
     "slide_type": "fragment"
    }
   },
   "source": [
    "<dl>\n",
    "    <dt><code>for</code></dt>\n",
    "    <dd>zur Iteration über die Elemente einer Sequenz</dd>\n",
    "    <dt><code>while</code></dt>\n",
    "    <dd>zur Wiederholung einer Schleife, solange ein logischer Ausdruck wahr ist.</dd>\n",
    "</dl>"
   ]
  },
  {
   "cell_type": "markdown",
   "id": "05ee8a64",
   "metadata": {
    "slideshow": {
     "slide_type": "fragment"
    }
   },
   "source": [
    "* **Verschachtelte Listen** werden für hierarchische Inhalte verwendet\n",
    "\n",
    "  Gibt es Ober- und Unterpunkte, so können sich verschachtelte Listen empfehlen. Beachtet dabei, dass bei der Verschachtelung die drei Listentypen kombiniert werden können"
   ]
  },
  {
   "cell_type": "markdown",
   "id": "0ae3c84a",
   "metadata": {
    "slideshow": {
     "slide_type": "subslide"
    }
   },
   "source": [
    "### Satzzeichen für Listenelemente\n",
    "\n",
    "Nur wenn das Listenelement aus einem oder mehreren Sätzen besteht, solltet Ihr Großschreibung und Satzzeichen verwenden."
   ]
  },
  {
   "cell_type": "markdown",
   "id": "455fac5a",
   "metadata": {
    "slideshow": {
     "slide_type": "subslide"
    }
   },
   "source": [
    "### Verschachtelte Listen für hierarchische Inhalte\n",
    "\n",
    "Gibt es Ober- und Unterpunkte, so können sich verschachtelte Listen empfehlen. Beachtet dabei, dass bei der Verschachtelung die drei Listentypen kombiniert werden können."
   ]
  },
  {
   "cell_type": "markdown",
   "id": "6c0464aa",
   "metadata": {
    "slideshow": {
     "slide_type": "subslide"
    }
   },
   "source": [
    "### Erstellt nützliche Tabellen\n",
    "\n",
    "Tabellen sind geeignet für Inhalte, bei denen jeder einzelne Punkt in ein oder mehreren Kategorien erläutert wird. Achtet bei Tabellen darauf, dass\n",
    "\n",
    "* jede Spalte aussagekräftig beschriftet ist\n",
    "* jede Zelle nur wenig Text enthalten darf\n",
    "* jede Spalte möglichst nur von einem Datentyp sein sollte"
   ]
  },
  {
   "cell_type": "markdown",
   "id": "2fb6f33a",
   "metadata": {
    "slideshow": {
     "slide_type": "subslide"
    }
   },
   "source": [
    "### Übung: Beginnt nummerierte Listen mit zwingenden Verben\n",
    "\n",
    "Erwägt, alle Elemente in einer nummerierten Liste mit einem Imperativ zu beginnen wie z.B. mit *öffnet* oder *startet*."
   ]
  },
  {
   "cell_type": "markdown",
   "id": "571392e1",
   "metadata": {
    "slideshow": {
     "slide_type": "slide"
    }
   },
   "source": [
    "## Absätze"
   ]
  },
  {
   "cell_type": "markdown",
   "id": "2b718ad2",
   "metadata": {
    "slideshow": {
     "slide_type": "fragment"
    }
   },
   "source": [
    "Beim Schreiben entwirren wir einzelne Aspekte eines Themas und bringen sie in eine logische Abfolge, die anderen Euer Thema zugänglich macht."
   ]
  },
  {
   "cell_type": "markdown",
   "id": "09d514b1",
   "metadata": {
    "slideshow": {
     "slide_type": "subslide"
    }
   },
   "source": [
    "### Schreibt einen tollen Eröffnungssatz"
   ]
  },
  {
   "cell_type": "markdown",
   "id": "eeded9a5",
   "metadata": {
    "slideshow": {
     "slide_type": "fragment"
    }
   },
   "source": [
    "Der Anfangssatz ist der wichtigste Satz eines jeden Absatzes. Dies hilft beim Querlesen, das Thema des Absatzes zu erfassen ohne alle nachfolgenden Sätze zu lesen. Daher kommt ihm eine besondere Bedeutung zu."
   ]
  },
  {
   "cell_type": "markdown",
   "id": "b460a4e4",
   "metadata": {
    "slideshow": {
     "slide_type": "subslide"
    }
   },
   "source": [
    "### Konzentriert Euch in jeden Absatz auf ein Thema"
   ]
  },
  {
   "cell_type": "markdown",
   "id": "0cb35c37",
   "metadata": {
    "slideshow": {
     "slide_type": "fragment"
    }
   },
   "source": [
    "Ihr solltet in jedem Absatz nur eine eigenständige logische Einheit darstellen. Beschränkt Euch dabei auf diese Einheit. Beschreibt nicht, was in einem zukünftigen Abschnitt passieren wird oder was in einem früheren Abschnitt passiert ist. Löscht beim Überarbeiten rücksichtslos jeden Satz, der sich nicht direkt auf das aktuelle Thema bezieht."
   ]
  },
  {
   "cell_type": "markdown",
   "id": "4534b522",
   "metadata": {
    "slideshow": {
     "slide_type": "subslide"
    }
   },
   "source": [
    "### Macht Absätze nicht zu lang oder zu kurz"
   ]
  },
  {
   "cell_type": "markdown",
   "id": "dae22cd2",
   "metadata": {
    "slideshow": {
     "slide_type": "fragment"
    }
   },
   "source": [
    "Lange Absätze können optisch einschüchtern. Sehr lange Absätze bilden eine gefürchtete (Blei-)Wüste, die beim Lesen gern ignoriert wird. Daher scheinen Absätze mit drei bis fünf Sätzen ideal, mehr als acht Sätze solltet Ihr jedoch vermeiden. Zieht beim Überarbeiten die Unterteilung längerer Absätze in Erwägung."
   ]
  },
  {
   "cell_type": "markdown",
   "id": "f1e97f85",
   "metadata": {
    "slideshow": {
     "slide_type": "fragment"
    }
   },
   "source": [
    "Umgekehrt solltet Ihr Absätze nicht zu kurz machen. Wenn Euer Text viele Absätze mit nur einem Satz enthält, stimmt die Textstruktur nicht. Ihr solltet dann nach Möglichkeiten suchen, diese ein-Satz-Absätze zu größeren Absätzen oder Listen zu verbinden."
   ]
  },
  {
   "cell_type": "markdown",
   "id": "c8e75c2c",
   "metadata": {
    "slideshow": {
     "slide_type": "subslide"
    }
   },
   "source": [
    "### Beantworte *Was*, *Warum* und *Wie*"
   ]
  },
  {
   "cell_type": "markdown",
   "id": "5b9c8659",
   "metadata": {
    "slideshow": {
     "slide_type": "fragment"
    }
   },
   "source": [
    "Gute Absätze beantworten die folgenden drei Fragen:\n",
    "\n",
    "* **Was** versuchst Du zu sagen?\n",
    "* **Warum** ist es für Dein Publikum wichtig, dies zu wissen?\n",
    "* **Wie** soll Dein Publikum dieses Wissen nutzen?"
   ]
  },
  {
   "cell_type": "markdown",
   "id": "6361df0a",
   "metadata": {
    "slideshow": {
     "slide_type": "slide"
    }
   },
   "source": [
    "## Publikum"
   ]
  },
  {
   "cell_type": "markdown",
   "id": "91cec0d0",
   "metadata": {
    "slideshow": {
     "slide_type": "fragment"
    }
   },
   "source": [
    "Stellt sicher, dass Euer Text all die Informationen enthält, die Euer Publikum braucht – und nur diese. Daher solltet Ihr\n",
    "\n",
    "1. Euer Publikum definieren\n",
    "2. Bestimmen, welche Informationen wichtig sind\n",
    "3. Euren Text Eurem Publikum anpassen"
   ]
  },
  {
   "cell_type": "markdown",
   "id": "b25b3679",
   "metadata": {
    "slideshow": {
     "slide_type": "subslide"
    }
   },
   "source": [
    "### 1. Euer Publikum definieren"
   ]
  },
  {
   "cell_type": "markdown",
   "id": "d8aac79f",
   "metadata": {
    "slideshow": {
     "slide_type": "fragment"
    }
   },
   "source": [
    "Beginnt damit, Euer Publikum zu identifizieren. Sind es"
   ]
  },
  {
   "cell_type": "markdown",
   "id": "115f65d7",
   "metadata": {
    "slideshow": {
     "slide_type": "fragment"
    }
   },
   "source": [
    "* Personen, die Informatik studiert haben?"
   ]
  },
  {
   "cell_type": "markdown",
   "id": "49aaa769",
   "metadata": {
    "slideshow": {
     "slide_type": "fragment"
    }
   },
   "source": [
    "* Personen in technischen oder nicht-technischen Rollen?"
   ]
  },
  {
   "cell_type": "markdown",
   "id": "a84fed3e",
   "metadata": {
    "slideshow": {
     "slide_type": "fragment"
    }
   },
   "source": [
    "* Personen aus dem wissenschaftlichen Bereich?"
   ]
  },
  {
   "cell_type": "markdown",
   "id": "039e43ee",
   "metadata": {
    "slideshow": {
     "slide_type": "subslide"
    }
   },
   "source": [
    "### 1. Euer Publikum definieren\n",
    "\n",
    "Personen in derselben Rolle teilen im Allgemeinen bestimmte grundlegende Fähigkeiten und Kenntnisse, z.B.:"
   ]
  },
  {
   "cell_type": "markdown",
   "id": "5a358dc8",
   "metadata": {
    "slideshow": {
     "slide_type": "fragment"
    }
   },
   "source": [
    "* kennen die meisten Personen, die Informatik studiert haben, Sortieralgorithmen und daher könnt Ihr Euch auch darauf verlassen, dass sie wissen, dass `O(n)` für den günstigsten Fall vieler Sortierverfahren verwendet wird, aber Ihr könnt Euch nicht darauf verlassen, dass dies auch von Personen mit nicht-technischen Rollen gewusst wird"
   ]
  },
  {
   "cell_type": "markdown",
   "id": "c1b1fb38",
   "metadata": {
    "slideshow": {
     "slide_type": "fragment"
    }
   },
   "source": [
    "* sollte sich ein an Forschende gerichteter Bericht deutlich unterscheiden von einem Zeitungsartikel zum selben Thema, der sich an ein Laienpublikum wendet"
   ]
  },
  {
   "cell_type": "markdown",
   "id": "415722f3",
   "metadata": {
    "slideshow": {
     "slide_type": "fragment"
    }
   },
   "source": [
    "* sollte sich die Erklärung eines neuen Ansatzes maschinellen Lernens für Personen, die ihre Dissertation zu ML schreiben, deutlich unterscheiden von der Erklärung für Studierende im ersten Studienjahr."
   ]
  },
  {
   "cell_type": "markdown",
   "id": "b93862d8",
   "metadata": {
    "slideshow": {
     "slide_type": "subslide"
    }
   },
   "source": [
    "### 2. Bestimmen, welche Informationen wichtig sind\n",
    "\n",
    "Schreibt eine Liste mit allem, was Eure Zielgruppe lernen soll, um Ziele zu erreichen. In einigen Fällen sollte die Liste Aufgaben enthalten, mit der Eure Zielgruppe erste Erfahrungen mit dem neu erworbenen Wissen sammeln kann."
   ]
  },
  {
   "cell_type": "markdown",
   "id": "582afd86",
   "metadata": {
    "slideshow": {
     "slide_type": "subslide"
    }
   },
   "source": [
    "### 3. Euren Text Eurem Publikum anpassen\n",
    "\n",
    "Um von den Erfahrungen und Bedürfnissen Eures Publikums auszugehen, benötigt Ihr Einfühlungsvermögen. Ihr müsst ausgehend von Bekanntem erklären, wie das Interesse Eures Publikums befriedigt werden kann. Hierzu müsst Ihr aus Eurer Rolle heraustreten, um die Lehrinhalte Eurem Publikum anzupassen."
   ]
  },
  {
   "cell_type": "markdown",
   "id": "f481bb33",
   "metadata": {
    "slideshow": {
     "slide_type": "subslide"
    }
   },
   "source": [
    "#### Wortschatz und Konzepte\n",
    "\n",
    "Passt Euer Vokabular Eurem Publikum an."
   ]
  },
  {
   "cell_type": "markdown",
   "id": "97f70fc4",
   "metadata": {
    "slideshow": {
     "slide_type": "fragment"
    }
   },
   "source": [
    "Achtet auf Nähe. Die Mitglieder in Deinem Team haben sich wahrscheinlich mit gemeinsamen Erfahrungen auch Begrifflichkeiten erarbeitet, die von anderen jedoch bestenfalls erraten werden können. Ihr solltet davon ausgehen, dass Ihr mehr erklären müsst, wenn sich Eure Zielgruppe erweitert."
   ]
  },
  {
   "cell_type": "markdown",
   "id": "f5dd5a72",
   "metadata": {
    "slideshow": {
     "slide_type": "fragment"
    }
   },
   "source": [
    "Ebenso verstehen wahrscheinlich erfahrene Personen in Eurem Softwareteam die Implementierungsdetails und Datenstrukturen Projekts, aber Personen, die neu im Team sind, erschließen sich diese nicht sofort. Sofern Ihr nicht nur vor erfahrenen Mitgliedern Eures Teams schreibt, müsst Ihr normalerweise deutlich mehr erklären."
   ]
  },
  {
   "cell_type": "markdown",
   "id": "a5867e02",
   "metadata": {
    "slideshow": {
     "slide_type": "subslide"
    }
   },
   "source": [
    "####  Fluch des Wissens\n",
    "\n",
    "Personen, die eine sehr umfangreiche Expertise erlangt haben, leiden oft unter dem Fluch des Wissens. Dies kann dazu führen, dass ihr fachliches Verständnis den Zugang zu ihrem Wissen erschweren kann. Wir vergessen leicht, dass Neulinge noch nicht wissen können, was wir uns erarbeitet haben: sie verstehen häufig noch nicht unsere beiläufigen Erklärungen, die ein grundlegendes Wissen der Materie voraussetzen."
   ]
  },
  {
   "cell_type": "markdown",
   "id": "99e8887d",
   "metadata": {
    "slideshow": {
     "slide_type": "subslide"
    }
   },
   "source": [
    "####  Einfache Worte\n",
    "\n",
    "Zieht einfache Wörter komplexen Wörtern vor. Dabei können die englischen Fachbegriffe häufig einfacher sein als deutsche Übersetzungen. So kann z.B. *Wurzelbenutzer* eine wenig hilfreiche Übesetzung von *root* sein."
   ]
  },
  {
   "cell_type": "markdown",
   "id": "819d8895",
   "metadata": {
    "slideshow": {
     "slide_type": "subslide"
    }
   },
   "source": [
    "####  Kulturneutralität und Redewendungen\n",
    "\n",
    "Haltet Eure Inhale kulturneutral. Erwartet von Eurem Publikum nicht, dass sie die Feinheiten von Fußball, Cricket oder Sumo kennen, wenn Ihr Software erläutern wollt."
   ]
  },
  {
   "cell_type": "markdown",
   "id": "dad65e8e",
   "metadata": {
    "slideshow": {
     "slide_type": "slide"
    }
   },
   "source": [
    "## Dokumente"
   ]
  },
  {
   "cell_type": "markdown",
   "id": "29118839",
   "metadata": {
    "slideshow": {
     "slide_type": "subslide"
    }
   },
   "source": [
    "### Gebt den Umfang Eures Dokuments an"
   ]
  },
  {
   "cell_type": "markdown",
   "id": "4b269d21",
   "metadata": {
    "slideshow": {
     "slide_type": "fragment"
    }
   },
   "source": [
    "Ein gutes Dokument beginnt mit der Definition seines Umfangs, bspw.:\n",
    "\n",
    "> Dieses Dokument gibt einen Überblick über inklusives Schreiben."
   ]
  },
  {
   "cell_type": "markdown",
   "id": "f3fb6de7",
   "metadata": {
    "slideshow": {
     "slide_type": "fragment"
    }
   },
   "source": [
    "Dazu gehört auch die Beschreibung der Themen oder Zielgruppen, die nicht abgedeckt werden, bspw.:\n",
    "\n",
    "> Dieses Dokument beschreibt nicht eine spezifische Technologie."
   ]
  },
  {
   "cell_type": "markdown",
   "id": "00bb8c47",
   "metadata": {
    "slideshow": {
     "slide_type": "fragment"
    }
   },
   "source": [
    "Diese Aussagen kommen nicht nur dem Publikum, sondern auch Euch selbst als Schreibenden zugute. Weicht der Inhalt Ihres Dokuments während des Schreibens vom Geltungsbereich ab, so solltet Ihr entweder den Fokus Eures Dokument neu setzen oder Euren Geltungsbereich ändern."
   ]
  },
  {
   "cell_type": "markdown",
   "id": "65b3d6cc",
   "metadata": {
    "slideshow": {
     "slide_type": "subslide"
    }
   },
   "source": [
    "### Nennt Euer Publikum"
   ]
  },
  {
   "cell_type": "markdown",
   "id": "b550916c",
   "metadata": {
    "slideshow": {
     "slide_type": "fragment"
    }
   },
   "source": [
    "Ein gutes Dokument spezifiziert die Zielgruppe explizit, bspw.:\n",
    "\n",
    "> Dieses Dokument ist für Personen geschrieben, die Daten wissenschaftlich analysieren."
   ]
  },
  {
   "cell_type": "markdown",
   "id": "fd1f3a0f",
   "metadata": {
    "slideshow": {
     "slide_type": "fragment"
    }
   },
   "source": [
    "Über die Rolle des Publikums hinaus können auch alle erforderlichen Kenntnisse oder Erfahrungen angegeben werden, bspw.:\n",
    "\n",
    "> In diesem Dokument wird davon ausgegangen, dass Ihr Matrixmultiplikation versteht."
   ]
  },
  {
   "cell_type": "markdown",
   "id": "83b384f3",
   "metadata": {
    "slideshow": {
     "slide_type": "fragment"
    }
   },
   "source": [
    "In einigen Fällen sollten auch die erforderlichen Dokumente angegeben werden, bspw.:\n",
    "\n",
    "> Ihr müsst *Projektüberblick* gelesen haben, um die Inhalte dieses Dokuments einordnen zu können."
   ]
  },
  {
   "cell_type": "markdown",
   "id": "56ff7456",
   "metadata": {
    "slideshow": {
     "slide_type": "subslide"
    }
   },
   "source": [
    "### Legt wichtige Punkte im Voraus fest"
   ]
  },
  {
   "cell_type": "markdown",
   "id": "dfa8ccf7",
   "metadata": {
    "slideshow": {
     "slide_type": "fragment"
    }
   },
   "source": [
    "* Geht davon aus, dass Euer Publikum vielbeschäftigt ist. Es wird sich am Anfang noch nicht entschieden haben, Euer umfangreiches Dokument vollständig zu lesen. Diese Entscheidung wird es vermutlich frühestens treffen wollen, nachdem Ihr am Anfang Eures Dokuments ihre wesentlichen Fragen beantwortet habt."
   ]
  },
  {
   "cell_type": "markdown",
   "id": "d6feee05",
   "metadata": {
    "slideshow": {
     "slide_type": "fragment"
    }
   },
   "source": [
    "* Wir bei Cusy verwenden viel Energie auf den Anfang unserer Texte um die Wahrscheinlichkeit zu erhöhen, dass unser Publikum weiterliest. Dabei überarbeiten wir diesen Anfang mehrmals."
   ]
  },
  {
   "cell_type": "markdown",
   "id": "36181178",
   "metadata": {
    "slideshow": {
     "slide_type": "fragment"
    }
   },
   "source": [
    "* Schreibt bei langen technischen Dokumenten immer eine Zusammenfassung. Obwohl die Zusammenfassung sehr kurz sein muss, solltet Ihr Euch darauf einstellen, dass Ihr viel Zeit zum Verfassen dieser Zusammenfassung benötigt; ist sie langweilig oder verwirrend, werden viele nicht weiterlesen wollen."
   ]
  },
  {
   "cell_type": "markdown",
   "id": "6d2ebc7d",
   "metadata": {
    "slideshow": {
     "slide_type": "subslide"
    }
   },
   "source": [
    "### Schreibt für Euer Publikum"
   ]
  },
  {
   "cell_type": "markdown",
   "id": "753bc3b1",
   "metadata": {
    "slideshow": {
     "slide_type": "fragment"
    }
   },
   "source": [
    "In diesem Abschnitt konzentrieren wir uns auf die Definition der Zielgruppe als Mittel zur Organisation Eures Dokuments."
   ]
  },
  {
   "cell_type": "markdown",
   "id": "43835bf3",
   "metadata": {
    "slideshow": {
     "slide_type": "subslide"
    }
   },
   "source": [
    "#### Definiert Eure Zielgruppe"
   ]
  },
  {
   "cell_type": "markdown",
   "id": "45471b4b",
   "metadata": {
    "slideshow": {
     "slide_type": "fragment"
    }
   },
   "source": [
    "Die Beantwortung der folgenden Fragen hilft Euch zu bestimmen, was Euer Dokument enthalten soll:"
   ]
  },
  {
   "cell_type": "markdown",
   "id": "9c14f50e",
   "metadata": {
    "slideshow": {
     "slide_type": "fragment"
    }
   },
   "source": [
    "* Wer ist Euer **Zielpublikum**?"
   ]
  },
  {
   "cell_type": "markdown",
   "id": "b9e6c31b",
   "metadata": {
    "slideshow": {
     "slide_type": "fragment"
    }
   },
   "source": [
    "* Was weiß Euer Publikum bereits, **vor dem Lesen** Eures Dokuments?"
   ]
  },
  {
   "cell_type": "markdown",
   "id": "b5a4f1ec",
   "metadata": {
    "slideshow": {
     "slide_type": "fragment"
    }
   },
   "source": [
    "* Was weiß Euer Publikum  **nach dem Lesen** Eures Dokuments?"
   ]
  },
  {
   "cell_type": "markdown",
   "id": "d89bb37d",
   "metadata": {
    "slideshow": {
     "slide_type": "subslide"
    }
   },
   "source": [
    "#### Definiert Eure Zielgruppe\n",
    "\n",
    "Nehmen wir zum Beispiel an, Ihr habt einen neuen Sortieralgorithmus gefunden. Die folgende Liste enthält einige mögliche Antworten auf die vorangegangenen Fragen:"
   ]
  },
  {
   "cell_type": "markdown",
   "id": "3945d36a",
   "metadata": {
    "slideshow": {
     "slide_type": "fragment"
    }
   },
   "source": [
    "* Meine Zielgruppe ist mein Softwareentwicklungsteam, das an der besseren Darstellung von Suchergebnissen arbeitet."
   ]
  },
  {
   "cell_type": "markdown",
   "id": "b90fe7f2",
   "metadata": {
    "slideshow": {
     "slide_type": "fragment"
    }
   },
   "source": [
    "* Vor dem Lesen haben die meisten meiner Zielgruppe Sortieralgorithmen im Studium der Informatik gelernt. Etwa ein Viertel meiner Zielgruppe hat jedoch seit vielen Jahren keinen Sortieralgorithmus mehr implementiert oder evaluiert."
   ]
  },
  {
   "cell_type": "markdown",
   "id": "c0514384",
   "metadata": {
    "slideshow": {
     "slide_type": "fragment"
    }
   },
   "source": [
    "* Nach der Lektüre wird meine Zielgruppe in der Lage sein, alle der folgenden Aufgaben zu erfüllen:\n",
    "\n",
    "  * Den Algorithmus in einer Programmiersprache Eurer Wahl implementieren\n",
    "  * Zwei Arten von Datensätzen identifizieren, für die der Algorithmus besser geeignet ist als der Quicksort-Algorithmus.\n",
    "  * Zwei Randfälle identifizieren, in denen der Algorithmus schlecht abschneidet."
   ]
  },
  {
   "cell_type": "markdown",
   "id": "b8ba500f",
   "metadata": {
    "slideshow": {
     "slide_type": "subslide"
    }
   },
   "source": [
    "#### Organisiert für die Bedürfnisse Eures Publikums"
   ]
  },
  {
   "cell_type": "markdown",
   "id": "5292cfaa",
   "metadata": {
    "slideshow": {
     "slide_type": "fragment"
    }
   },
   "source": [
    "Nachdem Ihr die Zielgruppe definiert habt, gliedert das Dokument so, dass es das liefert, was Eure Zielgruppe nach dem Lesen des Dokuments wissen oder tun können sollte."
   ]
  },
  {
   "cell_type": "markdown",
   "id": "8145653e",
   "metadata": {
    "slideshow": {
     "slide_type": "fragment"
    }
   },
   "source": [
    "Die Gliederung des Dokuments könnte zum Beispiel wie folgt aussehen:"
   ]
  },
  {
   "cell_type": "markdown",
   "id": "12592dda",
   "metadata": {
    "slideshow": {
     "slide_type": "fragment"
    }
   },
   "source": [
    "1. Überblick über den Algorithmus\n",
    "   1. Allgemeine Einordnung in Sortieralgorithmen \n",
    "   2. Spezieller Vergleich zu Quicksort"
   ]
  },
  {
   "cell_type": "markdown",
   "id": "cdb3a9d4",
   "metadata": {
    "slideshow": {
     "slide_type": "fragment"
    }
   },
   "source": [
    "2. Implementierungen\n",
    "   1. Implementierung in Pseudocode\n",
    "   2. Implementierungstipps"
   ]
  },
  {
   "cell_type": "markdown",
   "id": "5f92edb7",
   "metadata": {
    "slideshow": {
     "slide_type": "fragment"
    }
   },
   "source": [
    "3. Tiefergehende Analyse des Algorithmus\n",
    "   1. Optimale Datensätze\n",
    "   2. Randfall-Probleme   "
   ]
  },
  {
   "cell_type": "markdown",
   "id": "847ce9cb",
   "metadata": {
    "slideshow": {
     "slide_type": "subslide"
    }
   },
   "source": [
    "#### Unterteilt das Thema in handhabbare Abschnitte"
   ]
  },
  {
   "cell_type": "markdown",
   "id": "e1acedb6",
   "metadata": {
    "slideshow": {
     "slide_type": "fragment"
    }
   },
   "source": [
    "Ihr modularisiert Code in Dateien, Klassen und Methoden. Modularer Code ist einfacher zu lesen, zu verstehen, zu pflegen und wiederzuverwenden. Wenn Ihr Euer Dokument modular gestaltet, habt Ihr dieselben Vorteile. Ihr habt wahrscheinlich eine starke Intuition für funktionale Modularität im Code, aber wie wendet Ihr diese Prinzipien auf Euer Schreiben an?"
   ]
  },
  {
   "cell_type": "markdown",
   "id": "35172180",
   "metadata": {
    "slideshow": {
     "slide_type": "fragment"
    }
   },
   "source": [
    "Auch die zu dokumentierende Informationen können im Allgemeinen in drei Größen unterteilt werden:"
   ]
  },
  {
   "cell_type": "markdown",
   "id": "1bec2cc5",
   "metadata": {
    "slideshow": {
     "slide_type": "fragment"
    }
   },
   "source": [
    "* Überschriften der obersten Ebene"
   ]
  },
  {
   "cell_type": "markdown",
   "id": "65ab48d3",
   "metadata": {
    "slideshow": {
     "slide_type": "fragment"
    }
   },
   "source": [
    "* Unterüberschriften der nachfolgenden Ebene"
   ]
  },
  {
   "cell_type": "markdown",
   "id": "e1cc6538",
   "metadata": {
    "slideshow": {
     "slide_type": "fragment"
    }
   },
   "source": [
    "* Absätze und Listen"
   ]
  },
  {
   "cell_type": "markdown",
   "id": "2c420108",
   "metadata": {
    "slideshow": {
     "slide_type": "subslide"
    }
   },
   "source": [
    "#### Unterteilt das Thema in handhabbare Abschnitte\n",
    "\n",
    "Eine Möglichkeit, eine passende Gliederung zu finden, ist die folgende:"
   ]
  },
  {
   "cell_type": "markdown",
   "id": "ade2ba6e",
   "metadata": {
    "slideshow": {
     "slide_type": "fragment"
    }
   },
   "source": [
    "* Beschreibt Euer Konzept auf vage, unterspezifizierte Weise"
   ]
  },
  {
   "cell_type": "markdown",
   "id": "4270afc6",
   "metadata": {
    "slideshow": {
     "slide_type": "fragment"
    }
   },
   "source": [
    "* Listet die Schritte auf, die Euer Publikum ausführen muss, um das Ziel zu erreichen"
   ]
  },
  {
   "cell_type": "markdown",
   "id": "e9307aa2",
   "metadata": {
    "slideshow": {
     "slide_type": "fragment"
    }
   },
   "source": [
    "* Findet eine sinnvolle Verbindung der unterspezifizierten Bereiche mit den konkreten Umsetzungsschritten"
   ]
  },
  {
   "cell_type": "markdown",
   "id": "3769b8ea",
   "metadata": {
    "slideshow": {
     "slide_type": "subslide"
    }
   },
   "source": [
    "### Übung\n",
    "\n",
    "Die folgende Passage ist der einleitende Absatz für ein Dokument. Listet Überschriften für die Abschnitte auf, in die Ihr dieses Thema unterteilen würdet.\n",
    "\n",
    "> Quicksort (englisch quick ‚schnell‘ und to sort ‚sortieren‘) ist ein schneller, rekursiver, nicht-stabiler Sortieralgorithmus, der nach dem Prinzip Teile und herrsche arbeitet. Er wurde ca. 1960 von C. Antony R. Hoare in seiner Grundform entwickelt und seitdem von vielen Forschern verbessert. Der Algorithmus hat den Vorteil, dass er über eine sehr kurze innere Schleife verfügt (was die Ausführungsgeschwindigkeit stark erhöht) und dass er, abgesehen von dem für die Rekursion zusätzlichen benötigten Platz auf dem Aufruf-Stack, ohne zusätzlichen Speicherplatz auskommt.\n",
    "\n",
    "Quelle: [Wikipedia](https://de.wikipedia.org/wiki/Quicksort)"
   ]
  },
  {
   "cell_type": "markdown",
   "id": "d3d4cb62",
   "metadata": {
    "slideshow": {
     "slide_type": "slide"
    }
   },
   "source": [
    "## Satzzeichen\n",
    "\n",
    "Dieser Abschnitt frischt die Verwendung von Satzzeichen auf."
   ]
  },
  {
   "cell_type": "markdown",
   "id": "afddb58c",
   "metadata": {
    "slideshow": {
     "slide_type": "subslide"
    }
   },
   "source": [
    "### Kommas\n",
    "\n",
    "Fügt als Richtlinie überall dort ein Komma ein, wo ihr beim Lesen innerhalb eines Satzes pausieren würdet. Wenn ein Punkt für Musikliebhaber eine ganze Notenpause ist, dann ist ein Komma vielleicht eine Halb- oder Viertelnotenpause. Mit anderen Worten, die Pause für ein Komma ist kürzer als für einen Punkt."
   ]
  },
  {
   "cell_type": "markdown",
   "id": "45d0e941",
   "metadata": {
    "slideshow": {
     "slide_type": "fragment"
    }
   },
   "source": [
    "Wenn Ihr beispielsweise den folgenden Satz laut vorlest, ruht Ihr wahrscheinlich kurz vor dem Wort **nur** aus:\n",
    "\n",
    "> C verhält sich wie eine Sprache mittlerer Ebene, nur ein wenig abstrakter als eine Assemblersprache."
   ]
  },
  {
   "cell_type": "markdown",
   "id": "cc470c78",
   "metadata": {
    "slideshow": {
     "slide_type": "fragment"
    }
   },
   "source": [
    "Einige Situationen erfordern ein Komma. Verwendet beispielsweise Kommas, um Elemente in einer Liste wie der folgenden zu trennen:\n",
    "\n",
    "> Wir verwenden C++, Python, Java und JavaScript."
   ]
  },
  {
   "cell_type": "markdown",
   "id": "eb2f777a",
   "metadata": {
    "slideshow": {
     "slide_type": "fragment"
    }
   },
   "source": [
    "Ihr könnt auch eine schnelle Definition oder einen Exkurs zwischen ein Kommapaar wie im folgenden Beispiel einfügen:\n",
    "\n",
    "> Python, eine einfach zu erlernende Sprache, hat in den letzten Jahren stark an Bedeutung gewonnen."
   ]
  },
  {
   "cell_type": "markdown",
   "id": "a9949cd4",
   "metadata": {
    "slideshow": {
     "slide_type": "fragment"
    }
   },
   "source": [
    "Vermeidet schließlich, ein Komma zu verwenden, um zwei unabhängige Gedanken zusammenzufügen."
   ]
  },
  {
   "cell_type": "markdown",
   "id": "9b18397c",
   "metadata": {
    "slideshow": {
     "slide_type": "subslide"
    }
   },
   "source": [
    "#### Übungen\n",
    "\n",
    "Fügt der folgenden Passage gegebenenfalls Kommas hinzu:\n",
    "\n",
    "> Protokollpuffer manchmal auch Protobuf genannt sind unser häufigstes Serialisierungsformat. Verwendet Protokollpuffer um strukturierte Daten zu speichern und zu übertragen. Im Gegensatz zu XML werden Protokollpuffer kompiliert. Folglich ist die Datenübertragung  sehr effizient was schnell zu einer großen Akzeptanz geführt hat."
   ]
  },
  {
   "cell_type": "markdown",
   "id": "a6bfb630",
   "metadata": {
    "slideshow": {
     "slide_type": "subslide"
    }
   },
   "source": [
    "### Semikolons"
   ]
  },
  {
   "cell_type": "markdown",
   "id": "75612de8",
   "metadata": {
    "slideshow": {
     "slide_type": "fragment"
    }
   },
   "source": [
    "Ein Semikolon trennt verschiedene Gedanken; es vereint stark verwandte Gedanken. Beachtet beispielsweise, wie das Semikolon im folgenden Satz den ersten und zweiten Gedanken vereint:"
   ]
  },
  {
   "cell_type": "markdown",
   "id": "bf87c04b",
   "metadata": {
    "slideshow": {
     "slide_type": "fragment"
    }
   },
   "source": [
    "> `sphinx-autobuild` erstellt Eure Dokumentation neu, sobald im `docs`-Verzeichnis etwas geändert wurde; liegt Eure Sphinx-Konfigurationsdatei also ebenfalls im `docs`-Verzeichnis, erstellt `sphinx-autobuild` die Dokumentation auch nach einer Konfigurationsänderung neu."
   ]
  },
  {
   "cell_type": "markdown",
   "id": "cd3fb478",
   "metadata": {
    "slideshow": {
     "slide_type": "fragment"
    }
   },
   "source": [
    "Die Gedanken vor und nach dem Semikolon müssen jeweils grammatikalisch vollständige Sätze sein."
   ]
  },
  {
   "cell_type": "markdown",
   "id": "89b8e6e5",
   "metadata": {
    "slideshow": {
     "slide_type": "fragment"
    }
   },
   "source": [
    "In Sätzen können Transition direkt nach dem Semikolon gesetzt sein. Besser wäre in diesem Fall, ein Komma nach dem Übergang zu setzen."
   ]
  },
  {
   "cell_type": "markdown",
   "id": "f3fc4d4d",
   "metadata": {
    "slideshow": {
     "slide_type": "subslide"
    }
   },
   "source": [
    "#### Übungen\n",
    "\n",
    "Welche der folgenden Punkte oder Kommas könntet Ihr durch ein Semikolon ersetzen?\n",
    "\n",
    "> Python ist eine beliebte Programmiersprache. Die Sprache C wurde lange vor Python entwickelt.\n",
    "> \n",
    "> In der oberen Abbildung wird das Modelllernen für einen niedrigen Wert von X gezeigt. In der unteren Abbildung wird das Modelllernen für einen hohen Wert von X gezeigt.\n",
    "> \n",
    "> Ich bin dankbar für meinen Laptop, die leistungsstarke CPU und den großen Arbeitsspeicher."
   ]
  },
  {
   "cell_type": "markdown",
   "id": "0ead3e05",
   "metadata": {
    "slideshow": {
     "slide_type": "subslide"
    }
   },
   "source": [
    "### Gedankenstrich"
   ]
  },
  {
   "cell_type": "markdown",
   "id": "9b9a0480",
   "metadata": {
    "slideshow": {
     "slide_type": "fragment"
    }
   },
   "source": [
    "Gedankenstriche stehen für eine Pause – eine viel längere Pause, als bei einem Komma. Wenn ein Komma eine Viertelpause ist, dann ist ein Gedankenstrich eine halbe Pause. "
   ]
  },
  {
   "cell_type": "markdown",
   "id": "f619baae",
   "metadata": {
    "slideshow": {
     "slide_type": "subslide"
    }
   },
   "source": [
    "### Klammern"
   ]
  },
  {
   "cell_type": "markdown",
   "id": "bb327373",
   "metadata": {
    "slideshow": {
     "slide_type": "fragment"
    }
   },
   "source": [
    "Verwendet Klammern, um Zusätze und Nachträge deutlich vom übrigen Text abzugrenzen. (Oft können stattdessen auch Kommas oder Gedankenstriche verwendet werden.)"
   ]
  },
  {
   "cell_type": "markdown",
   "id": "222c6c5c",
   "metadata": {
    "slideshow": {
     "slide_type": "fragment"
    }
   },
   "source": [
    "Bei eigenen Zusätzen in zitierten Texten oder bei Ergänzungen in nicht lesbaren oder zerstörten Texten werden oft eckige Klammern verwendet. Auch bei weglassbaren Buchstaben, Wortteilen oder Wörtern werden in Wörterbüchern o.Ä. oft eckige Klammern verwendet."
   ]
  },
  {
   "cell_type": "markdown",
   "id": "c8b84fd6",
   "metadata": {
    "slideshow": {
     "slide_type": "subslide"
    }
   },
   "source": [
    "#### Beispiele\n",
    "\n",
    "* Frankfurt (Main)\n",
    "* Computer Programming as an Art (1974).\n",
    "* ein „pingelig-Modus“ (engl. nitpicky)\n",
    "* Martellis Beobachtung war: »Mit der Zeit wird die zweite Kategorie [2–8 CPU-Kerne] weniger verbreitet und relevant«.\n",
    "* Kopp[e]lung, sieb[en]tens"
   ]
  },
  {
   "cell_type": "markdown",
   "id": "ee5de525",
   "metadata": {
    "slideshow": {
     "slide_type": "slide"
    }
   },
   "source": [
    "## Zusammenfassung\n",
    "\n",
    "Die bisherigen Abschnitte zum inklusiven Schreiben umfassten die folgenden Themen:"
   ]
  },
  {
   "cell_type": "markdown",
   "id": "f7ce9ceb",
   "metadata": {
    "slideshow": {
     "slide_type": "fragment"
    }
   },
   "source": [
    "* Verwendet Begriffe konsequent"
   ]
  },
  {
   "cell_type": "markdown",
   "id": "ba28fe48",
   "metadata": {
    "slideshow": {
     "slide_type": "fragment"
    }
   },
   "source": [
    "* Vermeidet mehrdeutige Pronomen"
   ]
  },
  {
   "cell_type": "markdown",
   "id": "a5270f6d",
   "metadata": {
    "slideshow": {
     "slide_type": "fragment"
    }
   },
   "source": [
    "* Bevorzugt aktive Formulierungen gegenüber passiven"
   ]
  },
  {
   "cell_type": "markdown",
   "id": "2de8fcb3",
   "metadata": {
    "slideshow": {
     "slide_type": "fragment"
    }
   },
   "source": [
    "* Wählt treffende Verben"
   ]
  },
  {
   "cell_type": "markdown",
   "id": "067e8a1e",
   "metadata": {
    "slideshow": {
     "slide_type": "fragment"
    }
   },
   "source": [
    "* Konzentriert jeden Satz auf eine einzige Idee"
   ]
  },
  {
   "cell_type": "markdown",
   "id": "66ef9ce8",
   "metadata": {
    "slideshow": {
     "slide_type": "fragment"
    }
   },
   "source": [
    "* Wandelt lange Sätze mit Aufzählungen in Listen um"
   ]
  },
  {
   "cell_type": "markdown",
   "id": "02170233",
   "metadata": {
    "slideshow": {
     "slide_type": "fragment"
    }
   },
   "source": [
    "* Eliminiert unnötige Wörter"
   ]
  },
  {
   "cell_type": "markdown",
   "id": "ec335d0e",
   "metadata": {
    "slideshow": {
     "slide_type": "fragment"
    }
   },
   "source": [
    "* Verwendet eine nummerierte Liste, wenn die Reihenfolge wichtig ist und eine Liste mit Aufzählungszeichen, wenn die Reihenfolge irrelevant ist"
   ]
  },
  {
   "cell_type": "markdown",
   "id": "1d7ada0a",
   "metadata": {
    "slideshow": {
     "slide_type": "subslide"
    }
   },
   "source": [
    "## Zusammenfassung\n",
    "\n",
    "* …"
   ]
  },
  {
   "cell_type": "markdown",
   "id": "65dc141d",
   "metadata": {
    "slideshow": {
     "slide_type": "fragment"
    }
   },
   "source": [
    "* Haltet die Listenelemente parallel"
   ]
  },
  {
   "cell_type": "markdown",
   "id": "f6abd481",
   "metadata": {
    "slideshow": {
     "slide_type": "fragment"
    }
   },
   "source": [
    "* Beginnt nummerierte Listenelemente mit treffenden Wörtern"
   ]
  },
  {
   "cell_type": "markdown",
   "id": "df466ce7",
   "metadata": {
    "slideshow": {
     "slide_type": "fragment"
    }
   },
   "source": [
    "* Führt Listen und Tabellen passend ein"
   ]
  },
  {
   "cell_type": "markdown",
   "id": "646e54bb",
   "metadata": {
    "slideshow": {
     "slide_type": "fragment"
    }
   },
   "source": [
    "* Erstellt Eröffnungssätze, die die zentrale Aussage eines Absatzes festlegen"
   ]
  },
  {
   "cell_type": "markdown",
   "id": "3d36e16d",
   "metadata": {
    "slideshow": {
     "slide_type": "fragment"
    }
   },
   "source": [
    "* Konzentriert Euch in jeden Absatz auf ein einzelnes Thema"
   ]
  },
  {
   "cell_type": "markdown",
   "id": "b4fd8e6a",
   "metadata": {
    "slideshow": {
     "slide_type": "fragment"
    }
   },
   "source": [
    "* Bestimmt, was Euer Publikum lernen soll"
   ]
  },
  {
   "cell_type": "markdown",
   "id": "011e877f",
   "metadata": {
    "slideshow": {
     "slide_type": "fragment"
    }
   },
   "source": [
    "* Passt Eure Dokumentation an Euer Publikum an"
   ]
  },
  {
   "cell_type": "markdown",
   "id": "e8855e5c",
   "metadata": {
    "slideshow": {
     "slide_type": "fragment"
    }
   },
   "source": [
    "* Legt die wichtigsten Punkte Eures Dokuments am Anfang des Dokuments fest."
   ]
  },
  {
   "cell_type": "markdown",
   "id": "8e978868",
   "metadata": {
    "slideshow": {
     "slide_type": "slide"
    }
   },
   "source": [
    "## Redaktionelle Styleguides"
   ]
  },
  {
   "cell_type": "markdown",
   "id": "2708eff0",
   "metadata": {
    "slideshow": {
     "slide_type": "fragment"
    }
   },
   "source": [
    "Ein redaktioneller Styleguide definiert die Kommunikationsrichtlinien einer Redaktionsgruppe. Häufig sind diese Styleguides auch hierarchisch organisiert."
   ]
  },
  {
   "cell_type": "markdown",
   "id": "7402fcd8",
   "metadata": {
    "slideshow": {
     "slide_type": "fragment"
    }
   },
   "source": [
    "So empfielt z.B. das [Cusy Design System](https://cusy-design-system.readthedocs.io/de/) im [Redaktionsleitfaden](https://cusy-design-system.readthedocs.io/de/latest/writing/about.html) folgende Reihenfolge:\n",
    "\n",
    "1. **Projektspezifischer Stil**, die spezifisch für Euer Projekt oder Euer Produkt sind, z.B. nur im Kontext dieses Projekts spezifische Begriffe.\n",
    "2. **Dieser Styleguide** für alle anderen Stile\n",
    "3. **Referenzen von Drittanbietern** falls die vorstehenden Anleitungen keine explizite Anleitung bieten:"
   ]
  },
  {
   "cell_type": "markdown",
   "id": "d1b5abe5",
   "metadata": {
    "slideshow": {
     "slide_type": "fragment"
    }
   },
   "source": [
    "   * für Rechtschreibung: [Duden](https://www.duden.de/), inkl. [Rechtschreibregeln](https://www.duden.de/sprachwissen/rechtschreibregeln)\n",
    "   * für nicht-technischen Stil: [Redaktionsleitfaden und Webstyleguide](https://www.beschaeftigte.uni-stuttgart.de/uni-services/oeffentlichkeitsarbeit/projekt-more/more-dateien/Redaktionsleitfaden_web.pdf) der Universität Stuttgart und [einfach POLITIK: Lexikon](https://www.bpb.de/nachschlagen/lexika/lexikon-in-einfacher-sprache) der Bundeszentrale für politische Bildung\n",
    "   * für technischen Stil: [Microsoft German Style Guide](https://download.microsoft.com/download/e/f/9/ef9f6d8e-cd8b-420c-8696-afd98b4a367d/deu-deu-StyleGuide.pdf)"
   ]
  }
 ],
 "metadata": {
  "celltoolbar": "Slideshow",
  "kernelspec": {
   "display_name": "Python 3.9.0",
   "language": "python",
   "name": "python-390"
  },
  "language_info": {
   "codemirror_mode": {
    "name": "ipython",
    "version": 3
   },
   "file_extension": ".py",
   "mimetype": "text/x-python",
   "name": "python",
   "nbconvert_exporter": "python",
   "pygments_lexer": "ipython3",
   "version": "3.9.0rc1"
  },
  "latex_envs": {
   "LaTeX_envs_menu_present": true,
   "autoclose": false,
   "autocomplete": true,
   "bibliofile": "biblio.bib",
   "cite_by": "apalike",
   "current_citInitial": 1,
   "eqLabelWithNumbers": true,
   "eqNumInitial": 1,
   "hotkeys": {
    "equation": "Ctrl-E",
    "itemize": "Ctrl-I"
   },
   "labels_anchors": false,
   "latex_user_defs": false,
   "report_style_numbering": false,
   "user_envs_cfg": false
  }
 },
 "nbformat": 4,
 "nbformat_minor": 5
}
