{
 "cells": [
  {
   "cell_type": "markdown",
   "id": "a2958f27",
   "metadata": {
    "slideshow": {
     "slide_type": "slide"
    }
   },
   "source": [
    "<img src=\"img/cusy.svg\" alt=\"cusy Logo\" style=\"float: left; width:100%;\"/>"
   ]
  },
  {
   "cell_type": "markdown",
   "id": "a6f2027a",
   "metadata": {
    "slideshow": {
     "slide_type": "slide"
    }
   },
   "source": [
    "# Presentations of cusy\n",
    "\n",
    "## … by topic"
   ]
  },
  {
   "cell_type": "markdown",
   "id": "17c7cff8",
   "metadata": {
    "slideshow": {
     "slide_type": "slide"
    }
   },
   "source": [
    "# Presentations of cusy\n",
    "\n",
    "## … by topic\n",
    "\n",
    "### Python\n",
    "* [What’s new in Python](pub/pub_2022-05.html) – Python Users Berlin, May 2022\n",
    "* [What’s new in Python](pub/pub_2022-04.html) – Python Users Berlin, April 2022\n",
    "* [What’s new in Python](pub/pub_2022-03.html) – Python Users Berlin, March 2022\n",
    "* [What’s new in Python](pub/pub_2021-10.html) – Python Users Berlin, October 2021\n",
    "* [What’s new in Python](pub/pub_2021-06.html) – Python Users Berlin, June 2021\n",
    "* [What’s new in Python](pub/pub_2021-05.html) – Python Users Berlin, May 2021"
   ]
  },
  {
   "cell_type": "markdown",
   "id": "9db97c14",
   "metadata": {
    "slideshow": {
     "slide_type": "slide"
    }
   },
   "source": [
    "# Presentations of cusy\n",
    "\n",
    "## … by topic\n",
    "\n",
    "### Data Science\n",
    "\n",
    "* [Versionskontrolle-in-ML-Projekten](enterpy/dvc.html) – enterPy, Mai 2021"
   ]
  },
  {
   "cell_type": "markdown",
   "id": "cfb21414",
   "metadata": {
    "slideshow": {
     "slide_type": "slide"
    }
   },
   "source": [
    "# Presentations of cusy\n",
    "\n",
    "## … by topic\n",
    "\n",
    "### Technical documentation\n",
    "\n",
    "* [Technisches Schreiben 1](technical-writing/technisches-schreiben-1.html) – Juni 2021"
   ]
  }
 ],
 "metadata": {
  "celltoolbar": "Slideshow",
  "kernelspec": {
   "display_name": "Python 3 (ipykernel)",
   "language": "python",
   "name": "python3"
  },
  "language_info": {
   "codemirror_mode": {
    "name": "ipython",
    "version": 3
   },
   "file_extension": ".py",
   "mimetype": "text/x-python",
   "name": "python",
   "nbconvert_exporter": "python",
   "pygments_lexer": "ipython3",
   "version": "3.9.6"
  },
  "latex_envs": {
   "LaTeX_envs_menu_present": true,
   "autoclose": false,
   "autocomplete": true,
   "bibliofile": "biblio.bib",
   "cite_by": "apalike",
   "current_citInitial": 1,
   "eqLabelWithNumbers": true,
   "eqNumInitial": 1,
   "hotkeys": {
    "equation": "Ctrl-E",
    "itemize": "Ctrl-I"
   },
   "labels_anchors": false,
   "latex_user_defs": false,
   "report_style_numbering": false,
   "user_envs_cfg": false
  }
 },
 "nbformat": 4,
 "nbformat_minor": 5
}
