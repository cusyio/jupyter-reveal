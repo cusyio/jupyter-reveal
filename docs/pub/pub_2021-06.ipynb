{
 "cells": [
  {
   "cell_type": "markdown",
   "id": "respiratory-count",
   "metadata": {
    "slideshow": {
     "slide_type": "slide"
    }
   },
   "source": [
    "# What’s new in Python\n",
    "\n",
    "<img src=\"../img/veit-duotone.png\" alt=\"Portrait Veit Schiele\" style=\"float: left; width:256px; margin-right:32px; border-radius: 50%;\"/>\n",
    "\n",
    "Veit Schiele<br>Cusy GmbH, Berlin<br>Python Users Berlin, 10 June 2021\n",
    "\n",
    "<p style=\"clear: both; margin-bottom: 0;\">\n",
    "    <br>\n",
    "    <a href=\"https://slides.cusy.io/pub/pub_2021-06.html\">slides.cusy.io/pub/pub_2021-06.html</a>\n",
    "<p/>"
   ]
  },
  {
   "cell_type": "markdown",
   "id": "d6ccc917",
   "metadata": {
    "slideshow": {
     "slide_type": "slide"
    }
   },
   "source": [
    "## Commentary\n",
    "\n",
    "Python’s growth is «absolutely explosive« and not slowing down, says Anaconda CEO, Peter Wang."
   ]
  },
  {
   "cell_type": "markdown",
   "id": "af48d605",
   "metadata": {
    "slideshow": {
     "slide_type": "fragment"
    }
   },
   "source": [
    "– [TechRepublic, 25 May 2021](https://www.techrepublic.com/article/programming-languages-pythons-growth-is-absolutely-explosive-says-anaconda-ceo-and-not-slowing-down/)"
   ]
  },
  {
   "cell_type": "markdown",
   "id": "7e96718c",
   "metadata": {
    "slideshow": {
     "slide_type": "subslide"
    }
   },
   "source": [
    "> There are two things that Python does that are very different from all other major languages.\n",
    "> \n",
    "> Number one, it has a pedigree of being a teaching language. It's easy to use, easy to pick up, kids use it, non-programmers pick it up in a weekend. This is not accidental; it has been a hardcore part of the design from the very beginning and quite intentional…\n",
    "> \n",
    "> The second thing that’s interesting about Python is that from the very beginning it’s good as a glue language."
   ]
  },
  {
   "cell_type": "markdown",
   "id": "b4c3aebc",
   "metadata": {
    "slideshow": {
     "slide_type": "subslide"
    }
   },
   "source": [
    "> I mean, Python’s competitor is Excel."
   ]
  },
  {
   "cell_type": "markdown",
   "id": "a994687d",
   "metadata": {
    "slideshow": {
     "slide_type": "slide"
    }
   },
   "source": [
    "## Mypy 0.9 Released\n",
    "\n",
    "* Now Mypy only ships with type stubs for stdlib modules. If you use third-party libraries that don’t include stubs or inline type annotations, you can explicitly install stub packages\n",
    "* Mypy now supports TypeGuard, user-defined functions that perform type narrowing, similar to `isinstance`; see also [PEP 647](https://www.python.org/dev/peps/pep-0647/)"
   ]
  },
  {
   "cell_type": "markdown",
   "id": "08d86cb2",
   "metadata": {
    "slideshow": {
     "slide_type": "slide"
    }
   },
   "source": [
    "## cibuildwheel simplifies Python packaging\n",
    "\n",
    "See also:\n",
    "* [Jupyter-Tutorial: cibuildwheel](https://jupyter-tutorial.readthedocs.io/en/latest/productive/packaging/cibuildwheel.html)\n",
    "* [Docs](https://cibuildwheel.readthedocs.io/)\n",
    "* [GitHub](https://github.com/pypa/cibuildwheel)"
   ]
  },
  {
   "cell_type": "markdown",
   "id": "36d11287",
   "metadata": {
    "slideshow": {
     "slide_type": "slide"
    }
   },
   "source": [
    "## PyCon US 2021 Recordings are complete!\n",
    "\n",
    "See also:\n",
    "* [pycon.blogspot.com/2021/06](https://pycon.blogspot.com/2021/06/pycon-us-2021-recordings-are-complete.html)\n",
    "* [YouTube channel](https://www.youtube.com/c/PyConUS)"
   ]
  },
  {
   "cell_type": "markdown",
   "id": "99c4e328",
   "metadata": {
    "slideshow": {
     "slide_type": "slide"
    }
   },
   "source": [
    "## PSF Board Election\n",
    "\n",
    "Voting from 8–17 June 2021\n",
    "\n",
    "See also:\n",
    "\n",
    "* [PSF Elections](https://www.python.org/nominations/elections/)\n",
    "* [Nominations](https://www.python.org/nominations/elections/2021-python-software-foundation-board/nominees/)"
   ]
  },
  {
   "cell_type": "markdown",
   "id": "69a4548a",
   "metadata": {
    "slideshow": {
     "slide_type": "slide"
    }
   },
   "source": [
    "## EuroPython 2021\n",
    "\n",
    "26 July – 1 August 2021\n",
    "\n",
    "See also:\n",
    "\n",
    "* [ep2021.europython.eu](https://ep2021.europython.eu/)"
   ]
  }
 ],
 "metadata": {
  "celltoolbar": "Slideshow",
  "kernelspec": {
   "display_name": "Python 3",
   "language": "python",
   "name": "python3"
  },
  "language_info": {
   "codemirror_mode": {
    "name": "ipython",
    "version": 3
   },
   "file_extension": ".py",
   "mimetype": "text/x-python",
   "name": "python",
   "nbconvert_exporter": "python",
   "pygments_lexer": "ipython3",
   "version": "3.7.10"
  },
  "latex_envs": {
   "LaTeX_envs_menu_present": true,
   "autoclose": false,
   "autocomplete": true,
   "bibliofile": "biblio.bib",
   "cite_by": "apalike",
   "current_citInitial": 1,
   "eqLabelWithNumbers": true,
   "eqNumInitial": 1,
   "hotkeys": {
    "equation": "Ctrl-E",
    "itemize": "Ctrl-I"
   },
   "labels_anchors": false,
   "latex_user_defs": false,
   "report_style_numbering": false,
   "user_envs_cfg": false
  }
 },
 "nbformat": 4,
 "nbformat_minor": 5
}
