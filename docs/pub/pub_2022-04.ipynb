{
 "cells": [
  {
   "cell_type": "markdown",
   "id": "respiratory-count",
   "metadata": {
    "slideshow": {
     "slide_type": "slide"
    }
   },
   "source": [
    "# What’s new in Python\n",
    "\n",
    "<img src=\"../img/veit-duotone.png\" alt=\"Portrait Veit Schiele\" style=\"float: left; width:256px; margin-right:32px; border-radius: 50%;\"/>\n",
    "\n",
    "Veit Schiele<br>Cusy GmbH, Berlin<br>Python Users Berlin, 14 April 2022\n",
    "\n",
    "<p style=\"clear: both; margin-bottom: 0;\">\n",
    "    <br>\n",
    "    <a href=\"https://slides.cusy.io/pub/pub_2022-03.html\">slides.cusy.io/pub/pub_2022-03.html</a>\n",
    "<p/>"
   ]
  },
  {
   "cell_type": "markdown",
   "id": "b40a95b2",
   "metadata": {
    "slideshow": {
     "slide_type": "slide"
    }
   },
   "source": [
    "## Python 3.10.4 and 3.9.12 are available out of schedule\n",
    "\n",
    "Shortly after the release of 3.10.3 and 3.9.11, a regression was found which meant that Python could no longer be built on Red Hat Enterprise Linux 6. Our new versions fix this problem."
   ]
  },
  {
   "cell_type": "markdown",
   "id": "1e5585c9",
   "metadata": {
    "slideshow": {
     "slide_type": "fragment"
    }
   },
   "source": [
    "<div class=\"alert alert-block alert-info\">\n",
    "    <b>See also:</b><br>\n",
    "    <ul>\n",
    "        <li><a href=\"https://discuss.python.org/t/python-3-10-4-and-3-9-12-are-now-available-out-of-schedule/14568\">Python 3.10.4 and 3.9.12 are now available out of schedule</a></li>\n",
    "    </ul>\n",
    "</div>"
   ]
  },
  {
   "cell_type": "markdown",
   "id": "0367b5da",
   "metadata": {
    "slideshow": {
     "slide_type": "slide"
    }
   },
   "source": [
    "## PEP 685 – Comparison of extra names for optional distribution dependencies"
   ]
  },
  {
   "cell_type": "markdown",
   "id": "8a2b13bc",
   "metadata": {
    "slideshow": {
     "slide_type": "fragment"
    }
   },
   "source": [
    "Extras of a package should be standardised to avoid ambiguity"
   ]
  },
  {
   "cell_type": "markdown",
   "id": "5dd7105b",
   "metadata": {
    "slideshow": {
     "slide_type": "fragment"
    }
   },
   "source": [
    "<div class=\"alert alert-block alert-info\">\n",
    "<b>See also:</b><br>\n",
    "    <ul>\n",
    "        <li><a href=\"https://peps.python.org/pep-0685/\">PEP 685 – Comparison of extra names for optional distribution dependencies</a></li>\n",
    "    </ul>\n",
    "</div>"
   ]
  },
  {
   "cell_type": "markdown",
   "id": "63be52e4",
   "metadata": {
    "slideshow": {
     "slide_type": "slide"
    }
   },
   "source": [
    "## PEP 594 – Removing dead batteries from the standard library\n",
    "\n",
    "This PEP proposes a list of modules that should be removed from the standard library."
   ]
  },
  {
   "cell_type": "markdown",
   "id": "c8676415",
   "metadata": {
    "slideshow": {
     "slide_type": "fragment"
    }
   },
   "source": [
    "The modules are mostly historical data formats, for example\n",
    "\n",
    "* Commodore and SUN file formats\n",
    "\n",
    "  * The [chunk](https://peps.python.org/pep-0594/#chunk) module provides support for reading and writing Electronic Arts' Interchange File Format an old audio file format originally introduced for Commodore and Amiga.\n",
    "  * The [xdrlib](https://docs.python.org/3/library/xdrlib.html) module supports the Sun External Data Representation Standard XDR, an old binary serialisation format from 1987."
   ]
  },
  {
   "cell_type": "markdown",
   "id": "471f421d",
   "metadata": {
    "slideshow": {
     "slide_type": "subslide"
    }
   },
   "source": [
    "## PEP 594 – Removing dead batteries from the standard library\n",
    "\n",
    "This PEP proposes a list of modules that should be removed from the standard library.\n",
    "\n",
    "* APIs and operating systems that have long been deprecated, e.g.\n",
    "\n",
    "  * The [nis](https://docs.python.org/3/library/nis.html) module provides support for Network Information Service/Yellow Pages, an obsolete directory service protocol that never caught on against libc's Name Service Switch, LDAP and Kerberos/GSSAPI.\n",
    "  * The [spwd](https://docs.python.org/3/library/spwd.html) module, which provides direct access to the Unix shadow password database using non-standard APIs."
   ]
  },
  {
   "cell_type": "markdown",
   "id": "18cf3178",
   "metadata": {
    "slideshow": {
     "slide_type": "subslide"
    }
   },
   "source": [
    "## PEP 594 – Removing dead batteries from the standard library\n",
    "\n",
    "This PEP proposes a list of modules that should be removed from the standard library.\n",
    "\n",
    "* Modules that have security implications and better alternatives, e.g.\n",
    "\n",
    "  * the [crypt](https://docs.python.org/3/library/crypt.html) module implements password hashing based on the crypt(3) function from libcrypt or libxcrypt on Unix-like platforms. The algorithms are mostly old, of poor quality and insecure. Alternatives are [legacycrypt](https://pypi.org/project/legacycrypt/), [bcrypt](https://pypi.org/project/bcrypt/), [argon2-cffi](https://pypi.org/project/argon2-cffi/), [hashlib](https://docs.python.org/3/library/hashlib.html) and [passlib](https://pypi.org/project/passlib/)."
   ]
  },
  {
   "cell_type": "markdown",
   "id": "58a0868e",
   "metadata": {
    "slideshow": {
     "slide_type": "slide"
    }
   },
   "source": [
    "## Python Performance"
   ]
  },
  {
   "cell_type": "markdown",
   "id": "4f378746",
   "metadata": {
    "slideshow": {
     "slide_type": "fragment"
    }
   },
   "source": [
    "### Pyston just added ARM support\n",
    "\n",
    "The main feature of this version is 64-bit ARM support, which makes Pyston available on\n",
    "\n",
    "* ARM servers\n",
    "* M1 Macs via Docker\n",
    "* Raspberry Pis with a 64-bit operating system\n",
    "* and other 64-bit ARM systems"
   ]
  },
  {
   "cell_type": "markdown",
   "id": "d8260a91",
   "metadata": {
    "slideshow": {
     "slide_type": "fragment"
    }
   },
   "source": [
    "<div class=\"alert alert-block alert-info\">\n",
    "    <b>See also:</b><br>\n",
    "    <ul>\n",
    "        <li>\n",
    "            <a href=\"https://blog.pyston.org/2022/04/01/pyston-v2-3-3-arm-support/\">Pyston v2.3.3: ARM support</a>\n",
    "        </li>\n",
    "    </ul>\n",
    "</div>"
   ]
  },
  {
   "cell_type": "markdown",
   "id": "9cb46f2a",
   "metadata": {
    "slideshow": {
     "slide_type": "subslide"
    }
   },
   "source": [
    "## Python Performance\n",
    "\n",
    "### Sciagraph\n",
    "\n",
    "* New profiler for Python batch jobs that creates performance and memory profiles in production to achieve the most realistic results possible"
   ]
  },
  {
   "cell_type": "markdown",
   "id": "7fc4cef0",
   "metadata": {
    "slideshow": {
     "slide_type": "fragment"
    }
   },
   "source": [
    "* Proprietary licence"
   ]
  },
  {
   "cell_type": "markdown",
   "id": "649726eb",
   "metadata": {
    "slideshow": {
     "slide_type": "fragment"
    }
   },
   "source": [
    "<div class=\"alert alert-block alert-info\">\n",
    "    <b>See also:</b><br>\n",
    "    <ul>\n",
    "        <li>\n",
    "            <a href=\"https://pythonspeed.com/sciagraph/\">Speed up production Python data-processing jobs with always-on profiling</a>\n",
    "        </li>\n",
    "        <li>\n",
    "            <a href=\"https://pythonspeed.com/sciagraph/docs/\">Docs</a>\n",
    "        </li>\n",
    "    </ul>\n",
    "</div>"
   ]
  },
  {
   "cell_type": "markdown",
   "id": "9ef24006",
   "metadata": {
    "slideshow": {
     "slide_type": "subslide"
    }
   },
   "source": [
    "## Python Performance\n",
    "\n",
    "### perflint\n",
    "\n",
    "[perflint](https://github.com/tonybaloney/perflint) is a linter for performance anti-patterns"
   ]
  },
  {
   "cell_type": "markdown",
   "id": "121d1879",
   "metadata": {
    "slideshow": {
     "slide_type": "subslide"
    }
   },
   "source": [
    "## Python Performance\n",
    "\n",
    "### airspeed velocity\n",
    "\n",
    "airspeed velocity (`asv`) is a tool for benchmarking Python packages over their lifetime."
   ]
  },
  {
   "cell_type": "markdown",
   "id": "b6047bae",
   "metadata": {
    "slideshow": {
     "slide_type": "fragment"
    }
   },
   "source": [
    "<div class=\"alert alert-block alert-info\">\n",
    "    <b>See also:</b><br>\n",
    "    <ul>\n",
    "        <li>\n",
    "            <a href=\"https://asv.readthedocs.io\">Docs</a>\n",
    "        </li>\n",
    "        <li>\n",
    "            <a href=\"https://pv.github.io/numpy-bench/\">Example NumPy Benchmarks</a>\n",
    "        </li>\n",
    "        <li>\n",
    "            <a href=\"https://github.com/airspeed-velocity/asv\">Repository</a>\n",
    "        </li>\n",
    "    </ul>\n",
    "</div>"
   ]
  },
  {
   "cell_type": "markdown",
   "id": "650c79de",
   "metadata": {
    "slideshow": {
     "slide_type": "slide"
    }
   },
   "source": [
    "## Python in Visual Studio Code – April 2022 Release"
   ]
  },
  {
   "cell_type": "markdown",
   "id": "72b0f034",
   "metadata": {
    "slideshow": {
     "slide_type": "fragment"
    }
   },
   "source": [
    "* The one Python extension is split into several separate extensions\n",
    "\n",
    "  * [Pylint](https://marketplace.visualstudio.com/items?itemName=ms-python.pylint) was the first expansion to be taken out\n",
    "  * The current version of Pylint uses the proprietary [Language Server Protocol](https://github.com/microsoft/language-server-protocol)"
   ]
  },
  {
   "cell_type": "markdown",
   "id": "6fe67cd2",
   "metadata": {
    "slideshow": {
     "slide_type": "fragment"
    }
   },
   "source": [
    "* Easily create Jupyter Notebooks"
   ]
  },
  {
   "cell_type": "markdown",
   "id": "a5cc82b9",
   "metadata": {
    "slideshow": {
     "slide_type": "fragment"
    }
   },
   "source": [
    "* The [regression](https://github.com/microsoft/vscode-python/issues/18634) when using Conda Environments is fixed"
   ]
  },
  {
   "cell_type": "markdown",
   "id": "d6ac2e41",
   "metadata": {
    "slideshow": {
     "slide_type": "fragment"
    }
   },
   "source": [
    "<div class=\"alert alert-block alert-info\">\n",
    "    <strong>See also:</strong><br>\n",
    "    <ul>\n",
    "        <li>\n",
    "            <a href=\"https://devblogs.microsoft.com/python/python-in-visual-studio-code-april-2022-release/\">Python in Visual Studio Code – April 2022 Release</a>\n",
    "        </li>\n",
    "    </ul>\n",
    "</div>"
   ]
  },
  {
   "cell_type": "markdown",
   "id": "d96a0e0b",
   "metadata": {
    "slideshow": {
     "slide_type": "slide"
    }
   },
   "source": [
    "## BeeWare is now supported by Anaconda\n",
    "\n",
    "On 21 March, [Russell Keith-Magee](https://twitter.com/freakboy3742) became Principal Engineer and Team Lead at Anaconda - and the team he will lead will focus 100% on [BeeWare](https://beeware.org/)."
   ]
  },
  {
   "cell_type": "markdown",
   "id": "6b6bde62",
   "metadata": {
    "slideshow": {
     "slide_type": "fragment"
    }
   },
   "source": [
    "<div class=\"alert alert-block alert-info\">\n",
    "    <b>See also:</b><br>\n",
    "    <ul>\n",
    "        <li>\n",
    "            <a href=\"https://beeware.org/news/buzz/exciting-news-for-the-future-of-beeware/\">Exciting news for the future of BeeWare</a>\n",
    "        </li>\n",
    "    </ul>\n",
    "</div>"
   ]
  },
  {
   "cell_type": "markdown",
   "id": "bb2c20d6",
   "metadata": {
    "slideshow": {
     "slide_type": "slide"
    }
   },
   "source": [
    "##   News from the Python Software Foundation"
   ]
  },
  {
   "cell_type": "markdown",
   "id": "7d63681c",
   "metadata": {
    "slideshow": {
     "slide_type": "fragment"
    }
   },
   "source": [
    "### Meta strengthens investment in the Python ecosystem"
   ]
  },
  {
   "cell_type": "markdown",
   "id": "1ce7654a",
   "metadata": {
    "slideshow": {
     "slide_type": "fragment"
    }
   },
   "source": [
    "Meta uses Python in many of their services - from Instagram to their Ai and data infrastructure:"
   ]
  },
  {
   "cell_type": "markdown",
   "id": "5e928b0e",
   "metadata": {
    "slideshow": {
     "slide_type": "fragment"
    }
   },
   "source": [
    "* [PyTorch](https://pytorch.org/)  is an ML framework that accelerates the workflow from research prototypes into production"
   ]
  },
  {
   "cell_type": "markdown",
   "id": "1d39957e",
   "metadata": {
    "slideshow": {
     "slide_type": "fragment"
    }
   },
   "source": [
    "* [Cinder](https://github.com/facebookincubator/cinder) is a performance-optimised version of CPython 3.8"
   ]
  },
  {
   "cell_type": "markdown",
   "id": "8ea14ee9",
   "metadata": {
    "slideshow": {
     "slide_type": "fragment"
    }
   },
   "source": [
    "* [Pyre](https://pyre-check.org/) is a A performant type-checker for Python 3"
   ]
  },
  {
   "cell_type": "markdown",
   "id": "074cf225",
   "metadata": {
    "slideshow": {
     "slide_type": "subslide"
    }
   },
   "source": [
    "##   News from the Python Software Foundation\n",
    "\n",
    "### Meta strengthens investment in the Python ecosystem\n",
    "\n",
    "Meta’s funding of a second year of the Developer-in-Residence programme stabilises ongoing development. This allows [Łukasz Langa](https://lukasz.langa.pl/) to take a broader perspective with the Steering Council and the PSF."
   ]
  },
  {
   "cell_type": "markdown",
   "id": "64b6a292",
   "metadata": {
    "slideshow": {
     "slide_type": "subslide"
    }
   },
   "source": [
    "##   News from the Python Software Foundation\n",
    "\n",
    "### Deb Nicholson becomes the new Executive Director"
   ]
  },
  {
   "cell_type": "markdown",
   "id": "9592f943",
   "metadata": {
    "slideshow": {
     "slide_type": "fragment"
    }
   },
   "source": [
    "<div class=\"alert alert-block alert-info\">\n",
    "    <b>See also:</b><br>\n",
    "    <ul>\n",
    "        <li>\n",
    "            <a href=\"https://pyfound.blogspot.com/2022/04/deb-nicholson-new-executive-director.html\">PSF Welcomes New Executive Director Deb Nicholson</a>\n",
    "        </li>\n",
    "    </ul>\n",
    "</div>"
   ]
  }
 ],
 "metadata": {
  "celltoolbar": "Slideshow",
  "kernelspec": {
   "display_name": "Python 3 (ipykernel)",
   "language": "python",
   "name": "python3"
  },
  "language_info": {
   "codemirror_mode": {
    "name": "ipython",
    "version": 3
   },
   "file_extension": ".py",
   "mimetype": "text/x-python",
   "name": "python",
   "nbconvert_exporter": "python",
   "pygments_lexer": "ipython3",
   "version": "3.7.13"
  },
  "latex_envs": {
   "LaTeX_envs_menu_present": true,
   "autoclose": false,
   "autocomplete": true,
   "bibliofile": "biblio.bib",
   "cite_by": "apalike",
   "current_citInitial": 1,
   "eqLabelWithNumbers": true,
   "eqNumInitial": 1,
   "hotkeys": {
    "equation": "Ctrl-E",
    "itemize": "Ctrl-I"
   },
   "labels_anchors": false,
   "latex_user_defs": false,
   "report_style_numbering": false,
   "user_envs_cfg": false
  }
 },
 "nbformat": 4,
 "nbformat_minor": 5
}
