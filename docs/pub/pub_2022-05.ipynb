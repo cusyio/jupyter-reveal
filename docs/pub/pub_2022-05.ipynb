{
 "cells": [
  {
   "cell_type": "markdown",
   "id": "respiratory-count",
   "metadata": {
    "slideshow": {
     "slide_type": "slide"
    }
   },
   "source": [
    "# What’s new in Python\n",
    "\n",
    "<img src=\"../img/veit-duotone.png\" alt=\"Portrait Veit Schiele\" style=\"float: left; width:256px; margin-right:32px; border-radius: 50%;\"/>\n",
    "\n",
    "Veit Schiele<br>Cusy GmbH, Berlin<br>Python Users Berlin, 12 May 2022\n",
    "\n",
    "<p style=\"clear: both; margin-bottom: 0;\">\n",
    "    <br>\n",
    "    <a href=\"https://github.com/cusyio/jupyter-reveal/blob/main/pub/pub_2022-05.pdf\">github.com/cusyio/jupyter-reveal/pub/pub_2022-05.pdf</a>\n",
    "<p/>"
   ]
  },
  {
   "cell_type": "markdown",
   "id": "da7b419e",
   "metadata": {
    "slideshow": {
     "slide_type": "slide"
    }
   },
   "source": [
    "## PyCon US 2022"
   ]
  },
  {
   "cell_type": "markdown",
   "id": "b40a95b2",
   "metadata": {
    "slideshow": {
     "slide_type": "fragment"
    }
   },
   "source": [
    "* 29 April - 1 May 2022\n",
    "* [Home](https://us.pycon.org/2022/)"
   ]
  },
  {
   "cell_type": "markdown",
   "id": "df0fedf3",
   "metadata": {
    "slideshow": {
     "slide_type": "subslide"
    }
   },
   "source": [
    "## PyCon US 2022\n",
    "\n",
    "### `<py>`"
   ]
  },
  {
   "cell_type": "markdown",
   "id": "099f435b",
   "metadata": {
    "slideshow": {
     "slide_type": "fragment"
    }
   },
   "source": [
    "#### Standing on the shoulders of giants\n",
    "\n",
    "<img src=\"browser_stack.webp\" alt=\"PyScript Browser stack\"/>"
   ]
  },
  {
   "cell_type": "markdown",
   "id": "0724357b",
   "metadata": {
    "slideshow": {
     "slide_type": "subslide"
    }
   },
   "source": [
    "## PyCon US 2022\n",
    "\n",
    "### `<py>`\n",
    "\n",
    "#### Big Picture of the growing Python web ecosystem"
   ]
  },
  {
   "cell_type": "markdown",
   "id": "3be6dc48",
   "metadata": {
    "slideshow": {
     "slide_type": "fragment"
    }
   },
   "source": [
    "* **[PyScript](https://pyscript.net/)** – a framework to create rich Python apps in the browser"
   ]
  },
  {
   "cell_type": "markdown",
   "id": "bdc9a37f",
   "metadata": {
    "slideshow": {
     "slide_type": "fragment"
    }
   },
   "source": [
    "* **[Irydium](https://irydium.dev/)** – for interactive documents and data visualisations in markdown "
   ]
  },
  {
   "cell_type": "markdown",
   "id": "2eb2815a",
   "metadata": {
    "slideshow": {
     "slide_type": "fragment"
    }
   },
   "source": [
    "* **[Pyodide](https://pyodide.org/)** – a JavaScript framework for Python"
   ]
  },
  {
   "cell_type": "markdown",
   "id": "90aa6f99",
   "metadata": {
    "slideshow": {
     "slide_type": "fragment"
    }
   },
   "source": [
    "* **[wc-code](https://vanillawc.github.io/wc-code/)** is running Python code snippets with HTML tags"
   ]
  },
  {
   "cell_type": "markdown",
   "id": "b7dea43f",
   "metadata": {
    "slideshow": {
     "slide_type": "subslide"
    }
   },
   "source": [
    "## PyCon US 2022\n",
    "\n",
    "### `<py>`\n",
    "\n",
    "<div class=\"alert alert-block alert-info\">\n",
    "<b>See also:</b><br>\n",
    "    <ul>\n",
    "        <li><a href=\"https://pyscript.net/\">Home</a></li>\n",
    "        <li><a href=\"https://pyscript.net/examples/\">Examples</a></li>\n",
    "        <li><a href=\"https://github.com/pyscript/pyscript\">GitHub</a></li>\n",
    "        <li><a href=\"https://engineering.anaconda.com/\">Anaconda Blog: Welcome to the world PyScript</a></li>\n",
    "    </ul>\n",
    "</div>"
   ]
  },
  {
   "cell_type": "markdown",
   "id": "1e5585c9",
   "metadata": {
    "slideshow": {
     "slide_type": "subslide"
    }
   },
   "source": [
    "## PyCon US 2022\n",
    "\n",
    "The keynote speakers made it into Forbes: [Right Now In Tech: PyCon U.S. 2022](https://www.forbes.com/sites/curtissilver/2022/05/06/right-now-in-tech-pycon-us-2022/)"
   ]
  },
  {
   "cell_type": "markdown",
   "id": "96fe98c2",
   "metadata": {
    "slideshow": {
     "slide_type": "slide"
    }
   },
   "source": [
    "## Python 3.11"
   ]
  },
  {
   "cell_type": "markdown",
   "id": "79c1c025",
   "metadata": {
    "slideshow": {
     "slide_type": "fragment"
    }
   },
   "source": [
    "* C API incompatible changes, see [C API Changes](https://docs.python.org/dev/whatsnew/3.11.html#c-api-changes)"
   ]
  },
  {
   "cell_type": "markdown",
   "id": "5737a0c3",
   "metadata": {
    "slideshow": {
     "slide_type": "fragment"
    }
   },
   "source": [
    "* For C extensions maintainers there is [upgrade_pythoncapi.py](https://pythoncapi-compat.readthedocs.io/en/latest/upgrade.html)."
   ]
  },
  {
   "cell_type": "markdown",
   "id": "02f60d98",
   "metadata": {
    "slideshow": {
     "slide_type": "fragment"
    }
   },
   "source": [
    "* [PyFrameObject](https://docs.python.org/3/c-api/veryhigh.html#c.PyFrameObject), [PyThreadState](https://docs.python.org/3/c-api/init.html#c.PyThreadState_Get) and [PyCodeObject](https://docs.python.org/3/c-api/code.html#c.PyCodeObject) structures are deeply modified.: Use the new getter functions rather than accessing directly these structures."
   ]
  },
  {
   "cell_type": "markdown",
   "id": "82cce0d3",
   "metadata": {
    "slideshow": {
     "slide_type": "slide"
    }
   },
   "source": [
    "## nogil Python"
   ]
  },
  {
   "cell_type": "markdown",
   "id": "17261c9b",
   "metadata": {
    "slideshow": {
     "slide_type": "fragment"
    }
   },
   "source": [
    "### Datasette on nogil Python"
   ]
  },
  {
   "cell_type": "markdown",
   "id": "1394dca5",
   "metadata": {
    "slideshow": {
     "slide_type": "fragment"
    }
   },
   "source": [
    "47ms vs. 77ms"
   ]
  },
  {
   "cell_type": "markdown",
   "id": "53036bd1",
   "metadata": {
    "slideshow": {
     "slide_type": "fragment"
    }
   },
   "source": [
    "<div class=\"alert alert-block alert-info\">\n",
    "<b>See also:</b><br>\n",
    "    <ul>\n",
    "        <li><a href=\"https://hub.docker.com/r/nogil/python\">Docker container</a></li>\n",
    "        <li><a href=\"https://github.com/simonw/datasette/issues/1727#issuecomment-1112889800\">Testing Datasette parallel SQL queries in the nogil/python fork</a></li>\n",
    "    </ul>\n",
    "</div>"
   ]
  },
  {
   "cell_type": "markdown",
   "id": "6898c01d",
   "metadata": {
    "slideshow": {
     "slide_type": "slide"
    }
   },
   "source": [
    "## NumPy 1.22 approaches the Python array API standard"
   ]
  },
  {
   "cell_type": "markdown",
   "id": "8a2b13bc",
   "metadata": {
    "slideshow": {
     "slide_type": "fragment"
    }
   },
   "source": [
    "<div class=\"alert alert-block alert-info\">\n",
    "<b>See also:</b><br>\n",
    "    <ul>\n",
    "        <li><a href=\"https://data-apis.org/array-api/latest/\">Python array API standard</a></li>\n",
    "        <li><a href=\"https://numpy.org/neps/nep-0047-array-api-standard.html\">NEP 47 — Adopting the array API standard</a></li>\n",
    "    </ul>\n",
    "</div>"
   ]
  }
 ],
 "metadata": {
  "celltoolbar": "Slideshow",
  "kernelspec": {
   "display_name": "Python 3 (ipykernel)",
   "language": "python",
   "name": "python3"
  },
  "language_info": {
   "codemirror_mode": {
    "name": "ipython",
    "version": 3
   },
   "file_extension": ".py",
   "mimetype": "text/x-python",
   "name": "python",
   "nbconvert_exporter": "python",
   "pygments_lexer": "ipython3",
   "version": "3.7.13"
  },
  "latex_envs": {
   "LaTeX_envs_menu_present": true,
   "autoclose": false,
   "autocomplete": true,
   "bibliofile": "biblio.bib",
   "cite_by": "apalike",
   "current_citInitial": 1,
   "eqLabelWithNumbers": true,
   "eqNumInitial": 1,
   "hotkeys": {
    "equation": "Ctrl-E",
    "itemize": "Ctrl-I"
   },
   "labels_anchors": false,
   "latex_user_defs": false,
   "report_style_numbering": false,
   "user_envs_cfg": false
  }
 },
 "nbformat": 4,
 "nbformat_minor": 5
}
