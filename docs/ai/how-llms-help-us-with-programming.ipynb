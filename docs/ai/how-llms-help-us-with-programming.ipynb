{
 "cells": [
  {
   "cell_type": "markdown",
   "id": "bb8c3a16-f342-4a25-a754-ea39ac5be66a",
   "metadata": {
    "editable": true,
    "slideshow": {
     "slide_type": "slide"
    },
    "tags": []
   },
   "source": [
    "# So helfen uns LLMs beim Programmieren\n",
    "\n",
    "<img src=\"../img/veit-duotone.png\" alt=\"Portrait Veit Schiele\" style=\"float: left; width:256px; margin-right:32px; border-radius: 50%;\"/>\n",
    "\n",
    "<p>Veit Schiele</p>\n",
    "<p>\n",
    "    • Gründer und Geschäftsführer der <a href=\"https://cusy.io/de\">cusy GmbH</a>, Berlin<br>\n",
    "    • Autor des <a href=\"https://www.python4data.science/de/latest/\">Python for Data Science Tutorials</a><br>\n",
    "    • Autor des <a href=\"https://python-basics-tutorial.readthedocs.io/de/latest/\">Python-Basics-Tutorial</a>\n",
    "</p>\n",
    "<img src=\"how-llms-help-us-with-programming.svg\"\n",
    "     alt=\"QR-Code für die URL slides.cusy.io/ai/how-llms-help-us-with-programming.html\"/>"
   ]
  },
  {
   "cell_type": "markdown",
   "id": "28ea65cd-03e9-4960-9518-3b0ef2a8d0c6",
   "metadata": {
    "editable": true,
    "slideshow": {
     "slide_type": "slide"
    },
    "tags": []
   },
   "source": [
    "## Was dürft ihr von LLMs erwarten?"
   ]
  },
  {
   "cell_type": "markdown",
   "id": "5f827c85-fb1c-4a69-8fce-fadddb1b6f37",
   "metadata": {
    "editable": true,
    "slideshow": {
     "slide_type": "notes"
    },
    "tags": []
   },
   "source": [
    "* Diskussionen über die Verwendung von LLMs führen unweigerlich zu Kommentaren von Entwickler*innen, die enttäuschende Erfahrungen gemacht haben.\n",
    "* Sie fragen oft:\n",
    "  * *Was mache ich falsch?*\n",
    "  * *Wie kommt es, dass andere von so großartigen Erfahrungen berichten?*\n",
    "* Die Verwendung von LLMs zum Schreiben von Code ist oft schwierig und wenig intuitiv.\n",
    "* Es erfordert einigen Aufwand, die Grenzen ihrer Verwendung herauszufinden.\n",
    "* Es gibt wenig Anleitung, die den Menschen hilft, wie sie LLMs am besten anwenden können.\n",
    "---\n",
    "* In den letzten zweieinhalb Jahren haben wir viele Erfahrungen mit LLMs gemacht.\n",
    "* Hier ist mein Versuch, einige dieser Erfahrungen an euch weiterzugeben."
   ]
  },
  {
   "cell_type": "markdown",
   "id": "aa10ccc2-118a-4cec-b3e2-3ba7c7bec33e",
   "metadata": {
    "editable": true,
    "slideshow": {
     "slide_type": "fragment"
    },
    "tags": []
   },
   "source": [
    "* Angemessene Erwartungen setzen"
   ]
  },
  {
   "cell_type": "markdown",
   "id": "782d488d-11d3-4c72-b56c-4e27f748b2ea",
   "metadata": {
    "editable": true,
    "slideshow": {
     "slide_type": "notes"
    },
    "tags": []
   },
   "source": [
    "* Der Hype dreht sich im Wesentlichen um [Artificial General Intelligence](https://de.wikipedia.org/wiki/Artificial_General_Intelligence).\n",
    "  * Aber LLMs sagen im Wesentliche nur eine Folge von Token vorher.\n",
    "  * Beim Schreiben von Code geht es jedoch hauptsächlich darum, Token in der richtigen Reihenfolge zu setzen – erst dann werden sie nützlich.\n",
    "* Ihr werdet vermutlich auch enttäuscht werden, wenn ihr ein Projekt perfekt umsetzen wollt, ohne eure eigenen Fähigkeiten einzusetzen.\n",
    "  * Verwendet LLMs stattdessen, um eure Fähigkeiten zu verbessern.\n",
    "  * Aktuell gefällt mir am besten, LLMs als übermütige Programmierassistenz zu betrachten:\n",
    "    * blitzschnell Dinge nachschlagen\n",
    "    * relevante Beispiele finden\n",
    "    * mühsame Aufgaben ohne Murren ausführen\n",
    "  * Überfordert die LLMs – und lernt ihre Grenzen kennen\n",
    "  * Vermenschlicht die LLMs jedoch nicht:\n",
    "    * Fehler, wie das Halluzinieren einer nicht vorhandenen Bibliothek, würde Menschen deutlich stärker diskreditieren"
   ]
  },
  {
   "cell_type": "markdown",
   "id": "1b33ebd8-6037-49fe-8430-efbea5033e23",
   "metadata": {
    "editable": true,
    "slideshow": {
     "slide_type": "fragment"
    },
    "tags": []
   },
   "source": [
    "* Berücksichtigt die Stichtage für das Training"
   ]
  },
  {
   "cell_type": "markdown",
   "id": "356f5cbb-d835-4a9b-8f3b-6100a9404395",
   "metadata": {
    "editable": true,
    "slideshow": {
     "slide_type": "notes"
    },
    "tags": []
   },
   "source": [
    "* Für die OpenAI-Modelle sind dies normalerweise Oktober 2023 oder Mai 2024.\n",
    "  * Andere Anbieter haben möglicherweise neuere Daten.\n",
    "* Dies beeinflusst, mit welchen Bibliotheken die LLMs vertraut sein werden.\n",
    "  * Wenn ihr Bibliotheken verwendet, die seit dem *Knowledge cut-off* große Änderung erfahren hat, wird das LLM davon nichts wissen:\n",
    "    * Das betrifft for OpenAI z.B. NumPy 2, pandas 2 und uv!"
   ]
  },
  {
   "cell_type": "markdown",
   "id": "cd96a513-4149-42ab-9412-3fbfd69ab9a9",
   "metadata": {
    "editable": true,
    "slideshow": {
     "slide_type": "fragment"
    },
    "tags": []
   },
   "source": [
    "* Der Kontext ist entscheidend"
   ]
  },
  {
   "cell_type": "markdown",
   "id": "c6fa4007-4c9b-4ce9-968f-f5b2b7929a31",
   "metadata": {
    "editable": true,
    "slideshow": {
     "slide_type": "notes"
    },
    "tags": []
   },
   "source": [
    "* Die entscheidende Ingenieurskunst, um gute Ergebnisse aus einem LLM zu erhalten, ist die Verwaltung des Kontexts – also die Inhalte, die Teil eurer aktuellen Konversation ist.\n",
    "* Wenn ihr eine neue Unterhaltung beginnt, habt ihr zunächst keinen Kontext.\n",
    "  * Dies erlaubt euch auch bei einer bestehenden Konversation, die nicht mehr nützlich ist, einfach von vorne zu beginnen.\n",
    "* Die meisten LLM-Codierungstools gehen über die bloße Konversation hinaus:\n",
    "  * Claude z.B. erlaubt euch, Kontext aus Repositories zu erstellen\n",
    "  * Tools wie Cursor und VS Code Copilot enthalten automatisch den Kontext eures aktuellen Projekts und das Dateilayout\n",
    "  *  die `@`-Kommandos von Cursor erlauben euch, zusätzliche Dateien in den Kontext miteinzubeziehen\n",
    "<div class=\"alert alert-block alert-info\">\n",
    "    \n",
    "**Tipp**\n",
    "\n",
    "* Ich verwende meistens direkt die Web- oder App-Schnittstellen von Claude.\n",
    "* Ich verstehe dann leichter, was im Kontext vorgeht.\n",
    "* Mit LLM-Tools, die diesen Kontext vor mir verschleiern, bin ich weniger effektiv.\n",
    "</div>\n",
    "<div class=\"alert alert-block alert-info\">\n",
    "\n",
    "**Tipp**\n",
    "\n",
    "1. Ihr könnt die Tatsache, dass frühere Antworten auch Teil des Kontexts sind, zu eurem Vorteil nutzen\n",
    "2. Versucht, bei komplexen Programmieraufgaben, das LLM dazu zu bringen, zuerst eine einfachere Version zu schreiben\n",
    "3. Überprüft, ob sie funktioniert, und baut sie dann zu einer komplexeren Implementierung aus\n",
    "</div>"
   ]
  },
  {
   "cell_type": "markdown",
   "id": "c4c36545-4c0c-4ccf-b3b0-391a54c76c66",
   "metadata": {
    "editable": true,
    "slideshow": {
     "slide_type": "slide"
    },
    "tags": []
   },
   "source": [
    "## Wie sieht ein typischer Projektverlauf aus"
   ]
  },
  {
   "cell_type": "markdown",
   "id": "bb031cc4-7ac1-400d-ae85-eb4bd9326fd7",
   "metadata": {
    "editable": true,
    "slideshow": {
     "slide_type": "fragment"
    },
    "tags": []
   },
   "source": [
    "1. Recherche"
   ]
  },
  {
   "cell_type": "markdown",
   "id": "f3046beb-5b10-43c9-97c8-29a1355ca5ac",
   "metadata": {
    "editable": true,
    "slideshow": {
     "slide_type": "notes"
    },
    "tags": []
   },
   "source": [
    "Die meisten meiner Projekte beginne ich mit einigen offenen Fragen:\n",
    "* Ist das, was ich versuche zu tun, möglich?\n",
    "* Welche Möglichkeiten gibt es, wie ich dies umsetzen könnte?\n",
    "* Welche dieser Optionen ist die beste?\n",
    "<div class=\"alert alert-block alert-info\">\n",
    "\n",
    "**Info**\n",
    "\n",
    "* Neuere Bibliotheken werden euch **nicht** vorgeschlagen werden.\n",
    "* Normalerweise ist das in Ordnung\n",
    "  * ich will nicht die neueste Bibliothek\n",
    "  * sondern die stabilste, s.a. [Choose Boring Technology](https://boringtechnology.club/)\n",
    "</div>"
   ]
  },
  {
   "cell_type": "markdown",
   "id": "e61e1a64-0f71-4187-883b-7badc84fa0cf",
   "metadata": {
    "editable": true,
    "slideshow": {
     "slide_type": "fragment"
    },
    "tags": []
   },
   "source": [
    "2. Prototyping"
   ]
  },
  {
   "cell_type": "markdown",
   "id": "0c72f4ab-c8a1-4285-82ba-18146bdafba2",
   "metadata": {
    "editable": true,
    "slideshow": {
     "slide_type": "notes"
    },
    "tags": []
   },
   "source": [
    "Nun lasse ich mir einen Prototyp erstellen, der nachweisen soll, dass die wesentlichen Anforderungen dieses Projekts erfüllt werden können."
   ]
  },
  {
   "cell_type": "markdown",
   "id": "2ade9461-1e27-4645-92ba-94161b03bea3",
   "metadata": {
    "editable": true,
    "slideshow": {
     "slide_type": "fragment"
    },
    "tags": []
   },
   "source": [
    "3. Produktiven Code schreiben"
   ]
  },
  {
   "cell_type": "markdown",
   "id": "0ffd7300-571d-4a2d-a1f6-e60c19b9659e",
   "metadata": {
    "editable": true,
    "slideshow": {
     "slide_type": "notes"
    },
    "tags": []
   },
   "source": [
    "Für die Produktionsphase verwende ich dann einen völlig anderen Modus:\n",
    "* Meine Anweisungen sind sehr viel detaillierter, z.B.\n",
    "\n",
    "  * Schreibe eine Python-Funktion, die `asyncio` und `httpx` mit dieser Signatur verwendet:\n",
    "\n",
    "    `async def download_sqlite_database(url: str, max_size_mb: int = 100) -> pathlib.Path`\n",
    "\n",
    "  * Dabei soll der Header für die Länge des Inhalts zu Beginn der Rückübertragung der Daten ausgelesen und ein Fehler ausgegeben werden, wenn die Länge über dem angegebenen Limit liegt.\n",
    "  * Wenn der Download beendet ist, wird `sqlite3.connect()` verwendet und dann ein `PRAGMA quick_check` ausgeführt, um die Gültigkeit der SQLite-Daten zu überprüfen; andernfalls soll ein Fehler ausgegeben  werden.\n",
    "  * Schließlich soll auch eine Fehlermeldung ausgegeben werden, wenn uns der Header eine andere Größe angibt als die Größe der heruntergeladenen Datei.\n",
    "---\n",
    "* Zwar könnte ich diese Funktion selbst schreiben, aber ich würde deutlich länger brauchen für alle Details.\n",
    "* Ich möchte, dass das LLM mir die Zeit erspart, den Code zu schreiben, den ich bereits im Kopf habe.\n",
    "* Gute Coding-LLMs können hervorragend Lücken füllen.\n",
    "  * Sie sind auch viel weniger faul als ich. Sie werden daran denken,\n",
    "    * wahrscheinliche Exceptions zu erfassen\n",
    "    * genaue Docstrings hinzuzufügen und\n",
    "    * Code mit den relevanten Typen zu kommentieren."
   ]
  },
  {
   "cell_type": "markdown",
   "id": "28478f9d-cda1-4fb2-bcfa-9694e2f50f8d",
   "metadata": {
    "editable": true,
    "slideshow": {
     "slide_type": "fragment"
    },
    "tags": []
   },
   "source": [
    "4. Manuelles Testen ist unerlässlich"
   ]
  },
  {
   "cell_type": "markdown",
   "id": "70f8cec1-e7ae-45c2-b454-49c807cec22b",
   "metadata": {
    "editable": true,
    "slideshow": {
     "slide_type": "notes"
    },
    "tags": []
   },
   "source": [
    "LLM-Code sieht normalerweise fantastisch aus:\n",
    "* gute Variablennamen\n",
    "* überzeugende Kommentare\n",
    "* klare Anmerkungen\n",
    "* logische Struktur.\n",
    "\n",
    "Dies kann euch schnell einlullen und ein falsches Gefühl der Sicherheit geben.\n",
    "\n",
    "Grammatikalisch korrekte und selbstbewusste Antworten von LLMs sollten euch auch nicht verleiten, die Faktenprüfung zu überspringen.\n",
    "\n",
    "* Das einzige, was ihr nicht an LLMs auslagern dürft, ist das Testen, ob der Code tatsächlich funktioniert.\n",
    "* Es ist in eurer Verantwortung, funktionierende Systeme zu liefern.\n",
    "* Mit LLMs wird die Qualitätssicherung umso bedeutender. Diese Fähigkeiten müssen ausgebaut werden.\n",
    "* Weder akribische Code-Überprüfung noch umfassende automatisierte Tests werden nachweisen können, dass Code tatsächlich das Richtige tut."
   ]
  },
  {
   "cell_type": "markdown",
   "id": "cef24ac0-456c-488e-91a3-463b4294b219",
   "metadata": {
    "editable": true,
    "slideshow": {
     "slide_type": "fragment"
    },
    "tags": []
   },
   "source": [
    "5. Verwendet Tools um den Code für euch auszuführen"
   ]
  },
  {
   "cell_type": "markdown",
   "id": "959e8b58-4c4c-4d5a-bf72-21236adabce3",
   "metadata": {
    "editable": true,
    "slideshow": {
     "slide_type": "notes"
    },
    "tags": []
   },
   "source": [
    "* Eine wachsende Anzahl von LLM-Codierungstools hat mittlerweile die Möglichkeit, diesen Code für euch auszuführen.\n",
    "* Ich bin bei einigen davon etwas vorsichtig, da die Möglichkeit besteht, dass der falsche Befehl echten Schaden anrichtet.\n",
    "* Also neige ich dazu, mich an diejenigen zu halten, die Code in einer sicheren Sandbox ausführen.\n",
    "* Meine Favoriten im Moment sind:"
   ]
  },
  {
   "cell_type": "markdown",
   "id": "cb7c1b55-0ab5-4b36-a159-fd0f619f37e1",
   "metadata": {
    "editable": true,
    "slideshow": {
     "slide_type": "subslide"
    },
    "tags": []
   },
   "source": [
    "## Wie sieht ein typischer Projektverlauf aus\n",
    "5. Verwendet Tools um den Code für euch auszuführen\n",
    "\n",
    "ChatGPT Code Interpreter\n",
    ": kann ChatGPT Python-Code direkt in einer von OpenAI verwalteten Kubernetes-Sandbox-VM schreiben und dann ausführen.\n",
    "  Nicht einmal ausgehende Netzwerkverbindungen können hergestellt werden."
   ]
  },
  {
   "cell_type": "markdown",
   "id": "b8e49087-55c9-4c29-8229-0affda158e0c",
   "metadata": {
    "editable": true,
    "slideshow": {
     "slide_type": "fragment"
    },
    "tags": []
   },
   "source": [
    "[Claude Artefacts](https://support.anthropic.com/de/articles/9487310-was-sind-artefakte-und-wie-verwende-ich-sie)\n",
    ": kann eine vollständige HTML+JavaScript+CSS-Webanwendung erstellen, die in einer `iframe`-Sandbox angezeigt wird, die stark einschränkt, was sie tun kann, aber z.B. die Exfiltration eurer privaten Claude-Daten verhindert."
   ]
  },
  {
   "cell_type": "markdown",
   "id": "a9b7ccc7-4989-4a7b-9a87-2b572ff0f134",
   "metadata": {
    "editable": true,
    "slideshow": {
     "slide_type": "fragment"
    },
    "tags": []
   },
   "source": [
    "[ChatGPT Canvas](https://openai.com/index/introducing-canvas/)\n",
    ": neuere ChatGPT-Funktion mit ähnlichen Funktionen wie Claude Artifacts."
   ]
  },
  {
   "cell_type": "markdown",
   "id": "40d9ea0e-f422-4cf1-ae69-b88910f0a225",
   "metadata": {
    "editable": true,
    "slideshow": {
     "slide_type": "subslide"
    },
    "tags": []
   },
   "source": [
    "## Wie sieht ein typischer Projektverlauf aus\n",
    "1. Recherche\n",
    "2. Prototyping\n",
    "3. Produktiven Code schreiben\n",
    "4. Manuelles Testen ist unerlässlich\n",
    "5. Verwendet Tools um den Code für euch auszuführen\n",
    "6. Python-Dateistruktur, Tests, Logging, Docs, CI/CD-Pipelines etc. schreiben"
   ]
  },
  {
   "cell_type": "markdown",
   "id": "f2fd6521-6fd6-4b7c-bd90-c084f9a0623d",
   "metadata": {
    "editable": true,
    "slideshow": {
     "slide_type": "notes"
    },
    "tags": []
   },
   "source": [
    "* Anschließend lasse ich mir die Python-Dateistruktur, Tests und Logging für diesen Code schreiben.\n",
    "* Auch hier diktiere ich meine Technologie der Wahl."
   ]
  },
  {
   "cell_type": "markdown",
   "id": "e1d4feb1-b20c-49ee-9083-cbaa96c912f0",
   "metadata": {
    "editable": true,
    "slideshow": {
     "slide_type": "slide"
    },
    "tags": []
   },
   "source": [
    "## Resümee"
   ]
  },
  {
   "cell_type": "markdown",
   "id": "18aa6557-6a2e-4f16-9b04-44f9b912d519",
   "metadata": {
    "editable": true,
    "slideshow": {
     "slide_type": "fragment"
    },
    "tags": []
   },
   "source": [
    "* Erwartet, dass ihr den Code selbst weiterentwickeln müsst"
   ]
  },
  {
   "cell_type": "markdown",
   "id": "90a291db-a256-4ccf-afc5-c9e9abfef3e2",
   "metadata": {
    "editable": true,
    "slideshow": {
     "slide_type": "notes"
    },
    "tags": []
   },
   "source": [
    "* LLMs sind kein Ersatz für menschliche Intuition und Erfahrung.\n",
    "* Ich habe genug Zeit mit Python entwickelt, um zu wissen, worauf ich achten muss.\n",
    "* Nicht selten ist es für mich schneller, selbst zu übernehmen und die Konversation mit der LLM zu beenden."
   ]
  },
  {
   "cell_type": "markdown",
   "id": "2c6f6d84-823b-4ce1-9e5e-df032e7b55d4",
   "metadata": {
    "editable": true,
    "slideshow": {
     "slide_type": "fragment"
    },
    "tags": []
   },
   "source": [
    "* Der größte Vorteil ist die Entwicklungsgeschwindigkeit "
   ]
  },
  {
   "cell_type": "markdown",
   "id": "a3ea7676-cbdc-4225-a6d1-2a0cd41b6a14",
   "metadata": {
    "editable": true,
    "slideshow": {
     "slide_type": "notes"
    },
    "tags": []
   },
   "source": [
    "* In den meisten aktuellen Projekten würde ich ohne LLM deutlich länger brauchen.\n",
    "* Manche Projekte hätte ich vermutlich gar nicht erst angefangen, wenn ich ohne LLM-Unterstützung gewesen wäre.\n",
    "* Schließlich bin ich auch in meinen Projekten ehrgeiziger geworden:\n",
    "  * umfangreichere Git-Commit-Messages\n",
    "  * zusätzliche CI/CD-Pipelines\n",
    "  * …"
   ]
  },
  {
   "cell_type": "markdown",
   "id": "8cc147d0-3aca-45bf-9bae-15365063ea74",
   "metadata": {
    "editable": true,
    "slideshow": {
     "slide_type": "fragment"
    },
    "tags": []
   },
   "source": [
    "* LLMs erweitern euer Fachwissen"
   ]
  },
  {
   "cell_type": "markdown",
   "id": "051af588-1574-4cc2-8423-e6d4912557e0",
   "metadata": {
    "editable": true,
    "slideshow": {
     "slide_type": "notes"
    },
    "tags": []
   },
   "source": [
    "* Python-Projekte realisiere ich meistens mit den vorhin beschriebenen Code-Signaturen, um möglichst schnell zum gewünschten Ergebnis zu kommen.\n",
    "* Auch für CI/CD-Pipelines gebe ich meist Implementierungsdetails an.\n",
    "* Anders sieht es hingegen aus, wenn für eine REST-API ein passendes Web-Frontend gebaut werden soll:\n",
    "  * Dies ist ein Bereich, von dem ich wenig Ahnung habe.\n",
    "  * Hier wäre mein Prozess ein völlig anderer."
   ]
  },
  {
   "cell_type": "markdown",
   "id": "a8bf58b4-7e34-484e-8bf0-39041f3c8620",
   "metadata": {
    "editable": true,
    "slideshow": {
     "slide_type": "fragment"
    },
    "tags": []
   },
   "source": [
    "* LLMs können euch große Code-Basen erläutern"
   ]
  },
  {
   "cell_type": "markdown",
   "id": "5ae2abdd-62ec-4931-97d6-f5b07b397ad0",
   "metadata": {
    "editable": true,
    "slideshow": {
     "slide_type": "notes"
    },
    "tags": []
   },
   "source": [
    "* Dazu wird die gesamte Code-Basis als Kontext verwendet.\n",
    "* Und auch wenn nicht jedes Detail richtig erläutert wird, so spart die LLM doch sehr viel Zeit ein.\n",
    "* Dies ist eine großartige Möglichkeit, neue Bibliotheken zu erforschen."
   ]
  },
  {
   "cell_type": "markdown",
   "id": "cca8933c-6781-4bd0-837e-fe2828f134d2",
   "metadata": {
    "editable": true,
    "slideshow": {
     "slide_type": "slide"
    },
    "tags": []
   },
   "source": [
    "## Zum Weiterlesen\n",
    "\n",
    "* [Wie LLMs uns beim Programmieren helfen](https://cusy.io/de/blog/how-llms-help-us-with-programming.html)\n",
    "* [KI-Programmierwerkzeuge](https://cusy.io/de/blog/ai-programming-tools.html)\n",
    "* [DORA-Report 2024: Wie KI die Software-Entwicklung verändert](https://cusy.io/de/blog/dora-report-2024.html)\n",
    "* [Entwurfsmuster für die Absicherung von LLM-Agenten](https://cusy.io/de/blog/design-patterns-for-securing-llm-agents.html)"
   ]
  }
 ],
 "metadata": {
  "kernelspec": {
   "display_name": "Python 3.13 Kernel",
   "language": "python",
   "name": "python313"
  },
  "language_info": {
   "codemirror_mode": {
    "name": "ipython",
    "version": 3
   },
   "file_extension": ".py",
   "mimetype": "text/x-python",
   "name": "python",
   "nbconvert_exporter": "python",
   "pygments_lexer": "ipython3",
   "version": "3.13.0"
  },
  "widgets": {
   "application/vnd.jupyter.widget-state+json": {
    "state": {},
    "version_major": 2,
    "version_minor": 0
   }
  }
 },
 "nbformat": 4,
 "nbformat_minor": 5
}
