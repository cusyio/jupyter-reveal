{
 "cells": [
  {
   "cell_type": "markdown",
   "id": "094d5884",
   "metadata": {
    "slideshow": {
     "slide_type": "slide"
    }
   },
   "source": [
    "# Technisches Schreiben\n",
    "\n",
    "Dipl.-Inf. Frank Hofmann\n",
    "\n",
    "Tübix, 1. Juli 2023\n",
    "\n",
    "<p style=\"clear: both; margin-bottom: 0;\">\n",
    "    <br>\n",
    "    <img src=\"qrcode-technisches-schreiben.svg\" alt=\"QR-Code\" style=\"width:128px; margin: 20px 32px 0 0;\"/>\n",
    "    <br>\n",
    "    <a href=\"https://slides.cusy.io/technical-writing/technisches-schreiben.html\">slides.cusy.io/technical-writing/technisches-schreiben.html</a>\n",
    "<p/>"
   ]
  },
  {
   "cell_type": "markdown",
   "id": "0ae20cd2",
   "metadata": {
    "slideshow": {
     "slide_type": "subslide"
    }
   },
   "source": [
    "# Technisches Schreiben\n",
    "\n",
    "<img src=\"../img/frank-duotone.png\" alt=\"Portrait Frank Hofmann\" style=\"float: left; width:256px; margin: 0 32px 40px 0; border-radius: 50%;\"/>\n",
    "\n",
    "Dipl.-Inf. Frank Hofmann"
   ]
  },
  {
   "cell_type": "markdown",
   "id": "109ee957",
   "metadata": {
    "slideshow": {
     "slide_type": "fragment"
    }
   },
   "source": [
    "* Co-Autor des Debian-Paketmanagement-Buchs (→ https://dpmb.org)"
   ]
  },
  {
   "cell_type": "markdown",
   "id": "852ee994",
   "metadata": {
    "slideshow": {
     "slide_type": "fragment"
    }
   },
   "source": [
    "* Freiberuflicher Redakteur, u.a. für Linux Magazin und Linux User"
   ]
  },
  {
   "cell_type": "markdown",
   "id": "a2958f27",
   "metadata": {
    "slideshow": {
     "slide_type": "fragment"
    }
   },
   "source": [
    "* Trainer und technischer Autor für die cusy GmbH"
   ]
  },
  {
   "cell_type": "markdown",
   "id": "b4c06796",
   "metadata": {
    "slideshow": {
     "slide_type": "slide"
    }
   },
   "source": [
    "## Einführung"
   ]
  },
  {
   "cell_type": "markdown",
   "id": "cfb21414",
   "metadata": {
    "slideshow": {
     "slide_type": "fragment"
    }
   },
   "source": [
    "Der Vortrag zeigt euch, wie ihr klarere technische Dokumentationen verfassen und eure technischen Kommunikationsfähigkeiten verbessern könnt. Schließlich erfahrt ihr auch, wie eure Dokumente zugänglicher werden."
   ]
  },
  {
   "cell_type": "markdown",
   "id": "f998063d",
   "metadata": {
    "slideshow": {
     "slide_type": "subslide"
    }
   },
   "source": [
    "## Einführung\n",
    "\n",
    "### Zielgruppe"
   ]
  },
  {
   "cell_type": "markdown",
   "id": "6f9cab35",
   "metadata": {
    "slideshow": {
     "slide_type": "fragment"
    }
   },
   "source": [
    "Der Vortrag richtet sich an Personen aus den Bereichen"
   ]
  },
  {
   "cell_type": "markdown",
   "id": "ca6c8d7e",
   "metadata": {
    "slideshow": {
     "slide_type": "fragment"
    }
   },
   "source": [
    "* technische Wissenschaften"
   ]
  },
  {
   "cell_type": "markdown",
   "id": "7bd56b4f",
   "metadata": {
    "slideshow": {
     "slide_type": "fragment"
    }
   },
   "source": [
    "* Produktmanagement"
   ]
  },
  {
   "cell_type": "markdown",
   "id": "a0e94878",
   "metadata": {
    "slideshow": {
     "slide_type": "fragment"
    }
   },
   "source": [
    "* technische Redaktionen"
   ]
  },
  {
   "cell_type": "markdown",
   "id": "75f11d79",
   "metadata": {
    "slideshow": {
     "slide_type": "subslide"
    }
   },
   "source": [
    "## Einführung\n",
    "\n",
    "### Ziele"
   ]
  },
  {
   "cell_type": "markdown",
   "id": "6443c723",
   "metadata": {
    "slideshow": {
     "slide_type": "fragment"
    }
   },
   "source": [
    "#### [1 Grundlagen des technischen Schreibens](#/2)"
   ]
  },
  {
   "cell_type": "markdown",
   "id": "ded2a5ca",
   "metadata": {
    "slideshow": {
     "slide_type": "fragment"
    }
   },
   "source": [
    "[1.1 Begriffe richtig verwenden](#/2/0/0)"
   ]
  },
  {
   "cell_type": "markdown",
   "id": "502a52cf",
   "metadata": {
    "slideshow": {
     "slide_type": "fragment"
    }
   },
   "source": [
    "[1.2 Mehrdeutige Pronomen erkennen](#/3)"
   ]
  },
  {
   "cell_type": "markdown",
   "id": "fa1d21fe",
   "metadata": {
    "slideshow": {
     "slide_type": "fragment"
    }
   },
   "source": [
    "[1.3 Passiv- in Aktivsätze umwandeln](#/4)"
   ]
  },
  {
   "cell_type": "markdown",
   "id": "ee7a15c9",
   "metadata": {
    "slideshow": {
     "slide_type": "fragment"
    }
   },
   "source": [
    "[1.4 Strategien für klare und einprägsame Sätze](#/5)"
   ]
  },
  {
   "cell_type": "markdown",
   "id": "e1d1cc76",
   "metadata": {
    "slideshow": {
     "slide_type": "fragment"
    }
   },
   "source": [
    "[1.5 Listen und Tabellen sinnvoll verwenden](#/6)"
   ]
  },
  {
   "cell_type": "markdown",
   "id": "b795528d",
   "metadata": {
    "slideshow": {
     "slide_type": "fragment"
    }
   },
   "source": [
    "[1.6 Absätze strukturieren](#/7)"
   ]
  },
  {
   "cell_type": "markdown",
   "id": "91e0901d",
   "metadata": {
    "slideshow": {
     "slide_type": "fragment"
    }
   },
   "source": [
    "[1.7 Zielgruppengerecht schreiben](#/8)"
   ]
  },
  {
   "cell_type": "markdown",
   "id": "dedf269d",
   "metadata": {
    "slideshow": {
     "slide_type": "fragment"
    }
   },
   "source": [
    "[1.8 Dokumente gliedern](#/9)"
   ]
  },
  {
   "cell_type": "markdown",
   "id": "8e3555e3",
   "metadata": {
    "slideshow": {
     "slide_type": "subslide"
    }
   },
   "source": [
    "## Einführung\n",
    "\n",
    "### ~~Ziele~~\n",
    "\n",
    "#### 2 Fortgeschrittene Themen des technischen Schreibens"
   ]
  },
  {
   "cell_type": "markdown",
   "id": "3bb5eb9c",
   "metadata": {
    "slideshow": {
     "slide_type": "fragment"
    }
   },
   "source": [
    "2.1 Überarbeiten eures ersten Entwurfs"
   ]
  },
  {
   "cell_type": "markdown",
   "id": "c170422d",
   "metadata": {
    "slideshow": {
     "slide_type": "fragment"
    }
   },
   "source": [
    "2.2 Verwenden eines Redaktionsleitfadens"
   ]
  },
  {
   "cell_type": "markdown",
   "id": "f3087101",
   "metadata": {
    "slideshow": {
     "slide_type": "fragment"
    }
   },
   "source": [
    "2.3 Organisieren großer Dokumente"
   ]
  },
  {
   "cell_type": "markdown",
   "id": "83fe004c",
   "metadata": {
    "slideshow": {
     "slide_type": "fragment"
    }
   },
   "source": [
    "2.4 Illustrieren"
   ]
  },
  {
   "cell_type": "markdown",
   "id": "a5043337",
   "metadata": {
    "slideshow": {
     "slide_type": "fragment"
    }
   },
   "source": [
    "2.5 Erstellen von Beispielcode"
   ]
  },
  {
   "cell_type": "markdown",
   "id": "269023af",
   "metadata": {
    "slideshow": {
     "slide_type": "subslide"
    }
   },
   "source": [
    "## Einführung\n",
    "\n",
    "### ~~Ziele~~\n",
    "\n",
    "#### 3 Barrierefrei schreiben"
   ]
  },
  {
   "cell_type": "markdown",
   "id": "7193607e",
   "metadata": {
    "slideshow": {
     "slide_type": "fragment"
    }
   },
   "source": [
    "3.1 Hilfreiche Alternativtexte für technische Diagramme schreiben"
   ]
  },
  {
   "cell_type": "markdown",
   "id": "345267de",
   "metadata": {
    "slideshow": {
     "slide_type": "fragment"
    }
   },
   "source": [
    "3.2 Farbkontraste überprüfen"
   ]
  },
  {
   "cell_type": "markdown",
   "id": "2ebaf661",
   "metadata": {
    "slideshow": {
     "slide_type": "fragment"
    }
   },
   "source": [
    "3.3 Zugängliche Diagramme erstellen"
   ]
  },
  {
   "cell_type": "markdown",
   "id": "d78744bc",
   "metadata": {
    "slideshow": {
     "slide_type": "fragment"
    }
   },
   "source": [
    "3.4 Barrieren in Dokumenten erkennen"
   ]
  },
  {
   "cell_type": "markdown",
   "id": "32bae6ac",
   "metadata": {
    "slideshow": {
     "slide_type": "slide"
    }
   },
   "source": [
    "## 1 Grundlagen des technischen Schreibens"
   ]
  },
  {
   "cell_type": "markdown",
   "id": "9882952b",
   "metadata": {
    "slideshow": {
     "slide_type": "fragment"
    }
   },
   "source": [
    "### 1.1 Begriffe richtig verwenden"
   ]
  },
  {
   "cell_type": "markdown",
   "id": "1e7bebbe",
   "metadata": {
    "slideshow": {
     "slide_type": "fragment"
    }
   },
   "source": [
    "#### 1.1.1 Definiert neue oder unbekannte Begriffe"
   ]
  },
  {
   "cell_type": "markdown",
   "id": "0b4ed413",
   "metadata": {
    "slideshow": {
     "slide_type": "fragment"
    }
   },
   "source": [
    "Lernt, Begriffe zu erkennen, die der Zielgruppe nicht geläufig sind."
   ]
  },
  {
   "cell_type": "markdown",
   "id": "c95f7c74",
   "metadata": {
    "slideshow": {
     "slide_type": "fragment"
    }
   },
   "source": [
    "Wenn ihr einen solchen Begriff entdeckt, wendet folgende Taktiken an:"
   ]
  },
  {
   "cell_type": "markdown",
   "id": "8ef39647",
   "metadata": {
    "slideshow": {
     "slide_type": "fragment"
    }
   },
   "source": [
    "* Wenn der Begriff bereits existiert, verlinkt auf eine gute Erklärung – Erfindet das Rad nicht neu!"
   ]
  },
  {
   "cell_type": "markdown",
   "id": "b0ed9075",
   "metadata": {
    "slideshow": {
     "slide_type": "fragment"
    }
   },
   "source": [
    "* Wenn der Begriff neu eingeführt wird, definiert ihn"
   ]
  },
  {
   "cell_type": "markdown",
   "id": "34124973",
   "metadata": {
    "slideshow": {
     "slide_type": "fragment"
    }
   },
   "source": [
    "* Wenn in eurem Dokument viele Begriffe eingeführt werden, sammelt die Definitionen in einem Glossar"
   ]
  },
  {
   "cell_type": "markdown",
   "id": "8b0f45bd",
   "metadata": {
    "slideshow": {
     "slide_type": "subslide"
    }
   },
   "source": [
    "## 1 Grundlagen des technischen Schreibens\n",
    "\n",
    "### 1.1 Begriffe richtig verwenden\n",
    "\n",
    "#### 1.1.2 Verwendet die Begriffe konsistent"
   ]
  },
  {
   "cell_type": "markdown",
   "id": "a0f54759",
   "metadata": {
    "slideshow": {
     "slide_type": "fragment"
    }
   },
   "source": [
    "Verwendet durchgängig dasselbe eindeutige Wort: Wenn ihr eine Komponente einmal *Dingsda* genannt habt, solltet ihr sie nicht ein anderes mal *Dingsbums* nennen."
   ]
  },
  {
   "cell_type": "markdown",
   "id": "b8b28d42",
   "metadata": {
    "slideshow": {
     "slide_type": "subslide"
    }
   },
   "source": [
    "## 1 Grundlagen des technischen Schreibens\n",
    "\n",
    "### 1.1 Begriffe richtig verwenden\n",
    "\n",
    "#### 1.1.3 Akronyme richtig verwenden"
   ]
  },
  {
   "cell_type": "markdown",
   "id": "5e39dab4",
   "metadata": {
    "slideshow": {
     "slide_type": "fragment"
    }
   },
   "source": [
    "* Bei der erstmaligen Verwendung eines unbekannten Akronyms buchstabiert den vollständigen Begriff und setzt das Akronym in Klammern"
   ]
  },
  {
   "cell_type": "markdown",
   "id": "f132a923",
   "metadata": {
    "slideshow": {
     "slide_type": "fragment"
    }
   },
   "source": [
    "* Wechselt nicht zwischen dem Akronym und dem vollständigen Begriff hin und her"
   ]
  },
  {
   "cell_type": "markdown",
   "id": "6896d3ea",
   "metadata": {
    "slideshow": {
     "slide_type": "fragment"
    }
   },
   "source": [
    "* Definiert Akronyme nur, wenn sie wesentlich kürzer sind als der vollständige Begriff **und** im Dokument häufig vorkommen"
   ]
  },
  {
   "cell_type": "markdown",
   "id": "39889eb0",
   "metadata": {
    "slideshow": {
     "slide_type": "slide"
    }
   },
   "source": [
    "## 1 Grundlagen des technischen Schreibens\n",
    "\n",
    "### 1.2 Mehrdeutige Pronomen erkennen"
   ]
  },
  {
   "cell_type": "markdown",
   "id": "e05db94d",
   "metadata": {
    "slideshow": {
     "slide_type": "fragment"
    }
   },
   "source": [
    "Viele Pronomen verweisen auf ein zuvor eingeführtes Substantiv."
   ]
  },
  {
   "cell_type": "markdown",
   "id": "4dcbe529",
   "metadata": {
    "slideshow": {
     "slide_type": "fragment"
    }
   },
   "source": [
    "Wie Zeiger in der Programmierung neigen auch Pronomen dazu, fehlerhaft zu sein."
   ]
  },
  {
   "cell_type": "markdown",
   "id": "a2a0f25d",
   "metadata": {
    "slideshow": {
     "slide_type": "fragment"
    }
   },
   "source": [
    "In vielen Fällen solltet ihr das Pronomen einfach vermeiden und das Substantiv wiederverwenden."
   ]
  },
  {
   "cell_type": "markdown",
   "id": "e89c1551",
   "metadata": {
    "slideshow": {
     "slide_type": "fragment"
    }
   },
   "source": [
    " Manchmal überwiegt jedoch der Nutzen eines Pronomens sein Risiko (wie in diesem Satz)."
   ]
  },
  {
   "cell_type": "markdown",
   "id": "c930837d",
   "metadata": {
    "slideshow": {
     "slide_type": "subslide"
    }
   },
   "source": [
    "## 1 Grundlagen des technischen Schreibens\n",
    "\n",
    "### 1.2 Mehrdeutige Pronomen erkennen"
   ]
  },
  {
   "cell_type": "markdown",
   "id": "a646f0d4",
   "metadata": {
    "slideshow": {
     "slide_type": "fragment"
    }
   },
   "source": [
    "Wir verwenden folgende Richtlinien für Pronomen:"
   ]
  },
  {
   "cell_type": "markdown",
   "id": "09628757",
   "metadata": {
    "slideshow": {
     "slide_type": "fragment"
    }
   },
   "source": [
    "* Verwendet Pronomen nur, nachdem ihr das Substantiv eingeführt habt"
   ]
  },
  {
   "cell_type": "markdown",
   "id": "0304883d",
   "metadata": {
    "slideshow": {
     "slide_type": "fragment"
    }
   },
   "source": [
    "* Setzt das Pronomen so nah wie möglich an das verweisende Substantiv; wenn mehr als fünf Wörter zwischen dem Substantiv und dem Pronomen liegen, solltet ihr das Substantiv wiederholen, anstatt das Pronomen zu verwenden"
   ]
  },
  {
   "cell_type": "markdown",
   "id": "d27627f0",
   "metadata": {
    "slideshow": {
     "slide_type": "fragment"
    }
   },
   "source": [
    "* Wenn ihr zwischen dem Substantiv und dem Pronomen ein zweites Substantiv einführt, wiederholt das Substantiv, anstatt ein Pronomen zu verwenden"
   ]
  },
  {
   "cell_type": "markdown",
   "id": "10c04579",
   "metadata": {
    "slideshow": {
     "slide_type": "slide"
    }
   },
   "source": [
    "## 1 Grundlagen des technischen Schreibens\n",
    "\n",
    "### 1.3 Passiv- in Aktivsätze umwandeln"
   ]
  },
  {
   "cell_type": "markdown",
   "id": "fa5d14e4",
   "metadata": {
    "slideshow": {
     "slide_type": "fragment"
    }
   },
   "source": [
    "Formuliert die überwiegende Mehrheit der Sätze in technischen Texten im Aktiv."
   ]
  },
  {
   "cell_type": "markdown",
   "id": "8091df56",
   "metadata": {
    "slideshow": {
     "slide_type": "fragment"
    }
   },
   "source": [
    "Wie können Aktiv und Passiv unterschieden werden?"
   ]
  },
  {
   "cell_type": "markdown",
   "id": "e304ce5b",
   "metadata": {
    "slideshow": {
     "slide_type": "fragment"
    }
   },
   "source": [
    "* Beim Aktiv handelt eine Person auf ein bestimmtes Ziel hin: `Person+Verb+Ziel`."
   ]
  },
  {
   "cell_type": "markdown",
   "id": "a2b23f86",
   "metadata": {
    "slideshow": {
     "slide_type": "fragment"
    }
   },
   "source": [
    "* Beim Passiv ist es meist umgekehrt: `Ziel+Verb+Person`."
   ]
  },
  {
   "cell_type": "markdown",
   "id": "3cddc5db",
   "metadata": {
    "slideshow": {
     "slide_type": "subslide"
    }
   },
   "source": [
    "## 1 Grundlagen des technischen Schreibens\n",
    "\n",
    "### 1.3 Passiv- in Aktivsätze umwandeln\n",
    "\n",
    "Wie könnt ihr passive Verben erkennen?"
   ]
  },
  {
   "cell_type": "markdown",
   "id": "cf2add43",
   "metadata": {
    "slideshow": {
     "slide_type": "fragment"
    }
   },
   "source": [
    "Passive Verben setzen sich meist aus einer Form von sein und einem Partizip Perfekt zusammen."
   ]
  },
  {
   "cell_type": "markdown",
   "id": "cef8fe6d",
   "metadata": {
    "slideshow": {
     "slide_type": "fragment"
    }
   },
   "source": [
    "Beispiele:"
   ]
  },
  {
   "cell_type": "markdown",
   "id": "86537f71",
   "metadata": {
    "slideshow": {
     "slide_type": "fragment"
    }
   },
   "source": [
    "> wurde interpretiert"
   ]
  },
  {
   "cell_type": "markdown",
   "id": "1712964e",
   "metadata": {
    "slideshow": {
     "slide_type": "fragment"
    }
   },
   "source": [
    "> wird erzeugt durch"
   ]
  },
  {
   "cell_type": "markdown",
   "id": "8d847ff9",
   "metadata": {
    "slideshow": {
     "slide_type": "fragment"
    }
   },
   "source": [
    "> wurde gebildet von"
   ]
  },
  {
   "cell_type": "markdown",
   "id": "1e9a9525",
   "metadata": {
    "slideshow": {
     "slide_type": "subslide"
    }
   },
   "source": [
    "## 1 Grundlagen des technischen Schreibens\n",
    "\n",
    "### 1.3 Passiv- in Aktivsätze umwandeln\n",
    "\n",
    "Imperativverben sind normalerweise aktiv."
   ]
  },
  {
   "cell_type": "markdown",
   "id": "51bf6da9",
   "metadata": {
    "slideshow": {
     "slide_type": "fragment"
    }
   },
   "source": [
    "In Sätzen mit Imperativverben werden aktive Personen nicht explizit erwähnt, sondern implizit angesprochen."
   ]
  },
  {
   "cell_type": "markdown",
   "id": "e275b730",
   "metadata": {
    "slideshow": {
     "slide_type": "fragment"
    }
   },
   "source": [
    "Beispiele:"
   ]
  },
  {
   "cell_type": "markdown",
   "id": "22061661",
   "metadata": {
    "slideshow": {
     "slide_type": "fragment"
    }
   },
   "source": [
    "> Öffnet die Konfigurationsdatei."
   ]
  },
  {
   "cell_type": "markdown",
   "id": "da37b86c",
   "metadata": {
    "slideshow": {
     "slide_type": "fragment"
    }
   },
   "source": [
    "> Setzt die Variable `protected` auf `False`"
   ]
  },
  {
   "cell_type": "markdown",
   "id": "5cfeda59",
   "metadata": {
    "slideshow": {
     "slide_type": "slide"
    }
   },
   "source": [
    "## 1 Grundlagen des technischen Schreibens\n",
    "\n",
    "### 1.4 Strategien für klare und einprägsame Sätze"
   ]
  },
  {
   "cell_type": "markdown",
   "id": "43e9e5a4",
   "metadata": {
    "slideshow": {
     "slide_type": "fragment"
    }
   },
   "source": [
    "#### 1.4.1 Wählt starke Verben"
   ]
  },
  {
   "cell_type": "markdown",
   "id": "1a1d81bd",
   "metadata": {
    "slideshow": {
     "slide_type": "fragment"
    }
   },
   "source": [
    "Reduziert ungenaue, schwache oder generische Verben wie die folgenden:"
   ]
  },
  {
   "cell_type": "markdown",
   "id": "7e242d6f",
   "metadata": {
    "slideshow": {
     "slide_type": "fragment"
    }
   },
   "source": [
    "* Formen von sein: *ist*, *sind*, *waren* usw."
   ]
  },
  {
   "cell_type": "markdown",
   "id": "bb3ff6f6",
   "metadata": {
    "slideshow": {
     "slide_type": "fragment"
    }
   },
   "source": [
    "* *erscheinen*"
   ]
  },
  {
   "cell_type": "markdown",
   "id": "9b41397b",
   "metadata": {
    "slideshow": {
     "slide_type": "fragment"
    }
   },
   "source": [
    "* *geschehen*"
   ]
  },
  {
   "cell_type": "markdown",
   "id": "371a6c8c",
   "metadata": {
    "slideshow": {
     "slide_type": "subslide"
    }
   },
   "source": [
    "## 1 Grundlagen des technischen Schreibens\n",
    "\n",
    "### 1.4 Strategien für klare und einprägsame Sätze\n",
    "\n",
    "#### 1.4.1 Wählt starke Verben"
   ]
  },
  {
   "cell_type": "markdown",
   "id": "0d732cac",
   "metadata": {
    "slideshow": {
     "slide_type": "fragment"
    }
   },
   "source": [
    "Im folgenden ein paar Beispiele für schwache Verben, die ihr durch starke ersetzen könnt:"
   ]
  },
  {
   "cell_type": "markdown",
   "id": "7f413efa",
   "metadata": {
    "slideshow": {
     "slide_type": "fragment"
    }
   },
   "source": [
    "> Der Fehler tritt auf, wenn ihr auf Senden klickt."
   ]
  },
  {
   "cell_type": "markdown",
   "id": "dc7aa6ac",
   "metadata": {
    "slideshow": {
     "slide_type": "fragment"
    }
   },
   "source": [
    "> Diese Fehlermeldung kommt, wenn …"
   ]
  },
  {
   "cell_type": "markdown",
   "id": "ca1f4c8e",
   "metadata": {
    "slideshow": {
     "slide_type": "fragment"
    }
   },
   "source": [
    "> Wir sind sehr vorsichtig , um sicherzustellen"
   ]
  },
  {
   "cell_type": "markdown",
   "id": "60fb91a1",
   "metadata": {
    "slideshow": {
     "slide_type": "notes"
    }
   },
   "source": [
    "Lösungen:\n",
    "\n",
    "| schwaches Verb | starkes Verb |\n",
    "| -------------- | ------------ |\n",
    "| Der Fehler tritt auf, wenn ihr auf *Senden* klickt. | Ein Klick auf Senden löst den Fehler aus. |\n",
    "| Diese Fehlermeldung kommt, wenn … | Die Anwendung überprüft die Eingabe und erstellt eine möglichst hilfreiche Fehlermeldung |\n",
    "| Wir sind sehr vorsichtig , um sicherzustellen | Wir prüfen sorgfältig |"
   ]
  },
  {
   "cell_type": "markdown",
   "id": "189ee796",
   "metadata": {
    "slideshow": {
     "slide_type": "subslide"
    }
   },
   "source": [
    "## 1 Grundlagen des technischen Schreibens\n",
    "\n",
    "### 1.4 Strategien für klare und einprägsame Sätze\n",
    "\n",
    "#### 1.4.2 Bildet kurze, prägnante Sätze"
   ]
  },
  {
   "cell_type": "markdown",
   "id": "79ef7a0d",
   "metadata": {
    "slideshow": {
     "slide_type": "fragment"
    }
   },
   "source": [
    "* Eine kürzere Dokumentation liest sich schneller als eine längere Dokumentation"
   ]
  },
  {
   "cell_type": "markdown",
   "id": "516f9f42",
   "metadata": {
    "slideshow": {
     "slide_type": "fragment"
    }
   },
   "source": [
    "* Eine kürzere Dokumentation ist in der Regel leichter zu pflegen als eine längere Dokumentation"
   ]
  },
  {
   "cell_type": "markdown",
   "id": "de8457a8",
   "metadata": {
    "slideshow": {
     "slide_type": "fragment"
    }
   },
   "source": [
    "* Zusätzliche Dokumentationszeilen bringen zusätzliche Fehlerquellen mit sich"
   ]
  },
  {
   "cell_type": "markdown",
   "id": "dface8ac",
   "metadata": {
    "slideshow": {
     "slide_type": "subslide"
    }
   },
   "source": [
    "## 1 Grundlagen des technischen Schreibens\n",
    "\n",
    "### 1.4 Strategien für klare und einprägsame Sätze\n",
    "\n",
    "#### 1.4.2 Bildet kurze, prägnante Sätze\n",
    "\n",
    "Konzentriert euch in jedem Satz auf eine einzige Idee, einen Gedanken oder ein Konzept."
   ]
  },
  {
   "cell_type": "markdown",
   "id": "f04aaf43",
   "metadata": {
    "slideshow": {
     "slide_type": "fragment"
    }
   },
   "source": [
    "Negativbeispiel:"
   ]
  },
  {
   "cell_type": "markdown",
   "id": "7e771895",
   "metadata": {
    "slideshow": {
     "slide_type": "fragment"
    }
   },
   "source": [
    "> Die **Kornshell** (Eigenschreibweise *KornShell*, auch als `ksh`, `ksh86`, `ksh88` und `ksh93` bezeichnet) ist ein von David Korn entwickelter [Kommandozeileninterpreter](https://de.wikipedia.org/wiki/Kommandozeileninterpreter) wie auch die Beschreibung der Skriptsprache, welche durch diesen Interpreter implementiert wird. \n",
    "\n",
    "Quelle: [Wikipedia: Kornshell](https://de.wikipedia.org/wiki/Kornshell)"
   ]
  },
  {
   "cell_type": "markdown",
   "id": "8c7f9897",
   "metadata": {
    "slideshow": {
     "slide_type": "subslide"
    }
   },
   "source": [
    "## 1 Grundlagen des technischen Schreibens\n",
    "\n",
    "### 1.4 Strategien für klare und einprägsame Sätze\n",
    "\n",
    "#### 1.4.3 Wandelt lange Sätze in Listen um"
   ]
  },
  {
   "cell_type": "markdown",
   "id": "a8532fac",
   "metadata": {
    "slideshow": {
     "slide_type": "fragment"
    }
   },
   "source": [
    "In vielen langen technischen Sätzen steckt eine Liste, die besser in einer Liste gegliedert werden kann:"
   ]
  },
  {
   "cell_type": "markdown",
   "id": "e342d1c0",
   "metadata": {
    "slideshow": {
     "slide_type": "fragment"
    }
   },
   "source": [
    "* wenn die Konjunktion *oder* in einem langen Satz seht"
   ]
  },
  {
   "cell_type": "markdown",
   "id": "305e77df",
   "metadata": {
    "slideshow": {
     "slide_type": "fragment"
    }
   },
   "source": [
    "* wenn ein langer Satz eine Aufzählung enthält"
   ]
  },
  {
   "cell_type": "markdown",
   "id": "50767571",
   "metadata": {
    "slideshow": {
     "slide_type": "subslide"
    }
   },
   "source": [
    "## 1 Grundlagen des technischen Schreibens\n",
    "\n",
    "### 1.4 Strategien für klare und einprägsame Sätze\n",
    "\n",
    "#### 1.4.4 Eliminiert oder reduziert überflüssige Wörter"
   ]
  },
  {
   "cell_type": "markdown",
   "id": "b3e29b12",
   "metadata": {
    "slideshow": {
     "slide_type": "fragment"
    }
   },
   "source": [
    "Viele Sätze enthalten Füllwörter, die Platz wegnehmen, die nichts zum Verständnis beitragen."
   ]
  },
  {
   "cell_type": "markdown",
   "id": "675115e1",
   "metadata": {
    "slideshow": {
     "slide_type": "fragment"
    }
   },
   "source": [
    "Beispiele:"
   ]
  },
  {
   "cell_type": "markdown",
   "id": "48c377f7",
   "metadata": {
    "slideshow": {
     "slide_type": "fragment"
    }
   },
   "source": [
    "> zu diesem Zeitpunkt"
   ]
  },
  {
   "cell_type": "markdown",
   "id": "9bd5e650",
   "metadata": {
    "slideshow": {
     "slide_type": "fragment"
    }
   },
   "source": [
    "> bestimmt den Wert von"
   ]
  },
  {
   "cell_type": "markdown",
   "id": "1a41c6de",
   "metadata": {
    "slideshow": {
     "slide_type": "fragment"
    }
   },
   "source": [
    "> in der Lage sein … zu tun"
   ]
  },
  {
   "cell_type": "markdown",
   "id": "eef4e950",
   "metadata": {
    "slideshow": {
     "slide_type": "notes"
    }
   },
   "source": [
    "Lösungen:\n",
    "\n",
    "| wortreich | prägnant |\n",
    "| --------- | -------- |\n",
    "| zu diesem Zeitpunkt | jetzt |\n",
    "| bestimmt den Wert von | findet |\n",
    "| in der Lage sein … zu tun | können |"
   ]
  },
  {
   "cell_type": "markdown",
   "id": "9b05dfd7",
   "metadata": {
    "slideshow": {
     "slide_type": "slide"
    }
   },
   "source": [
    "## 1 Grundlagen des technischen Schreibens\n",
    "\n",
    "### 1.5 Listen und Tabellen sinnvoll verwenden"
   ]
  },
  {
   "cell_type": "markdown",
   "id": "d4a1aedf",
   "metadata": {
    "slideshow": {
     "slide_type": "fragment"
    }
   },
   "source": [
    "Listen und Tabellen können vielschichtige Themen ordnen. Wenn sich euer Thema auf eine solche Weise ordnen lässt, solltet ihr euren Text entsprechend umwandeln."
   ]
  },
  {
   "cell_type": "markdown",
   "id": "fe26c358",
   "metadata": {
    "slideshow": {
     "slide_type": "subslide"
    }
   },
   "source": [
    "## 1 Grundlagen des technischen Schreibens\n",
    "\n",
    "### 1.5 Listen und Tabellen sinnvoll verwenden\n",
    "\n",
    "#### 1.5.1 Wählt den richtigen Listentyp"
   ]
  },
  {
   "cell_type": "markdown",
   "id": "d0bb4c0d",
   "metadata": {
    "slideshow": {
     "slide_type": "fragment"
    }
   },
   "source": [
    "* **Aufzählungen** werden für ungeordnete Inhalte verwendet, bei denen die Änderung der Reihenfolge nicht die Bedeutung verändert."
   ]
  },
  {
   "cell_type": "markdown",
   "id": "3ddc37e6",
   "metadata": {
    "slideshow": {
     "slide_type": "fragment"
    }
   },
   "source": [
    "* **Nummerierte Listen** werden verwendet, wenn die Reihenfolge der einzelnen Punkte bedeutend ist."
   ]
  },
  {
   "cell_type": "markdown",
   "id": "6381d7e2",
   "metadata": {
    "slideshow": {
     "slide_type": "fragment"
    }
   },
   "source": [
    "* **Definitionslisten** werden verwendet, um Begriffe zu definieren, z.B.:"
   ]
  },
  {
   "cell_type": "markdown",
   "id": "917999f2",
   "metadata": {
    "slideshow": {
     "slide_type": "fragment"
    }
   },
   "source": [
    "<dl>\n",
    "    <dt><code>for</code></dt>\n",
    "    <dd>zur Iteration über die Elemente einer Sequenz</dd>\n",
    "    <dt><code>while</code></dt>\n",
    "    <dd>zur Wiederholung einer Schleife, solange ein logischer Ausdruck wahr ist.</dd>\n",
    "</dl>"
   ]
  },
  {
   "cell_type": "markdown",
   "id": "8098b557",
   "metadata": {
    "slideshow": {
     "slide_type": "fragment"
    }
   },
   "source": [
    "* **Verschachtelte Listen** werden für hierarchische Inhalte verwendet"
   ]
  },
  {
   "cell_type": "markdown",
   "id": "05ee8a64",
   "metadata": {
    "slideshow": {
     "slide_type": "fragment"
    }
   },
   "source": [
    "Gibt es Ober- und Unterpunkte, so können sich verschachtelte Listen empfehlen. Auch bei der Verschachtelung können die drei Listentypen kombiniert werden."
   ]
  },
  {
   "cell_type": "markdown",
   "id": "708d8f64",
   "metadata": {
    "slideshow": {
     "slide_type": "subslide"
    }
   },
   "source": [
    "## 1 Grundlagen des technischen Schreibens\n",
    "\n",
    "### 1.5 Listen und Tabellen sinnvoll verwenden\n",
    "\n",
    "#### 1.5.2 Satzzeichen für Listenelemente"
   ]
  },
  {
   "cell_type": "markdown",
   "id": "0ae3c84a",
   "metadata": {
    "slideshow": {
     "slide_type": "fragment"
    }
   },
   "source": [
    "Nur wenn das Listenelement aus einem oder mehreren Sätzen besteht, solltet ihr Großschreibung und Satzzeichen verwenden."
   ]
  },
  {
   "cell_type": "markdown",
   "id": "d3db3d40",
   "metadata": {
    "slideshow": {
     "slide_type": "subslide"
    }
   },
   "source": [
    "## 1 Grundlagen des technischen Schreibens\n",
    "\n",
    "### 1.5 Listen und Tabellen sinnvoll verwenden\n",
    "\n",
    "#### 1.5.3 Erstellt nützliche Tabellen"
   ]
  },
  {
   "cell_type": "markdown",
   "id": "c72c9de8",
   "metadata": {
    "slideshow": {
     "slide_type": "fragment"
    }
   },
   "source": [
    "Tabellen sind geeignet für Inhalte, bei denen jeder einzelne Punkt in ein oder mehreren Kategorien erläutert wird. Achtet bei Tabellen darauf, dass"
   ]
  },
  {
   "cell_type": "markdown",
   "id": "e64defed",
   "metadata": {
    "slideshow": {
     "slide_type": "fragment"
    }
   },
   "source": [
    "* jede Spalte aussagekräftig beschriftet ist"
   ]
  },
  {
   "cell_type": "markdown",
   "id": "089585d8",
   "metadata": {
    "slideshow": {
     "slide_type": "fragment"
    }
   },
   "source": [
    "* jede Zelle nur wenig Text enthalten darf"
   ]
  },
  {
   "cell_type": "markdown",
   "id": "45486a9f",
   "metadata": {
    "slideshow": {
     "slide_type": "fragment"
    }
   },
   "source": [
    "* jede Spalte möglichst nur von einem Datentyp sein sollte"
   ]
  },
  {
   "cell_type": "markdown",
   "id": "6c0464aa",
   "metadata": {
    "slideshow": {
     "slide_type": "subslide"
    }
   },
   "source": [
    "## 1 Grundlagen des technischen Schreibens\n",
    "\n",
    "### 1.5 Listen und Tabellen sinnvoll verwenden\n",
    "\n",
    "#### 1.5.3 Erstellt nützliche Tabellen\n",
    "\n",
    "Beispiel:\n",
    "\n",
    "| VM | Service | Status | Cores | RAM | Disk |\n",
    "| :- | :- | :- | -: | -: | -: |\n",
    "| cusy50 | web frontend | ✅ | 1 vCPU | 2 GiB | 30 GiB |\n",
    "| cusy51 | mail server | ✅ | 1 vCPU | 2 GiB | 30 GiB |\n",
    "| cusy60 | app server | ✅ | 2 vCPU | 6 GiB | 30 GiB |\n"
   ]
  },
  {
   "cell_type": "markdown",
   "id": "571392e1",
   "metadata": {
    "slideshow": {
     "slide_type": "slide"
    }
   },
   "source": [
    "## 1 Grundlagen des technischen Schreibens\n",
    "\n",
    "### 1.6 Absätze strukturieren"
   ]
  },
  {
   "cell_type": "markdown",
   "id": "2b718ad2",
   "metadata": {
    "slideshow": {
     "slide_type": "fragment"
    }
   },
   "source": [
    "Beim Schreiben entwirren wir einzelne Aspekte eines Themas und bringen sie in eine logische Abfolge, die anderen das Thema zugänglich macht."
   ]
  },
  {
   "cell_type": "markdown",
   "id": "09d514b1",
   "metadata": {
    "slideshow": {
     "slide_type": "subslide"
    }
   },
   "source": [
    "## 1 Grundlagen des technischen Schreibens\n",
    "\n",
    "### 1.6 Absätze strukturieren\n",
    "\n",
    "#### 1.6.1 Schreibt einen tollen Eröffnungssatz"
   ]
  },
  {
   "cell_type": "markdown",
   "id": "eeded9a5",
   "metadata": {
    "slideshow": {
     "slide_type": "fragment"
    }
   },
   "source": [
    "Der Anfangssatz ist der wichtigste Satz eines jeden Absatzes. Dies hilft beim Querlesen, das Thema des Absatzes zu erfassen ohne alle nachfolgenden Sätze zu lesen. Daher kommt ihm eine besondere Bedeutung zu."
   ]
  },
  {
   "cell_type": "markdown",
   "id": "b460a4e4",
   "metadata": {
    "slideshow": {
     "slide_type": "subslide"
    }
   },
   "source": [
    "## 1 Grundlagen des technischen Schreibens\n",
    "\n",
    "### 1.6 Absätze strukturieren\n",
    "\n",
    "#### 1.6.2 Konzentriert euch in jeden Absatz auf ein Thema"
   ]
  },
  {
   "cell_type": "markdown",
   "id": "6c5e0802",
   "metadata": {
    "slideshow": {
     "slide_type": "fragment"
    }
   },
   "source": [
    "* Ein Absatz sollte eine unabhängige logische Einheit darstellen"
   ]
  },
  {
   "cell_type": "markdown",
   "id": "77a3e197",
   "metadata": {
    "slideshow": {
     "slide_type": "fragment"
    }
   },
   "source": [
    "* Beschränkt euch in jedem Absatz auf das aktuelle Thema"
   ]
  },
  {
   "cell_type": "markdown",
   "id": "67090331",
   "metadata": {
    "slideshow": {
     "slide_type": "fragment"
    }
   },
   "source": [
    "* Beschreibt nicht, was in einem zukünftigen Thema passieren wird oder was in einem vergangenen Thema geschehen ist"
   ]
  },
  {
   "cell_type": "markdown",
   "id": "0cb35c37",
   "metadata": {
    "slideshow": {
     "slide_type": "fragment"
    }
   },
   "source": [
    "* Streicht bei der Überarbeitung rücksichtslos jeden Satz, der nicht direkt mit dem aktuellen Thema zusammenhängt – oder verschiebt ihn in einen anderen Absatz"
   ]
  },
  {
   "cell_type": "markdown",
   "id": "4534b522",
   "metadata": {
    "slideshow": {
     "slide_type": "subslide"
    }
   },
   "source": [
    "## 1 Grundlagen des technischen Schreibens\n",
    "\n",
    "### 1.6 Absätze strukturieren\n",
    "\n",
    "#### 1.6.3 Macht Absätze nicht zu lang oder zu kurz"
   ]
  },
  {
   "cell_type": "markdown",
   "id": "dae22cd2",
   "metadata": {
    "slideshow": {
     "slide_type": "fragment"
    }
   },
   "source": [
    "Lange Absätze sind visuell einschüchternd. Sehr lange Absätze bilden eine gefürchtete *Textwand*, die von den Lesenden ignoriert wird. Sie begrüßen im Allgemeinen Absätze mit drei bis fünf Sätzen, vermeiden jedoch Absätze mit mehr als sieben Sätzen. Zieht bei der Überarbeitung in Betracht, sehr lange Absätze in zwei separate Absätze aufzuteilen."
   ]
  },
  {
   "cell_type": "markdown",
   "id": "f1e97f85",
   "metadata": {
    "slideshow": {
     "slide_type": "fragment"
    }
   },
   "source": [
    "Umgekehrt solltet ihr die Absätze nicht zu kurz gestalten. Wenn euer Dokument viele Ein-Satz-Absätze enthält, ist eure Gliederung mangelhaft. Sucht nach Möglichkeiten, diese Ein-Satz-Absätze zu zusammenhängenden Mehr-Satz-Absätzen oder möglicherweise zu Listen zusammenzufassen."
   ]
  },
  {
   "cell_type": "markdown",
   "id": "c8e75c2c",
   "metadata": {
    "slideshow": {
     "slide_type": "subslide"
    }
   },
   "source": [
    "## 1 Grundlagen des technischen Schreibens\n",
    "\n",
    "### 1.6 Absätze strukturieren\n",
    "\n",
    "#### 1.6.4 Beantwortet *Was*, *Warum* und *Wie*"
   ]
  },
  {
   "cell_type": "markdown",
   "id": "6cc1fc90",
   "metadata": {
    "slideshow": {
     "slide_type": "fragment"
    }
   },
   "source": [
    "Gute Absätze beantworten die folgenden drei Fragen:"
   ]
  },
  {
   "cell_type": "markdown",
   "id": "d342d979",
   "metadata": {
    "slideshow": {
     "slide_type": "fragment"
    }
   },
   "source": [
    "* **Was** wollt ihr mitteilen?"
   ]
  },
  {
   "cell_type": "markdown",
   "id": "e05d9702",
   "metadata": {
    "slideshow": {
     "slide_type": "fragment"
    }
   },
   "source": [
    "* **Warum** ist es wichtig, dies zu wissen?"
   ]
  },
  {
   "cell_type": "markdown",
   "id": "5b9c8659",
   "metadata": {
    "slideshow": {
     "slide_type": "fragment"
    }
   },
   "source": [
    "* **Wie** sollte dieses Wissen genutzt werden?"
   ]
  },
  {
   "cell_type": "markdown",
   "id": "6361df0a",
   "metadata": {
    "slideshow": {
     "slide_type": "slide"
    }
   },
   "source": [
    "## 1 Grundlagen des technischen Schreibens\n",
    "\n",
    "### 1.7 Zielgruppengerecht schreiben"
   ]
  },
  {
   "cell_type": "markdown",
   "id": "0d27cc3c",
   "metadata": {
    "slideshow": {
     "slide_type": "fragment"
    }
   },
   "source": [
    "Stellt sicher, dass euer Dokument die Informationen enthält, die euer Publikum braucht, aber noch nicht hat. "
   ]
  },
  {
   "cell_type": "markdown",
   "id": "22955b6a",
   "metadata": {
    "slideshow": {
     "slide_type": "fragment"
    }
   },
   "source": [
    "Daher solltet ihr"
   ]
  },
  {
   "cell_type": "markdown",
   "id": "b1010917",
   "metadata": {
    "slideshow": {
     "slide_type": "fragment"
    }
   },
   "source": [
    "[1.7.1 eure Zielgruppe definieren](#/8/1)"
   ]
  },
  {
   "cell_type": "markdown",
   "id": "a877e7e3",
   "metadata": {
    "slideshow": {
     "slide_type": "fragment"
    }
   },
   "source": [
    "[1.7.2 bestimmen, was eure Zielgruppe lernen soll](#/8/3)"
   ]
  },
  {
   "cell_type": "markdown",
   "id": "1337a5e6",
   "metadata": {
    "slideshow": {
     "slide_type": "fragment"
    }
   },
   "source": [
    "[1.7.3 die Dokumentation eurer Zielgruppe anpassen](#/8/5)"
   ]
  },
  {
   "cell_type": "markdown",
   "id": "b25b3679",
   "metadata": {
    "slideshow": {
     "slide_type": "subslide"
    }
   },
   "source": [
    "## 1 Grundlagen des technischen Schreibens\n",
    "\n",
    "### 1.7 Zielgruppengerecht schreiben\n",
    "\n",
    "#### 1.7.1 Eure Zielgruppe definieren"
   ]
  },
  {
   "cell_type": "markdown",
   "id": "8e3fa378",
   "metadata": {
    "slideshow": {
     "slide_type": "fragment"
    }
   },
   "source": [
    "Seriöse Dokumentationsprojekte verwenden viel Zeit und Energie darauf, ihre Zielgruppe zu definieren."
   ]
  },
  {
   "cell_type": "markdown",
   "id": "5abf9e16",
   "metadata": {
    "slideshow": {
     "slide_type": "fragment"
    }
   },
   "source": [
    "Diese Bemühungen beinhalten:"
   ]
  },
  {
   "cell_type": "markdown",
   "id": "7df12206",
   "metadata": {
    "slideshow": {
     "slide_type": "fragment"
    }
   },
   "source": [
    "* Umfragen"
   ]
  },
  {
   "cell_type": "markdown",
   "id": "ddead9a1",
   "metadata": {
    "slideshow": {
     "slide_type": "fragment"
    }
   },
   "source": [
    "* Studien zur Usability"
   ]
  },
  {
   "cell_type": "markdown",
   "id": "c4494fee",
   "metadata": {
    "slideshow": {
     "slide_type": "fragment"
    }
   },
   "source": [
    "* Fokusgruppen"
   ]
  },
  {
   "cell_type": "markdown",
   "id": "a632a5eb",
   "metadata": {
    "slideshow": {
     "slide_type": "fragment"
    }
   },
   "source": [
    "* Dokumentationstests"
   ]
  },
  {
   "cell_type": "markdown",
   "id": "972cfe3c",
   "metadata": {
    "slideshow": {
     "slide_type": "subslide"
    }
   },
   "source": [
    "## 1 Grundlagen des technischen Schreibens\n",
    "\n",
    "### 1.7 Zielgruppengerecht schreiben\n",
    "\n",
    "#### 1.7.1 Eure Zielgruppe definieren\n",
    "\n",
    "Zunächst könnt ihr jedoch mit einen einfacheren Ansatz starten. In welchen Bereichen arbeitet eure Zielgruppe?"
   ]
  },
  {
   "cell_type": "markdown",
   "id": "73a955af",
   "metadata": {
    "slideshow": {
     "slide_type": "fragment"
    }
   },
   "source": [
    "* im Software-Engineering"
   ]
  },
  {
   "cell_type": "markdown",
   "id": "4467e964",
   "metadata": {
    "slideshow": {
     "slide_type": "fragment"
    }
   },
   "source": [
    "* im nicht-technischen Bereich"
   ]
  },
  {
   "cell_type": "markdown",
   "id": "d8aac79f",
   "metadata": {
    "slideshow": {
     "slide_type": "fragment"
    }
   },
   "source": [
    "* im Forschungsbereich"
   ]
  },
  {
   "cell_type": "markdown",
   "id": "e2b8e647",
   "metadata": {
    "slideshow": {
     "slide_type": "subslide"
    }
   },
   "source": [
    "## 1 Grundlagen des technischen Schreibens\n",
    "\n",
    "### 1.7 Zielgruppengerecht schreiben\n",
    "\n",
    "#### 1.7.2 Bestimmen, was eure Zielgruppe lernen soll"
   ]
  },
  {
   "cell_type": "markdown",
   "id": "f33d24ec",
   "metadata": {
    "slideshow": {
     "slide_type": "fragment"
    }
   },
   "source": [
    "Schreibt eine Liste mit allem, was eure Zielgruppe lernen soll."
   ]
  },
  {
   "cell_type": "markdown",
   "id": "039e43ee",
   "metadata": {
    "slideshow": {
     "slide_type": "fragment"
    }
   },
   "source": [
    "In manchen Fällen sollte die Liste Aufgaben enthalten, die die Zielgruppe ausführen muss."
   ]
  },
  {
   "cell_type": "markdown",
   "id": "5a358dc8",
   "metadata": {
    "slideshow": {
     "slide_type": "fragment"
    }
   },
   "source": [
    "* Die meisten Personen im Software-Engineering kennen die gängigen Sortieralgorithmen und die [Landau-Symbole](https://de.wikipedia.org/wiki/Landau-Symbole). Ihr könnt euch also darauf verlassen, dass sie wissen, was `O(n)` bedeutet; bei Personen aus dem nicht-technischen Bereich könnt ihr euch jedoch nicht darauf verlassen."
   ]
  },
  {
   "cell_type": "markdown",
   "id": "c1b1fb38",
   "metadata": {
    "slideshow": {
     "slide_type": "fragment"
    }
   },
   "source": [
    "* Ein Forschungsbericht, der sich an medizinisches Fachpersonal richtet, sollte ganz anders aussehen als ein Zeitungsartikel über dieselbe Forschung, der sich an ein Laienpublikum richtet."
   ]
  },
  {
   "cell_type": "markdown",
   "id": "415722f3",
   "metadata": {
    "slideshow": {
     "slide_type": "fragment"
    }
   },
   "source": [
    "* Die Vorlesung über einen neuen Ansatz maschinellen Lernens für Studierende mit Hochschulabschluss sollte sich unterscheiden von derjenigen, die für Studierende im ersten Studienjahr gehalten wird."
   ]
  },
  {
   "cell_type": "markdown",
   "id": "26541bd5",
   "metadata": {
    "slideshow": {
     "slide_type": "subslide"
    }
   },
   "source": [
    "## 1 Grundlagen des technischen Schreibens\n",
    "\n",
    "### 1.7 Zielgruppengerecht schreiben\n",
    "\n",
    "#### 1.7.2 Bestimmen, was eure Zielgruppe lernen soll"
   ]
  },
  {
   "cell_type": "markdown",
   "id": "f0e09545",
   "metadata": {
    "slideshow": {
     "slide_type": "fragment"
    }
   },
   "source": [
    "* Schreibt eine Liste mit allem, was Eure Zielgruppe lernen soll, um Ziele zu erreichen"
   ]
  },
  {
   "cell_type": "markdown",
   "id": "8e1c6050",
   "metadata": {
    "slideshow": {
     "slide_type": "fragment"
    }
   },
   "source": [
    "* Beachtet, dass eure Zielgruppe manchmal Aufgaben in einer bestimmten Reihenfolge bewältigen muss"
   ]
  },
  {
   "cell_type": "markdown",
   "id": "b93862d8",
   "metadata": {
    "slideshow": {
     "slide_type": "fragment"
    }
   },
   "source": [
    "* Konzentriert eure Liste auf die Informationen, die eure Zielgruppe lernen sollte"
   ]
  },
  {
   "cell_type": "markdown",
   "id": "44244f31",
   "metadata": {
    "slideshow": {
     "slide_type": "subslide"
    }
   },
   "source": [
    "## 1 Grundlagen des technischen Schreibens\n",
    "\n",
    "### 1.7 Zielgruppengerecht schreiben\n",
    "\n",
    "#### 1.7.3 Die Dokumentation eurer Zielgruppe anpassen"
   ]
  },
  {
   "cell_type": "markdown",
   "id": "a48d2081",
   "metadata": {
    "slideshow": {
     "slide_type": "fragment"
    }
   },
   "source": [
    "Eure Erklärungen sollen die Neugier eures Publikums befriedigen und nicht eure eigene. "
   ]
  },
  {
   "cell_type": "markdown",
   "id": "d562ece5",
   "metadata": {
    "slideshow": {
     "slide_type": "fragment"
    }
   },
   "source": [
    "Um die Erwartungen eures Publikums zu erfüllen, benötigt ihr Einfühlungsvermögen."
   ]
  },
  {
   "cell_type": "markdown",
   "id": "b69d1434",
   "metadata": {
    "slideshow": {
     "slide_type": "fragment"
    }
   },
   "source": [
    "Um die Dokumentation an euer Publikum anzupassen, gibt es keine einfachen Antworten."
   ]
  },
  {
   "cell_type": "markdown",
   "id": "8b252495",
   "metadata": {
    "slideshow": {
     "slide_type": "fragment"
    }
   },
   "source": [
    "Wir können jedoch einige Parameter nennen, auf die ihr euch konzentrieren könnt:"
   ]
  },
  {
   "cell_type": "markdown",
   "id": "6eb78cbf",
   "metadata": {
    "slideshow": {
     "slide_type": "subslide"
    }
   },
   "source": [
    "## 1 Grundlagen des technischen Schreibens\n",
    "\n",
    "### 1.7 Zielgruppengerecht schreiben\n",
    "\n",
    "#### 1.7.3 Die Dokumentation eurer Zielgruppe anpassen\n",
    "\n",
    "##### Wortschatz und Konzepte"
   ]
  },
  {
   "cell_type": "markdown",
   "id": "ae19c845",
   "metadata": {
    "slideshow": {
     "slide_type": "fragment"
    }
   },
   "source": [
    "Achtet auf die Nähe zu eurem Publikum: "
   ]
  },
  {
   "cell_type": "markdown",
   "id": "4a6b2c2b",
   "metadata": {
    "slideshow": {
     "slide_type": "fragment"
    }
   },
   "source": [
    "* Stimmt das Vokabular auf euer Publikum ab (→ [1.1 Begriffe richtig verwenden](#/2/0/0))"
   ]
  },
  {
   "cell_type": "markdown",
   "id": "dc5add87",
   "metadata": {
    "slideshow": {
     "slide_type": "fragment"
    }
   },
   "source": [
    "* Je größer euer Zielpublikum ist, desto geringer wird das gemeinsame Wissen sein."
   ]
  },
  {
   "cell_type": "markdown",
   "id": "97f70fc4",
   "metadata": {
    "slideshow": {
     "slide_type": "fragment"
    }
   },
   "source": [
    "* Je weniger gemeinsame Erfahrungen ihr voraussetzen könnt, desto mehr müsst ihr erklären."
   ]
  },
  {
   "cell_type": "markdown",
   "id": "2b0e0827",
   "metadata": {
    "slideshow": {
     "slide_type": "subslide"
    }
   },
   "source": [
    "## 1 Grundlagen des technischen Schreibens\n",
    "\n",
    "### 1.7 Zielgruppengerecht schreiben\n",
    "\n",
    "#### 1.7.3 Die Dokumentation eurer Zielgruppe anpassen\n",
    "\n",
    "##### Fluch des Wissens"
   ]
  },
  {
   "cell_type": "markdown",
   "id": "a5867e02",
   "metadata": {
    "slideshow": {
     "slide_type": "fragment"
    }
   },
   "source": [
    "Wenn ihr beiläufig auf subtile Wechselwirkungen und tief greifende Systeme verweist, werden Neulinge auf diesem Gebiet eure Erklärungen möglicherweise nicht verstehen. Sie können noch nicht an dieses Wissen anknüpfen."
   ]
  },
  {
   "cell_type": "markdown",
   "id": "4b7356ab",
   "metadata": {
    "slideshow": {
     "slide_type": "subslide"
    }
   },
   "source": [
    "## 1 Grundlagen des technischen Schreibens\n",
    "\n",
    "### 1.7 Zielgruppengerecht schreiben\n",
    "\n",
    "#### 1.7.3 Die Dokumentation eurer Zielgruppe anpassen\n",
    "\n",
    "##### Einfache Worte"
   ]
  },
  {
   "cell_type": "markdown",
   "id": "32d612b6",
   "metadata": {
    "slideshow": {
     "slide_type": "fragment"
    }
   },
   "source": [
    "Es gibt einen erheblichen Prozentsatz im Publikum, dessen Erstsprache nicht die Sprache eurer technischen Dokumentation ist."
   ]
  },
  {
   "cell_type": "markdown",
   "id": "e5a1d2e9",
   "metadata": {
    "slideshow": {
     "slide_type": "fragment"
    }
   },
   "source": [
    "* Zieht einfache Wörter komplexen Wörtern vor"
   ]
  },
  {
   "cell_type": "markdown",
   "id": "31f529ce",
   "metadata": {
    "slideshow": {
     "slide_type": "fragment"
    }
   },
   "source": [
    "* Zieht gebräuchliche Wörter seltenen vor"
   ]
  },
  {
   "cell_type": "markdown",
   "id": "89cb0246",
   "metadata": {
    "slideshow": {
     "slide_type": "subslide"
    }
   },
   "source": [
    "## 1 Grundlagen des technischen Schreibens\n",
    "\n",
    "### 1.7 Zielgruppengerecht schreiben\n",
    "\n",
    "#### 1.7.3 Die Dokumentation eurer Zielgruppe anpassen\n",
    "\n",
    "##### Kulturelle Neutralität und Redewendungen"
   ]
  },
  {
   "cell_type": "markdown",
   "id": "92723e7e",
   "metadata": {
    "slideshow": {
     "slide_type": "fragment"
    }
   },
   "source": [
    "* Haltet eure Texte kulturell neutral"
   ]
  },
  {
   "cell_type": "markdown",
   "id": "2e9ed7b5",
   "metadata": {
    "slideshow": {
     "slide_type": "fragment"
    }
   },
   "source": [
    "* Verlangt von eurem Publikum nicht, dass sie Feinheiten im Fußball, Baseball oder Sumo kennen, um eure Dokumentation zu verstehen"
   ]
  },
  {
   "cell_type": "markdown",
   "id": "cec26c54",
   "metadata": {
    "slideshow": {
     "slide_type": "fragment"
    }
   },
   "source": [
    "* Vermeidet Idiome, also Phrasen, deren Gesamtbedeutung von der wörtlichen Bedeutung der einzelnen Wörter in dieser Phrase abweicht, z.B. *ein Kinderspiel*"
   ]
  },
  {
   "cell_type": "markdown",
   "id": "5d662220",
   "metadata": {
    "slideshow": {
     "slide_type": "fragment"
    }
   },
   "source": [
    "* Beachtet, dass einige Übersetzungssoftware verwenden werden, um eure Dokumentation zu lesen."
   ]
  },
  {
   "cell_type": "markdown",
   "id": "dad65e8e",
   "metadata": {
    "slideshow": {
     "slide_type": "slide"
    }
   },
   "source": [
    "## 1 Grundlagen des technischen Schreibens\n",
    "\n",
    "### 1.8 Dokumente gliedern"
   ]
  },
  {
   "cell_type": "markdown",
   "id": "ae0600f7",
   "metadata": {
    "slideshow": {
     "slide_type": "fragment"
    }
   },
   "source": [
    "Ihr könnt Sätze schreiben, ihr könnt Absätze schreiben. Nun sind all diese Absätze zu einem kohärenten Dokument zusammenzufassen."
   ]
  },
  {
   "cell_type": "markdown",
   "id": "2887ae52",
   "metadata": {
    "slideshow": {
     "slide_type": "subslide"
    }
   },
   "source": [
    "## 1 Grundlagen des technischen Schreibens\n",
    "\n",
    "### 1.8 Dokumente gliedern\n",
    "\n",
    "#### 1.8.1 Legt den Umfang eures Dokuments fest"
   ]
  },
  {
   "cell_type": "markdown",
   "id": "0ede3e67",
   "metadata": {
    "slideshow": {
     "slide_type": "fragment"
    }
   },
   "source": [
    "1. Ein gutes Dokument beginnt mit der Festlegung seines Umfangs."
   ]
  },
  {
   "cell_type": "markdown",
   "id": "29118839",
   "metadata": {
    "slideshow": {
     "slide_type": "fragment"
    }
   },
   "source": [
    "2. Ein besseres Dokument definiert zusätzlich die nicht behandelten Themen, von denen die Zielgruppe vernünftigerweise erwarten könnte, dass sie in eurem Dokument behandelt werden."
   ]
  },
  {
   "cell_type": "markdown",
   "id": "00bb8c47",
   "metadata": {
    "slideshow": {
     "slide_type": "fragment"
    }
   },
   "source": [
    "3. Diese Angaben sind nicht nur für euer Publikum, sondern auch für euch von Vorteil: Wenn sich der Inhalt eures Dokuments während des Schreibens von euren Angaben entfernt, müsst ihr entweder euer Dokument neu ausrichten oder eure Umfangsangabe ändern."
   ]
  },
  {
   "cell_type": "markdown",
   "id": "65b3d6cc",
   "metadata": {
    "slideshow": {
     "slide_type": "subslide"
    }
   },
   "source": [
    "## 1 Grundlagen des technischen Schreibens\n",
    "\n",
    "### 1.8 Dokumente gliedern\n",
    "\n",
    "#### 1.8.2 Nennt euer Publikum"
   ]
  },
  {
   "cell_type": "markdown",
   "id": "da00db8a",
   "metadata": {
    "slideshow": {
     "slide_type": "fragment"
    }
   },
   "source": [
    "* Ein gutes Dokument benennt ausdrücklich sein Publikum"
   ]
  },
  {
   "cell_type": "markdown",
   "id": "89d5f35a",
   "metadata": {
    "slideshow": {
     "slide_type": "fragment"
    }
   },
   "source": [
    "* Neben den möglichen Rollen des Publikums können auch auch die erforderlichen Kenntnisse oder Erfahrungen angeben werden"
   ]
  },
  {
   "cell_type": "markdown",
   "id": "b550916c",
   "metadata": {
    "slideshow": {
     "slide_type": "fragment"
    }
   },
   "source": [
    "* In einigen Fällen sollte auch die vorausgesetzte Lektüre oder Kursarbeit angegeben werden"
   ]
  },
  {
   "cell_type": "markdown",
   "id": "96ffd1c9",
   "metadata": {
    "slideshow": {
     "slide_type": "subslide"
    }
   },
   "source": [
    "## 1 Grundlagen des technischen Schreibens\n",
    "\n",
    "### 1.8 Dokumente gliedern\n",
    "\n",
    "#### 1.8.3 Fasst die wichtigsten Punkte gleich zu Beginn zusammen"
   ]
  },
  {
   "cell_type": "markdown",
   "id": "eafd20ae",
   "metadata": {
    "slideshow": {
     "slide_type": "fragment"
    }
   },
   "source": [
    "* Ihr könnt nicht erwarten, dass alle Seiten eures Dokuments gelesen werden"
   ]
  },
  {
   "cell_type": "markdown",
   "id": "7cf03e38",
   "metadata": {
    "slideshow": {
     "slide_type": "fragment"
    }
   },
   "source": [
    "* Stellt daher sicher, dass der Anfang eures Dokuments die wichtigsten Fragen beantwortet"
   ]
  },
  {
   "cell_type": "markdown",
   "id": "fc445667",
   "metadata": {
    "slideshow": {
     "slide_type": "fragment"
    }
   },
   "source": [
    "* Der Anfang eines Dokuments ist daher am schwierigsten zu schreiben"
   ]
  },
  {
   "cell_type": "markdown",
   "id": "19748974",
   "metadata": {
    "slideshow": {
     "slide_type": "fragment"
    }
   },
   "source": [
    "* Seid darauf vorbereitet, die erste Seite mehrmals zu überarbeiten"
   ]
  },
  {
   "cell_type": "markdown",
   "id": "6d2ebc7d",
   "metadata": {
    "slideshow": {
     "slide_type": "subslide"
    }
   },
   "source": [
    "## 1 Grundlagen des technischen Schreibens\n",
    "\n",
    "### 1.8 Dokumente gliedern\n",
    "\n",
    "#### 1.8.4 Schreibt für euer Publikum"
   ]
  },
  {
   "cell_type": "markdown",
   "id": "a3f1b14b",
   "metadata": {
    "slideshow": {
     "slide_type": "fragment"
    }
   },
   "source": [
    "Definiert die Bedürfnisse eurer Zielgruppe"
   ]
  },
  {
   "cell_type": "markdown",
   "id": "bfa84309",
   "metadata": {
    "slideshow": {
     "slide_type": "fragment"
    }
   },
   "source": [
    "* Wer ist euer Zielpublikum?"
   ]
  },
  {
   "cell_type": "markdown",
   "id": "ad5f97ca",
   "metadata": {
    "slideshow": {
     "slide_type": "fragment"
    }
   },
   "source": [
    "* Was ist das Ziel der Zielgruppe? Warum lesen sie dieses Dokument?"
   ]
  },
  {
   "cell_type": "markdown",
   "id": "6ecf1a99",
   "metadata": {
    "slideshow": {
     "slide_type": "fragment"
    }
   },
   "source": [
    "* Was weiß euer Publikum bereits, bevor es euer Dokument liest?"
   ]
  },
  {
   "cell_type": "markdown",
   "id": "6b56893e",
   "metadata": {
    "slideshow": {
     "slide_type": "fragment"
    }
   },
   "source": [
    "* Was sollte euer Publikum wissen oder können, nachdem es euer Dokument gelesen hat?"
   ]
  },
  {
   "cell_type": "markdown",
   "id": "43835bf3",
   "metadata": {
    "slideshow": {
     "slide_type": "fragment"
    }
   },
   "source": [
    "* Wie muss euer Dokument organisiert sein, damit es den Bedürfnissen eurer Zielgruppe entspricht?"
   ]
  },
  {
   "cell_type": "markdown",
   "id": "bdf0d4d9",
   "metadata": {
    "slideshow": {
     "slide_type": "slide"
    }
   },
   "source": [
    "## Zusammenfassung"
   ]
  },
  {
   "cell_type": "markdown",
   "id": "cc56fd9d",
   "metadata": {
    "slideshow": {
     "slide_type": "fragment"
    }
   },
   "source": [
    "In den Grundlagen technischen Schreibens behandelten wir:"
   ]
  },
  {
   "cell_type": "markdown",
   "id": "385022f5",
   "metadata": {
    "slideshow": {
     "slide_type": "fragment"
    }
   },
   "source": [
    "[1.1 Begriffe richtig verwenden](#/2/0/0)"
   ]
  },
  {
   "cell_type": "markdown",
   "id": "f9990963",
   "metadata": {
    "slideshow": {
     "slide_type": "fragment"
    }
   },
   "source": [
    "[1.2 Mehrdeutige Pronomen erkennen](#/3)"
   ]
  },
  {
   "cell_type": "markdown",
   "id": "270f9f05",
   "metadata": {
    "slideshow": {
     "slide_type": "fragment"
    }
   },
   "source": [
    "[1.3 Passiv- in Aktivsätze umwandeln](#/4)"
   ]
  },
  {
   "cell_type": "markdown",
   "id": "59048ad5",
   "metadata": {
    "slideshow": {
     "slide_type": "fragment"
    }
   },
   "source": [
    "[1.4 Strategien für klare und einprägsame Sätze](#/5)"
   ]
  },
  {
   "cell_type": "markdown",
   "id": "db8c1406",
   "metadata": {
    "slideshow": {
     "slide_type": "fragment"
    }
   },
   "source": [
    "[1.5 Listen und Tabellen sinnvoll verwenden](#/6)"
   ]
  },
  {
   "cell_type": "markdown",
   "id": "d7f0cf40",
   "metadata": {
    "slideshow": {
     "slide_type": "fragment"
    }
   },
   "source": [
    "[1.6 Absätze strukturieren](#/7)"
   ]
  },
  {
   "cell_type": "markdown",
   "id": "a402a349",
   "metadata": {
    "slideshow": {
     "slide_type": "fragment"
    }
   },
   "source": [
    "[1.7 Zielgruppengerecht schreiben](#/8)"
   ]
  },
  {
   "cell_type": "markdown",
   "id": "4f940cfd",
   "metadata": {
    "slideshow": {
     "slide_type": "fragment"
    }
   },
   "source": [
    "[1.8 Dokumente gliedern](#/9)"
   ]
  },
  {
   "cell_type": "markdown",
   "id": "a16d3b5a",
   "metadata": {
    "slideshow": {
     "slide_type": "subslide"
    }
   },
   "source": [
    "## Zusammenfassung"
   ]
  },
  {
   "cell_type": "markdown",
   "id": "557f81c0",
   "metadata": {
    "slideshow": {
     "slide_type": "fragment"
    }
   },
   "source": [
    "Herzlichen Glückwunsch – ihr kennt nun die Grundlagen technischen Schreibens."
   ]
  },
  {
   "cell_type": "markdown",
   "id": "96c272b7",
   "metadata": {
    "slideshow": {
     "slide_type": "fragment"
    }
   },
   "source": [
    "* Wenn ihr die Prinzipien des technischen Schreibens praktisch üben wollt, bieten wir euch einen entsprechenden Kurs an"
   ]
  },
  {
   "cell_type": "markdown",
   "id": "1c62c8c8",
   "metadata": {
    "slideshow": {
     "slide_type": "fragment"
    }
   },
   "source": [
    "* Dort behandeln wir auch fortgeschrittene Themen des technischen Schreibens und barrierefreies Schreiben"
   ]
  },
  {
   "cell_type": "markdown",
   "id": "ee5de525",
   "metadata": {
    "slideshow": {
     "slide_type": "fragment"
    }
   },
   "source": [
    "* Schließlich erarbeiten wir mit euch auch gerne einen Redaktionsleitfaden"
   ]
  },
  {
   "cell_type": "markdown",
   "id": "89693c99",
   "metadata": {
    "slideshow": {
     "slide_type": "slide"
    }
   },
   "source": [
    "# Technisches Schreiben\n",
    "\n",
    "## Habt ihr Fragen?"
   ]
  },
  {
   "cell_type": "markdown",
   "id": "07ccd9bd",
   "metadata": {
    "slideshow": {
     "slide_type": "slide"
    }
   },
   "source": [
    "# Technisches Schreiben\n",
    "\n",
    "<img src=\"../img/frank-duotone.png\" alt=\"Portrait Frank Hofmann\" style=\"float: left; width:256px; margin: 0 32px 40px 0; border-radius: 50%;\"/>\n",
    "\n",
    "Dipl.-Inf. Frank Hofmann\n",
    "\n",
    "[cusy.io/fho](https://cusy.io/fho)<br>[frank@cusy.io](mailto:frank@cusy.io)\n",
    "\n",
    "<p style=\"clear: both; margin-bottom: 0;\">\n",
    "    <br>\n",
    "    <img src=\"qrcode-technisches-schreiben.svg\" alt=\"QR-Code\" style=\"width:128px; margin: 20px 32px 0 0;\"/>\n",
    "    <br>\n",
    "    <a href=\"https://slides.cusy.io/technical-writing/technisches-schreiben.html\">slides.cusy.io/technical-writing/technisches-schreiben.html</a>\n",
    "<p/>"
   ]
  }
 ],
 "metadata": {
  "celltoolbar": "Slideshow",
  "kernelspec": {
   "display_name": "Python 3 (ipykernel)",
   "language": "python",
   "name": "python3"
  },
  "language_info": {
   "codemirror_mode": {
    "name": "ipython",
    "version": 3
   },
   "file_extension": ".py",
   "mimetype": "text/x-python",
   "name": "python",
   "nbconvert_exporter": "python",
   "pygments_lexer": "ipython3",
   "version": "3.11.4"
  },
  "latex_envs": {
   "LaTeX_envs_menu_present": true,
   "autoclose": false,
   "autocomplete": true,
   "bibliofile": "biblio.bib",
   "cite_by": "apalike",
   "current_citInitial": 1,
   "eqLabelWithNumbers": true,
   "eqNumInitial": 1,
   "hotkeys": {
    "equation": "Ctrl-E",
    "itemize": "Ctrl-I"
   },
   "labels_anchors": false,
   "latex_user_defs": false,
   "report_style_numbering": false,
   "user_envs_cfg": false
  }
 },
 "nbformat": 4,
 "nbformat_minor": 5
}
