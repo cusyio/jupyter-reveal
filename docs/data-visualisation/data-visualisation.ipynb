{
 "cells": [
  {
   "cell_type": "markdown",
   "id": "e6b7c658-e6d9-49d0-915c-1b0cce44df8d",
   "metadata": {
    "editable": true,
    "slideshow": {
     "slide_type": "slide"
    },
    "tags": []
   },
   "source": [
    "# Datenvisualisierung\n",
    "\n",
    "<img src=\"../img/veit-duotone.png\" alt=\"Portrait Veit Schiele\" style=\"float: left; width:256px; margin-right:32px; border-radius: 50%;\"/>\n",
    "\n",
    "Veit Schiele\n",
    "\n",
    "• Gründer und Geschäftsführer der cusy GmbH, Berlin\n",
    "\n",
    "• Autor des [cusy Design System](https://cusy.design/)\n",
    "\n",
    "• Autor des [PyViz Tutorial](https://pyviz-tutorial.readthedocs.io/)"
   ]
  },
  {
   "cell_type": "markdown",
   "id": "f0f5880c-7e3e-435b-90be-d43fd0593f57",
   "metadata": {
    "editable": true,
    "slideshow": {
     "slide_type": "subslide"
    },
    "tags": []
   },
   "source": [
    "# Datenvisualisierung"
   ]
  },
  {
   "cell_type": "markdown",
   "id": "336e4273-f549-4551-aab7-c21c77e4de1a",
   "metadata": {
    "editable": true,
    "jp-MarkdownHeadingCollapsed": true,
    "slideshow": {
     "slide_type": "fragment"
    },
    "tags": []
   },
   "source": [
    "1. [Design-Prinzipien](#/1)"
   ]
  },
  {
   "cell_type": "markdown",
   "id": "6d305c9d-97d8-4cab-84f1-033bcf06cd82",
   "metadata": {
    "editable": true,
    "jp-MarkdownHeadingCollapsed": true,
    "slideshow": {
     "slide_type": "fragment"
    },
    "tags": []
   },
   "source": [
    "2. [Data-Storytelling](#/2)"
   ]
  },
  {
   "cell_type": "markdown",
   "id": "5a5a0efc-afcc-4d4b-8f45-121b22158b16",
   "metadata": {
    "editable": true,
    "jp-MarkdownHeadingCollapsed": true,
    "slideshow": {
     "slide_type": "fragment"
    },
    "tags": []
   },
   "source": [
    "3. [Kognitive Belastung](#/3)"
   ]
  },
  {
   "cell_type": "markdown",
   "id": "95e4849c-ccc4-40c9-b342-7f4bb74694ef",
   "metadata": {
    "editable": true,
    "jp-MarkdownHeadingCollapsed": true,
    "slideshow": {
     "slide_type": "fragment"
    },
    "tags": []
   },
   "source": [
    "4. [Diagramm-Typen](#/4)"
   ]
  },
  {
   "cell_type": "markdown",
   "id": "d04afa52-e77a-4566-83c6-fa14304a93ec",
   "metadata": {
    "editable": true,
    "jp-MarkdownHeadingCollapsed": true,
    "slideshow": {
     "slide_type": "fragment"
    },
    "tags": []
   },
   "source": [
    "5. [Accessibility](#/5)"
   ]
  },
  {
   "cell_type": "markdown",
   "id": "613cef2d-3f4a-49d2-9ead-b08a72cd8e50",
   "metadata": {
    "editable": true,
    "jp-MarkdownHeadingCollapsed": true,
    "slideshow": {
     "slide_type": "fragment"
    },
    "tags": []
   },
   "source": [
    "6. [The Grammar of Graphics](#/6)"
   ]
  },
  {
   "cell_type": "markdown",
   "id": "ac66275b-1377-4261-8ab5-907d8ed662fd",
   "metadata": {
    "editable": true,
    "slideshow": {
     "slide_type": "slide"
    },
    "tags": []
   },
   "source": [
    "## 1. Design-Prinzipien"
   ]
  },
  {
   "cell_type": "markdown",
   "id": "9e6467cd-0daa-45aa-8cb5-ccc10f0d817e",
   "metadata": {
    "editable": true,
    "slideshow": {
     "slide_type": "fragment"
    },
    "tags": []
   },
   "source": [
    "1.1 [Grafikdesign](#/1/1)"
   ]
  },
  {
   "cell_type": "markdown",
   "id": "a1baf58a-743f-41ad-8357-56f3f8f26f46",
   "metadata": {
    "editable": true,
    "slideshow": {
     "slide_type": "fragment"
    },
    "tags": []
   },
   "source": [
    "1.2 [Visuelle Hierarchie](#/1/20)"
   ]
  },
  {
   "cell_type": "markdown",
   "id": "80890cfd-5528-4e95-be28-fbd3b6b9e53b",
   "metadata": {
    "editable": true,
    "slideshow": {
     "slide_type": "subslide"
    },
    "tags": []
   },
   "source": [
    "## 1. Design-Prinzipien\n",
    "\n",
    "### 1.1 Grafikdesign\n",
    "\n",
    "> Grafikdesign ist ein Beruf, eine akademische Disziplin und eine angewandte Kunst, deren Tätigkeit darin besteht, visuelle Mitteilungen zu entwerfen, die dazu bestimmt sind, bestimmte Botschaften an soziale Gruppen mit bestimmten Zielen zu übermitteln.\n",
    "\n",
    "–  *Professional Graphics Design* by Scholar IT Institute"
   ]
  },
  {
   "cell_type": "markdown",
   "id": "fc0d4303-88bc-4804-85d9-000348f5dfa4",
   "metadata": {
    "editable": true,
    "slideshow": {
     "slide_type": "notes"
    },
    "tags": []
   },
   "source": [
    "Wesentlich sind demnach\n",
    "\n",
    "* Kommunikation\n",
    "* Ziele\n",
    "* Zielgruppen"
   ]
  },
  {
   "cell_type": "markdown",
   "id": "51afd3d0-e82c-43d4-b318-f3cab8e2f528",
   "metadata": {
    "editable": true,
    "slideshow": {
     "slide_type": "subslide"
    },
    "tags": []
   },
   "source": [
    "## 1. Design-Prinzipien\n",
    "\n",
    "### 1.1 Grafikdesign\n",
    "\n",
    "Vier Abschnitte:"
   ]
  },
  {
   "cell_type": "markdown",
   "id": "8afd152c-51f7-495f-8d68-d192b3eff88e",
   "metadata": {
    "editable": true,
    "slideshow": {
     "slide_type": "fragment"
    },
    "tags": []
   },
   "source": [
    "1.1.1 [Grafikdesign auf Datenvisualisierungen anwenden](#/1/3)"
   ]
  },
  {
   "cell_type": "markdown",
   "id": "5dcd4c4e-6323-4291-b1cf-06d74ceb429b",
   "metadata": {
    "editable": true,
    "slideshow": {
     "slide_type": "fragment"
    },
    "tags": []
   },
   "source": [
    "1.1.2 [Das Raster](#/1/6)"
   ]
  },
  {
   "cell_type": "markdown",
   "id": "90bfb00a-a576-4983-ae4a-40ffe196eb9a",
   "metadata": {
    "editable": true,
    "slideshow": {
     "slide_type": "fragment"
    },
    "tags": []
   },
   "source": [
    "1.1.3 [Gliederung und Leserichtung](#/1/9)"
   ]
  },
  {
   "cell_type": "markdown",
   "id": "61e5a104-c48d-4052-9128-ff6fe07fb9af",
   "metadata": {
    "editable": true,
    "slideshow": {
     "slide_type": "fragment"
    },
    "tags": []
   },
   "source": [
    "1.1.4 [Diagramm-Aufbau](#/1/11)"
   ]
  },
  {
   "cell_type": "markdown",
   "id": "0a1dbfb1-3e4c-4021-8d8b-8f484ab52e2c",
   "metadata": {
    "editable": true,
    "slideshow": {
     "slide_type": "subslide"
    },
    "tags": []
   },
   "source": [
    "## 1. Design-Prinzipien\n",
    "\n",
    "### 1.1 Grafikdesign\n",
    "\n",
    "#### 1.1.1 Grafikdesign auf Datenvisualisierungen anwenden"
   ]
  },
  {
   "cell_type": "markdown",
   "id": "ed43e103-d406-462c-8692-1b0a624301a9",
   "metadata": {
    "editable": true,
    "slideshow": {
     "slide_type": "fragment"
    },
    "tags": []
   },
   "source": [
    "Dazu unterscheiden wir zunächst die beiden Hauptzwecke der Datenvisualisierung:"
   ]
  },
  {
   "cell_type": "markdown",
   "id": "ebdb8a90-1750-40c2-bb5a-32fc7ff4b50b",
   "metadata": {
    "editable": true,
    "slideshow": {
     "slide_type": "fragment"
    },
    "tags": []
   },
   "source": [
    "* explorative Datenvisualisierung"
   ]
  },
  {
   "cell_type": "markdown",
   "id": "304b598c-9bdc-4547-9451-11a68eb5016c",
   "metadata": {
    "editable": true,
    "slideshow": {
     "slide_type": "notes"
    },
    "tags": []
   },
   "source": [
    "Die **explorative** Datenvisualisierung ist von Analysten für Analysten.\n",
    "\n",
    "Sie dient dazu, \n",
    "\n",
    "* sich mit einem Datensatz vertraut zu machen\n",
    "* Fragen zu den Daten zu beantworten\n",
    "\n",
    "Dabei sind nur einige Design-Elemente von Bedeutung.\n",
    "\n",
    "Wichtiger sind schnelle Iterationen zwischen verschiedenen Diagrammtypen und Datenmanipulationsschritten, wie Filterung und Aggregation."
   ]
  },
  {
   "cell_type": "markdown",
   "id": "3a065d6c-195a-44fa-85b8-d6c52e0f6334",
   "metadata": {
    "editable": true,
    "slideshow": {
     "slide_type": "fragment"
    },
    "tags": []
   },
   "source": [
    "* erklärende Datenvisualisierung"
   ]
  },
  {
   "cell_type": "markdown",
   "id": "282b8b48-862f-4404-be56-64844ff3a79a",
   "metadata": {
    "editable": true,
    "slideshow": {
     "slide_type": "notes"
    },
    "tags": []
   },
   "source": [
    "**erklärende** Datenvisualisierungen sind für ein breites Publikum gedacht. Hier ist gutes Design entscheidend.\n",
    "\n",
    "Solche Datenvisualisierungen sind dem Grafikdesign sehr ähnlich.\n",
    "\n",
    "Bausteine für das Design, wie Typografie, Layout und Komposition, bleiben dieselben. \n",
    "\n",
    "Daher wird ein gutes Verständnis der Elemente und Prinzipien des Grafikdesigns diese Datenvisualisierungen verbessern."
   ]
  },
  {
   "cell_type": "markdown",
   "id": "8ab412af-9784-438f-ac0c-f58294f69770",
   "metadata": {
    "editable": true,
    "slideshow": {
     "slide_type": "subslide"
    },
    "tags": []
   },
   "source": [
    "## 1. Design-Prinzipien\n",
    "\n",
    "### 1.1 Grafikdesign\n",
    "\n",
    "#### 1.1.2 Das Raster"
   ]
  },
  {
   "cell_type": "markdown",
   "id": "abe51bc3-3ffa-4c55-94a1-1d15e427e645",
   "metadata": {
    "editable": true,
    "slideshow": {
     "slide_type": "notes"
    },
    "tags": []
   },
   "source": [
    "Für die Anordnung von Elementen auf einer Seite wird im Grafikdesign meist  ein sehr einfaches Werkzeug verwendet, um die Anordnung der Elemente auf einer Seite zu steuern – das Raster. Indem eine Seite in ein einfaches Raster aus Zeilen und Spalten unterteilt wird und die Gestaltungselemente an den Rändern der entstehenden Zellen ausgerichtet werden, wird das Dokument leichter lesbar und führt die die Leser*innen in einem natürlichen Fluss über die Seite. Es wwundert daher nicht, dass alle Design-Wekrzeuge über eine Option zum Rastern verfügen."
   ]
  },
  {
   "cell_type": "markdown",
   "id": "09a7b56e-5ad5-47b1-ad35-d93dfd650d94",
   "metadata": {
    "editable": true,
    "slideshow": {
     "slide_type": "subslide"
    },
    "tags": []
   },
   "source": [
    "[![Illustration eines mehrspaltigen Rasters, Quelle: https://commons.wikimedia.org/wiki/File:Grid2aib.svg](grid-fade.gif)](grid-fade.gif)"
   ]
  },
  {
   "cell_type": "markdown",
   "id": "0c62d361-75dd-446f-9831-76c9d89db134",
   "metadata": {
    "editable": true,
    "slideshow": {
     "slide_type": "notes"
    },
    "tags": []
   },
   "source": [
    "Raster werden jedoch nicht nur im Print-Design verwendt, sondern auch im  Web- und Interface-Design:"
   ]
  },
  {
   "cell_type": "markdown",
   "id": "cbb184bc-efe2-4c5a-9b3f-92c9c455c8ee",
   "metadata": {
    "editable": true,
    "slideshow": {
     "slide_type": "subslide"
    },
    "tags": []
   },
   "source": [
    "![Illustration eines Responsive Grids, Quelle: https://commons.wikimedia.org/wiki/File:Grid2aib.svg](responsive-grid.gif)"
   ]
  },
  {
   "cell_type": "markdown",
   "id": "f3f55482-8d81-46ad-8306-1a1093c2e36e",
   "metadata": {
    "editable": true,
    "slideshow": {
     "slide_type": "subslide"
    },
    "tags": []
   },
   "source": [
    "## 1. Design-Prinzipien\n",
    "\n",
    "### 1.1 Grafikdesign\n",
    "\n",
    "#### 1.1.3 Gliederung und Leserichtung"
   ]
  },
  {
   "cell_type": "markdown",
   "id": "0dfb8143-1575-4ccb-a169-59e0f7526f40",
   "metadata": {
    "editable": true,
    "slideshow": {
     "slide_type": "notes"
    },
    "tags": []
   },
   "source": [
    "In Sprachen, die von links nach rechts gelesen werden, beginnt die Betrachtung in der Regel in der linken oberen Ecke einer Seite und endet in der rechten unteren Ecke.\n",
    "\n",
    "Dies hat Auswirkungen darauf, wie die Elemente auf der Seite angeordnet werden sollten: Das wichtigste Element auf der Seite sollte zuerst betrachtet werden. Daher sollte dieses Element in der linken oberen Ecke stehen. In vielen Fällen wird dies der Titel sein."
   ]
  },
  {
   "cell_type": "markdown",
   "id": "159281ad-74ad-4e2f-83c4-3710c3749677",
   "metadata": {
    "editable": true,
    "slideshow": {
     "slide_type": "subslide"
    },
    "tags": []
   },
   "source": [
    "[![Ein Liniendiagramm mit dem Titel «European Union slowly on its way to greener heating and cooling». Das Diagramm enthält eine Linie für jeden EU-Mitgliedstaat, und die Linien für Schweden, die EU und Irland sind farblich hervorgehoben und beschriftet](chart.png)](chart.png))"
   ]
  },
  {
   "cell_type": "markdown",
   "id": "c9629975-9930-4447-b494-78a400c848dc",
   "metadata": {
    "editable": true,
    "slideshow": {
     "slide_type": "subslide"
    },
    "tags": []
   },
   "source": [
    "[![Eine Karte mit der Landnutzung in den USA. Der Titel ist rechts und lautet «How America Uses Its Land».](size-overruling-hierarchy.png)](size-overruling-hierarchy.png)"
   ]
  },
  {
   "cell_type": "markdown",
   "id": "836d4706-6d9c-4b97-acfa-97560f3790a5",
   "metadata": {
    "editable": true,
    "slideshow": {
     "slide_type": "notes"
    },
    "tags": []
   },
   "source": [
    "<div class=\"alert alert-block alert-info\">\n",
    "<b>Hinweis:</b><br>Visualisierungen ziehen die Aufmerksamkeit auf sich und können damit die Lesereihenfolge unterbrechen: So könnte direkt zur Visualisierung gesprungen werden, ohne die vorangehenden Inhalt zu beachten. Daher sollten Visualisierungen so eigenständig wie möglich sein und alle Informationen enthalten, die für eine korrekte Interpretation erforderlich sind.\n",
    "</div>\n",
    "\n",
    "Wenn mehrere Visualisierungen in eine Seite eingebettet sind, sollte die Lesereihenfolge bei der Anordnung der Visualisierungen berücksichtigt werden. Achtet darauf, dass die Reihenfolge der Visualisierungen und des Inhalts dazwischen der Lesereihenfolge folgt, um einen logischen Fluss zu schaffen. Dies ist besonders wichtig bei der Gestaltung von Dashboards."
   ]
  },
  {
   "cell_type": "markdown",
   "id": "94670e4b-2132-4fa4-bd8e-a6b713144570",
   "metadata": {
    "editable": true,
    "slideshow": {
     "slide_type": "subslide"
    },
    "tags": []
   },
   "source": [
    "## 1. Design-Prinzipien\n",
    "\n",
    "### 1.1 Grafikdesign\n",
    "\n",
    "#### 1.1.4 Diagramm-Aufbau"
   ]
  },
  {
   "cell_type": "markdown",
   "id": "ac4f15da-efa1-4d81-bf96-4ef6549bc307",
   "metadata": {
    "editable": true,
    "slideshow": {
     "slide_type": "notes"
    },
    "tags": []
   },
   "source": [
    "* Es gibt viele unterschiedliche Diagrammtypen zur Datenvisualisierungen.\n",
    "* Die meisten Diagramme haben jedoch viele Elemente gemeinsam.\n",
    "* Die richtige Anordnung dieser Elemente kann das Design eurer Visualisierung unterstützen."
   ]
  },
  {
   "cell_type": "markdown",
   "id": "ce449936-e400-495f-83ef-b2ecddae669c",
   "metadata": {
    "editable": true,
    "slideshow": {
     "slide_type": "subslide"
    },
    "tags": []
   },
   "source": [
    "[![Das gleiche Diagramm wie vorher, aber mit Anmerkungen, die alle Elemente eines Diagramms angeben](chart-annotations.png)](chart-annotations.png)"
   ]
  },
  {
   "cell_type": "markdown",
   "id": "4972b784-349b-4b2b-bfc3-3973e6b99c11",
   "metadata": {
    "editable": true,
    "slideshow": {
     "slide_type": "notes"
    },
    "tags": []
   },
   "source": [
    "Dieses Liniendiagramm veranschaulicht den Aufbau und beschreibt die Elemente:\n",
    "\n",
    "1. Der Titel und die Diagrammbeschreibung sind linksbündig auf der Diagrammfläche angeordnet.\n",
    "2. Der untere Teil der Diagrammbeschreibung ist am Plotbereich ausgerichtet.\n",
    "3. Der rechte Rand des Diagramms wird für die Positionierung der Daten- und Kategoriebeschriftungen verwendet.\n",
    "\n",
    "   Diese ziehen die Aufmerksamkeit des Lesers auf sich, da sie die einzigen Elemente außerhalb der Spalte sind, die den Titel, die Diagrammbeschreibung und den Darstellungsbereich enthält.\n",
    "4. Die Achsenbeschriftungen und die horizontalen Gitternetzlinien strukturieren das gesamte Diagramm.\n",
    "\n",
    "Dies ist nur ein Beispiel für ein Diagramm-Layout.\n",
    "\n",
    "Es lassen sich viele Variationen der Zusammensetzung und Ausrichtung verwenden.\n",
    "\n",
    "Die Ausrichtung der Elemente und die visuelle Strukturierung eines Diagramms erleichtern jedoch das Lesen und die Interpretation des Diagramms."
   ]
  },
  {
   "cell_type": "markdown",
   "id": "cb7482a0-c075-48d9-b911-0030ffda6ca2",
   "metadata": {
    "editable": true,
    "slideshow": {
     "slide_type": "subslide"
    },
    "tags": []
   },
   "source": [
    "## 1. Design-Prinzipien\n",
    "\n",
    "### 1.1 Grafikdesign\n",
    "\n",
    "#### 1.1.4 Diagramm-Aufbau\n",
    "\n",
    "##### 1.1.4.1 Zeichenfläche"
   ]
  },
  {
   "cell_type": "markdown",
   "id": "98215ac7-7c4c-46f0-bdb5-f789ee5d0468",
   "metadata": {
    "editable": true,
    "slideshow": {
     "slide_type": "notes"
    },
    "tags": []
   },
   "source": [
    "* Die Zeichenfläche ist die Basis, auf der die Diagramme aufgebaut sind. \n",
    "* In der Regel ist der Diagrammhintergrund weiß oder schwarz. So soll sichergestellt werden, dass\n",
    "  * alle Elemente eines Diagramms einen ausreichenden Kontrast zum Hintergrund haben\n",
    "  * möglichst gut lesbar sind\n",
    "  * auch kleinere Elemente und Elemente in gedeckten Farben\n",
    " \n",
    "Wenn weder ein weißer oder schwarzer Hintergrund verwendet werden soll, sollte der Farbkontrast zwischen Hintergrund und Diagramm-Elementen überprüft werden."
   ]
  },
  {
   "cell_type": "markdown",
   "id": "4e367aad-3762-404b-a394-741e1d9f71b3",
   "metadata": {
    "editable": true,
    "slideshow": {
     "slide_type": "subslide"
    },
    "tags": []
   },
   "source": [
    "[![ggplot2-Diagramm mit grauem Hintergrund](matplotlib_plotnine_examples_8_0.png)](matplotlib_plotnine_examples_8_0.png)\n",
    "\n",
    "Quelle: [PyViz Tutorial](https://pyviz-tutorial.readthedocs.io/de/latest/matplotlib/plotnine/examples.html)"
   ]
  },
  {
   "cell_type": "markdown",
   "id": "056d3bcd-b1d4-4edf-af0e-3ea6b0040d62",
   "metadata": {
    "editable": true,
    "slideshow": {
     "slide_type": "notes"
    },
    "tags": []
   },
   "source": [
    "Das Standard-Theme von [ggplot2](https://ggplot2.tidyverse.org) wendet eine graue Farbe auf den Plotbereich an."
   ]
  },
  {
   "cell_type": "markdown",
   "id": "0a6b5326-3e6b-4b63-bac1-679e39fad384",
   "metadata": {
    "editable": true,
    "slideshow": {
     "slide_type": "subslide"
    },
    "tags": []
   },
   "source": [
    "## 1. Design-Prinzipien\n",
    "\n",
    "### 1.1 Grafikdesign\n",
    "\n",
    "#### 1.1.4 Diagramm-Aufbau\n",
    "\n",
    "1.1.4.2 Achsen, Gitternetzlinien und Legenden"
   ]
  },
  {
   "cell_type": "markdown",
   "id": "f30a063d-62cd-475f-aa64-2adca500b2e1",
   "metadata": {
    "editable": true,
    "slideshow": {
     "slide_type": "notes"
    },
    "tags": []
   },
   "source": [
    "Um Anhaltspunkte für die Interpretation der Daten und das Ablesen der Datenwerte in einem Diagramm zu geben, können Achsen, Gitternetzlinien und Legenden bereitgestellt werden."
   ]
  },
  {
   "cell_type": "markdown",
   "id": "dfac715f-0d8f-4995-bad4-b7430913ed95",
   "metadata": {
    "editable": true,
    "slideshow": {
     "slide_type": "fragment"
    },
    "tags": []
   },
   "source": [
    "[![Achsenlinien, -raster, -beschriftungen und -markierungen](axis-grids2x.png)](axis-grids2x.png)"
   ]
  },
  {
   "cell_type": "markdown",
   "id": "0943a984-d048-4358-b8ac-06bf406f2b60",
   "metadata": {
    "editable": true,
    "slideshow": {
     "slide_type": "notes"
    },
    "tags": []
   },
   "source": [
    "**Achsen** erleichtern die Beurteilung der Daten anhand ihrer Position und/oder Größe.\n",
    "\n",
    "Wenn ein Diagramm [kartesische Koordinaten](https://de.wikipedia.org/wiki/Kartesisches_Koordinatensystem) verwendet, ist die x-Achse die horizontale Achse und die y-Achse die vertikale Achse.\n",
    "\n",
    "Die Bausteine einer Achse sind die Striche mit den zugehörigen Markierungen und Achsenbeschriftungen sowie eine optionale Achsenlinie.\n",
    "\n",
    "<div class=\"alert alert-block alert-info\">\n",
    "<b>Hinweis:</b><br>Die y-Achse dieses Diagramms hat keine Achsenlinie.\n",
    "</div>\n",
    "\n",
    "Neben den Strichen und Beschriftungen können auch Gitternetzlinien angezeigt werden."
   ]
  },
  {
   "cell_type": "markdown",
   "id": "a2bd228a-4605-46b8-930e-99a800912032",
   "metadata": {
    "editable": true,
    "slideshow": {
     "slide_type": "subslide"
    },
    "tags": []
   },
   "source": [
    "## 1. Design-Prinzipien\n",
    "\n",
    "### 1.1 Grafikdesign\n",
    "\n",
    "#### 1.1.4 Diagramm-Aufbau\n",
    "\n",
    "1.1.4.2 Achsen, Gitternetzlinien und Legenden\n",
    "\n",
    "[![Gestapeltes Balkendiagramm mit Werteachse](vega_pdvega_examples_27_2.png)](vega_pdvega_examples_27_2.png)"
   ]
  },
  {
   "cell_type": "markdown",
   "id": "ed096f6a-90bc-4c76-942b-fdcb2dc186e5",
   "metadata": {
    "editable": true,
    "slideshow": {
     "slide_type": "notes"
    },
    "tags": []
   },
   "source": [
    "* Viele Datenvisualisierungstools zeichnen standardmäßig Achsenlinien.\n",
    "* In vielen Fällen erfüllen diese Achsenlinien jedoch keinen Zweck und sollten weggelassen werden.\n",
    "* Dies gilt insbesondere für Balkendiagramme."
   ]
  },
  {
   "cell_type": "markdown",
   "id": "a61c981e-8b5c-4823-a262-25d9cb41a94f",
   "metadata": {
    "editable": true,
    "slideshow": {
     "slide_type": "subslide"
    },
    "tags": []
   },
   "source": [
    "## 1. Design-Prinzipien\n",
    "\n",
    "### 1.1 Grafikdesign\n",
    "\n",
    "#### 1.1.4 Diagramm-Aufbau\n",
    "\n",
    "1.1.4.2 Achsen, Gitternetzlinien und Legenden"
   ]
  },
  {
   "cell_type": "markdown",
   "id": "7cb1e96c-6594-4960-aa15-9729455e3047",
   "metadata": {
    "editable": true,
    "slideshow": {
     "slide_type": "notes"
    },
    "tags": []
   },
   "source": [
    "**Gitternetzlinien** können die Lesbarkeit der Datenwerte verbessern.\n",
    "\n",
    "* Sie sollten jedoch nicht mit den grafischen Elementen, die die Daten darstellen, um Aufmerksamkeit konkurrieren.\n",
    "* Alle unterstützenden Elemente in einem Diagramm, insbesondere Gitternetzlinien sollten gedämpft werden, z.B. durch\n",
    "  * graue Farbe\n",
    "  * geringe Deckkraft\n",
    "  * geringe Strichstärke\n",
    "  * gestrichelte Gitternetzlinien\n",
    " \n",
    "**Legenden** werden im Standardverhalten von Diagrammwerkzeugen häufig verwendet zur Kennzeichnung von Farben in Diagrammen.\n",
    "\n",
    "Legenden stellen jedoch häufig eine unnötige kognitive Belastung dar – es muss zwischen Diagramm und Legende hin und hergesprungen werden, um die verschiedenfarbigen Elemente im Diagramm zu identifizieren.\n",
    "\n",
    "Direkte Beschriftungen können eine Lösung für dieses Problem sein – die Beschriftungen werden dabei neben den Elementen platziert. Dadurch werden die Nachteile separater Legenden beseitigt:"
   ]
  },
  {
   "cell_type": "markdown",
   "id": "6eeb469c-e4c9-4587-a3d1-616ec7370d62",
   "metadata": {
    "editable": true,
    "slideshow": {
     "slide_type": "fragment"
    },
    "tags": []
   },
   "source": [
    "[![Direkte Beschriftungen](chart-label.png)](chart-label.png)"
   ]
  },
  {
   "cell_type": "markdown",
   "id": "f0d1a0d5-2c46-4b8f-9df5-9119321736e1",
   "metadata": {
    "editable": true,
    "slideshow": {
     "slide_type": "subslide"
    },
    "tags": []
   },
   "source": [
    "## 1. Design-Prinzipien\n",
    "\n",
    "### 1.1 Grafikdesign\n",
    "\n",
    "#### 1.1.5 *Chart Junk* und *Data Ink*"
   ]
  },
  {
   "cell_type": "markdown",
   "id": "656392bb-3a10-405f-848c-516e2055acb7",
   "metadata": {
    "editable": true,
    "slideshow": {
     "slide_type": "notes"
    },
    "tags": []
   },
   "source": [
    "Der Begriff *Chart Junk* wurde erstmals von [Edward Tufte](https://www.edwardtufte.com/) in seinem Buch [The Visual Display of Quantitative Information](http://faculty.salisbury.edu/~jtanderson/teaching/cosc311/fa21/files/tufte.pdf) verwendet. Tufte, der einen Hintergrund in Statistik und Politikwissenschaft hat, kritisierte damals einige Praktiken zur Datenvisualisierung, wie das Hinzufügen von Mustern zu den Datenelementen in einem Diagramm und die zu starke visuelle Präsenz von Gitternetzlinien."
   ]
  },
  {
   "cell_type": "markdown",
   "id": "8b5149d4-82ff-4f6c-b980-bddabc4c542f",
   "metadata": {
    "editable": true,
    "slideshow": {
     "slide_type": "notes"
    },
    "tags": []
   },
   "source": [
    "In seinem nächsten Buch, [Envisioning Information](http://okhaos.com/tufte.pdf), wiederholte Tufte seine Kritik an der Datenvisualisierung im Illustrationsstil. Als Beispiel diente ihm eine Grafik des damaligen Time-Magazin-Illustrators Nigel Holmes, *Diamonds were a girl’s best friend*:"
   ]
  },
  {
   "cell_type": "markdown",
   "id": "477cbe6e-dd31-4deb-bbe4-cf783c75d2b7",
   "metadata": {
    "editable": true,
    "slideshow": {
     "slide_type": "fragment"
    },
    "tags": []
   },
   "source": [
    "[![Diamonds were a girl’s best friend](diamonds-nigel-holmes.jpg)](diamonds-nigel-holmes.jpg)"
   ]
  },
  {
   "cell_type": "markdown",
   "id": "a5ab7ffe-b3e3-49c7-921c-270688be7f5f",
   "metadata": {
    "editable": true,
    "slideshow": {
     "slide_type": "subslide"
    },
    "tags": []
   },
   "source": [
    "## 1. Design-Prinzipien\n",
    "\n",
    "### 1.1 Grafikdesign\n",
    "\n",
    "#### 1.1.5 *Chart Junk* und *Data Ink*\n",
    "\n",
    "Holmes erwiderte:\n",
    "\n",
    "> Tufte bleibt in seinem Beharren auf absoluter mathematischer Genauigkeit in der „akademischen Welt“ gefangen und ist für die „Welt des Handels“ mit ihrem Bedürfnis, ein Publikum zu erreichen, unsensibel."
   ]
  },
  {
   "cell_type": "markdown",
   "id": "2c52dfb3-9049-4412-9a14-584e383d17b7",
   "metadata": {
    "editable": true,
    "slideshow": {
     "slide_type": "subslide"
    },
    "tags": []
   },
   "source": [
    "## 1. Design-Prinzipien\n",
    "\n",
    "### 1.1 Grafikdesign\n",
    "\n",
    "#### 1.1.5 *Chart Junk* und *Data Ink*\n",
    "\n",
    "[![Vergleiche von Holmes entworfener Visualisierungen mit Diagrammen nach den Regeln von Tufte](holmes-tufte.jpg)](holmes-tufte.jpg)"
   ]
  },
  {
   "cell_type": "markdown",
   "id": "e7219229-f753-4447-9a0e-bc1065ca8ef3",
   "metadata": {
    "editable": true,
    "slideshow": {
     "slide_type": "notes"
    },
    "tags": []
   },
   "source": [
    "Im Jahr 2010 versuchten Scott Bateman und andere in der Studie [Useful Junk? The Effects of Visual Embellishment on Comprehension and Memorability of Charts](http://www.stat.columbia.edu/~gelman/communication/Bateman2010.pdf) herauszufinden, ob Illustrationen und *Chart Junk* die Interpretation eines Diagramms behindern. Sie zeigten Menschen von Holmes entworfenen Visualisierungen und Versionen dieser Diagramme nach den Regeln von Tufte."
   ]
  },
  {
   "cell_type": "markdown",
   "id": "7b69bf20-e67f-43a4-9c41-2f3dd63746fd",
   "metadata": {
    "editable": true,
    "slideshow": {
     "slide_type": "subslide"
    },
    "tags": []
   },
   "source": [
    "## 1. Design-Prinzipien\n",
    "\n",
    "### 1.1 Grafikdesign\n",
    "\n",
    "#### 1.1.5 *Chart Junk* und *Data Ink*\n",
    "\n",
    "Das Ergebnis der Studie war:"
   ]
  },
  {
   "cell_type": "markdown",
   "id": "b27d1a12-5919-43fa-8ff2-ae4a345b2cd7",
   "metadata": {
    "editable": true,
    "slideshow": {
     "slide_type": "fragment"
    },
    "tags": []
   },
   "source": [
    "* die illustrierten Diagramme vermitteln die Botschaft besser"
   ]
  },
  {
   "cell_type": "markdown",
   "id": "dda847cc-6f32-4a09-bba6-a809c7235ef0",
   "metadata": {
    "editable": true,
    "slideshow": {
     "slide_type": "fragment"
    },
    "tags": []
   },
   "source": [
    "* die illustrierten Diagramme bleiben nach einem Zeitraum von drei Wochen besser in Erinnerung"
   ]
  },
  {
   "cell_type": "markdown",
   "id": "1a47ddd2-8d23-4e2c-befe-fed002f062fd",
   "metadata": {
    "editable": true,
    "slideshow": {
     "slide_type": "fragment"
    },
    "tags": []
   },
   "source": [
    "Die Illustrationen und visuellen Elementen scheinen also die Vermittlung einer Botschaft in (einfachen) Datensätzen nicht zu beeinträchtigen. "
   ]
  },
  {
   "cell_type": "markdown",
   "id": "bbb985d0-a3f8-47e1-85cb-80e30106f9d8",
   "metadata": {
    "editable": true,
    "slideshow": {
     "slide_type": "notes"
    },
    "tags": []
   },
   "source": [
    "Nicht untersucht wurde jedoch, wie gut die Probanden in der Lage waren, Datenwerte aus beiden Arten von Diagrammen zu lesen."
   ]
  },
  {
   "cell_type": "markdown",
   "id": "286a110c-3bdd-4f8e-acc7-bc29595b3cc6",
   "metadata": {
    "editable": true,
    "slideshow": {
     "slide_type": "notes"
    },
    "tags": []
   },
   "source": [
    "Ein Bereich, in dem Tuftes Regeln wahrscheinlich gelten, ist das, was der Visualisierungsforscher [Robert Kosara als *schädlichen Müll*](https://eagereyes.org/blog/2012/three-types-chart-junk) bezeichnet, der das Lesen und Verstehen einer Infografik aktiv stört. Dazu gehören z.B. Grafiken, die die Nulllinie verdecken, unruhige Hintergrundbilder usw. Dieser schädliche Müll sollte am besten aus den Diagrammen entfernt werden."
   ]
  },
  {
   "cell_type": "markdown",
   "id": "f0a29e4a-7044-4a41-a7db-2fecd30e07fa",
   "metadata": {
    "editable": true,
    "slideshow": {
     "slide_type": "notes"
    },
    "tags": []
   },
   "source": [
    "Beide Diagrammarten müssen sich jedoch nicht ausschließen. Sie können auch als Extreme eines Kontinuums betrachtet werden. Wie viel für nicht-datenbezogene Elemente in den Entwürfen verwendet werden sollte, könnte vom Medium, dem Thema, der Zielgruppe und deren Geschmack abhängen."
   ]
  },
  {
   "cell_type": "markdown",
   "id": "46cda658-2fe0-43da-babe-8b6de182c8aa",
   "metadata": {
    "editable": true,
    "slideshow": {
     "slide_type": "notes"
    },
    "tags": []
   },
   "source": [
    "Aber ein Bereich, in dem Tuftes Regeln wahrscheinlich gelten, ist das, was der Visualisierungsforscher [Robert Kosara als *schädlichen Müll*](https://eagereyes.org/blog/2012/three-types-chart-junk) bezeichnet, der das Lesen und Verstehen einer Visualisierung oder Infografik aktiv stört. Dazu gehören aufwendige Grafiken, die die Nulllinie verdecken, unruhige Hintergrundbilder usw."
   ]
  },
  {
   "cell_type": "markdown",
   "id": "8a788420-8b07-49ff-ae28-a1a15cd0d102",
   "metadata": {
    "editable": true,
    "slideshow": {
     "slide_type": "subslide"
    },
    "tags": []
   },
   "source": [
    "## 1. Design-Prinzipien\n",
    "\n",
    "### 1.2. Visuelle Hierarchie"
   ]
  },
  {
   "cell_type": "markdown",
   "id": "fb8f7e9d-4f42-4138-a6de-9ba23680be4c",
   "metadata": {
    "editable": true,
    "slideshow": {
     "slide_type": "fragment"
    },
    "tags": []
   },
   "source": [
    "Wie in den Abschnitten [1.1.3 Gliederung und Leserichtung](#/1/9) und [1.1.2 Das Raster](#/1/4) beschrieben, können einige Elemente in einer Veröffentlichung stärker hervorgehoben werden, indem sie einfach in die linke obere Ecke gesetzt werden. Es gibt jedoch noch weitere Möglichkeiten, eine visuelle Hierarchie zu schaffen:"
   ]
  },
  {
   "cell_type": "markdown",
   "id": "7b3bf40b-50d3-428b-b6ef-c55803244b01",
   "metadata": {
    "editable": true,
    "slideshow": {
     "slide_type": "fragment"
    },
    "tags": []
   },
   "source": [
    "1.2.1 [Positionierung von Elementen in der x- und y-Achse](#/1/21)"
   ]
  },
  {
   "cell_type": "markdown",
   "id": "7f1e92b3-9644-4545-8297-d03a686fa298",
   "metadata": {
    "editable": true,
    "slideshow": {
     "slide_type": "fragment"
    },
    "tags": []
   },
   "source": [
    "1.2.2 [Positionierung von Elementen in der z-Achse](#/1/22)"
   ]
  },
  {
   "cell_type": "markdown",
   "id": "ebce38fd-50c3-4f33-be43-b251526f66c7",
   "metadata": {
    "editable": true,
    "slideshow": {
     "slide_type": "fragment"
    },
    "tags": []
   },
   "source": [
    "1.2.3 [Unterschiedliche Größen von Elementen](#/1/27)"
   ]
  },
  {
   "cell_type": "markdown",
   "id": "1fb7b21f-434d-4a4a-9595-72946f4b854a",
   "metadata": {
    "editable": true,
    "slideshow": {
     "slide_type": "fragment"
    },
    "tags": []
   },
   "source": [
    "1.2.4 [Seitenverhältnisse](#/1/31)"
   ]
  },
  {
   "cell_type": "markdown",
   "id": "d040eb28-5fce-47de-8e3c-ce41570f1a4b",
   "metadata": {
    "editable": true,
    "slideshow": {
     "slide_type": "fragment"
    },
    "tags": []
   },
   "source": [
    "1.2.5 [Farbe](#/1/42)"
   ]
  },
  {
   "cell_type": "markdown",
   "id": "079b34db-f949-4825-8cd2-22318f3b1efd",
   "metadata": {
    "editable": true,
    "slideshow": {
     "slide_type": "subslide"
    },
    "tags": []
   },
   "source": [
    "## 1. Design-Prinzipien\n",
    "\n",
    "### 1.2. Visuelle Hierarchie\n",
    "\n",
    "#### 1.2.1 x- und y-Achse\n",
    "\n",
    "Die einfachste Art einer visuellen Hierarchie ist die Position von Elementen in einem Design: Elemente, die am Anfang einer Publikation platziert sind, werden vor Elementen weiter unten auf der Seite betrachtet, und Elemente auf der linken Seite einer Zeile werden vor Elementen auf der rechten Seite betrachtet."
   ]
  },
  {
   "cell_type": "markdown",
   "id": "f3a89741-d827-4ebc-a5fe-eee46a3061d2",
   "metadata": {
    "editable": true,
    "slideshow": {
     "slide_type": "fragment"
    },
    "tags": []
   },
   "source": [
    "Die Hierarchie für die Position von Elementen in einem Design lautet\n",
    "\n",
    "oben links → oben rechts → unten links → unten rechts"
   ]
  },
  {
   "cell_type": "markdown",
   "id": "9150b3f4-23a4-4822-a6eb-61013ebd223e",
   "metadata": {
    "editable": true,
    "slideshow": {
     "slide_type": "notes"
    },
    "tags": []
   },
   "source": [
    "Die Bedeutung der an diesen Stellen positionierten Elemente sollte diese Hierarchie oder Lesereihenfolge widerspiegeln."
   ]
  },
  {
   "cell_type": "markdown",
   "id": "3b417d24-b951-412b-9e65-a93d23fae9c3",
   "metadata": {
    "editable": true,
    "slideshow": {
     "slide_type": "subslide"
    },
    "tags": []
   },
   "source": [
    "## 1. Design-Prinzipien\n",
    "\n",
    "### 1.2. Visuelle Hierarchie\n",
    "\n",
    "#### 1.2.2 z-Achse"
   ]
  },
  {
   "cell_type": "markdown",
   "id": "c47122e7-8db2-4dc5-ac71-6fab345d7f24",
   "metadata": {
    "editable": true,
    "slideshow": {
     "slide_type": "fragment"
    },
    "tags": []
   },
   "source": [
    "Obwohl Papier- und Bildschirmpublikationen naturgemäß zweidimensional angezeigt werden, gibt es Techniken, um Tiefe und eine dritte Dimension in z-Richtung zu simulieren:"
   ]
  },
  {
   "cell_type": "markdown",
   "id": "a9184db2-d6b4-4722-a316-276987a94c78",
   "metadata": {
    "editable": true,
    "slideshow": {
     "slide_type": "fragment"
    },
    "tags": []
   },
   "source": [
    "* [Layer](#/1/23)"
   ]
  },
  {
   "cell_type": "markdown",
   "id": "24446ba7-0f2a-4dca-9dab-eea31b3b9b09",
   "metadata": {
    "editable": true,
    "slideshow": {
     "slide_type": "fragment"
    },
    "tags": []
   },
   "source": [
    "* [Schatten](#/1/25)"
   ]
  },
  {
   "cell_type": "markdown",
   "id": "1b0e1e23-def5-48ff-a96a-ae657208d1e3",
   "metadata": {
    "editable": true,
    "slideshow": {
     "slide_type": "fragment"
    },
    "tags": []
   },
   "source": [
    "* [Halo (Lichthöfe)](#/1/26)"
   ]
  },
  {
   "cell_type": "markdown",
   "id": "e5fd8806-19d7-4bf0-b509-cfd8d1d66c9d",
   "metadata": {
    "editable": true,
    "slideshow": {
     "slide_type": "subslide"
    },
    "tags": []
   },
   "source": [
    "## 1. Design-Prinzipien\n",
    "\n",
    "### 1.2. Visuelle Hierarchie\n",
    "\n",
    "#### 1.2.2 z-Achse\n",
    "\n",
    "##### Layer"
   ]
  },
  {
   "cell_type": "markdown",
   "id": "c88867a9-15db-4145-bf76-3fc1599f5366",
   "metadata": {
    "editable": true,
    "slideshow": {
     "slide_type": "fragment"
    },
    "tags": []
   },
   "source": [
    "Viele visuelle Designprogramme wie GIMP, Adobe Photoshop und Illustrator verwenden die Metapher der Ebenen für die Verwaltung der verschiedenen Elemente eines Designs."
   ]
  },
  {
   "cell_type": "markdown",
   "id": "116cb6b3-1007-4988-919c-c23f651dd740",
   "metadata": {
    "editable": true,
    "slideshow": {
     "slide_type": "fragment"
    },
    "tags": []
   },
   "source": [
    "Ebenen wird auch in geografischen Informationssystemen verwendet:\n",
    "\n",
    "[![Illustration der Ebenen einer Karte](map_layers.png)](map_layers.png)"
   ]
  },
  {
   "cell_type": "markdown",
   "id": "c1ffa06f-1161-4197-93c4-b11328987912",
   "metadata": {
    "editable": true,
    "slideshow": {
     "slide_type": "subslide"
    },
    "tags": []
   },
   "source": [
    "## 1. Design-Prinzipien\n",
    "\n",
    "### 1.2. Visuelle Hierarchie\n",
    "\n",
    "#### 1.2.2 z-Achse\n",
    "\n",
    "##### Layer\n",
    "\n",
    "Im Folgenden einige grundlegende Regeln, wie Elemente der Diagrammanatomie und die Datenpunkte übereinander gestapelt werden sollten:"
   ]
  },
  {
   "cell_type": "markdown",
   "id": "a8201297-e78e-4dc8-8ebd-335af776699b",
   "metadata": {
    "editable": true,
    "slideshow": {
     "slide_type": "fragment"
    },
    "tags": []
   },
   "source": [
    "* Der gesamte Text sollte sich über allen anderen Ebenen befinden."
   ]
  },
  {
   "cell_type": "markdown",
   "id": "7c8eb488-fc82-4ae7-849b-19510af3388d",
   "metadata": {
    "editable": true,
    "slideshow": {
     "slide_type": "fragment"
    },
    "tags": []
   },
   "source": [
    "* Datenmarkierungen (Punkte, Kreise, Balken, Linien, …) sollten über unterstützenden Elementen, wie Gitternetzlinien, liegen."
   ]
  },
  {
   "cell_type": "markdown",
   "id": "a13b800a-34a1-4e1c-9331-ff2098b6b22b",
   "metadata": {
    "editable": true,
    "slideshow": {
     "slide_type": "fragment"
    },
    "tags": []
   },
   "source": [
    "* Wenn sich Datenmarkierungen überlappen können, stellt sicher, dass kleinere Elemente über größere gezeichnet werden."
   ]
  },
  {
   "cell_type": "markdown",
   "id": "e0fd1115-3502-43c3-bfdc-dfdc113d0b64",
   "metadata": {
    "editable": true,
    "slideshow": {
     "slide_type": "fragment"
    },
    "tags": []
   },
   "source": [
    "* Alternativ kann eine leichte Transparenz der überdeckenden Elemente die darunter liegenden Elemente durchscheinen lassen."
   ]
  },
  {
   "cell_type": "markdown",
   "id": "6d58b8bf-9591-49d5-8231-95b183c200e5",
   "metadata": {
    "editable": true,
    "slideshow": {
     "slide_type": "subslide"
    },
    "tags": []
   },
   "source": [
    "## 1. Design-Prinzipien\n",
    "\n",
    "### 1.2. Visuelle Hierarchie\n",
    "\n",
    "#### 1.2.2 z-Achse\n",
    "\n",
    "##### Schatten"
   ]
  },
  {
   "cell_type": "markdown",
   "id": "1bfb34bc-b02c-4506-ac5f-f23b6cb72d7b",
   "metadata": {
    "editable": true,
    "slideshow": {
     "slide_type": "fragment"
    },
    "tags": []
   },
   "source": [
    "Die Illusion von Tiefe kann auch durch die Verwendung von Schatten erzeugt werden:\n",
    "\n",
    "[![Material Design 2: Shadows applied at all levels](shadows.png)](shadows.png)"
   ]
  },
  {
   "cell_type": "markdown",
   "id": "4ffa7c92-3bc0-4837-a2e1-265eac453a1e",
   "metadata": {
    "editable": true,
    "slideshow": {
     "slide_type": "notes"
    },
    "tags": []
   },
   "source": [
    "Eine visuelle Hierarchie mit Schatten, wie sie  in Material Design 2 erstellt wird. Quelle: [Elevation](https://m3.material.io/styles/elevation/overview#f9947307-4818-4d94-b98a-fa1cb5498eb1)"
   ]
  },
  {
   "cell_type": "markdown",
   "id": "5f5b95b8-4a75-4135-9877-1f87db6a6e2c",
   "metadata": {
    "editable": true,
    "slideshow": {
     "slide_type": "subslide"
    },
    "tags": []
   },
   "source": [
    "## 1. Design-Prinzipien\n",
    "\n",
    "### 1.2. Visuelle Hierarchie\n",
    "\n",
    "#### 1.2.2 z-Achse\n",
    "\n",
    "##### Halo (Lichthöfe)\n",
    "\n",
    "Eine mit der Verwendung von Schatten verwandte Technik ist sehr häufig in Situationen anzutreffen, in denen Text auf unterschiedlichen Hintergründen angezeigt werden soll:"
   ]
  },
  {
   "cell_type": "markdown",
   "id": "893b88fc-cc54-4900-b6a6-b978532e8904",
   "metadata": {
    "editable": true,
    "slideshow": {
     "slide_type": "fragment"
    },
    "tags": []
   },
   "source": [
    "[![Karte von Frankreich mit Städtenamen, die einen weißen, Lichthof haben](halo-lemonde.png)](halo-lemonde.png)\n",
    "\n",
    "Quelle: [Le Monde](https://www.lemonde.fr/societe/article/2022/01/20/entre-fermete-et-humanite-la-ligne-de-crete-d-emmanuel-macron-sur-l-immigration_6110248_3224.html)"
   ]
  },
  {
   "cell_type": "markdown",
   "id": "292c3319-2cea-486b-a674-846a7bb876a5",
   "metadata": {
    "editable": true,
    "slideshow": {
     "slide_type": "subslide"
    },
    "tags": []
   },
   "source": [
    "## 1. Design-Prinzipien\n",
    "\n",
    "### 1.2. Visuelle Hierarchie\n",
    "\n",
    "#### 1.2.3 Größe"
   ]
  },
  {
   "cell_type": "markdown",
   "id": "4f7ff464-5576-4b34-bd22-91795b29d4fd",
   "metadata": {
    "editable": true,
    "slideshow": {
     "slide_type": "notes"
    },
    "tags": []
   },
   "source": [
    "Neben der Positionierung in [x-, y-](#/1/16) oder [z-Achse](#/1/17) ist die Größe von Designelementen eine weitere offensichtliche Möglichkeit, eine visuelle Hierarchie in eure Entwürfe einzubringen: Größere Dinge scheinen wichtiger zu sein als kleinere und werden mehr Aufmerksamkeit auf sich ziehen."
   ]
  },
  {
   "cell_type": "markdown",
   "id": "294bfcdc-ea50-4aaa-a08c-012c6a2806fe",
   "metadata": {
    "editable": true,
    "slideshow": {
     "slide_type": "notes"
    },
    "tags": []
   },
   "source": [
    "Wenn der Größenvergleich hinreichend ausgeprägt ist, konkurriert der Größeneffekt mit der Platzierungshierarchie, und die Lesereihenfolge wird geändert. So kann eine große, auffällige Visualisierung zuerst betrachtet werden, auch wenn sie nicht oben links positioniert ist."
   ]
  },
  {
   "cell_type": "markdown",
   "id": "28520f73-fb79-4ddf-a2be-0aa41b10d6cc",
   "metadata": {
    "editable": true,
    "slideshow": {
     "slide_type": "fragment"
    },
    "tags": []
   },
   "source": [
    "[![Eine Karte mit der Landnutzung in den USA. Der Titel ist rechts und lautet «How America Uses Its Land».](size-overruling-hierarchy.png)](size-overruling-hierarchy.png)\n",
    "\n",
    "Quelle: [How America Uses Its Land](https://public.tableau.com/app/profile/alexandervar/viz/HowAmericaUsesItsLand/USAMap)"
   ]
  },
  {
   "cell_type": "markdown",
   "id": "cd638e1e-b7a4-429d-960c-b666bd82ee8c",
   "metadata": {
    "editable": true,
    "slideshow": {
     "slide_type": "subslide"
    },
    "tags": []
   },
   "source": [
    "## 1. Design-Prinzipien\n",
    "\n",
    "### 1.2. Visuelle Hierarchie\n",
    "\n",
    "#### 1.2.3 Größe"
   ]
  },
  {
   "cell_type": "markdown",
   "id": "ff3bf3c8-4b53-445e-8e2f-2dac0eaa8f36",
   "metadata": {
    "editable": true,
    "slideshow": {
     "slide_type": "fragment"
    },
    "tags": []
   },
   "source": [
    "Innerhalb einer Visualisierung wird durch die Größe des Textes eine klare visuelle Hierarchie geschaffen."
   ]
  },
  {
   "cell_type": "markdown",
   "id": "924e049a-da62-40c0-a88b-4b9d6bfcca57",
   "metadata": {
    "editable": true,
    "slideshow": {
     "slide_type": "fragment"
    },
    "tags": []
   },
   "source": [
    "[![Karte von Frankreich mit Städtenamen, die einen weißen, Lichthof haben](halo-lemonde.png)](halo-lemonde.png)"
   ]
  },
  {
   "cell_type": "markdown",
   "id": "d0c7c315-4d9d-46af-850f-290f942579bb",
   "metadata": {
    "editable": true,
    "slideshow": {
     "slide_type": "subslide"
    },
    "tags": []
   },
   "source": [
    "## 1. Design-Prinzipien\n",
    "\n",
    "### 1.2. Visuelle Hierarchie\n",
    "\n",
    "#### 1.2.3 Größe"
   ]
  },
  {
   "cell_type": "markdown",
   "id": "f1cba662-c366-474f-92eb-b5bb3b16d1dc",
   "metadata": {
    "editable": true,
    "slideshow": {
     "slide_type": "fragment"
    },
    "tags": []
   },
   "source": [
    "[![Das gleiche Diagramm wie oben, aber mit Anmerkungen zu allen Elemente eines Diagramms](chart-annotations.png)](chart-annotations.png)"
   ]
  },
  {
   "cell_type": "markdown",
   "id": "10496541-4d6a-4198-90b2-8caf1969aa96",
   "metadata": {
    "editable": true,
    "slideshow": {
     "slide_type": "notes"
    },
    "tags": []
   },
   "source": [
    "Aus diesem Grund sollte sich die Hierarchie in den Textdiagrammelementen einer Visualisierung auch in der Größe der Schrift widerspiegeln. Die Schriftgröße sollte also in der folgenden Reihenfolge gehen:\n",
    "\n",
    "Titel → Untertitel → Anmerkungen → Daten- und Kategoriebeschriftungen → Achsenbeschriftungen → Kleingedrucktes (Abspann, Quellen)"
   ]
  },
  {
   "cell_type": "markdown",
   "id": "e58f402a-1779-4b9c-8808-85c65a3e643c",
   "metadata": {
    "editable": true,
    "slideshow": {
     "slide_type": "subslide"
    },
    "tags": []
   },
   "source": [
    "## 1. Design-Prinzipien\n",
    "\n",
    "### 1.2. Visuelle Hierarchie\n",
    "\n",
    "#### 1.2.3 Größe"
   ]
  },
  {
   "cell_type": "markdown",
   "id": "71162d44-f45d-4932-b8a2-0e63d2b5129d",
   "metadata": {
    "editable": true,
    "slideshow": {
     "slide_type": "fragment"
    },
    "tags": []
   },
   "source": [
    "* **Datenmarkierungen** und **Schriftgrößen** sollten skaliert werden, damit größere Diagramme nicht leer wirken."
   ]
  },
  {
   "cell_type": "markdown",
   "id": "55a9251f-86fe-4b29-ad77-1c2fffa1ec93",
   "metadata": {
    "editable": true,
    "slideshow": {
     "slide_type": "fragment"
    },
    "tags": []
   },
   "source": [
    "* Die **Anzahl der Diagrammdaten** kann bei größeren Diagrammen zunehmen."
   ]
  },
  {
   "cell_type": "markdown",
   "id": "c8b70b17-38ed-4f4e-910a-e9f887240672",
   "metadata": {
    "editable": true,
    "slideshow": {
     "slide_type": "fragment"
    },
    "tags": []
   },
   "source": [
    "* Der **Raum für Anmerkungen** nimmt bei größeren Diagrammen zu.\n",
    "\n",
    "  Sind die Anmerkungen unverzichtbar für die Botschaft des Diagramms, können sie in kleineren Versionen ausgelagert werden, z.B. in einen separaten Bereich unterhalb des Diagramms."
   ]
  },
  {
   "cell_type": "markdown",
   "id": "0caec7d6-14a2-464c-924b-022b66c3c5cb",
   "metadata": {
    "editable": true,
    "slideshow": {
     "slide_type": "subslide"
    },
    "tags": []
   },
   "source": [
    "## 1. Design-Prinzipien\n",
    "\n",
    "### 1.2. Visuelle Hierarchie\n",
    "\n",
    "#### 1.2.4 Seitenverhältnisse"
   ]
  },
  {
   "cell_type": "markdown",
   "id": "5da55b88-06f2-4703-a705-6711618cf937",
   "metadata": {
    "editable": true,
    "slideshow": {
     "slide_type": "fragment"
    },
    "tags": []
   },
   "source": [
    "<iframe title=\"Where the population of Europe is growing, and where it’s declining \" aria-label=\"Map\" id=\"datawrapper-chart-iUPVd\" src=\"https://datawrapper.dwcdn.net/iUPVd/5/\" scrolling=\"no\" frameborder=\"0\" style=\"width: 0; min-width: 100% !important; border: none;\" height=\"585\"></iframe><script type=\"text/javascript\">!function(){\"use strict\";window.addEventListener(\"message\",(function(a){if(void 0!==a.data[\"datawrapper-height\"])for(var e in a.data[\"datawrapper-height\"]){var t=document.getElementById(\"datawrapper-chart-\"+e)||document.querySelector(\"iframe[src*='\"+e+\"']\");t&&(t.style.height=a.data[\"datawrapper-height\"][e]+\"px\")}}))}();</script>\n",
    "\n",
    "Quelle: [Datawrapper](https://blog.datawrapper.de/better-more-responsive-annotations-in-datawrapper-data-visualizations/)"
   ]
  },
  {
   "cell_type": "markdown",
   "id": "38ae11db-87b1-47ae-a0e9-82305097558a",
   "metadata": {
    "editable": true,
    "slideshow": {
     "slide_type": "subslide"
    },
    "tags": []
   },
   "source": [
    "## 1. Design-Prinzipien\n",
    "\n",
    "### 1.2. Visuelle Hierarchie\n",
    "\n",
    "#### 1.2.4 Seitenverhältnisse\n",
    "\n",
    "<iframe title=\"Where the population of Europe is growing, and where it’s declining \" aria-label=\"Map\" id=\"datawrapper-chart-iUPVd\" src=\"https://datawrapper.dwcdn.net/iUPVd/5/\" scrolling=\"no\" frameborder=\"0\" style=\"width: 300; border: none;\" height=\"585\"></iframe><script type=\"text/javascript\">!function(){\"use strict\";window.addEventListener(\"message\",(function(a){if(void 0!==a.data[\"datawrapper-height\"])for(var e in a.data[\"datawrapper-height\"]){var t=document.getElementById(\"datawrapper-chart-\"+e)||document.querySelector(\"iframe[src*='\"+e+\"']\");t&&(t.style.height=a.data[\"datawrapper-height\"][e]+\"px\")}}))}();</script>"
   ]
  },
  {
   "cell_type": "markdown",
   "id": "02f181e9-1cf5-49bb-b5d7-4bd55dd7872b",
   "metadata": {
    "editable": true,
    "slideshow": {
     "slide_type": "notes"
    },
    "tags": []
   },
   "source": [
    "Wenn der Platz begrenzt ist, können die Anmerkungen unterhalb der Visualisierung aufgelistet werden."
   ]
  },
  {
   "cell_type": "markdown",
   "id": "f3ef5a11-91a7-49c4-b410-08077da1c743",
   "metadata": {
    "editable": true,
    "slideshow": {
     "slide_type": "subslide"
    },
    "tags": []
   },
   "source": [
    "## 1. Design-Prinzipien\n",
    "\n",
    "### 1.2. Visuelle Hierarchie\n",
    "\n",
    "#### 1.2.4 Seitenverhältnisse"
   ]
  },
  {
   "cell_type": "markdown",
   "id": "21fcc89c-8f60-4b13-b015-d2e262e0b532",
   "metadata": {
    "editable": true,
    "slideshow": {
     "slide_type": "fragment"
    },
    "tags": []
   },
   "source": [
    "Bestimmte Diagrammtypen tendieren zu einem breiten Layout, während andere sich schnell zu einem hohen Layout entwickeln:"
   ]
  },
  {
   "cell_type": "markdown",
   "id": "b3b2077f-9813-486c-95b7-9a098baea46d",
   "metadata": {
    "editable": true,
    "slideshow": {
     "slide_type": "fragment"
    },
    "tags": []
   },
   "source": [
    "* Balkendiagramme mit vertikalen Balken sind eher breit als hoch."
   ]
  },
  {
   "cell_type": "markdown",
   "id": "bb8c9d13-75b6-44a7-9104-8ab429649ccb",
   "metadata": {
    "editable": true,
    "slideshow": {
     "slide_type": "fragment"
    },
    "tags": []
   },
   "source": [
    "* Steigungsdiagramme hingegen sind eher hoch als breit."
   ]
  },
  {
   "cell_type": "markdown",
   "id": "aa99c475-5383-46f4-9b78-129ac527cd03",
   "metadata": {
    "editable": true,
    "slideshow": {
     "slide_type": "fragment"
    },
    "tags": []
   },
   "source": [
    "* Tortendiagramme nehmen einen mehr oder weniger quadratischen Platz ein."
   ]
  },
  {
   "cell_type": "markdown",
   "id": "4923bb74-7549-4860-9884-401711156d9c",
   "metadata": {
    "editable": true,
    "slideshow": {
     "slide_type": "notes"
    },
    "tags": []
   },
   "source": [
    "Ihr solltet jedoch nicht den Diagrammtyp nach dem Seitenverhältnis des verfügbaren Platzes auswählen.\n",
    "\n",
    "Stattdessen sollte der Diagrammtyp gewählt werden, der am besten zu den Daten und der Botschaft passt."
   ]
  },
  {
   "cell_type": "markdown",
   "id": "6b377608-bc04-4caf-be49-f8b3241ea0c3",
   "metadata": {
    "editable": true,
    "slideshow": {
     "slide_type": "notes"
    },
    "tags": []
   },
   "source": [
    "Ein Diagrammtyp, das besonders empfindlich auf Unterschiede in den Seitenverhältnissen reagiert, sind Liniendiagramme:"
   ]
  },
  {
   "cell_type": "markdown",
   "id": "ba1ca7cb-5985-4dad-8ca6-2e0fb948d5fa",
   "metadata": {
    "editable": true,
    "slideshow": {
     "slide_type": "subslide"
    },
    "tags": []
   },
   "source": [
    "## 1. Design-Prinzipien\n",
    "\n",
    "### 1.2. Visuelle Hierarchie\n",
    "\n",
    "#### 1.2.4 Seitenverhältnisse\n",
    "\n",
    "[![Ein breites und flaches Liniendiagramm mit drei beschrifteten und farblich hervorgehobenen Linien](linechart-wide2x.png)](linechart-wide2x.png)"
   ]
  },
  {
   "cell_type": "markdown",
   "id": "fd4850b1-822a-4ef7-a846-11fa1d752a45",
   "metadata": {
    "editable": true,
    "slideshow": {
     "slide_type": "notes"
    },
    "tags": []
   },
   "source": [
    "Ein breites Layout verflacht Trends in Zeitreihen."
   ]
  },
  {
   "cell_type": "markdown",
   "id": "9a127615-5159-438e-917b-e4487e80f186",
   "metadata": {
    "editable": true,
    "slideshow": {
     "slide_type": "subslide"
    },
    "tags": []
   },
   "source": [
    "## 1. Design-Prinzipien\n",
    "\n",
    "### 1.1 Grafikdesign\n",
    "\n",
    "#### 1.2.4 Seitenverhältnisse\n",
    "\n",
    "[![Das gleiche Diagramm wie oben, aber mit einem schmalen und hohen Layout](linechart-narrow2x.png)](linechart-narrow2x.png)"
   ]
  },
  {
   "cell_type": "markdown",
   "id": "a24f1469-8fb0-4de0-9c6a-a9009e080583",
   "metadata": {
    "editable": true,
    "slideshow": {
     "slide_type": "notes"
    },
    "tags": []
   },
   "source": [
    "Ein hohes Layout bewirkt das Gegenteil und betont oder dramatisiert Trends in den Daten."
   ]
  },
  {
   "cell_type": "markdown",
   "id": "c4877b2b-157f-407a-a282-aa549d84f3af",
   "metadata": {
    "editable": true,
    "slideshow": {
     "slide_type": "subslide"
    },
    "tags": []
   },
   "source": [
    "## 1. Design-Prinzipien\n",
    "\n",
    "### 1.2. Visuelle Hierarchie\n",
    "\n",
    "#### 1.2.4 Seitenverhältnisse"
   ]
  },
  {
   "cell_type": "markdown",
   "id": "c5bf169b-dcdf-4ea1-9896-acefe3aab460",
   "metadata": {
    "editable": true,
    "slideshow": {
     "slide_type": "notes"
    },
    "tags": []
   },
   "source": [
    "Was ist also ein „gutes“, „richtiges“ oder „ehrliches“ Seitenverhältnis für Liniendiagramme?\n",
    "\n",
    "Oft zitiert wird hierfür die sogenannte *45-Grad-Regel*:\n",
    "\n",
    "Sie besagt, dass die durchschnittliche Neigung der Linien in einem Diagramm 45 Grad betragen sollte.\n",
    "\n",
    "Diese Regel geht auf die Studie [The Shape Parameter of a Two-Variable Graph](https://www.jstor.org/stable/2288843) zurück: \n",
    "\n",
    "Das Thema des Aufsatzes war jedoch, wie gut Menschen in der Lage waren, die Neigungen zweier Linien in einem Diagramm zu vergleichen. Es ging also nicht darum, Erkenntnisse aus einer einzelnen Zeitreihe zu gewinnen oder in einem Liniendiagramm mit vielen Zeitreihen das große Ganze zu sehen.\n",
    "\n",
    "Hinzu kommt, dass die Forscher in ihrer Studie keine durchschnittlichen Steigungen von weniger als 45 Grad berücksichtigt haben."
   ]
  },
  {
   "cell_type": "markdown",
   "id": "c51a7366-41c5-4e98-b15c-20bd23a14b2a",
   "metadata": {
    "editable": true,
    "slideshow": {
     "slide_type": "notes"
    },
    "tags": []
   },
   "source": [
    "In der Folgestudie [An Empirical Model of Slope Ratio Comparisons](http://vis.stanford.edu/papers/slope-ratio-comparison) schnitten Menschen, denen geringere durchschnittliche Neigungen gezeigt wurden, besser ab:"
   ]
  },
  {
   "cell_type": "markdown",
   "id": "2c48f3cb-fd2d-4c30-a346-30fcf8e8a079",
   "metadata": {
    "editable": true,
    "slideshow": {
     "slide_type": "subslide"
    },
    "tags": []
   },
   "source": [
    "## 1. Design-Prinzipien\n",
    "\n",
    "### 1.2. Visuelle Hierarchie\n",
    "\n",
    "#### 1.2.4 Seitenverhältnisse\n",
    "\n",
    "[![Zwei Liniendiagramme mit denselben Daten, wobei das zweite vertikal gestaucht ist](slope-errors.png)](slope-errors.png)"
   ]
  },
  {
   "cell_type": "markdown",
   "id": "b91b5522-ec8c-4176-acb4-646d76cf44ff",
   "metadata": {
    "editable": true,
    "slideshow": {
     "slide_type": "notes"
    },
    "tags": []
   },
   "source": [
    "Beide Diagramme zeigen die gleichen Daten. Je intensiver das Rot ist, desto größer ist der Fehler beim Vergleich der Steigung eines Chart-Segments mit anderen Segmenten. Ein flacheres Layout führt zu geringeren Fehlern."
   ]
  },
  {
   "cell_type": "markdown",
   "id": "e4fcef7d-c06b-4efc-a40c-6c22cbbb56d6",
   "metadata": {
    "editable": true,
    "slideshow": {
     "slide_type": "subslide"
    },
    "tags": []
   },
   "source": [
    "## 1. Design-Prinzipien\n",
    "\n",
    "### 1.2. Visuelle Hierarchie\n",
    "\n",
    "#### 1.2.4 Seitenverhältnisse\n",
    "\n",
    "Trotz der Unzulänglichkeiten der anfänglichen Studie könnte eine *45-Grad-Regel* immer noch eine gute Ausgangsbasis für git lesbare Diagramme sein."
   ]
  },
  {
   "cell_type": "markdown",
   "id": "b912b122-7fbf-4313-aae9-ec0d0ab373ca",
   "metadata": {
    "editable": true,
    "slideshow": {
     "slide_type": "notes"
    },
    "tags": []
   },
   "source": [
    "Die Studie [Multi-Scale Banking to 45°](http://vis.berkeley.edu/papers/banking/2006-Banking-InfoVis.pdf)  zeigte, dass bei unterschiedlichen Seitenverhältnisse unterschiedliche Signale in Zeitreihen wahrgenommen werden. Unten sind zwei Diagramme zu sehen, die dieselben Daten zeigen: die CO₂-Konzentration in einer Messstation auf Hawaii. Die Daten in beiden Diagrammen zeigen einen Aufwärtstrend mit jährlichen, saisonalen Zyklen."
   ]
  },
  {
   "cell_type": "markdown",
   "id": "fa65ad08-68a3-42da-8e0b-8ee60eee483d",
   "metadata": {
    "editable": true,
    "slideshow": {
     "slide_type": "subslide"
    },
    "tags": []
   },
   "source": [
    "## 1. Design-Prinzipien\n",
    "\n",
    "### 1.2. Visuelle Hierarchie\n",
    "\n",
    "#### 1.2.4 Seitenverhältnisse\n",
    "\n",
    "[![Ein Liniendiagramm der CO₂-Konzentration in der Atmosphäre von 1959 bis 1990. Ein jährlicher Zyklus liegt über einen kontinuierlich steigenden Trend](co2-square.png)](co2-square.png)"
   ]
  },
  {
   "cell_type": "markdown",
   "id": "ebcf0b10-822f-460b-9155-a0ec6aca8362",
   "metadata": {
    "editable": true,
    "slideshow": {
     "slide_type": "notes"
    },
    "tags": []
   },
   "source": [
    "Das Diagramm hat ein mehr oder weniger quadratisches Layout. Auf diesem Diagramm kann man den Aufwärtsknick in der Zeitreihe erkennen: Der Anstieg der CO₂-Konzentration beschleunigt sich."
   ]
  },
  {
   "cell_type": "markdown",
   "id": "22350c6c-e531-4cb1-b980-fba76aecc286",
   "metadata": {
    "editable": true,
    "slideshow": {
     "slide_type": "subslide"
    },
    "tags": []
   },
   "source": [
    "## 1. Design-Prinzipien\n",
    "\n",
    "### 1.2. Visuelle Hierarchie\n",
    "\n",
    "#### 1.2.4 Seitenverhältnisse\n",
    "\n",
    "[![Das gleiche Diagramm wie vorher, jedoch in vertikaler Richtung stark komprimiert](co2-flat.png)](co2-flat.png)"
   ]
  },
  {
   "cell_type": "markdown",
   "id": "afac63ac-6830-495b-bb1d-3328c773df76",
   "metadata": {
    "editable": true,
    "slideshow": {
     "slide_type": "notes"
    },
    "tags": []
   },
   "source": [
    "Das zweite Diagramm hat ein flaches Layout. Der Aufwärtstrend ist weniger sichtbar als im vorigen Diagramm. Dafür wird jedoch etwas anderes deutlicher: Die saisonalen Abnahmen der CO₂-Konzentration sind steiler als die jährlichen Zunahmen. Dies ist im obigen Diagramm weniger sichtbar:"
   ]
  },
  {
   "cell_type": "markdown",
   "id": "f20686c2-ec8d-41b6-bfd3-89e87b2ad001",
   "metadata": {
    "editable": true,
    "slideshow": {
     "slide_type": "subslide"
    },
    "tags": []
   },
   "source": [
    "## 1. Design-Prinzipien\n",
    "\n",
    "### 1.2. Visuelle Hierarchie\n",
    "\n",
    "#### 1.2.5 Farbe"
   ]
  },
  {
   "cell_type": "markdown",
   "id": "6304af40-ceda-4038-8e52-92eead9b77c3",
   "metadata": {
    "editable": true,
    "slideshow": {
     "slide_type": "notes"
    },
    "tags": []
   },
   "source": [
    "Farbe ist ein starker Gestaltungsmechanismus zur Schaffung einer visuellen Hierarchie. Wie die [Größe der Elemente](#/1/22) kann auch die Farbe der Elemente signalisieren, welches die wichtigsten Elemente in einer Datenvisualisierung sind."
   ]
  },
  {
   "cell_type": "markdown",
   "id": "320d7ae2-a697-4fd3-bc6f-89e86012baeb",
   "metadata": {
    "editable": true,
    "slideshow": {
     "slide_type": "subslide"
    },
    "tags": []
   },
   "source": [
    "## 1. Design-Prinzipien\n",
    "\n",
    "### 1.2. Visuelle Hierarchie\n",
    "\n",
    "#### 1.2.5 Farbe\n",
    "\n",
    "Farbe kann verwendet werden, um zu zeigen, welche Elemente in einem Design zusammenhängen und zusammengehören. \n",
    "\n",
    "Ein gängiges Muster ist die Verwendung"
   ]
  },
  {
   "cell_type": "markdown",
   "id": "46de2b1d-652f-45c7-a839-2d20550e80bf",
   "metadata": {
    "editable": true,
    "slideshow": {
     "slide_type": "fragment"
    },
    "tags": []
   },
   "source": [
    "1. **eine auffällige Farbe** zur Hervorhebung und Kennzeichnung der Datenmarkierungen oder Kategorien, die für die Aussage des Diagramms von größter Bedeutung sind"
   ]
  },
  {
   "cell_type": "markdown",
   "id": "1160305a-3cd3-4b7c-a329-680807d4fddc",
   "metadata": {
    "editable": true,
    "slideshow": {
     "slide_type": "fragment"
    },
    "tags": []
   },
   "source": [
    "2. **dezentere Farben** für andere sekundäre Datenmarkierungen oder Kategorien"
   ]
  },
  {
   "cell_type": "markdown",
   "id": "1744f28f-ea74-4c6c-bd62-8ebe8765c9d1",
   "metadata": {
    "editable": true,
    "slideshow": {
     "slide_type": "fragment"
    },
    "tags": []
   },
   "source": [
    "3. **Schwarz** für die wichtigsten Textelemente, wie den Titel der Visualisierung"
   ]
  },
  {
   "cell_type": "markdown",
   "id": "d51b531b-fdda-4c4b-8078-ee443a40adc0",
   "metadata": {
    "editable": true,
    "slideshow": {
     "slide_type": "fragment"
    },
    "tags": []
   },
   "source": [
    "4. **Grau**\n",
    "\n",
    "   * für weniger wichtige Datenmarken, die nur für den Kontext hinzugefügt werden\n",
    "   * für unterstützende Diagrammelemente, wie Achsenbeschriftungen und Gitterlinien"
   ]
  },
  {
   "cell_type": "markdown",
   "id": "942194fa-955b-479f-a4da-71d1d1bc64a9",
   "metadata": {
    "editable": true,
    "slideshow": {
     "slide_type": "subslide"
    },
    "tags": []
   },
   "source": [
    "## 1. Design-Prinzipien\n",
    "\n",
    "### 1.2. Visuelle Hierarchie\n",
    "\n",
    "#### 1.2.5 Farbe\n",
    "\n",
    "[![Farbhierarchie](colour-hierarchy.png)](colour-hierarchy.png)\n",
    "\n",
    "Quelle: [Do vaccine mandates actually work?](https://www.economist.com/graphic-detail/2022/01/22/do-vaccine-mandates-actually-work)"
   ]
  },
  {
   "cell_type": "markdown",
   "id": "d26aa9b2-487c-4046-8170-1532350dd991",
   "metadata": {
    "editable": true,
    "slideshow": {
     "slide_type": "subslide"
    },
    "tags": []
   },
   "source": [
    "## 1. Design-Prinzipien\n",
    "\n",
    "### 1.2. Visuelle Hierarchie\n",
    "\n",
    "#### 1.2.5 Farbe\n",
    "\n",
    "[![Elevation in Material Design 3](material-design-3-colour-hierarchy-1.png)](material-design-3-colour-hierarchy-1.png)\n",
    "\n",
    "Quelle: [Elevation](https://m3.material.io/styles/elevation/applying-elevation)"
   ]
  },
  {
   "cell_type": "markdown",
   "id": "4ec99023-47f3-469f-8470-8cb976fa8f54",
   "metadata": {
    "editable": true,
    "slideshow": {
     "slide_type": "notes"
    },
    "tags": []
   },
   "source": [
    "Eine visuelle Hierarchie mit Farbe, wie sie  in Material Design 3 erstellt wird. Die Höhe wird als der Abstand zwischen den Komponenten entlang der [z-Achse](#/1/17) in [dichteunabhängigen Pixeln (dps)](https://m2.material.io/design/layout/pixel-density.html#density-independence) gemessen."
   ]
  },
  {
   "cell_type": "markdown",
   "id": "3a8a29d4-134a-40db-b670-7714fca592fe",
   "metadata": {
    "editable": true,
    "slideshow": {
     "slide_type": "slide"
    },
    "tags": []
   },
   "source": [
    "## 2. Data-Storytelling"
   ]
  },
  {
   "cell_type": "markdown",
   "id": "42eac09f-6268-4497-9fb1-69b888ec8f49",
   "metadata": {
    "editable": true,
    "slideshow": {
     "slide_type": "fragment"
    },
    "tags": []
   },
   "source": [
    "> »Geschichten haben alle Elemente des Lebens, und noch mehr: Menschen, Orte, Zeit, Emotionen, Absichten, Kausalität, Dramatik, Spannung, Geheimnisse, und dann lauern in jeder Schicht Moral, Magie und Bedeutungen aller Art, die der Leser entdecken und wiederentdecken kann. Wie das Leben, aber das Leben verdichtet, geschärft, verschönert und neu erdacht.«\n",
    "\n",
    "– Barbara Tversky, [Data-Driven Storytelling](https://www.routledge.com/Data-Driven-Storytelling/Riche-Hurter-Diakopoulos-Carpendale/p/book/9781138197107)"
   ]
  },
  {
   "cell_type": "markdown",
   "id": "a8766469-d268-40ea-aacf-34cad5a33253",
   "metadata": {
    "editable": true,
    "slideshow": {
     "slide_type": "notes"
    },
    "tags": []
   },
   "source": [
    "Geschichten wecken das Interesse, und Untersuchungen haben gezeigt, dass Informationen, die mit Hilfe von Erzähltechniken anstelle einer bloßen Auflistung von Fakten präsentiert werden, zu einem besseren Verständnis und einer höheren Erinnerungsfähigkeit führen."
   ]
  },
  {
   "cell_type": "markdown",
   "id": "7c5cd160-3fc0-4b39-938d-835b5d34d164",
   "metadata": {
    "editable": true,
    "slideshow": {
     "slide_type": "subslide"
    },
    "tags": []
   },
   "source": [
    "## 2. Data-Storytelling\n",
    "\n",
    "[![Diamonds were a girl’s best friend](diamonds-nigel-holmes.jpg)](diamonds-nigel-holmes.jpg)"
   ]
  },
  {
   "cell_type": "markdown",
   "id": "dfb7c617-a99d-4606-8fd5-950acf9b771c",
   "metadata": {
    "editable": true,
    "slideshow": {
     "slide_type": "subslide"
    },
    "tags": []
   },
   "source": [
    "## 2. Data-Storytelling\n",
    "\n",
    "Der obige _chartoon_ zeigt deutlich die häufigsten Elemente, die den meisten Geschichten gemeinsam sind:"
   ]
  },
  {
   "cell_type": "markdown",
   "id": "41d8a5ca-5cd6-40ad-aaec-29b02f9453fa",
   "metadata": {
    "editable": true,
    "slideshow": {
     "slide_type": "fragment"
    },
    "tags": []
   },
   "source": [
    "* Kontext"
   ]
  },
  {
   "cell_type": "markdown",
   "id": "d16af76d-870d-473f-8da8-403d59e1935a",
   "metadata": {
    "editable": true,
    "slideshow": {
     "slide_type": "fragment"
    },
    "tags": []
   },
   "source": [
    "* Figur"
   ]
  },
  {
   "cell_type": "markdown",
   "id": "a48f39e4-4e69-45c4-9306-5615e50817de",
   "metadata": {
    "editable": true,
    "slideshow": {
     "slide_type": "fragment"
    },
    "tags": []
   },
   "source": [
    "* Ereignisse"
   ]
  },
  {
   "cell_type": "markdown",
   "id": "7c8f3d4f-8389-41e6-aad0-7db8de00f209",
   "metadata": {
    "editable": true,
    "slideshow": {
     "slide_type": "fragment"
    },
    "tags": []
   },
   "source": [
    "* Wirkung"
   ]
  },
  {
   "cell_type": "markdown",
   "id": "b7d6909d-9fdd-4b43-b631-49ee2396cc68",
   "metadata": {
    "editable": true,
    "slideshow": {
     "slide_type": "notes"
    },
    "tags": []
   },
   "source": [
    "Wenn die Figuren einer Geschichte Menschen sind, mit all ihren Emotionen, Ambitionen, Zweideutigkeiten, Misserfolgen und Erfolgen, dann könnt ihr euch leicht in diese Geschichten hineinversetzen.\n",
    "\n",
    "Daten und Datenpunkte scheinen das Gegenteil zu sein."
   ]
  },
  {
   "cell_type": "markdown",
   "id": "62647e5f-e4c8-4c5b-8806-0269eaa1155b",
   "metadata": {
    "editable": true,
    "slideshow": {
     "slide_type": "notes"
    },
    "tags": []
   },
   "source": [
    "Beispiel: die weltweit täglich verkaufte Menge an Plastikflaschen ist  1,3 Milliarden. Das ist sehr schwer vorstellbar, denn die Zahl ist zu groß: Sie ist einfach nicht greifbar und bleibt daher abstrakt. Wir haben keine Referenz, mit der wir diese Menge vergleichen können."
   ]
  },
  {
   "cell_type": "markdown",
   "id": "a3e86489-25e2-4ed3-b29a-11fef2b476e4",
   "metadata": {
    "editable": true,
    "slideshow": {
     "slide_type": "subslide"
    },
    "tags": []
   },
   "source": [
    "## 2. Data-Storytelling\n",
    "\n",
    "[![Täglich verkaufte Menge an Plastikflaschen im Vergleich zum Eifelturm](plastic-bottles-reuters.png)](plastic-bottles-reuters.png)\n",
    "\n",
    "Quelle: [Drowning in Plastic, Reuters](https://www.reuters.com/graphics/ENVIRONMENT-PLASTIC/0100B275155/)"
   ]
  },
  {
   "cell_type": "markdown",
   "id": "e2f98d9d-0059-47fc-9785-4992a3caa7be",
   "metadata": {
    "editable": true,
    "slideshow": {
     "slide_type": "subslide"
    },
    "tags": []
   },
   "source": [
    "## 2. Data-Storytelling\n",
    "\n",
    "<iframe src=\"https://www.ons.gov.uk/visualisations/dvc685/calculator/index.html\" width=\"100%\" height=\"650px\" style=\"border: medium;\"></iframe>\n",
    "\n",
    "Quelle: [The UK contribution to the EU budget](https://www.ons.gov.uk/economy/governmentpublicsectorandtaxes/publicsectorfinance/articles/theukcontributiontotheeubudget/2017-10-31), ONS"
   ]
  },
  {
   "cell_type": "markdown",
   "id": "4a78cfeb-38b8-40f6-b14d-a7575dfebddb",
   "metadata": {
    "editable": true,
    "slideshow": {
     "slide_type": "notes"
    },
    "tags": []
   },
   "source": [
    "Um große Zahlen wie diese verständlich zu machen, können sie in Einheiten umgerechnet werden, mit denen Menschen vertraut sind. Das britische _Office for National Statistics_ (ONS) hat einen _Context Calculator_ veröffentlicht, mit dem sich große Geldbeträge in eine Perspektive umrechnen lassen.\n",
    "\n",
    "* ONS-Nettobeitrag\n",
    "* Nettobeitrag der Europäischen Kommission\n",
    "* % der Staatsausgaben 2018 "
   ]
  },
  {
   "cell_type": "markdown",
   "id": "5af8da3d-d5d2-4220-9488-281a931e88ac",
   "metadata": {
    "editable": true,
    "jp-MarkdownHeadingCollapsed": true,
    "slideshow": {
     "slide_type": "subslide"
    },
    "tags": []
   },
   "source": [
    "## 2. Data-Storytelling\n",
    "\n",
    "[![CO, Werte in einem besetzten Konferenzraum am 4. Juni 2019](ingraham-co2-levels.jpg)](ingraham-co2-levels.jpg)\n",
    "\n",
    "Quelle: [Christopher Ingraham](https://twitter.com/_cingraham/status/1136626313375039494)"
   ]
  },
  {
   "cell_type": "markdown",
   "id": "0fac40fa-9fe7-4139-ad88-29936a61f8ca",
   "metadata": {
    "editable": true,
    "slideshow": {
     "slide_type": "notes"
    },
    "tags": []
   },
   "source": [
    "Die Grafik zeigt die CO₂-Konzentration in einem Konferenzraum an einem Vormittag. Das Design ist einfach und klar, aber es gibt eine Menge zu tun, bevor das Diagramm vollständig verstanden werden kann. \n",
    "\n",
    "Schauen wir uns nun die Diagrammelemente und ihrer Anordnung genauer an:\n",
    "\n",
    "* Hilfreicher Titel\n",
    "* Einheiten und Methode im Untertitel, nicht in der Legende versteckt\n",
    "* Beschreibungen innerhalb der Grafik:\n",
    "  * Fettdruck der Grenzen\n",
    "  * integrierte Beschreibung\n",
    "  * Gestrichelte Schwellenwertlinien zur besseren Unterscheidung\n",
    "* Zeitleiste\n",
    "  * Start ist kein zufälliger Zeitpunkt\n",
    "  * Hervorragende Platzierung der Beschreibungen\n",
    "* Quellangabe\n",
    "\n",
    "Die Grafik zeigt, wie Textelemente, visuelle Elemente und visuelle Hierarchie ein Diagramm eine verständliche Geschichte erzählen können, wie die Luft an diesem Morgen in einem Konferenzraum war.\n",
    "\n",
    "Bei der Datenvisualisierung geht es also um viel mehr als nur darum, den besten Diagrammtyp auszuwählen und dafür zu sorgen, dass die die richtige Steigung gewählt wird.\n",
    "\n",
    "Ihr solltet auch deutlich machen:\n",
    "* Warum?\n",
    "  * Warum habt ihr das Diagramm erstellt?\n",
    "  * Warum wollt ihr eurem Publikum die Daten zeigen?\n",
    "* Wie?\n",
    "  * Wie lenkt ihr das Auge eures Publikums?\n",
    "  * Wie bringt ihr sie dazu, sich zuerst auf die wichtigsten Elemente eines Diagramms zu konzentrieren?\n",
    "\n",
    "Eine explizite Formulierung der Botschaft, die ihr aus dem Diagramm mitnehmen wollt, unterstützt eure Datenkommunikation."
   ]
  },
  {
   "cell_type": "markdown",
   "id": "e4661116-ca24-408f-9a32-e498e42041e7",
   "metadata": {
    "editable": true,
    "slideshow": {
     "slide_type": "subslide"
    },
    "tags": []
   },
   "source": [
    "## 2. Data-Storytelling\n",
    "\n",
    "### Journalistische Techniken"
   ]
  },
  {
   "cell_type": "markdown",
   "id": "43978ff7-cb3e-4a92-a549-9fa24079458c",
   "metadata": {
    "editable": true,
    "slideshow": {
     "slide_type": "fragment"
    },
    "tags": []
   },
   "source": [
    "#### Die umgekehrte Pyramide\n",
    "\n",
    "[![Umgekehrte Pyramide](inverted-pyramid.svg)](inverted-pyramid.svg)\n",
    "\n",
    "Quelle: [Makeemlighter](https://commons.wikimedia.org/wiki/File:Inverted_pyramid_2.svg)"
   ]
  },
  {
   "cell_type": "markdown",
   "id": "bba63405-70d6-492c-9b2d-ddd27e7bb2be",
   "metadata": {
    "editable": true,
    "slideshow": {
     "slide_type": "notes"
    },
    "tags": []
   },
   "source": [
    "*Umgekehrte Pyramide* ist eine Metapher zur Strukturierung von Nachrichtenartikeln.\n",
    "\n",
    "1. Die wichtigsten und interessantesten Informationen eines Artikels sollten bereits in den ersten Sätzen enthalten sein.\n",
    "\n",
    "   Eine hilfreiche Technik, um zu bestimmen, was diese Botschaft enthalten sollte, ist eine andere journalistische Technik, **die fünf W’s**:\n",
    "   \n",
    "   Wer, Was, Wann, Wo und Warum\n",
    "\n",
    "2. Details können später im Text folgen.\n",
    "3. Zusätzliche Hintergrundinformationen sollten zuletzt erwähnt werden."
   ]
  },
  {
   "cell_type": "markdown",
   "id": "e400bdf6-c0a8-497f-985b-1a3d6d81ecad",
   "metadata": {
    "editable": true,
    "slideshow": {
     "slide_type": "notes"
    },
    "tags": []
   },
   "source": [
    "Welche Bedeutung hat die umgekehrte Pyramide für die Datenvisualisierung?\n",
    "\n",
    "1. Einen beschreibenden Titel und eine gute Diagrammbeschreibung oder einen Untertitel hinzuzufügen, um die Hauptaussage eines Diagramms zu vermitteln.\n",
    "\n",
    "   So wird auch ein Publikum, das dem Diagramm nur begrenzte Aufmerksamkeit schenkt, die Hauptaussage verstehen.\n",
    "\n",
    "2. Weniger wichtige Informationen, methodische Hinweise und weniger wichtige Metadaten, sollten am Ende stehen."
   ]
  },
  {
   "cell_type": "markdown",
   "id": "67edf54f-006f-4415-9497-041e03d44004",
   "metadata": {
    "editable": true,
    "slideshow": {
     "slide_type": "subslide"
    },
    "tags": []
   },
   "source": [
    "## 2. Data-Storytelling\n",
    "\n",
    "### Journalistische Techniken\n",
    "\n",
    "#### Mantra der *visuellen Informationssuche*"
   ]
  },
  {
   "cell_type": "markdown",
   "id": "0f7f222e-bee8-4e34-9910-f31d570ea8a5",
   "metadata": {
    "editable": true,
    "slideshow": {
     "slide_type": "notes"
    },
    "tags": []
   },
   "source": [
    "Das Mantra der *visuellen Informationssuche* wurde 1996 von Ben Shneiderman geprägt:\n",
    "\n",
    "[The Eyes Have It: A Task by Data Type Taxonomy for Information Visualizations](https://www.cs.umd.edu/~ben/papers/Shneiderman1996eyes.pdf)."
   ]
  },
  {
   "cell_type": "markdown",
   "id": "b6515e0a-60da-4d24-b2ba-e34bf84b68aa",
   "metadata": {
    "editable": true,
    "slideshow": {
     "slide_type": "fragment"
    },
    "tags": []
   },
   "source": [
    "> „Interessanterweise entspricht das journalistische Dreieck mehr oder weniger dem Mantra interaktiver Grafiken:\n",
    "> \n",
    "> zuerst Überblick, zoomen und filtern, und Details auf Anfrage“\n",
    "\n",
    "– Barbara Tversky in [Data-Driven Storytelling](https://www.routledge.com/Data-Driven-Storytelling/Riche-Hurter-Diakopoulos-Carpendale/p/book/9781138197107)"
   ]
  },
  {
   "cell_type": "markdown",
   "id": "4d572ee4-185b-40a7-b833-77863a8e7e45",
   "metadata": {
    "editable": true,
    "slideshow": {
     "slide_type": "notes"
    },
    "tags": []
   },
   "source": [
    "Das Mantra wurde mit Blick auf die **interaktive** und **explorative** Datenvisualisierung entwickelt,\n",
    "\n",
    "gilt aber auch für die **erklärende** Datenvisualisierung.\n",
    "\n",
    "1. Dem Mantra zufolge sollte man sich zunächst einen Überblick verschaffen:\n",
    "\n",
    "   * längerfristige Trends\n",
    "   * Gesamtverteilung oder Beziehungen\n",
    "   * Kontext skizzieren\n",
    "   * Einführung in das Thema und die Daten\n",
    "\n",
    "2. Dann kommen **Zoom** und **Filter**:\n",
    "\n",
    "  * Interessante Elemente in den Daten rücken in den Fokus, uninteressante Elemente werden herausgefiltert\n",
    "  * Ausreißer werden hervorgehoben\n",
    "  * Korrelationen aufgezeigt\n",
    "  * das Gesamtbild in ihre Bestandteile zerlegt\n",
    "  "
   ]
  },
  {
   "cell_type": "markdown",
   "id": "37defbfd-d2b1-4c3d-a63d-b2828d154b90",
   "metadata": {
    "editable": true,
    "slideshow": {
     "slide_type": "subslide"
    },
    "tags": []
   },
   "source": [
    "## 2. Data-Storytelling\n",
    "\n",
    "### Journalistische Techniken\n",
    "\n",
    "#### Mantra der *visuellen Informationssuche*\n",
    "\n",
    "[![Seit Inkrafttreten des Gesetzes im Juni 2020 wurden mehr als 150 Personen von Hongkongs Abteilung für nationale Sicherheit verhaftet.](bloomberg-hongkong-overview.png)](bloomberg-hongkong-overview.png)\n",
    "\n",
    "Quelle: [Bloomberg: How Hong Kong’s National Security Law Is Changing Everything](https://www.bloomberg.com/graphics/2021-hong-kong-national-security-law-arrests/)"
   ]
  },
  {
   "cell_type": "markdown",
   "id": "0b6b60ae-0750-4f41-baad-17c2760195d1",
   "metadata": {
    "editable": true,
    "slideshow": {
     "slide_type": "subslide"
    },
    "tags": []
   },
   "source": [
    "## 2. Data-Storytelling\n",
    "\n",
    "### Journalistische Techniken\n",
    "\n",
    "#### Mantra der *visuellen Informationssuche*\n",
    "\n",
    "[![Eine Person wurde wegen eines Gewaltdelikts inhaftiert, 14 weitere wurden der Planung von Anschlägen beschuldigt. Weitere 14 Personen wurden wegen finanzieller Aktivitäten verhaftet, darunter eine Crowdfunding-Kampagne zur Unterstützung junger pro-demokratischer Demonstranten bei der Ausreise nach Taiwan.](bloomberg-hongkong-zoom-1.png)](bloomberg-hongkong-zoom-1.png)\n",
    "\n",
    "Quelle: [Bloomberg: How Hong Kong’s National Security Law Is Changing Everything](https://www.bloomberg.com/graphics/2021-hong-kong-national-security-law-arrests/)"
   ]
  },
  {
   "cell_type": "markdown",
   "id": "46580742-f025-4346-bdae-4025026125b9",
   "metadata": {
    "editable": true,
    "slideshow": {
     "slide_type": "subslide"
    },
    "tags": []
   },
   "source": [
    "## 2. Data-Storytelling\n",
    "\n",
    "### Journalistische Techniken\n",
    "\n",
    "#### Mantra der *visuellen Informationssuche*\n",
    "\n",
    "Quelle: [Bloomberg: How Hong Kong’s National Security Law Is Changing Everything](https://www.bloomberg.com/graphics/2021-hong-kong-national-security-law-arrests/)"
   ]
  },
  {
   "cell_type": "markdown",
   "id": "dacd249f-8484-4eb2-9fab-973997a7f805",
   "metadata": {
    "editable": true,
    "slideshow": {
     "slide_type": "subslide"
    },
    "tags": []
   },
   "source": [
    "## 2. Data-Storytelling\n",
    "\n",
    "### Journalistische Techniken\n",
    "\n",
    "#### Mantra der *visuellen Informationssuche*\n",
    "\n",
    "<iframe title=\"Where the population of Europe is growing, and where it’s declining \" aria-label=\"Map\" id=\"datawrapper-chart-iUPVd\" src=\"https://datawrapper.dwcdn.net/iUPVd/5/\" scrolling=\"no\" frameborder=\"0\" style=\"width: 0; min-width: 100% !important; border: none;\" height=\"585\"></iframe><script type=\"text/javascript\">!function(){\"use strict\";window.addEventListener(\"message\",(function(a){if(void 0!==a.data[\"datawrapper-height\"])for(var e in a.data[\"datawrapper-height\"]){var t=document.getElementById(\"datawrapper-chart-\"+e)||document.querySelector(\"iframe[src*='\"+e+\"']\");t&&(t.style.height=a.data[\"datawrapper-height\"][e]+\"px\")}}))}();</script>\n",
    "\n",
    "Quelle: [Datawrapper](https://blog.datawrapper.de/better-more-responsive-annotations-in-datawrapper-data-visualizations/)"
   ]
  },
  {
   "cell_type": "markdown",
   "id": "e3fb7861-e367-48e3-a9fc-183644e19a1a",
   "metadata": {
    "editable": true,
    "slideshow": {
     "slide_type": "notes"
    },
    "tags": []
   },
   "source": [
    "Der letzte Schritt ist nur *interaktiven Medien* vorbehalten:\n",
    "\n",
    "* nur auf Wunsch werden Details angeboten."
   ]
  },
  {
   "cell_type": "markdown",
   "id": "8df95b09-31b0-4f66-bd74-3ae1f20be227",
   "metadata": {
    "editable": true,
    "slideshow": {
     "slide_type": "subslide"
    },
    "tags": []
   },
   "source": [
    "## 2. Data-Storytelling\n",
    "\n",
    "### Journalistische Techniken\n",
    "\n",
    "#### Anthropografie"
   ]
  },
  {
   "cell_type": "markdown",
   "id": "ed8b4bf8-111e-47d4-b037-8f10624c212a",
   "metadata": {
    "editable": true,
    "slideshow": {
     "slide_type": "notes"
    },
    "tags": []
   },
   "source": [
    "Bei der Darstellung von Daten über Menschen, wie im vorigen Beispiel über verhaftete Menschen in Hongkong, helfen, sich mit diesen Menschen zu identifizieren.\n",
    "\n",
    "Hierfür wurde der Begriff **Anthropografie** erst kürzlich geprägt, um in Datenvisualisierungen Empathie zu wecken."
   ]
  },
  {
   "cell_type": "markdown",
   "id": "5cebb5bb-cc03-4a2e-a20b-7419a1f06abb",
   "metadata": {
    "editable": true,
    "slideshow": {
     "slide_type": "subslide"
    },
    "tags": []
   },
   "source": [
    "## 2. Data-Storytelling\n",
    "\n",
    "### Journalistische Techniken\n",
    "\n",
    "#### Persönliche Ansprache"
   ]
  },
  {
   "cell_type": "markdown",
   "id": "d15927a6-cb39-4fee-aca3-4f4c12a3e363",
   "metadata": {
    "editable": true,
    "slideshow": {
     "slide_type": "notes"
    },
    "tags": []
   },
   "source": [
    "\n",
    "1. Das Publikum sollte sich selbst in den Daten wiederfinden.\n",
    "2. Mit **Zoom** und **Filter** können die für eine einzelne Person wichtigsten Daten visualisiert werden, z. B.:\n",
    "\n",
    "   * lokale Statistiken\n",
    "   * der Wirtschaftszweig, in dem sie arbeiten\n",
    "   * Schlüsselzahlen für ihre Altersgruppe\n",
    "\n",
    "Viele Titel interaktiver Charts sprechen die Leser*innen direkt an und laden sie ein, selbst zu interagieren und ihre eigenen Daten zu finden.\n",
    "\n",
    "Ein Beispiel für diese Technik ist [population.io](https://population.io/)."
   ]
  },
  {
   "cell_type": "markdown",
   "id": "1dc9e182-664d-43d7-9b19-fe22537fad4a",
   "metadata": {
    "editable": true,
    "slideshow": {
     "slide_type": "fragment"
    },
    "tags": []
   },
   "source": [
    "[![Screenshot der Benutzeroberfläche von population.io mit der Überschrift »Wie groß ist mein Anteil an der Weltbevölkerung? Wie lange werde ich leben?«](population-interface.png)](population-interface.png)\n",
    "\n",
    "Quelle: [population.io](https://population.io/)"
   ]
  },
  {
   "cell_type": "markdown",
   "id": "fa74ca4d-685a-4bdf-8d1e-ce804c5261bf",
   "metadata": {
    "editable": true,
    "slideshow": {
     "slide_type": "notes"
    },
    "tags": []
   },
   "source": [
    "Das *Office for National Statistics* (ONS) hat das „You“ in die Überschrift von *How health has changed in your local area* gesetzt.\n",
    "\n",
    "Nach der Auswahl des Interesses werden Text und Visualisierungen des Artikels aktualisiert und konzentrieren sich auf den ausgewählten Bereich."
   ]
  },
  {
   "cell_type": "markdown",
   "id": "ee5f19af-76c7-4e40-8bc6-9d2f8310f8f6",
   "metadata": {
    "editable": true,
    "slideshow": {
     "slide_type": "subslide"
    },
    "tags": []
   },
   "source": [
    "## 2. Data-Storytelling\n",
    "\n",
    "### Journalistische Techniken\n",
    "\n",
    "#### Persönliche Ansprache\n",
    "\n",
    "[![Screenshot eines interaktiven Artikels mit der Überschrift „Entdecke die Daten in deinem Gebiet“ über einem großen Suchfeld mit Dropdown-Liste](ons-health-local-area.png)](ons-health-local-area.png)\n",
    "\n",
    "Quelle: [How health has changed in your local area](https://www.ons.gov.uk/peoplepopulationandcommunity/healthandsocialcare/healthandwellbeing/articles/howhealthhaschangedinyourlocalarea/2022-03-18)"
   ]
  },
  {
   "cell_type": "markdown",
   "id": "f81d164d-25de-4aea-80c7-201f5d5f0ac0",
   "metadata": {
    "editable": true,
    "slideshow": {
     "slide_type": "slide"
    },
    "tags": []
   },
   "source": [
    "## 3. Kognitive Belastung"
   ]
  },
  {
   "cell_type": "markdown",
   "id": "cfdabbd9-840f-4966-a9f7-db8048100dd2",
   "metadata": {
    "editable": true,
    "slideshow": {
     "slide_type": "fragment"
    },
    "tags": []
   },
   "source": [
    "> Die kognitive Belastung beschreibt den Umfang des Arbeitsspeichers, den eine Person verwendet, wenn sie neue Informationen aufnimmt und sie in das Langzeitgedächtnis überträgt. Vereinfacht ausgedrückt, hilft uns die kognitive Belastung dabei zu beurteilen, wie leicht oder schwer es für jemanden ist, etwas Neues zu verstehen.\n",
    "\n",
    "–  Eva Sibinga, Erin Waldron: [Cognitive Load as a Guide: 12 Spectrums to Improve Your Data Visualizations](https://nightingaledvs.com/cognitive-load-as-a-guide-12-spectrums-to-improve-your-data-visualizations/)"
   ]
  },
  {
   "cell_type": "markdown",
   "id": "6485826f-65bb-4296-8a31-2f40de33acdc",
   "metadata": {
    "editable": true,
    "slideshow": {
     "slide_type": "notes"
    },
    "tags": []
   },
   "source": [
    "Je höher die kognitive Belastung ist, desto schwieriger wird es, neue Informationen zu verstehen und sich zu merken.\n",
    "\n",
    "Als Designer von Datenvisualisierungen möchtet ihr es eurem Publikum so leicht wie möglich machen, ein Diagramm zu verstehen und sich seine Hauptaussage zu merken."
   ]
  },
  {
   "cell_type": "markdown",
   "id": "5765bf52-4912-440d-98a5-b930cb1cedab",
   "metadata": {
    "editable": true,
    "slideshow": {
     "slide_type": "subslide"
    },
    "tags": []
   },
   "source": [
    "## 3. Kognitive Belastung\n",
    "\n",
    "Die kognitive Belastung wird in drei Arten unterteilt, die alle für die Datenvisualisierung relevant sind:"
   ]
  },
  {
   "cell_type": "markdown",
   "id": "50ac74b1-39f3-406f-a0b5-53136634193a",
   "metadata": {
    "editable": true,
    "slideshow": {
     "slide_type": "fragment"
    },
    "tags": []
   },
   "source": [
    "* [Intrinsische Belastung](#/3/2)"
   ]
  },
  {
   "cell_type": "markdown",
   "id": "ef17dd56-99e9-4054-8230-9ef1ad773a56",
   "metadata": {
    "editable": true,
    "slideshow": {
     "slide_type": "fragment"
    },
    "tags": []
   },
   "source": [
    "* [Extrinsische Belastung](#/3/3)"
   ]
  },
  {
   "cell_type": "markdown",
   "id": "ff203ff7-5134-434e-8dd1-592b0d874784",
   "metadata": {
    "editable": true,
    "slideshow": {
     "slide_type": "fragment"
    },
    "tags": []
   },
   "source": [
    "* [Lernbezogene Belastung](#/3/4)"
   ]
  },
  {
   "cell_type": "markdown",
   "id": "d8c9735e-24ec-43bd-a5a7-9291d5acfa32",
   "metadata": {
    "editable": true,
    "slideshow": {
     "slide_type": "subslide"
    },
    "tags": []
   },
   "source": [
    "## 3. Kognitive Belastung\n",
    "\n",
    "### 3.1 Intrinsische Belastung"
   ]
  },
  {
   "cell_type": "markdown",
   "id": "4c538f58-042d-4e05-a623-12d8937e7719",
   "metadata": {
    "editable": true,
    "slideshow": {
     "slide_type": "notes"
    },
    "tags": []
   },
   "source": [
    "Die intrinsische Belastung der in einer Visualisierung dargestellten Daten kann je nach ihren Merkmalen hoch oder niedrig sein:\n",
    "\n",
    "* Eine geringe **Anzahl von Datensätzen** hat eine geringere intrinsische Last als eine hohe Anzahl von Datensätzen.\n",
    "* Eine geringe **Anzahl von Dimensionen** hat eine geringere intrinsische Belastung als Daten mit vielen Dimensionen."
   ]
  },
  {
   "cell_type": "markdown",
   "id": "060bb77c-c662-42b8-aea3-48b906c6ed72",
   "metadata": {
    "editable": true,
    "slideshow": {
     "slide_type": "fragment"
    },
    "tags": []
   },
   "source": [
    "[![Ein Blasendiagramm mit fünf Dimensionen: Einkommen auf der x-Achse, Lebenserwartung auf der y-Achse, Region als Farbe, Bevölkerung als Blasengröße und Ländername in den Tooltips](gapminder.png)](gapminder.png)\n",
    "\n",
    "Quelle: [gapminder.org/tools](https://www.gapminder.org/tools/#$chart-type=bubbles&url=v2)"
   ]
  },
  {
   "cell_type": "markdown",
   "id": "d49bfdd4-62a8-422d-8a51-9686db827bce",
   "metadata": {
    "editable": true,
    "slideshow": {
     "slide_type": "notes"
    },
    "tags": []
   },
   "source": [
    "Im nachstehenden Blasendiagramm sind fünf Dimensionen:\n",
    "* zwei kategorische Dimensionen:\n",
    "  * die Ländernamen als Tooltips\n",
    "  * die Region, zu der das Land gehört\n",
    "* vier numerische Dimensionen\n",
    "  * x- und y-Positionen der Blasen\n",
    "  * Größe der Blasen\n",
    "  * Jahr"
   ]
  },
  {
   "cell_type": "markdown",
   "id": "70da1d66-1a42-4daa-8f87-0227227939cd",
   "metadata": {
    "editable": true,
    "slideshow": {
     "slide_type": "subslide"
    },
    "tags": []
   },
   "source": [
    "## 3. Kognitive Belastung\n",
    "\n",
    "### 3.2 Extrinsische Belastung"
   ]
  },
  {
   "cell_type": "markdown",
   "id": "069e2cb6-56a7-468c-b072-74f839c0216d",
   "metadata": {
    "editable": true,
    "slideshow": {
     "slide_type": "notes"
    },
    "tags": []
   },
   "source": [
    "* Die extrinsische kognitive Belastung ergibt sich aus der Art und Weise, wie die neuen Informationen präsentiert werden.\n",
    "* Sie unterliegt der Kontrolle des Designers der Datenvisualisierung.\n",
    "* In den meisten Fällen möchtet ihr die gesamte kognitive Belastung so gering wie möglich halten, um es eurem Publikum so einfach wie möglich zu machen.\n",
    "* Die Datenvisualisierung selbst ist ein sehr leistungsfähiges Instrument zur Minimierung der extrinsischen kognitive Belastung:\n",
    "\n",
    "  Daten, die in einer visuellen Form präsentiert werden, haben eine viel geringere extrinsische kognitive Belastung als Daten, die in Form einer Tabelle, einer Liste oder einer Beschreibung der Daten in Textform präsentiert werden.\n",
    "\n",
    "Die Senkung der extrinsischen Belastung ist die Daseinsberechtigung der Datenvisualisierung.\n",
    "\n",
    "So könnte es hilfreich sein, zusätzliche Informationen wie aggregierte Werte und Textelemente einzufügen, die erklären, wie das Diagramm gelesen und wie bestimmte Werte erklärt werden können. Dazu gehört die Verwendung von gut verständlichen Diagrammtiteln, visuellen und textuellen Anmerkungen. Dies kann die kognitive Belastung deutlich verringern."
   ]
  },
  {
   "cell_type": "markdown",
   "id": "b6ca165f-16e2-4f01-9353-a36ec725c3ed",
   "metadata": {
    "editable": true,
    "slideshow": {
     "slide_type": "subslide"
    },
    "tags": []
   },
   "source": [
    "## 3. Kognitive Belastung\n",
    "\n",
    "### 3.3 Lernbezogene Belastung"
   ]
  },
  {
   "cell_type": "markdown",
   "id": "cbf902f9-d80a-4431-954b-99e5ea202a92",
   "metadata": {
    "editable": true,
    "slideshow": {
     "slide_type": "notes"
    },
    "tags": []
   },
   "source": [
    "Die lernbezogene kognitive Belastung ist die Anstrengung, die euer Publikum aufbringen muss, um die neue Information in das mentales Modell einzuordnen.\n",
    "\n",
    "* Ein Datensatz über das Bruttoinlandsprodukt und die Produktivität von Ländern werden erfahrene Wirtschaftswissenschaftler viel leichter verstehen, als Schüler: Die lernbezogene Belastung ist für beide Gruppen unterschiedlich.\n",
    "* Auch die Verwendung von weniger gebräuchlichen Diagrammtypen kann zu einer höheren lernbezogenen Belastung führen. Aktienhändler können in Candlestick-Diagrammen vermutlich sofort die Tage erkennen, an denen die Aktien verkauft oder gekkauft werden sollen. Andere werden einige Zeit mit dem abgebildeten Diagramm benötigen, bevor sie es verstehen können."
   ]
  },
  {
   "cell_type": "markdown",
   "id": "8b480e9e-d7de-47ac-a2e9-ba1c97f0bbef",
   "metadata": {
    "editable": true,
    "slideshow": {
     "slide_type": "fragment"
    },
    "tags": []
   },
   "source": [
    "[![Beispiel für ein Candlestick-Chart mit grünen und roten Candlesticks](datavizcatalogue-candlestick.svg)](datavizcatalogue-candlestick.svg)\n",
    "\n",
    "Quelle: [datavizcatalogue.com/methods/candlestick_chart.html](https://datavizcatalogue.com/methods/candlestick_chart.html)"
   ]
  },
  {
   "cell_type": "markdown",
   "id": "faf0dd90-6005-403b-931b-3830ef8304e1",
   "metadata": {
    "editable": true,
    "slideshow": {
     "slide_type": "notes"
    },
    "tags": []
   },
   "source": [
    "1. Bei der Datenvisualisierung ist es also wichtig, sein Publikum zu kennen.\n",
    "2. Davon hängt ab, \n",
    "   * welche Diagrammtypen ihr verwenden könnt\n",
    "   * wie komplex die Daten sein dürfen\n",
    "   * welche Sprache – Fachjargon oder einfache Begriffe ihr verwenden solltet\n",
    "\n",
    "Der Arbeitsspeicher des Gehirns bestimmt, wie viel kognitive Belastung wir bewältigen können, wenn wir mit neuen Informationen konfrontiert werden.\n",
    "\n",
    "In der Summe sollten intrinsische, extrinsische und lernbezogene Belastung die Kapazität des Arbeitsspeichers eures Publikums nicht übersteigen. \n",
    "\n",
    "* Wenn dies dennoch der Fall ist, wird euer Publikum überfordert sein und vermutlich einfach aufgeben\n",
    "\n",
    "  Um dies zu vermeiden, müssen die verschiedenen Arten kognitiver Belastung ausgeglichen werden:\n",
    "\n",
    "  * Daten mit hoher intrinsischer Last und komplexe datengesteuerte Nachrichten sollten mit minimaler extrinsischer Last präsentiert werden\n",
    "  * Daten mit hoher intrinsischer Last sollten nur Personen präsentiert werden, für die dies keine hohe lernbezogene Last bedeutet\n",
    "  * Daten mit geringer intrinsischer Last sollten eine höhere extrinsische Last haben.\n",
    "  \n",
    "    Es gibt auch eine zu geringe kognitive Belastung:\n",
    "    \n",
    "    * Wenn die intrinsische Last zu gering ist, kann sich ansonsten euer Publikum schnell langweilen und abschalten.\n",
    "\n",
    "    * *So einfach wie möglich* ist also nicht immer die beste Strategie. Ihr solltet euer Publikum ein wenig herausfordern, um die Aufmekrsamkeit hoch zu halten."
   ]
  },
  {
   "cell_type": "markdown",
   "id": "a7c7ae8b-40ad-4b32-80df-137bb77b371a",
   "metadata": {
    "editable": true,
    "slideshow": {
     "slide_type": "subslide"
    },
    "tags": []
   },
   "source": [
    "## 3. Kognitive Belastung"
   ]
  },
  {
   "cell_type": "markdown",
   "id": "33d719d3-5c1c-45c8-917b-242fa6db68b5",
   "metadata": {
    "editable": true,
    "slideshow": {
     "slide_type": "notes"
    },
    "tags": []
   },
   "source": [
    "Einige Konzepte der Theorie kognitiver Belastung, die im Bildungsbereich verwendet werden, lassen sich gut in die Datenvisualisierung übertragen:"
   ]
  },
  {
   "cell_type": "markdown",
   "id": "30b00153-ab1b-4242-b80a-c7db29df150d",
   "metadata": {
    "editable": true,
    "slideshow": {
     "slide_type": "fragment"
    },
    "tags": []
   },
   "source": [
    "* Vorunterricht (Pre-Teaching)"
   ]
  },
  {
   "cell_type": "markdown",
   "id": "14072369-2d8d-4feb-8416-960fe69ab771",
   "metadata": {
    "editable": true,
    "slideshow": {
     "slide_type": "notes"
    },
    "tags": []
   },
   "source": [
    "**Pre-Teaching** ist eine Unterrichtsstrategie, bei der Studierenden das Vokabular vermittelt wird, bevor der eigentliche Unterricht beginnt.\n",
    "\n",
    "* Der Inhalt der Daten kann nun auf dem vertrauten neuen Vokabular aufbauen\n",
    "* die kognitive Belastung durch den neuen Inhalt wird nicht mehr durch das neue Vokabular verstärkt\n",
    "\n",
    "Bei Datenvisualisierungen kann dies z.B. sichergestellt werden, indem\n",
    "\n",
    "1. zunächst erläutert wird, wie ein Diagramm zu lesen ist\n",
    "2. bevor das Diagramm mit den eigentlichen Daten gefüllt wird, um die es in der Geschichte geht."
   ]
  },
  {
   "cell_type": "markdown",
   "id": "b12329aa-9f7e-4625-9088-d93258b32fa2",
   "metadata": {
    "editable": true,
    "slideshow": {
     "slide_type": "fragment"
    },
    "tags": []
   },
   "source": [
    "[![Brexit banking ](preteaching-ft.png)](preteaching-ft.png)\n",
    "\n",
    "Quelle: [Frankfurt vies for UK banking jobs post-Brexit](https://www.ft.com/content/3f3ce35e-8c9b-11e6-8aa5-f79f5696c731)"
   ]
  },
  {
   "cell_type": "markdown",
   "id": "45c3acf0-13cf-4f5f-b15e-5cc0f9d87f04",
   "metadata": {
    "editable": true,
    "slideshow": {
     "slide_type": "notes"
    },
    "tags": []
   },
   "source": [
    "## 3. Kognitive Belastung\n",
    "\n",
    "* Chunking (Gruppierung)"
   ]
  },
  {
   "cell_type": "markdown",
   "id": "e70514d2-3eeb-40e9-a9f5-82fd75a2e592",
   "metadata": {
    "editable": true,
    "slideshow": {
     "slide_type": "notes"
    },
    "tags": []
   },
   "source": [
    "Pre-Teaching kann gut in Kombination mit Chunking funktionieren. Chunking bedeutet, dass ein größerer, komplexer Inhalt in kleinere Teile aufgeteilt wird, die für sich genommen leichter zu verstehen sind. \n",
    "\n",
    "Später werden alle Informationsbrocken wieder zusammengefügt, um zu zeigen, wie sie zusammenhängen und wie das Gesamtbild aussieht. \n",
    "\n",
    "Anstatt das [gapminder tool](https://www.gapminder.org/tools/#$chart-type=bubbles&url=v2) in einem Zug zu zeigen, könnt ihr es zuerst erklären:"
   ]
  },
  {
   "cell_type": "markdown",
   "id": "f43e7f55-cb92-44b5-a22d-9f2572ab1984",
   "metadata": {
    "editable": true,
    "slideshow": {
     "slide_type": "fragment"
    },
    "tags": []
   },
   "source": [
    "[![Gapminder Tools Guide](gapminder-tools-guide.png)](gapminder-tools-guide.png)\n",
    "\n",
    "Quelle: [Gapminder Tools Guide](https://static.gapminder.org/GapminderMedia/wp-uploads/Gapminder-Tools-Guide.pdf)"
   ]
  },
  {
   "cell_type": "markdown",
   "id": "7bfdacf8-2e30-47d4-ba9c-f64cafebe156",
   "metadata": {
    "editable": true,
    "slideshow": {
     "slide_type": "subslide"
    },
    "tags": []
   },
   "source": [
    "## 3. Kognitive Belastung\n",
    "\n",
    "* Effekt der geteilten Aufmerksamkeit (Chunking)"
   ]
  },
  {
   "cell_type": "markdown",
   "id": "20e53821-a9b4-4e5f-a096-c5e56a11937a",
   "metadata": {
    "editable": true,
    "slideshow": {
     "slide_type": "notes"
    },
    "tags": []
   },
   "source": [
    "Der Effekt der geteilten Aufmerksamkeit tritt auf, wenn der Leser seine Aufmerksamkeit zwischen zwei oder mehr voneinander abhängigen Informationsquellen aufteilen soll.\n",
    "\n",
    "Dies kann ein Text und eine Visualisierung sein, die entweder räumlich oder zeitlich voneinander getrennt sind.\n",
    "\n",
    "Um die Daten effektiv interpretieren zu können, sollten die einzelnen Informationsquellen möglichst gut integriert werden:\n",
    "\n",
    "* Einheiten und andere kontextbezogene Informationen sollten in eine Visualisierung integriert werden\n",
    "* Eine direkte Beschriftung ist der Verwendung separater Farblegenden vorzuziehen"
   ]
  },
  {
   "cell_type": "markdown",
   "id": "81e6c04f-cbaa-49b6-bb01-f1467822a045",
   "metadata": {
    "editable": true,
    "slideshow": {
     "slide_type": "fragment"
    },
    "tags": []
   },
   "source": [
    "[![Separate Legende](separate-legend.jpg)](separate-legend.jpg)"
   ]
  },
  {
   "cell_type": "markdown",
   "id": "49f46cab-ef2b-4eb3-8c61-973fedbff782",
   "metadata": {
    "editable": true,
    "slideshow": {
     "slide_type": "slide"
    },
    "tags": []
   },
   "source": [
    "## 4. Diagramm-Typen"
   ]
  },
  {
   "cell_type": "markdown",
   "id": "751fd3a1-9e3a-4dd4-a332-46359fef42c9",
   "metadata": {
    "editable": true,
    "slideshow": {
     "slide_type": "notes"
    },
    "tags": []
   },
   "source": [
    "Die Wahl des besten Diagrammtyps für die Übermittlung Ihrer Daten ist nicht einfach:\n",
    "\n",
    "Es gibt viele verschiedene Diagrammtypen, die alle unterschiedliche Aspekte eurer Daten hervorheben.\n",
    "\n",
    "Bei der Auswahl eines Diagrammtyps geht es um viel mehr als nur darum, die Spalten in euren Daten zu betrachten."
   ]
  },
  {
   "cell_type": "markdown",
   "id": "f1d0b43a-6aa5-4fea-b274-3fd38d583930",
   "metadata": {
    "editable": true,
    "slideshow": {
     "slide_type": "fragment"
    },
    "tags": []
   },
   "source": [
    "Der Diagrammtyp ist abhängig von"
   ]
  },
  {
   "cell_type": "markdown",
   "id": "74769231-1a07-4eea-a3ca-1001bc56b53e",
   "metadata": {
    "editable": true,
    "slideshow": {
     "slide_type": "fragment"
    },
    "tags": []
   },
   "source": [
    "4.1 Datentypen"
   ]
  },
  {
   "cell_type": "markdown",
   "id": "e9da8e86-a196-4e17-acbf-9f5b77ff93bb",
   "metadata": {
    "editable": true,
    "slideshow": {
     "slide_type": "fragment"
    },
    "tags": []
   },
   "source": [
    "4.2 Botschaft"
   ]
  },
  {
   "cell_type": "markdown",
   "id": "488113e7-c7a7-4548-bb50-a1ccb1643544",
   "metadata": {
    "editable": true,
    "slideshow": {
     "slide_type": "fragment"
    },
    "tags": []
   },
   "source": [
    "4.3 Datengröße"
   ]
  },
  {
   "cell_type": "markdown",
   "id": "82903fb0-7d0d-40d4-973b-d4312f81caae",
   "metadata": {
    "editable": true,
    "slideshow": {
     "slide_type": "fragment"
    },
    "tags": []
   },
   "source": [
    "4.4 Zielgruppe"
   ]
  },
  {
   "cell_type": "markdown",
   "id": "2c21a6c2-42c7-4ac2-b2a2-bde5ddd62646",
   "metadata": {
    "editable": true,
    "slideshow": {
     "slide_type": "fragment"
    },
    "tags": []
   },
   "source": [
    "4.5 Medium"
   ]
  },
  {
   "cell_type": "markdown",
   "id": "3f4b69d5-c52e-4e00-a332-afe0928a54cc",
   "metadata": {
    "editable": true,
    "slideshow": {
     "slide_type": "subslide"
    },
    "tags": []
   },
   "source": [
    "## 4. Diagramm-Typen\n",
    "\n",
    "### 4.1 Datentypen"
   ]
  },
  {
   "cell_type": "markdown",
   "id": "fcf5d1d7-0906-4db0-a5eb-f400acd22270",
   "metadata": {
    "editable": true,
    "slideshow": {
     "slide_type": "notes"
    },
    "tags": []
   },
   "source": [
    "Es gibt viele Datentypen, und die Typen Ihrer Daten schränken die Optionen für die Diagrammtypen ein."
   ]
  },
  {
   "cell_type": "markdown",
   "id": "7fd05145-dd01-4140-93c8-82514d6fdc3a",
   "metadata": {
    "editable": true,
    "slideshow": {
     "slide_type": "fragment"
    },
    "tags": []
   },
   "source": [
    "#### 4.1.1 Kategorische Daten"
   ]
  },
  {
   "cell_type": "markdown",
   "id": "b6725c64-d418-4b6a-af50-f24aed66123c",
   "metadata": {
    "editable": true,
    "slideshow": {
     "slide_type": "notes"
    },
    "tags": []
   },
   "source": [
    "Bei kategorischen Daten handelt es sich in der Regel um textbasierte Daten, die Datensätze in einem Datensatz gruppieren."
   ]
  },
  {
   "cell_type": "markdown",
   "id": "f133919c-47ed-4ae2-ad71-93e21dbe4c2c",
   "metadata": {
    "editable": true,
    "slideshow": {
     "slide_type": "notes"
    },
    "tags": []
   },
   "source": [
    "So sind beispielsweise im [gapminder tool](https://www.gapminder.org/tools/#$chart-type=bubbles&url=v2) die Blasen, die Länder aus derselben Region repräsentieren, mit der gleichen Farbe kategorisiert."
   ]
  },
  {
   "cell_type": "markdown",
   "id": "bed70239-a664-44d7-b1d1-16a631e4a1c8",
   "metadata": {
    "editable": true,
    "slideshow": {
     "slide_type": "subslide"
    },
    "tags": []
   },
   "source": [
    "## 4. Diagramm-Typen\n",
    "\n",
    "### 4.1 Datentypen\n",
    "\n",
    "#### 4.1.2 Numerische Daten"
   ]
  },
  {
   "cell_type": "markdown",
   "id": "160e66b3-ef1c-4848-a51d-890b884a214b",
   "metadata": {
    "editable": true,
    "slideshow": {
     "slide_type": "notes"
    },
    "tags": []
   },
   "source": [
    "Numerische Daten sind der häufigste Datentyp in der Datenvisualisierung. Zahlen können verwendet werden, um geometrische Objekte in einer Visualisierung\n",
    "* zu positionieren\n",
    "* zu vergrößern\n",
    "* zu färben\n",
    "\n",
    "Im [gapminder tool](https://www.gapminder.org/tools/#$chart-type=bubbles&url=v2) werden numerische Daten zur Positionierung in der x- und y-Achse sowie Größe der Blasen verwendet."
   ]
  },
  {
   "cell_type": "markdown",
   "id": "fcc440b5-7741-4d56-b7c3-29730aeefc8f",
   "metadata": {
    "editable": true,
    "slideshow": {
     "slide_type": "notes"
    },
    "tags": []
   },
   "source": [
    "Numerische Daten können **kontinuierlich** oder **diskret** sein:\n",
    "\n",
    "* bei **kontinuierlichen Daten** kann ein Datenpunkt jeden beliebigen Wert annehmen\n",
    "* bei **diskreten Daten** ist die Anzahl der möglichen Werte begrenzt\n",
    "\n",
    "Kontinuierliche Daten können in diskrete Werte umgewandelt werden:"
   ]
  },
  {
   "cell_type": "markdown",
   "id": "d3764217-a77f-4a93-b393-c36cf803f27b",
   "metadata": {
    "editable": true,
    "slideshow": {
     "slide_type": "fragment"
    },
    "tags": []
   },
   "source": [
    "[![Eine Choropleth-Karte mit einer kontinuierlichen Farbskala](continuous-colour-scale.jpg)](continuous-colour-scale.jpg)"
   ]
  },
  {
   "cell_type": "markdown",
   "id": "28e74f97-664a-42f6-8ae9-5fcb81a50ebc",
   "metadata": {
    "editable": true,
    "slideshow": {
     "slide_type": "subslide"
    },
    "tags": []
   },
   "source": [
    "## 4. Diagramm-Typen\n",
    "\n",
    "### 4.1 Datentypen\n",
    "\n",
    "#### 4.1.2 Numerische Daten\n",
    "\n",
    "[![Dieselbe Karte, aber diesmal mit einer abgestuften Farbskala](discrete-colour-scale.jpg)](discrete-colour-scale.jpg)"
   ]
  },
  {
   "cell_type": "markdown",
   "id": "84cc3eeb-d9e4-41d8-923e-d17b78359a87",
   "metadata": {
    "editable": true,
    "slideshow": {
     "slide_type": "notes"
    },
    "tags": []
   },
   "source": [
    " Abgegrenzte numerische Werte verhalten sich sehr ähnlich wie kategorische Daten.\n",
    " "
   ]
  },
  {
   "cell_type": "markdown",
   "id": "72e96f78-3267-4936-bfbf-a839ec68b2b7",
   "metadata": {
    "editable": true,
    "slideshow": {
     "slide_type": "subslide"
    },
    "tags": []
   },
   "source": [
    "## 4. Diagramm-Typen\n",
    "\n",
    "### 4.1 Datentypen\n",
    "\n",
    "#### 4.1.3 Zeitliche Daten"
   ]
  },
  {
   "cell_type": "markdown",
   "id": "93dd6298-7309-4cb2-922a-bb212f9e3813",
   "metadata": {
    "editable": true,
    "slideshow": {
     "slide_type": "notes"
    },
    "tags": []
   },
   "source": [
    "Eine sehr häufige Art von Daten sind zeitliche Daten, also Daten, die Informationen über eine Variable zu verschiedenen Zeitpunkten enthalten. Veränderungen im Laufe der Zeit werden in der Regel als Liniendiagramme dargestellt, wobei die X-Achse die Zeitachse ist und die Zeit von links nach rechts verläuft."
   ]
  },
  {
   "cell_type": "markdown",
   "id": "05cf2a3a-bef2-4ea5-b742-a7ce956b99b9",
   "metadata": {
    "editable": true,
    "slideshow": {
     "slide_type": "subslide"
    },
    "tags": []
   },
   "source": [
    "## 4. Diagramm-Typen\n",
    "\n",
    "### 4.1 Datentypen\n",
    "\n",
    "#### 4.1.4 Geografische Daten"
   ]
  },
  {
   "cell_type": "markdown",
   "id": "ee2cd9f5-112e-4c26-806a-8c6e3b8f4fe8",
   "metadata": {
    "editable": true,
    "slideshow": {
     "slide_type": "notes"
    },
    "tags": []
   },
   "source": [
    "Geografische Daten sind alle Arten von Daten (kategorische, numerische oder zeitliche Daten oder eine Kombination davon), die zusätzlich Informationen über geografische Orte enthalten."
   ]
  },
  {
   "cell_type": "markdown",
   "id": "40bc61a2-c90d-4d35-938f-0d7813bfde0d",
   "metadata": {
    "editable": true,
    "slideshow": {
     "slide_type": "subslide"
    },
    "tags": []
   },
   "source": [
    "## 4. Diagramm-Typen\n",
    "\n",
    "### 4.2 Botschaft"
   ]
  },
  {
   "cell_type": "markdown",
   "id": "17949bbb-dfef-43eb-b143-77194b278e1d",
   "metadata": {
    "editable": true,
    "slideshow": {
     "slide_type": "notes"
    },
    "tags": []
   },
   "source": [
    "Durch Filtern, Auswählen und Aggregieren können die Daten so umgewandelt werden, dass sie in bestimmte Diagrammtypen passen:\n",
    "\n",
    "* Wir haben gerade gesehen, dass kontinuierliche numerische Daten  in eine diskrete Anzahl von Klassen eingeteilt werden können.\n",
    "* Die geografische Komponente von geografischen Daten kann entfernt oder ignoriert werden, wie im [gapminder tool](https://www.gapminder.org/tools/#$chart-type=bubbles&url=v2).\n",
    "* Tägliche Daten können zu monatlichen Durchschnittswerten oder monatlichen Gesamtwerten aggregiert werden, je nachdem, welche Trends gezeigt werden sollen (→ jährliche Steigerung der CO₂-Konzentration vs. saisonale Veränderung der CO₂-Konzentration)."
   ]
  },
  {
   "cell_type": "markdown",
   "id": "54f59e36-6dc7-46d9-b14e-469d754d3dc0",
   "metadata": {
    "editable": true,
    "slideshow": {
     "slide_type": "fragment"
    },
    "tags": []
   },
   "source": [
    "[![Visual Vocabulary](visual-vocabulary.png)](visual-vocabulary.png)\n",
    "\n",
    "Quelle: [Visual Vocabulary Poster](https://github.com/Financial-Times/chart-doctor/blob/main/visual-vocabulary/poster.png)"
   ]
  },
  {
   "cell_type": "markdown",
   "id": "2b9d2899-1903-44d9-a4fd-a0570dc6594c",
   "metadata": {
    "editable": true,
    "slideshow": {
     "slide_type": "subslide"
    },
    "tags": []
   },
   "source": [
    "## 4. Diagramm-Typen\n",
    "\n",
    "### 4.2 Botschaft\n",
    "\n",
    "#### Galerien zur Datenvisualisierung\n",
    "\n",
    "[Dataviz Project](https://datavizproject.com)\n",
    ": Das Dataviz-Projekt ist eine Sammlung von Datenvisualisierungen mit mehr als 160 Diagrammtypen.\n",
    "\n",
    "[Data to Viz](https://www.data-to-viz.com)\n",
    ": Die Data to Viz-Galerie enthält etwa 40 Diagrammtypen, die als einfache Gitterliste oder als Hierarchie der Datentypen durchsuchbar sind.\n",
    "\n",
    "[Dataviz Inspiration](https://www.dataviz-inspiration.com)\n",
    ": Dataviz Inspiration ist eine Sammlung von Datenvisualisierungen, die von Yan Holtz, dem Autor von data-to-viz.com, kuratiert wurde. Mit Dataviz Inspirations möchte Holtz Hunderte der schönsten und wirkungsvollsten Datenvisualisierungsprojekte vorstellen.\n",
    "\n",
    "[Dataviz Catalogue](https://datavizcatalogue.com)\n",
    ": Der Katalog der Dataviz Collection enthält rund 60 Diagrammtypen, die nach Funktionen durchsucht werden können."
   ]
  },
  {
   "cell_type": "markdown",
   "id": "da17aff1-e9fb-4df7-bb5c-0972edb8c077",
   "metadata": {
    "editable": true,
    "slideshow": {
     "slide_type": "subslide"
    },
    "tags": []
   },
   "source": [
    "## 4. Diagramm-Typen\n",
    "\n",
    "### 4.2 Botschaft\n",
    "\n",
    "#### Galerien zur Datenvisualisierung\n",
    "\n",
    "[Xenographics](https://xeno.graphics)\n",
    ": Xenographics ist eine Sammlung seltsamer, aber (manchmal) nützlicher Diagramme, kuratiert von Maarten Lambrechts. Das Ziel der Sammlung ist es, neuartige, innovative und experimentelle Visualisierungen zu zeigen, die für die Visualisierung bestimmter Datensätze inspirierend sein können.\n",
    "\n",
    "[One chart at a time](https://www.youtube.com/watch?v=gFFj22kjlZk)\n",
    ": One Chart at a Time ist eine Reihe von Videos, die der Buchautor, Podcaster und Visualisierungsspezialist Jon Schwabish erstellt hat. Für die Videoserie hat er mehr als 50 Personen aus der Welt der Datenvisualisierung gebeten, einen bestimmten Diagrammtyp zu diskutieren, indem sie ihn beschreiben und einige Beispiele für den Diagrammtyp geben."
   ]
  },
  {
   "cell_type": "markdown",
   "id": "0058ba35-4671-4c11-82de-ee7941ba8e87",
   "metadata": {
    "editable": true,
    "slideshow": {
     "slide_type": "subslide"
    },
    "tags": []
   },
   "source": [
    "## 4. Diagramm-Typen\n",
    "\n",
    "### 4.2 Botschaft\n",
    "\n",
    "Das Vokabular enthält die folgenden Muster:"
   ]
  },
  {
   "cell_type": "markdown",
   "id": "8cf463ff-f53f-445c-8406-ae6ca57d2047",
   "metadata": {
    "editable": true,
    "slideshow": {
     "slide_type": "fragment"
    },
    "tags": []
   },
   "source": [
    "Abweichung\n",
    ": um positive und negative Abweichungen von einem festen Bezugspunkt hervorzuheben"
   ]
  },
  {
   "cell_type": "markdown",
   "id": "8e695337-4862-4fda-af5c-92a2ed793375",
   "metadata": {
    "editable": true,
    "slideshow": {
     "slide_type": "fragment"
    },
    "tags": []
   },
   "source": [
    "Korrelation\n",
    ": um die Beziehung zwischen zwei oder mehreren Variablen darzustellen"
   ]
  },
  {
   "cell_type": "markdown",
   "id": "0e6b96a8-4fc7-405c-b4a7-68e8dae1321a",
   "metadata": {
    "editable": true,
    "slideshow": {
     "slide_type": "fragment"
    },
    "tags": []
   },
   "source": [
    "Rangfolge\n",
    ": zur Verwendung, wenn die Position eines Elements in einer geordneten Liste wichtiger ist als sein absoluter oder relativer Wert"
   ]
  },
  {
   "cell_type": "markdown",
   "id": "19a4f7a0-1900-4113-9ba4-2b8aaabafeba",
   "metadata": {
    "editable": true,
    "slideshow": {
     "slide_type": "fragment"
    },
    "tags": []
   },
   "source": [
    "Verteilung\n",
    ": zur Darstellung von Werten in einem Datensatz und deren Häufigkeit"
   ]
  },
  {
   "cell_type": "markdown",
   "id": "8c646905-a519-417c-9994-0e8ebb259290",
   "metadata": {
    "editable": true,
    "slideshow": {
     "slide_type": "subslide"
    },
    "tags": []
   },
   "source": [
    "## 4. Diagramm-Typen\n",
    "\n",
    "### 4.2 Botschaft\n",
    "\n",
    "Das Vokabular enthält die folgenden Muster:\n",
    "\n",
    "Veränderung\n",
    ": im Laufe der Zeit, um wechselnde Trends hervorzuheben"
   ]
  },
  {
   "cell_type": "markdown",
   "id": "e88eea5f-e27f-4df5-973c-6e58112c1e64",
   "metadata": {
    "editable": true,
    "slideshow": {
     "slide_type": "fragment"
    },
    "tags": []
   },
   "source": [
    "Größenordnung\n",
    ": um Größenvergleiche darzustellen"
   ]
  },
  {
   "cell_type": "markdown",
   "id": "db2fe871-8de5-47c2-8b30-5a5d0f095014",
   "metadata": {
    "editable": true,
    "slideshow": {
     "slide_type": "fragment"
    },
    "tags": []
   },
   "source": [
    "Teil-zu-Ganzes\n",
    ": um zu zeigen, wie eine einzelne Einheit in ihre Bestandteile zerlegt werden kann"
   ]
  },
  {
   "cell_type": "markdown",
   "id": "f8c54486-3763-4b3c-a5f1-360afbc40a7a",
   "metadata": {
    "editable": true,
    "slideshow": {
     "slide_type": "subslide"
    },
    "tags": []
   },
   "source": [
    "## 4. Diagramm-Typen\n",
    "\n",
    "### 4.2 Botschaft\n",
    "\n",
    "[![Visual Vocabulary – Deviation](visual-vocabulary-deviation.png)](http://ft-interactive.github.io/visual-vocabulary/)"
   ]
  },
  {
   "cell_type": "markdown",
   "id": "9f2be354-2183-4b98-8d37-c9c9a2c9feed",
   "metadata": {
    "editable": true,
    "slideshow": {
     "slide_type": "subslide"
    },
    "tags": []
   },
   "source": [
    "## 4. Diagramm-Typen\n",
    "\n",
    "### 4.3 Datengröße"
   ]
  },
  {
   "cell_type": "markdown",
   "id": "ce5cd336-2038-440b-9715-1b2f80bfd7e4",
   "metadata": {
    "editable": true,
    "slideshow": {
     "slide_type": "notes"
    },
    "tags": []
   },
   "source": [
    "Die Anzahl der Datensätze bestimmt auch, welcher Diagrammtyp optimal sein sollte."
   ]
  },
  {
   "cell_type": "markdown",
   "id": "257ed010-e87a-4c1e-9d66-e1c5723d5b21",
   "metadata": {
    "editable": true,
    "slideshow": {
     "slide_type": "fragment"
    },
    "tags": []
   },
   "source": [
    "[![Dot plot](dotplot.png)](dotplot.png)\n",
    "\n",
    "Quelle: Maarten Lambrechts"
   ]
  },
  {
   "cell_type": "markdown",
   "id": "4ce919bd-4c0a-4848-aeb4-34329732a7bd",
   "metadata": {
    "editable": true,
    "slideshow": {
     "slide_type": "notes"
    },
    "tags": []
   },
   "source": [
    "Wenn ihr beispielsweise die Lebenserwartung aller Länder darstellen möchtet, eignet sich ein Balkendiagramm nicht besonders gut.\n",
    "\n",
    "Stattdessen könnt ihr ein Punktdiagramm verwenden – es erfasst die Daten in weniger Pixeln, haben also eine höhere Datendichte.\n",
    "\n",
    "Ein Nachteil dieser Art von Diagrammen ist jedoch, dass sie Interaktivität erfordern, um jedes Land zu identifizieren, da zu wenig Platz zur Verfügung steht, um alle Ländernamen in der Visualisierung unterzubringen."
   ]
  },
  {
   "cell_type": "markdown",
   "id": "feba925b-51c3-41d5-bd37-f879a17336f9",
   "metadata": {
    "editable": true,
    "slideshow": {
     "slide_type": "subslide"
    },
    "tags": []
   },
   "source": [
    "## 4. Diagramm-Typen\n",
    "\n",
    "### 4.3 Datengröße\n",
    "\n",
    "[![Datashader](datashader.png)](datashader.png)\n",
    "\n",
    "Quelle: [PyViz-Tutorial: Datashader](https://pyviz-tutorial.readthedocs.io/de/latest/bokeh/integration/datashader.html#datashader)"
   ]
  },
  {
   "cell_type": "markdown",
   "id": "e07bcc5f-9a23-490c-b944-19056343c199",
   "metadata": {
    "editable": true,
    "slideshow": {
     "slide_type": "notes"
    },
    "tags": []
   },
   "source": [
    "Streudiagramme sind ebenfalls eine Visualisierungsart mit hoher Datendichte: Die Darstellung von tausenden Datensätzen ist jedoch auch hier ein Problem, da die Punkte sich dann überlappen."
   ]
  },
  {
   "cell_type": "markdown",
   "id": "70999269-aaf4-4583-a892-43165ac111ac",
   "metadata": {
    "editable": true,
    "slideshow": {
     "slide_type": "notes"
    },
    "tags": []
   },
   "source": [
    "Ein weiteres Beispiel für einen Diagrammtyp mit hoher Datendichte sind Horizon-Charts.\n",
    "\n",
    "Sie können als Alternative zu Liniendiagrammen verwendet werden, wenn die Anzahl der anzuzeigenden Reihen hoch ist."
   ]
  },
  {
   "cell_type": "markdown",
   "id": "b55d5a5c-0be0-4cbb-87b9-2f29ce7a9481",
   "metadata": {
    "editable": true,
    "slideshow": {
     "slide_type": "subslide"
    },
    "tags": []
   },
   "source": [
    "## 4. Diagramm-Typen\n",
    "\n",
    "### 4.3 Datengröße\n",
    "\n",
    "[![Horizon-Charts](horizon-chart-ruys.png)](horizon-chart-ruys.png)\n",
    "\n",
    "Quelle: [Frédérik Ruys: Financieele Dagblad](https://www.vizualism.nl/winnaar-infographicjaarprijs-2009/)"
   ]
  },
  {
   "cell_type": "markdown",
   "id": "ddb25512-110b-4767-bf5b-d2edda0facdc",
   "metadata": {
    "editable": true,
    "slideshow": {
     "slide_type": "notes"
    },
    "tags": []
   },
   "source": [
    "Dieses Horizon-Chart zeigt mehr als 70 Zeitreihen in einem einzigen Diagramm.\n"
   ]
  },
  {
   "cell_type": "markdown",
   "id": "3dbb4fca-2cae-458b-b1e5-6e1276b49070",
   "metadata": {
    "editable": true,
    "slideshow": {
     "slide_type": "subslide"
    },
    "tags": []
   },
   "source": [
    "## 4. Diagramm-Typen\n",
    "\n",
    "### 4.3 Datengröße\n",
    "\n",
    "[![Horizon-Charts](horizon-chart-ruys.gif)](horizon-chart-ruys.gif)\n",
    "\n",
    "Quelle: [vizualism.nl](https://www.vizualism.nl/winnaar-infographicjaarprijs-2009/)"
   ]
  },
  {
   "cell_type": "markdown",
   "id": "a0cc90d9-45c3-49ab-8c50-ca007b0e93ac",
   "metadata": {
    "editable": true,
    "slideshow": {
     "slide_type": "notes"
    },
    "tags": []
   },
   "source": [
    "Weitere Informationen zu Horizon-Charts findet ihr in [UW Interactive Data Lab: Sizing the Horizon](https://idl.cs.washington.edu/papers/horizon/).\n",
    "\n",
    "Sie können z.B. mit [Vega-Altair](https://altair-viz.github.io/gallery/horizon_graph.html) erstellt werden."
   ]
  },
  {
   "cell_type": "markdown",
   "id": "e7398d8a-0d42-47cc-8582-46a97cb421d0",
   "metadata": {
    "editable": true,
    "slideshow": {
     "slide_type": "subslide"
    },
    "tags": []
   },
   "source": [
    "## 4. Diagramm-Typen\n",
    "\n",
    "### 4.4 Zielgruppe"
   ]
  },
  {
   "cell_type": "markdown",
   "id": "f72a39ac-a18d-425e-bdb0-ea4b73e51ef2",
   "metadata": {
    "editable": true,
    "slideshow": {
     "slide_type": "notes"
    },
    "tags": []
   },
   "source": [
    "Auch das Zielpublikum eurer Visualisierung spielt eine wichtige Rolle bei der Wahl des Diagrammtyps.\n",
    "\n",
    "In erster Linie müsst ihr berücksichtigen, wie vertraut euer Publikum mit den Daten ist.\n",
    "\n",
    "Euer Publikum kann von den Informationen, die ihr ihnen zeigt, überwältigt sein, wenn ihr unbekannte Daten in Kombination mit einem unbekannten oder komplexen Diagramm präsentiert.\n",
    "\n",
    "Daher ist es am besten, komplexe und innovativere Diagrammtypen nur mit Daten zu verwenden, mit denen eure Zielgruppe vertraut ist.\n",
    "\n",
    "Einige Wissensgebiete haben eine lange Tradition bei der Verwendung komplexerer Datenvisualisierungen für bestimmte Daten. Ein Beispiel war das Candlestick-Chart:"
   ]
  },
  {
   "cell_type": "markdown",
   "id": "147d2f1a-9673-4bd2-978b-3239168b6c80",
   "metadata": {
    "editable": true,
    "slideshow": {
     "slide_type": "fragment"
    },
    "tags": []
   },
   "source": [
    "[![](datavizcatalogue-candlestick.svg)](datavizcatalogue-candlestick.svg)\n",
    "\n",
    "Quelle: [Frankfurt vies for UK banking jobs post-Brexit](https://www.ft.com/content/3f3ce35e-8c9b-11e6-8aa5-f79f5696c731)"
   ]
  },
  {
   "cell_type": "markdown",
   "id": "6c57447c-0b20-40f7-abce-458facf2ec67",
   "metadata": {
    "editable": true,
    "slideshow": {
     "slide_type": "subslide"
    },
    "tags": []
   },
   "source": [
    "## 4. Diagramm-Typen\n",
    "\n",
    "### 4.5 Medium"
   ]
  },
  {
   "cell_type": "markdown",
   "id": "d3147f30-62d4-4029-b1af-b9b5f00f1e6e",
   "metadata": {
    "editable": true,
    "slideshow": {
     "slide_type": "notes"
    },
    "tags": []
   },
   "source": [
    "Das Medium, in dem eine Visualisierung veröffentlicht wird, hat ebenfalls einen Einfluss darauf, welcher Diagrammtyp optimal ist.\n",
    "\n",
    "Die offensichtlichste Eigenschaft eines Mediums sind die Dimensionen, die es für eine Visualisierung bieten kann. Viele Visualisierungen werden heute nicht mehr gedruckt, sondern können interaktiv betrachtet werden."
   ]
  },
  {
   "cell_type": "markdown",
   "id": "3e203e85-f421-49bd-a87c-66bf15568a6a",
   "metadata": {
    "editable": true,
    "slideshow": {
     "slide_type": "fragment"
    },
    "tags": []
   },
   "source": [
    "<iframe title=\"Where the population of Europe is growing, and where it’s declining \" aria-label=\"Map\" id=\"datawrapper-chart-iUPVd\" src=\"https://datawrapper.dwcdn.net/iUPVd/5/\" scrolling=\"no\" frameborder=\"0\" style=\"width: 0; min-width: 100% !important; border: none;\" height=\"585\"></iframe><script type=\"text/javascript\">!function(){\"use strict\";window.addEventListener(\"message\",(function(a){if(void 0!==a.data[\"datawrapper-height\"])for(var e in a.data[\"datawrapper-height\"]){var t=document.getElementById(\"datawrapper-chart-\"+e)||document.querySelector(\"iframe[src*='\"+e+\"']\");t&&(t.style.height=a.data[\"datawrapper-height\"][e]+\"px\")}}))}();</script>\n",
    "\n",
    "Quelle: [Datawrapper](https://blog.datawrapper.de/better-more-responsive-annotations-in-datawrapper-data-visualizations/)"
   ]
  },
  {
   "cell_type": "markdown",
   "id": "f21415ae-9d0d-4374-93d8-84aff8749969",
   "metadata": {
    "editable": true,
    "slideshow": {
     "slide_type": "slide"
    },
    "tags": []
   },
   "source": [
    "## 5. Accessibility"
   ]
  },
  {
   "cell_type": "markdown",
   "id": "70ab895c-6eb6-4dd3-8b32-13ebe6a6283e",
   "metadata": {
    "editable": true,
    "slideshow": {
     "slide_type": "notes"
    },
    "tags": []
   },
   "source": [
    "Ein modernerer Blick auf die Zugänglichkeit geht über den Aspekt der Beeinträchtigungen hinaus und berücksichtigt den gesamten Kontext, in dem Menschen mit der Welt um sie herum interagieren:\n",
    "\n",
    "* ihre kognitiven Fähigkeiten\n",
    "* vorübergehende Beeinträchtigungen\n",
    "* Merkmale der Umgebung\n",
    "\n",
    "Microsofts [Inclusive Design](https://www.microsoft.com/design/inclusive/)-Methodik umfasst diesen breiteren Ansatz."
   ]
  },
  {
   "cell_type": "markdown",
   "id": "2e879834-c126-4354-8377-f0f3b79632d6",
   "metadata": {
    "editable": true,
    "slideshow": {
     "slide_type": "fragment"
    },
    "tags": []
   },
   "source": [
    "[![Strichzeichnungen von verschiedenen Arten von Behinderungen](persona-spectrum-microsoft.png)](persona-spectrum-microsoft.png)\n",
    "\n",
    "Quelle: [Microsoft Inclusive Design Toolkit](https://download.microsoft.com/download/b/0/d/b0d4bf87-09ce-4417-8f28-d60703d672ed/inclusive_toolkit_manual_final.pdf)"
   ]
  },
  {
   "cell_type": "markdown",
   "id": "45cf85ad-98e0-4b85-997e-fc44b09a7aff",
   "metadata": {
    "editable": true,
    "slideshow": {
     "slide_type": "subslide"
    },
    "tags": []
   },
   "source": [
    "## 5. Accessibility\n",
    "\n",
    "### Web-Accessibility"
   ]
  },
  {
   "cell_type": "markdown",
   "id": "94c6d8a1-6775-426e-84cb-dbf95ec4cdcd",
   "metadata": {
    "editable": true,
    "slideshow": {
     "slide_type": "notes"
    },
    "tags": []
   },
   "source": [
    "Insbesondere für Menschen mit Sehbehinderungen finden am Bildschirm bessere Möglichkeiten vor:\n",
    "\n",
    "* Kontrast vergrößern\n",
    "* Schriftgröße anpassen\n",
    "* in die Dokumente hineinzoomen\n",
    "* Ausgabe auf ein Brailledisplay\n",
    "* Vorlesen lassen"
   ]
  },
  {
   "cell_type": "markdown",
   "id": "282ff955-50f8-450c-81e9-c0c34296d4aa",
   "metadata": {
    "editable": true,
    "slideshow": {
     "slide_type": "subslide"
    },
    "tags": []
   },
   "source": [
    "## 5. Accessibility\n",
    "\n",
    "### Accessibility standards"
   ]
  },
  {
   "cell_type": "markdown",
   "id": "386639a7-ee11-418e-aa68-30b858458bb1",
   "metadata": {
    "editable": true,
    "slideshow": {
     "slide_type": "fragment"
    },
    "tags": []
   },
   "source": [
    "Web Content Accessibility Guidelines ([WCAG](https://www.w3.org/WAI/standards-guidelines/wcag/))"
   ]
  },
  {
   "cell_type": "markdown",
   "id": "e770c0bd-926a-401c-8947-aea5f6f9df8b",
   "metadata": {
    "editable": true,
    "raw_mimetype": "",
    "slideshow": {
     "slide_type": "fragment"
    },
    "tags": []
   },
   "source": [
    "Version 2.0 wurde 2008 veröffentlicht und enthielt vier Zugänglichkeitsgrundsätze, die auch als **POUR-Prinzipien** bezeichnet werden."
   ]
  },
  {
   "cell_type": "markdown",
   "id": "cfed7068-59ef-4334-b8c2-c75284cfc22f",
   "metadata": {
    "editable": true,
    "raw_mimetype": "",
    "slideshow": {
     "slide_type": "fragment"
    },
    "tags": []
   },
   "source": [
    "* **P**erceivable (wahrnehmbar)"
   ]
  },
  {
   "cell_type": "markdown",
   "id": "f34181a2-fa3b-42c1-aea1-97aedd9a7be5",
   "metadata": {
    "editable": true,
    "raw_mimetype": "",
    "slideshow": {
     "slide_type": "fragment"
    },
    "tags": []
   },
   "source": [
    "* **O**perable (bedienbar)"
   ]
  },
  {
   "cell_type": "markdown",
   "id": "4217e7f2-6c27-4567-b7ba-9b8b35bd36bc",
   "metadata": {
    "editable": true,
    "raw_mimetype": "",
    "slideshow": {
     "slide_type": "notes"
    },
    "tags": []
   },
   "source": [
    "Beispiele:\n",
    "\n",
    "* auch mit der Tastatur bedienbar\n",
    "*  kein Zeitlimit für den Abschluss von Interaktionen"
   ]
  },
  {
   "cell_type": "markdown",
   "id": "49ba8493-7a8d-484b-96b7-81518a69eca9",
   "metadata": {
    "editable": true,
    "raw_mimetype": "",
    "slideshow": {
     "slide_type": "fragment"
    },
    "tags": []
   },
   "source": [
    "* **U**nderstandable (verständlich)"
   ]
  },
  {
   "cell_type": "markdown",
   "id": "b9fcb29e-aeb5-4d99-a17b-983aa1d4b201",
   "metadata": {
    "editable": true,
    "raw_mimetype": "",
    "slideshow": {
     "slide_type": "notes"
    },
    "tags": []
   },
   "source": [
    "Beispiele:\n",
    "\n",
    "* klar und leicht verständlicher Text\n",
    "* konsistentes und vorhersehbares User Interface\n",
    "* schnelles Feedback beim Ausfüllen von Formularen"
   ]
  },
  {
   "cell_type": "markdown",
   "id": "a054c74b-64b1-4822-971d-af03e33c53a8",
   "metadata": {
    "editable": true,
    "raw_mimetype": "",
    "slideshow": {
     "slide_type": "fragment"
    },
    "tags": []
   },
   "source": [
    "* **R**obust"
   ]
  },
  {
   "cell_type": "markdown",
   "id": "e36c5d2e-5cfb-4d25-9ab6-25595402b9a7",
   "metadata": {
    "editable": true,
    "raw_mimetype": "",
    "slideshow": {
     "slide_type": "notes"
    },
    "tags": []
   },
   "source": [
    "zuverlässig mit einer Vielzahl von Webbrowsern und anderen Softwareprogrammen (Screenreadern) interpretierbar"
   ]
  },
  {
   "cell_type": "markdown",
   "id": "1c21ef82-f985-486b-b6a5-023d266fc8b2",
   "metadata": {
    "editable": true,
    "slideshow": {
     "slide_type": "subslide"
    },
    "tags": []
   },
   "source": [
    "## 5. Accessibility\n",
    "\n",
    "### Accessibility standards\n",
    "\n",
    "WCAG 2.0 – und auch die aktuelle empfohlene Version 2.1 – hat drei Konformitätsstufen:"
   ]
  },
  {
   "cell_type": "markdown",
   "id": "5882080a-ac39-4781-b895-d7dc200b94d8",
   "metadata": {
    "editable": true,
    "slideshow": {
     "slide_type": "fragment"
    },
    "tags": []
   },
   "source": [
    "A: minimale Konformität\n",
    ": Einige der Anforderungen, um diese Stufe zu erreichen, sind\n",
    ": * Alle Nicht-Text-Inhalte, wie Bilder und Videos, sollten eine Textalternative haben.\n",
    ": * Aufgezeichnete Video- und Audioinhalte sollten mit Untertiteln versehen sein.\n",
    ": * Der Inhalt einer Seite sollte nur mit einer Tastatur navigierbar sein\n",
    ": * Die Seite sollte einen eindeutigen Titel haben und eine Sprache zugewiesen bekommen."
   ]
  },
  {
   "cell_type": "markdown",
   "id": "c5ba0c65-9fcb-4db6-aef1-d26e62f10503",
   "metadata": {
    "editable": true,
    "slideshow": {
     "slide_type": "subslide"
    },
    "tags": []
   },
   "source": [
    "## 5. Accessibility\n",
    "\n",
    "### Accessibility standards\n",
    "\n",
    "WCAG 2.0 – und auch die aktuelle empfohlene Version 2.1 – hat drei Konformitätsstufen:\n",
    "\n",
    "AA: akzeptable Konformität\n",
    ": Zusätzlich zu allen Anforderungen der Stufe A gelten für die Stufe AA folgende Anforderungen\n",
    ": * Live-Videos haben Untertitel\n",
    ": * Das Kontrastverhältnis zwischen Text und Hintergrund sollte mindestens 4,5:1 betragen.\n",
    ": * Der Text sollte bis zu 200% vergrößert werden können, ohne dass Inhalt oder Funktionalität verloren gehen.\n",
    ": * Es sollten keine Bilder von Text verwendet werden\n",
    ": * Der Tastaturfokus ist immer deutlich sichtbar\n",
    ": * Vorschlag einer Korrektur, wenn ein Fehler gemacht wurde"
   ]
  },
  {
   "cell_type": "markdown",
   "id": "bba81949-2319-4b6d-8ee9-69483b7ebe59",
   "metadata": {
    "editable": true,
    "slideshow": {
     "slide_type": "subslide"
    },
    "tags": []
   },
   "source": [
    "## 5. Accessibility\n",
    "\n",
    "### Accessibility standards\n",
    "\n",
    "WCAG 2.0 – und auch die aktuelle empfohlene Version 2.1 – hat drei Konformitätsstufen:\n",
    "\n",
    "AAA: optimale Übereinstimmung\n",
    ": Diese Stufe erfordert alle Merkmale der Stufen A und AA, plus (neben anderen Anforderungen):\n",
    ": * Gebärdensprachdolmetschung für Videos\n",
    ": * Das Kontrastverhältnis zwischen Text und Hintergrund sollte mindestens 7:1 betragen\n",
    ": * Die Benutzer müssen wissen, an welcher Stelle des Dokuments sie sich befinden.\n",
    ": * Das Leseniveau sollte so sein, dass Nutzer mit neun Jahren Schulbildung in der Lage sind, das Dokument zu lesen, und alle schwer auszusprechenden Wörter sollten erklärt werden.\n",
    ": * Elemente auf einer Seite sollten nicht geändert werden, es sei denn, dies wurde aktiv gefordert"
   ]
  },
  {
   "cell_type": "markdown",
   "id": "7c9e17f7-7848-42d0-b7cf-2142b46c1c20",
   "metadata": {
    "editable": true,
    "slideshow": {
     "slide_type": "subslide"
    },
    "tags": []
   },
   "source": [
    "## 5. Accessibility\n",
    "\n",
    "### Gesetze zur Barrierefreiheit\n",
    "\n",
    "2016\n",
    ": Die EU verabschiedete die Richtlinie zur Barrierefreiheit im Web:\n",
    ": * Alle Websites des öffentlichen Sektors müssen einheitliche Standards für die Barrierefreiheit umsetzen:\n",
    ": * Diese Standards basieren auf den WCAG mit der Konformitätsstufe AA."
   ]
  },
  {
   "cell_type": "markdown",
   "id": "b73f748d-110c-47bb-9cf4-96b1a284de21",
   "metadata": {
    "editable": true,
    "slideshow": {
     "slide_type": "fragment"
    },
    "tags": []
   },
   "source": [
    "2019\n",
    ": Das europäische Gesetz zur Barrierefreiheit wird verabschiedet.  Reichweite geht über Websites und Apps hinaus und umfasst auch Anforderungen für:\n",
    ": Computerbetriebssysteme, Smartphones, Bankdienstleistungen und mehr."
   ]
  },
  {
   "cell_type": "markdown",
   "id": "15dad117-dfe1-4d3d-8fd5-bc3b27da0903",
   "metadata": {
    "editable": true,
    "slideshow": {
     "slide_type": "fragment"
    },
    "tags": []
   },
   "source": [
    "2025\n",
    ": Unternehmen müssen das europäische Gesetz zur Barrierefreiheit umgesetzt haben."
   ]
  },
  {
   "cell_type": "markdown",
   "id": "1fb4ab40-3ff2-4471-a417-ce19e4456766",
   "metadata": {
    "editable": true,
    "slideshow": {
     "slide_type": "subslide"
    },
    "tags": []
   },
   "source": [
    "## 5. Accessibility\n",
    "\n",
    "### Datenvisualisierung ist Barrierefreiheit"
   ]
  },
  {
   "cell_type": "markdown",
   "id": "a09e1a48-4451-45ed-a00d-f1d0011d8299",
   "metadata": {
    "editable": true,
    "slideshow": {
     "slide_type": "notes"
    },
    "tags": []
   },
   "source": [
    "Datenvisualisierung ist eine Form der unterstützenden Technologie:\n",
    "* Durch die Zuordnung von Zahlen und Daten zu Farbe, Größe und Position von visuellen Elementen werden die Trends und Proportionen in den Zahlen leichter zugänglich\n",
    "* Ohne sie wäre es sehr viel zeitaufwändiger und mühsamer, die Bedeutung der Zahlen zu erkennen,\n",
    "\n",
    "  vielleicht wäre es sogar überhaupt nicht möglich.\n",
    "\n",
    "Um die POUR-Grundsätze auf die Datenvisualisierung zu übertragen, wurden drei weitere Grundsätze hinzugefügt:"
   ]
  },
  {
   "cell_type": "markdown",
   "id": "d9348d8b-8407-4070-8f7f-e88820add1bb",
   "metadata": {
    "editable": true,
    "slideshow": {
     "slide_type": "subslide"
    },
    "tags": []
   },
   "source": [
    "## 5. Accessibility\n",
    "\n",
    "### Datenvisualisierung ist Barrierefreiheit\n",
    "\n",
    "#### POUR-CAF-Prinzipien"
   ]
  },
  {
   "cell_type": "markdown",
   "id": "9f4d0b26-2332-4574-aa5c-abcc1db648ab",
   "metadata": {
    "editable": true,
    "slideshow": {
     "slide_type": "fragment"
    },
    "tags": []
   },
   "source": [
    "* Compromising"
   ]
  },
  {
   "cell_type": "markdown",
   "id": "37177ffb-23cb-48ff-afd2-cbd177dc6435",
   "metadata": {
    "editable": true,
    "slideshow": {
     "slide_type": "fragment"
    },
    "tags": []
   },
   "source": [
    "* Assistive"
   ]
  },
  {
   "cell_type": "markdown",
   "id": "c5d045a0-bdff-4d5d-9bd8-25510ba7ad69",
   "metadata": {
    "editable": true,
    "slideshow": {
     "slide_type": "fragment"
    },
    "tags": []
   },
   "source": [
    "* Flexible"
   ]
  },
  {
   "cell_type": "markdown",
   "id": "2df5cc19-1669-4832-9dfd-c08873c709b2",
   "metadata": {
    "editable": true,
    "slideshow": {
     "slide_type": "notes"
    },
    "tags": []
   },
   "source": [
    "Die sog. POUR-CAF-Prinzipien wurden von den Entwicklern des [Chartability](https://chartability.fizz.studio)-Frameworks entwickelt.\n",
    "\n",
    "Dieses Framework stellt eine Reihe von Tests zur Gewährleistung der Zugänglichkeit von Visualisierungen und Schnittstellen bereit."
   ]
  },
  {
   "cell_type": "markdown",
   "id": "caf205f9-a969-408f-8c63-956acd5ae34b",
   "metadata": {
    "editable": true,
    "slideshow": {
     "slide_type": "subslide"
    },
    "tags": []
   },
   "source": [
    "## 5. Accessibility\n",
    "\n",
    "### Datenvisualisierung ist Barrierefreiheit\n",
    "\n",
    "#### POUR-CAF-Prinzipien: **P**erceivable (Wahrnehmbar)"
   ]
  },
  {
   "cell_type": "markdown",
   "id": "cf772f08-6b3c-4af1-ba44-a2d463996a8d",
   "metadata": {
    "editable": true,
    "slideshow": {
     "slide_type": "fragment"
    },
    "tags": []
   },
   "source": [
    "* Eine Visualisierung und ihre Botschaft sollte für Bildschirmlesegeräte zugänglich sein, so dass sie laut vorgelesen werden können. Dies kann technisch z.B. mit dem Alt-Text umgesetzt werden."
   ]
  },
  {
   "cell_type": "markdown",
   "id": "13ea9f6b-13a8-499c-a670-75dc24e586b5",
   "metadata": {
    "editable": true,
    "slideshow": {
     "slide_type": "fragment"
    },
    "tags": []
   },
   "source": [
    "* Für Menschen mit anderen Einschränkungen der Sehfähigkeit kann die Datenvisualisierung optimiert werden durch\n",
    "\n",
    "  * ausreichend große Schriftgrößen, genauer, die Schriftgröße des Textes durch konfigurierbar sein.\n",
    "  * die verwendeten Farben sollten auch für Farbenblinde genügend kontrast aufweisen."
   ]
  },
  {
   "cell_type": "markdown",
   "id": "0e0ebd8f-cb17-4278-b936-29f22d7c9746",
   "metadata": {
    "editable": true,
    "slideshow": {
     "slide_type": "fragment"
    },
    "tags": []
   },
   "source": [
    "* Mit direkter Beschriftung anstelle einer separaten Legende könnt ihr Merkmale deutlicher kennzeichnen."
   ]
  },
  {
   "cell_type": "markdown",
   "id": "99f40a04-49ee-481e-8436-55a26ba5abf4",
   "metadata": {
    "editable": true,
    "slideshow": {
     "slide_type": "subslide"
    },
    "tags": []
   },
   "source": [
    "## 5. Accessibility\n",
    "\n",
    "### Datenvisualisierung ist Barrierefreiheit\n",
    "\n",
    "#### POUR-CAF-Prinzipien: **P**erceivable (Wahrnehmbar)\n",
    "\n",
    "[![Direkte Beschriftungen](chart-label.png)](chart-label.png)"
   ]
  },
  {
   "cell_type": "markdown",
   "id": "0675e04b-7614-4363-8701-b78d31f7cca9",
   "metadata": {
    "editable": true,
    "slideshow": {
     "slide_type": "subslide"
    },
    "tags": []
   },
   "source": [
    "## 5. Accessibility\n",
    "\n",
    "### Datenvisualisierung ist Barrierefreiheit\n",
    "\n",
    "#### POUR-CAF-Prinzipien: **P**erceivable (Wahrnehmbar)\n",
    "\n",
    "* Das Kontrastverhältnis zwischen geometrischen Elementen wie Balken und Kreisen und ihrem Hintergrund sollte größer als 3:1 sein."
   ]
  },
  {
   "cell_type": "markdown",
   "id": "084750b6-bdb7-48fa-b0cf-3cbe302a59af",
   "metadata": {
    "editable": true,
    "slideshow": {
     "slide_type": "fragment"
    },
    "tags": []
   },
   "source": [
    "* Das Kontrastverhältnis zwischen Text und Hintergrund sollte größer als 4,5:1 sein."
   ]
  },
  {
   "cell_type": "markdown",
   "id": "c1f3fe74-1a73-49bd-854f-eff80f9db16c",
   "metadata": {
    "editable": true,
    "slideshow": {
     "slide_type": "fragment"
    },
    "tags": []
   },
   "source": [
    "* Die grafischen Elemente eines Diagramms sollten ausreichend groß sein, damit sie wahrgenommen werden können.\n",
    "\n",
    "  * Linien sollten eine ausreichend große Strichstärke haben\n",
    "  * Punkte sollten einen ausreichend großen Radius haben\n",
    "  * Balken sollten nicht zu dünn sein"
   ]
  },
  {
   "cell_type": "markdown",
   "id": "e7c0069b-b058-48d6-9f89-ec4adaf1d838",
   "metadata": {
    "editable": true,
    "slideshow": {
     "slide_type": "fragment"
    },
    "tags": []
   },
   "source": [
    "* Um die Wahrnehmung benachbarter Elemente bei der Visualisierung zu erleichtern, sollten die Elemente durch weißen Raum voneinander getrennt werden."
   ]
  },
  {
   "cell_type": "markdown",
   "id": "49d804e6-e5d3-47c4-9c9b-8d4da5bc29c6",
   "metadata": {
    "editable": true,
    "slideshow": {
     "slide_type": "subslide"
    },
    "tags": []
   },
   "source": [
    "## 5. Accessibility\n",
    "\n",
    "### Datenvisualisierung ist Barrierefreiheit\n",
    "\n",
    "#### POUR-CAF-Prinzipien: **P**erceivable (Wahrnehmbar)\n",
    "\n",
    "[![Balkendiagramm mit weißer Umrisslinie](stacked-bars-outlines.png)](stacked-bars-outlines.png)\n",
    "\n",
    "Quelle: Maarten Lambrechts"
   ]
  },
  {
   "cell_type": "markdown",
   "id": "0465c0f3-1a9a-44ff-a65e-1768c480071e",
   "metadata": {
    "editable": true,
    "slideshow": {
     "slide_type": "subslide"
    },
    "tags": []
   },
   "source": [
    "## 5. Accessibility\n",
    "\n",
    "### Datenvisualisierung ist Barrierefreiheit\n",
    "\n",
    "#### POUR-CAF-Prinzipien: **P**erceivable (Wahrnehmbar)\n",
    "\n",
    "* Jeder Text in einer Visualisierung sollte andere Diagrammelemente nicht überlagern.\n",
    "\n",
    "  Wenn Text über anderen Elementen platziert wird, sollte er eine eigene Hintergrundfarbe haben, um die Lesbarkeit zu gewährleisten (→ * [Halo (Lichthöfe)](#/1/26))."
   ]
  },
  {
   "cell_type": "markdown",
   "id": "49c1963b-6cea-4a64-84eb-ba78f2da8389",
   "metadata": {
    "editable": true,
    "slideshow": {
     "slide_type": "subslide"
    },
    "tags": []
   },
   "source": [
    "## 5. Accessibility\n",
    "\n",
    "### Datenvisualisierung ist Barrierefreiheit\n",
    "\n",
    "#### POUR-CAF-Prinzipien: **O**perable"
   ]
  },
  {
   "cell_type": "markdown",
   "id": "d6b474b0-25fe-4d5e-a4f8-866babd47b0d",
   "metadata": {
    "editable": true,
    "slideshow": {
     "slide_type": "notes"
    },
    "tags": []
   },
   "source": [
    "Dieses Prinzip bezieht sich hauptsächlich auf die interaktive Datenvisualisierung.\n",
    "\n",
    "* Jede Interaktion, die mit der Maus möglich ist, sollte auch mit der Tastatur möglich sein. \n",
    "* Der Tastaturfokus sollte deutlich sichtbar sein.\n",
    "* Interaktive Elemente sollten so groß sein, dass sie leicht mit der Maus oder durch Berührung bedient werden können.\n",
    "\n",
    "  Wenn dies aufgrund der Beschaffenheit der Daten und des Diagrammtyps nicht möglich ist, sollte eine Alternative, z.B. eine Tabelle, präsentiert werden."
   ]
  },
  {
   "cell_type": "markdown",
   "id": "9d0bdd80-9f52-424c-959b-a5a42a350810",
   "metadata": {
    "editable": true,
    "slideshow": {
     "slide_type": "subslide"
    },
    "tags": []
   },
   "source": [
    "## 5. Accessibility\n",
    "\n",
    "### Datenvisualisierung ist Barrierefreiheit\n",
    "\n",
    "#### POUR-CAF-Prinzipien: **O**perable\n",
    "\n",
    "[![Ein Streudiagramm der US-Bundesstaaten auf der linken Seite, mit einer Tabelle, die die Daten auf der rechten Seite zeigt](small-marks-table-fivethirtyeight.png)](small-marks-table-fivethirtyeight.png)"
   ]
  },
  {
   "cell_type": "markdown",
   "id": "0e021029-3c85-4779-99cd-337d723f65f1",
   "metadata": {
    "editable": true,
    "slideshow": {
     "slide_type": "notes"
    },
    "tags": []
   },
   "source": [
    "Die interaktiven Funktionen sollten als solche erkennbar sein, und die Interaktivität sollte dem Nutzer erklärt werden."
   ]
  },
  {
   "cell_type": "markdown",
   "id": "038505e2-14f8-48f2-a2ea-8a9a38ec2cd4",
   "metadata": {
    "editable": true,
    "jp-MarkdownHeadingCollapsed": true,
    "slideshow": {
     "slide_type": "subslide"
    },
    "tags": []
   },
   "source": [
    "## 5. Accessibility\n",
    "\n",
    "### Datenvisualisierung ist Barrierefreiheit\n",
    "\n",
    "#### POUR-CAF-Prinzipien: **O**perable\n",
    "\n",
    "[![Das gleiche Streudiagramm und die gleiche Tabelle wie oben, mit einem zusätzlichen Zahlenschieberegler und drei Schaltflächen, die ein mögliches Szenario erklären](five-thirty-eight-button-explanation.png)](five-thirty-eight-button-explanation.png)"
   ]
  },
  {
   "cell_type": "markdown",
   "id": "3895fa60-8bee-4b2c-9c10-cc54944e4ab0",
   "metadata": {
    "editable": true,
    "slideshow": {
     "slide_type": "subslide"
    },
    "tags": []
   },
   "source": [
    "## 5. Accessibility\n",
    "\n",
    "### Datenvisualisierung ist Barrierefreiheit\n",
    "\n",
    "#### POUR-CAF-Prinzipien: **U**nderstandable"
   ]
  },
  {
   "cell_type": "markdown",
   "id": "04bf8dec-1678-4c7b-8a36-713c13e0d01a",
   "metadata": {
    "editable": true,
    "slideshow": {
     "slide_type": "notes"
    },
    "tags": []
   },
   "source": [
    "Eine Visualisierung macht keinen Sinn, wenn sie nicht verstanden wird.\n",
    "\n",
    "Ein Diagramm verständlicher zu machen, kann auf viele Arten geschehen:\n",
    "\n",
    "Der Titel des Diagramms sollte die Kernaussage des Diagramms enthalten."
   ]
  },
  {
   "cell_type": "markdown",
   "id": "662c8bea-59ff-4e0f-a828-1f91de996410",
   "metadata": {
    "editable": true,
    "slideshow": {
     "slide_type": "fragment"
    },
    "tags": []
   },
   "source": [
    "[![CO, Werte in einem besetzten Konferenzraum am 4. Juni 2019](ingraham-co2-levels.jpg)](ingraham-co2-levels.jpg)\n",
    "\n",
    "Quelle: [Christopher Ingraham](https://twitter.com/_cingraham/status/1136626313375039494)"
   ]
  },
  {
   "cell_type": "markdown",
   "id": "4a5d5cf0-1e4d-4f07-bdfb-119204c341e0",
   "metadata": {
    "editable": true,
    "slideshow": {
     "slide_type": "notes"
    },
    "tags": []
   },
   "source": [
    "Der verwendete Text sollte klar und frei von Jargon und Akronymen sein."
   ]
  },
  {
   "cell_type": "markdown",
   "id": "b48fde62-c5a6-40b9-a37a-f2074cef3887",
   "metadata": {
    "editable": true,
    "slideshow": {
     "slide_type": "notes"
    },
    "tags": []
   },
   "source": [
    "Komplexere Diagramme mit ungewöhnlichen Kodierungen oder mit mehr als zwei Dimensionen müssen gut erklärt werden.\n",
    "\n",
    "Die Komplexität der Visualisierung kann schrittweise gesteigert werden, indem die Kodierung Schritt für Schritt erklärt wird."
   ]
  },
  {
   "cell_type": "markdown",
   "id": "218c5740-5366-4811-b4e2-525fa0c95a4c",
   "metadata": {
    "editable": true,
    "slideshow": {
     "slide_type": "subslide"
    },
    "tags": []
   },
   "source": [
    "## 5. Accessibility\n",
    "\n",
    "### Datenvisualisierung ist Barrierefreiheit\n",
    "\n",
    "#### POUR-CAF-Prinzipien: **U**nderstandable\n",
    "\n",
    "[![Brexit banking ](preteaching-ft.png)](preteaching-ft.png)\n",
    "\n",
    "Quelle: [Frankfurt vies for UK banking jobs post-Brexit](https://www.ft.com/content/3f3ce35e-8c9b-11e6-8aa5-f79f5696c731)"
   ]
  },
  {
   "cell_type": "markdown",
   "id": "8c33d44f-5085-4e1e-aaaa-feeb0a42bb23",
   "metadata": {
    "editable": true,
    "slideshow": {
     "slide_type": "subslide"
    },
    "tags": []
   },
   "source": [
    "## 5. Accessibility\n",
    "\n",
    "### Datenvisualisierung ist Barrierefreiheit\n",
    "\n",
    "#### POUR-CAF-Prinzipien: **R**obust"
   ]
  },
  {
   "cell_type": "markdown",
   "id": "0197eaf2-e68d-4265-8c58-05e9685112a6",
   "metadata": {
    "editable": true,
    "slideshow": {
     "slide_type": "notes"
    },
    "tags": []
   },
   "source": [
    "Inhalte sollen in einem standardkonformen Format veröffentlicht werden, so dass das Publikum die freie Wahl der Technologie hat.\n",
    "\n",
    "Datenvisualisierungen im sollten den Web Content Accessibility Guidelines (WCAG) entsprechen."
   ]
  },
  {
   "cell_type": "markdown",
   "id": "a682c850-79f0-4790-a252-73ebd0971d67",
   "metadata": {
    "editable": true,
    "slideshow": {
     "slide_type": "subslide"
    },
    "tags": []
   },
   "source": [
    "## 5. Accessibility\n",
    "\n",
    "### Datenvisualisierung ist Barrierefreiheit\n",
    "\n",
    "#### POUR-CAF-Prinzipien: **C**ompromising"
   ]
  },
  {
   "cell_type": "markdown",
   "id": "656ea5ad-812f-4d8b-a876-6d00d309109d",
   "metadata": {
    "editable": true,
    "slideshow": {
     "slide_type": "notes"
    },
    "tags": []
   },
   "source": [
    "Alternative Wege zur Navigation und Informationsaufnahme sollen möglich sein, ohne den Inhalt und die Bedeutung zu beeinträchtigen.\n",
    "\n",
    "Eine einfache Alternative ist, die Daten in Form einer Tabelle bereitzustellen und einen Download anzubieten, so dass die Daten den jeweiligen Bedüfnissen entsprechend umgewandelt werden können.\n",
    "\n",
    "Wenn Visualisierungen in eine größere Erzählung eingebettet sind oder wenn eine Visualisierung interaktiv mit Steuerelementen wie Zoom und Filter erschlossen werden können, kann es schwierig werden, den übergeordneten Kontext zu erinnern.\n",
    "\n",
    "Brotkrümel und die Möglichkeit, in der Historie zu navigieren, können diese Probleme lösen.\n",
    "\n",
    "Ähnlich sollten interaktive Dashboards über Schaltflächen zum „Rückgängigmachen“ und „Wiederholen“ verfügen."
   ]
  },
  {
   "cell_type": "markdown",
   "id": "d2a83b8e-7f46-42b8-9dfa-e1935900d8f5",
   "metadata": {
    "editable": true,
    "slideshow": {
     "slide_type": "subslide"
    },
    "tags": []
   },
   "source": [
    "## 5. Accessibility\n",
    "\n",
    "### Datenvisualisierung ist Barrierefreiheit\n",
    "\n",
    "#### POUR-CAF-Prinzipien: **A**ssistive"
   ]
  },
  {
   "cell_type": "markdown",
   "id": "354b7fe7-50a2-4262-b8b4-688f8efd0e28",
   "metadata": {
    "editable": true,
    "slideshow": {
     "slide_type": "notes"
    },
    "tags": []
   },
   "source": [
    "Eine Datenvisualisierung sollte den kognitiven und funktionalen Aufwand, um sie zu verstehen oder zu nutzen, eine angemessene Datendichte haben sollte.\n",
    "\n",
    "Maßnahmen zur Verringerung der Datendichte einer Visualisierung sind\n",
    "\n",
    "* die Aggregation von Daten auf einer höheren Ebene zu verringern\n",
    "* die Unterteilung eines Diagramms in eine Reihe kleinerer Diagramme\n",
    "\n",
    "Für die Ausgabe eines Bildschirmlesegeräts sollten \n",
    "\n",
    "* große Blöcke mit sich wiederholenden Inhalten übersprungen werden können\n",
    "* die Anzahl der Interaktionen begrenzt werden"
   ]
  },
  {
   "cell_type": "markdown",
   "id": "0e7a032b-97fb-4a50-9f63-d2a59879ec6b",
   "metadata": {
    "editable": true,
    "slideshow": {
     "slide_type": "subslide"
    },
    "tags": []
   },
   "source": [
    "## 5. Accessibility\n",
    "\n",
    "### Datenvisualisierung ist Barrierefreiheit\n",
    "\n",
    "#### POUR-CAF-Prinzipien: **F**lexible"
   ]
  },
  {
   "cell_type": "markdown",
   "id": "eefa36d0-7818-42b8-a887-2b7dc8752335",
   "metadata": {
    "editable": true,
    "slideshow": {
     "slide_type": "notes"
    },
    "tags": []
   },
   "source": [
    "Die Gestaltung und Präsentation von Informationen sollte konfigurierbar sein.\n",
    "\n",
    "Benutzereinstellungen der Betriebssysteme, Browser und anderer Anwendungen, die für den Zugriff verwendet werden, sollten berücksichtigt werden."
   ]
  },
  {
   "cell_type": "markdown",
   "id": "bf63d75c-8797-44df-86c8-46519623c479",
   "metadata": {
    "editable": true,
    "slideshow": {
     "slide_type": "slide"
    },
    "tags": []
   },
   "source": [
    "## 6. The Grammar of Graphics"
   ]
  },
  {
   "cell_type": "markdown",
   "id": "bbed0513-61e3-46ab-8865-59c20ffe42dc",
   "metadata": {
    "editable": true,
    "slideshow": {
     "slide_type": "fragment"
    },
    "tags": []
   },
   "source": [
    "### 6.1 Grundlagen\n",
    "\n",
    "[![Cover des Buches The Grammar of Graphics von Leland Wilkinson](grammar-of-graphics_cover.jpg)](grammar-of-graphics_cover.jpg)"
   ]
  },
  {
   "cell_type": "markdown",
   "id": "06e03e66-00d3-4323-a411-0849364bef09",
   "metadata": {
    "editable": true,
    "slideshow": {
     "slide_type": "notes"
    },
    "tags": []
   },
   "source": [
    "Wilkinson war Statistiker und Informatiker und verbrachte einen Teil seiner Karriere mit der Entwicklung statistischer Grafiksoftware. Er verbrachte also viel Zeit damit, darüber nachzudenken, wie Diagramme und Visualisierungen erstellt werden, und eines seiner Ziele war es, eine Software zu entwickeln, mit der jede Art von Diagramm erstellt werden kann."
   ]
  },
  {
   "cell_type": "markdown",
   "id": "9455720d-7e98-42f5-a695-6f084855c204",
   "metadata": {
    "editable": true,
    "slideshow": {
     "slide_type": "subslide"
    },
    "tags": []
   },
   "source": [
    "## 6. The Grammar of Graphics\n",
    "\n",
    "### 6.1 Grundlagen\n",
    "\n",
    "> „Ich war entschlossen, ein Paket zu entwickeln, mit dem ich jede statistische Grafik, die ich je gesehen hatte, zeichnen konnte.“\n",
    "\n",
    "– Leland Wilkinson, im Vorwort von *The Grammar of Graphics*"
   ]
  },
  {
   "cell_type": "markdown",
   "id": "04a100a0-7998-4ba0-97d9-87c8902f084b",
   "metadata": {
    "editable": true,
    "slideshow": {
     "slide_type": "notes"
    },
    "tags": []
   },
   "source": [
    "Um dieses Ziel zu erreichen, untersuchte Wilkinson die grundlegenden Strukturen, die bei der Erstellung verschiedener Diagrammtypen eine Rolle spielen. In *The Grammar of Graphics* beschreibt er die grundlegenden Bausteine der Datenvisualisierung.\n",
    "\n",
    "Wilkinson wollte die Regeln finden, um aus Daten verständliche und korrekte Visualisierungen zu konstruieren. Dabei geht es sowohl um Mathematik als auch um Ästhetik:"
   ]
  },
  {
   "cell_type": "markdown",
   "id": "681528c0-d8fb-498c-b632-f6d9ae7870f1",
   "metadata": {
    "editable": true,
    "slideshow": {
     "slide_type": "subslide"
    },
    "tags": []
   },
   "source": [
    "## 6. The Grammar of Graphics\n",
    "\n",
    "### 6.1 Grundlagen\n",
    "\n",
    "> „In diesem Buch geht es um grammatikalische Regeln für die Erstellung von wahrnehmbaren Diagrammen, oder wie ich es nenne: Grafiken. Diese Regeln sind manchmal mathematisch und manchmal ästhetisch. Die Mathematik liefert symbolische Werkzeuge zur Darstellung von Abstraktionen. Die Ästhetik, im ursprünglichen griechischen Sinne, bietet Prinzipien, um sensorische Attribute (Farbe, Form, Klang usw.) mit Abstraktionen in Beziehung zu setzen. Im modernen Sprachgebrauch kann Ästhetik auch Geschmack bedeuten. In diesem Buch geht es jedoch nicht um guten Geschmack, Praxis oder Grafikdesign. Im Mittelpunkt dieses Buches stehen vielmehr Regeln für die mathematische Konstruktion von Graphen und ihre anschließende ästhetische Darstellung als Grafik.“\n",
    "\n",
    "– Leland Wilkinson, im Vorwort von *The Grammar of Graphics*"
   ]
  },
  {
   "cell_type": "markdown",
   "id": "9a4a5055-17d1-427f-aa50-8da46daa4d26",
   "metadata": {
    "editable": true,
    "slideshow": {
     "slide_type": "notes"
    },
    "tags": []
   },
   "source": [
    "„The Grammar of Graphics“ führt viele abstrakte Konzepte ein und enthält abstrakten Pseudocode, um zu erklären, wie Datenvisualisierungen aufgebaut sind."
   ]
  },
  {
   "cell_type": "markdown",
   "id": "8f246a53-a0ae-40da-944c-cf27e9cc1cfe",
   "metadata": {
    "editable": true,
    "slideshow": {
     "slide_type": "subslide"
    },
    "tags": []
   },
   "source": [
    "## 6. The Grammar of Graphics\n",
    "\n",
    "### 6.1 Grundlagen\n",
    "\n",
    "[![Einige Pseudocodes und eine schematische Zeichnung, die erklärt, wie ein Tortendiagramm aus Daten erstellt wird](grammar-of-graphics_pie-chart-specification.png)](grammar-of-graphics_pie-chart-specification.png)"
   ]
  },
  {
   "cell_type": "markdown",
   "id": "6f9412a4-2260-45ef-834e-66c5b6c81e5d",
   "metadata": {
    "editable": true,
    "slideshow": {
     "slide_type": "subslide"
    },
    "tags": []
   },
   "source": [
    "## 6. The Grammar of Graphics\n",
    "\n",
    "### 6.2 Implementierungen"
   ]
  },
  {
   "cell_type": "markdown",
   "id": "fd81ffac-341c-4b1b-b292-4cc8219b866e",
   "metadata": {
    "editable": true,
    "slideshow": {
     "slide_type": "notes"
    },
    "tags": []
   },
   "source": [
    "*The Grammar of Graphics* war nicht dazu gedacht, ein echtes Softwareprogramm zu sein, mit dem jede erdenkliche Visualisierung erstellt werden kann. Die im Buch vorgestellten abstrakten Konzepte erwiesen sich jedoch als gute Grundlage für die Implementierung von *The Grammar of Graphics* und der Konzepte."
   ]
  },
  {
   "cell_type": "markdown",
   "id": "cae6b076-a50c-4c2d-8b6d-2f24d8fc6ef3",
   "metadata": {
    "editable": true,
    "slideshow": {
     "slide_type": "fragment"
    },
    "tags": []
   },
   "source": [
    "#### 6.2.1 plotnine"
   ]
  },
  {
   "cell_type": "markdown",
   "id": "da4d44b0-b0a8-4c68-850b-321024ce5a5c",
   "metadata": {
    "editable": true,
    "slideshow": {
     "slide_type": "notes"
    },
    "tags": []
   },
   "source": [
    "[plotnine](https://pyviz-tutorial.readthedocs.io/de/latest/matplotlib/plotnine/index.html) implementiert *The Grammar of Graphics* in Python basierend auf [ggplot2](https://ggplot2.tidyverse.org/)."
   ]
  },
  {
   "cell_type": "code",
   "execution_count": 1,
   "id": "74049d1b-fd58-4b1c-9527-c65ba5144878",
   "metadata": {
    "editable": true,
    "slideshow": {
     "slide_type": "skip"
    },
    "tags": []
   },
   "outputs": [],
   "source": [
    "from plotnine import *\n",
    "from plotnine.data import mtcars"
   ]
  },
  {
   "cell_type": "code",
   "execution_count": 2,
   "id": "f35de2fe-579d-4ab6-94e8-3013f1ba4b78",
   "metadata": {
    "editable": true,
    "slideshow": {
     "slide_type": "fragment"
    },
    "tags": []
   },
   "outputs": [
    {
     "data": {
      "image/png": "[encoded data removed]"
     },
     "metadata": {
      "image/png": {
       "height": 480,
       "width": 640
      }
     },
     "output_type": "display_data"
    }
   ],
   "source": [
    "(\n",
    "    ggplot(mtcars, aes(\"disp\", \"hp\", color=\"factor(gear)\"))\n",
    "    + geom_point(size = 3)\n",
    "    + scale_color_discrete(name = \"Cylinders\")\n",
    "    + ylab(\"Horsepower\")\n",
    "    + xlab(\"Engine displacement (cubic inch)\")\n",
    "    + ggtitle(\"Bigger engines have more power\")\n",
    "    + theme_minimal()\n",
    "    + theme(legend_position=\"top\")\n",
    ")"
   ]
  }
 ],
 "metadata": {
  "kernelspec": {
   "display_name": "Python 3 (ipykernel)",
   "language": "python",
   "name": "python3"
  },
  "language_info": {
   "codemirror_mode": {
    "name": "ipython",
    "version": 3
   },
   "file_extension": ".py",
   "mimetype": "text/x-python",
   "name": "python",
   "nbconvert_exporter": "python",
   "pygments_lexer": "ipython3",
   "version": "3.12.3"
  },
  "toc": {
   "base_numbering": 0
  },
  "widgets": {
   "application/vnd.jupyter.widget-state+json": {
    "state": {},
    "version_major": 2,
    "version_minor": 0
   }
  }
 },
 "nbformat": 4,
 "nbformat_minor": 5
}
