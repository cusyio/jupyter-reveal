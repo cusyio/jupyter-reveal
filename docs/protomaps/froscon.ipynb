{
 "cells": [
  {
   "cell_type": "markdown",
   "id": "bb8c3a16-f342-4a25-a754-ea39ac5be66a",
   "metadata": {
    "editable": true,
    "slideshow": {
     "slide_type": "slide"
    },
    "tags": []
   },
   "source": [
    "# Die Demokratisierung digitaler Karten\n",
    "\n",
    "<img src=\"../img/veit-duotone.png\" alt=\"Portrait Veit Schiele\" style=\"float: left; width:256px; margin-right:32px; border-radius: 50%;\"/>\n",
    "\n",
    "<p>Veit Schiele</p>\n",
    "<p>\n",
    "    • Gründer und Geschäftsführer der <a href=\"https://cusy.io/de\">cusy GmbH</a>, Berlin<br>\n",
    "    • Autor des <a href=\"https://www.python4data.science/de/latest/\">Python for Data Science Tutorials</a><br>\n",
    "    • Autor des <a href=\"https://python-basics-tutorial.readthedocs.io/de/latest/\">Python-Basics-Tutorial</a><br>\n",
    "    <img src=\"demokratisierung-digitaler-karten.svg\"\n",
    "         alt=\"QR-Code für die URL slides.cusy.io/protomaps/froscon.html\"/>\n",
    "</p>\n"
   ]
  },
  {
   "cell_type": "markdown",
   "id": "bd175181-28e9-4a41-a77f-e7ec419795fb",
   "metadata": {
    "editable": true,
    "slideshow": {
     "slide_type": "notes"
    },
    "tags": []
   },
   "source": [
    "Der Markt für digitale Kartendienste wird bislang von proprietären Anbietern wie\n",
    "Mapbox dominiert – mit hohen Lizenzgebühren, eingeschränkter Kontrolle über die\n",
    "Daten und einem starken Vendor-Lock-in. In diesem Artikel wird Protomaps als\n",
    "Open‑Source‑Alternative vorgestellt und dessen Potential für verschiedene\n",
    "Anwendungsfälle beleuchtet."
   ]
  },
  {
   "cell_type": "markdown",
   "id": "7e00e4af-3173-4753-a8c1-2cf1cb4dae45",
   "metadata": {
    "editable": true,
    "slideshow": {
     "slide_type": "slide"
    },
    "tags": []
   },
   "source": [
    "## Inhalt"
   ]
  },
  {
   "cell_type": "markdown",
   "id": "16836639-8ad2-42c7-9ebd-c6061c4211fc",
   "metadata": {
    "editable": true,
    "slideshow": {
     "slide_type": "fragment"
    },
    "tags": []
   },
   "source": [
    "1. Was ist Protomaps? Geschichte, Architektur, Datengrundlage und Verarbeitung, Überprüfen der Daten"
   ]
  },
  {
   "cell_type": "markdown",
   "id": "19f2cdac-3b1d-48c0-9780-bd9b3e321d7d",
   "metadata": {
    "editable": true,
    "slideshow": {
     "slide_type": "notes"
    },
    "tags": []
   },
   "source": [
    "Zunächst erfolgt eine kurze Einführung in Vector‑Tiles, die Grundidee hinter\n",
    "Protomaps sowie die wichtigsten Unterschiede zu herkömmlichen Raster‑ oder\n",
    "proprietären Tile‑Services. Anschließend wird der komplette Tool‑Stack von\n",
    "Protomaps – von den Open‑Source‑Datensätzen von OpenStreetMap, über die\n",
    "effiziente Tile‑Erzeugung, bis hin zur Auslieferung via HTTP/2 und dem schlanken\n",
    "PMTiles-Format – detaillierter beschrieben."
   ]
  },
  {
   "cell_type": "markdown",
   "id": "10c0c443-f531-4a73-8513-c95e0886e157",
   "metadata": {
    "editable": true,
    "slideshow": {
     "slide_type": "fragment"
    },
    "tags": []
   },
   "source": [
    "2. Deployment mit S3, Caddy oder nginx"
   ]
  },
  {
   "cell_type": "markdown",
   "id": "fe985a75-e004-483b-8a65-3dae1367b278",
   "metadata": {
    "editable": true,
    "slideshow": {
     "slide_type": "notes"
    },
    "tags": []
   },
   "source": [
    "Ein besonderer Fokus liegt auf dem Deployment."
   ]
  },
  {
   "cell_type": "markdown",
   "id": "0c31c1b2-ac8d-4878-873a-6d2d86bdb706",
   "metadata": {
    "editable": true,
    "slideshow": {
     "slide_type": "fragment"
    },
    "tags": []
   },
   "source": [
    "3. Integration mit gängigen Frontend‑Libraries wie MapLibre³, Leaflet⁴ und OpenLayers³⁶"
   ]
  },
  {
   "cell_type": "markdown",
   "id": "6238c15c-5c86-4f52-b64c-49777694107b",
   "metadata": {
    "editable": true,
    "slideshow": {
     "slide_type": "notes"
    },
    "tags": []
   },
   "source": [
    "Praktische Beispiele zeigen, wie eigene Tiles generiert werden können, wie\n",
    "Protomaps selbst gehostet und Datenschutzanforderungen erfüllt werden können."
   ]
  },
  {
   "cell_type": "markdown",
   "id": "da70f343-48c8-428a-8e2b-4f688429191b",
   "metadata": {
    "editable": true,
    "slideshow": {
     "slide_type": "fragment"
    },
    "tags": []
   },
   "source": [
    "4. Wofür könnt ihr Protomaps einsetzen … und wofür nicht?"
   ]
  },
  {
   "cell_type": "markdown",
   "id": "6ca77a7f-230f-4dd9-93f5-2ae814da9094",
   "metadata": {
    "editable": true,
    "slideshow": {
     "slide_type": "notes"
    },
    "tags": []
   },
   "source": [
    "Abschließend werden die wichtigsten Vorteile gegenüber Mapbox diskutiert –\n",
    "Kostenfreiheit, Datenkontrolle und Offline‑Fähigkeit – sowie ein kurzer Ausblick\n",
    "auf zukünftige Entwicklungen im Open‑Source‑Kartierungsökosystem gegeben."
   ]
  },
  {
   "cell_type": "markdown",
   "id": "8e5b0e20-fe78-4bcd-8510-66ff3badec90",
   "metadata": {
    "editable": true,
    "slideshow": {
     "slide_type": "fragment"
    },
    "tags": []
   },
   "source": [
    "5. Zum Weiterlesen"
   ]
  },
  {
   "cell_type": "markdown",
   "id": "ee7d8b4a-e9a2-4aaa-82f3-902cf97b8cb2",
   "metadata": {
    "editable": true,
    "slideshow": {
     "slide_type": "notes"
    },
    "tags": []
   },
   "source": [
    "Der Schwerpunkt von Protomaps liegt ausschließlich auf kachelbasierter Kartografie und interaktiver Visualisierung.\n",
    "\n",
    "Es gibt jedoch auch Erweiterungen für Geokodierung und Routing:\n",
    "\n",
    "* Geokodierung\n",
    "  * Nominatim\n",
    "  * Photon\n",
    "  * Pelias\n",
    "\n",
    "* Routing\n",
    "  * Valhalla\n",
    "  * OpenTripPlanner"
   ]
  },
  {
   "cell_type": "markdown",
   "id": "aa10ccc2-118a-4cec-b3e2-3ba7c7bec33e",
   "metadata": {
    "editable": true,
    "slideshow": {
     "slide_type": "slide"
    },
    "tags": []
   },
   "source": [
    "## 1. Was ist Protomaps?"
   ]
  },
  {
   "cell_type": "markdown",
   "id": "7f9e1ea7-a07b-415e-8a56-c0ab6e9bdb9e",
   "metadata": {
    "editable": true,
    "slideshow": {
     "slide_type": "fragment"
    },
    "tags": []
   },
   "source": [
    "Protomaps¹ ist ein Open‑Source‑Ökosystem zur"
   ]
  },
  {
   "cell_type": "markdown",
   "id": "b6caff0f-2ad5-48ce-9c35-ea9e7356dce5",
   "metadata": {
    "editable": true,
    "slideshow": {
     "slide_type": "notes"
    },
    "tags": []
   },
   "source": [
    "Während herkömmliche Kartendienste wie Mapbox⁵ ihre Daten als proprietären\n",
    "Service vermarkten, liefert Protomaps eine komplette Open-Source-Lösung:"
   ]
  },
  {
   "cell_type": "markdown",
   "id": "6d669215-401e-493a-9331-7e29d3709bd7",
   "metadata": {
    "editable": true,
    "slideshow": {
     "slide_type": "fragment"
    },
    "tags": []
   },
   "source": [
    "1. Erstellung"
   ]
  },
  {
   "cell_type": "markdown",
   "id": "a91ca42d-283b-42bc-9161-d70861b99a2c",
   "metadata": {
    "editable": true,
    "slideshow": {
     "slide_type": "notes"
    },
    "tags": []
   },
   "source": [
    "Entwickler können Geodaten z.B. aus OpenStreetMap², Natural Earth oder aus GeoJSON o.ä. einlesen"
   ]
  },
  {
   "cell_type": "markdown",
   "id": "22d45823-7da5-4de3-ac3b-a3c41d7be707",
   "metadata": {
    "editable": true,
    "slideshow": {
     "slide_type": "fragment"
    },
    "tags": []
   },
   "source": [
    "2. Speicherung"
   ]
  },
  {
   "cell_type": "markdown",
   "id": "1bb3553b-ca95-4439-8de9-44fccbdec8e0",
   "metadata": {
    "editable": true,
    "slideshow": {
     "slide_type": "notes"
    },
    "tags": []
   },
   "source": [
    "Die Speicherung erfolgt im effizienten PMTiles-Format"
   ]
  },
  {
   "cell_type": "markdown",
   "id": "bde85002-8f49-463c-8a8d-a47bff09c408",
   "metadata": {
    "editable": true,
    "slideshow": {
     "slide_type": "fragment"
    },
    "tags": []
   },
   "source": [
    "3. Auslieferung von Vektor‑Kacheln"
   ]
  },
  {
   "cell_type": "markdown",
   "id": "c84b434d-b129-482f-983b-24b494013999",
   "metadata": {
    "editable": true,
    "slideshow": {
     "slide_type": "notes"
    },
    "tags": []
   },
   "source": [
    "die resultierenden Kacheln können über einen leichtgewichtigen HTTP/2‑Server ausgeliefert werden."
   ]
  },
  {
   "cell_type": "markdown",
   "id": "c445c1f5-bebb-416a-9ed6-7b8a57d603e6",
   "metadata": {
    "editable": true,
    "slideshow": {
     "slide_type": "subslide"
    },
    "tags": []
   },
   "source": [
    "## 1. Was ist Protomaps?\n",
    "\n",
    "### 1.A Wie alles begann"
   ]
  },
  {
   "cell_type": "markdown",
   "id": "a7f3a087-39fc-427c-a8f9-cafe3c5792ba",
   "metadata": {
    "editable": true,
    "slideshow": {
     "slide_type": "notes"
    },
    "tags": []
   },
   "source": [
    "Das Protomaps-Projekt wurde von einer Einzelperson Brandon Liu (`@bdon`⁷) ins\n",
    "Leben gerufen, die auch weiterhin die Hauptverantwortung für die Pflege trägt.\n",
    "\n",
    "Das Projekt wurde durch den NGI Zero Core Fund finanziert⁸."
   ]
  },
  {
   "cell_type": "markdown",
   "id": "3cce4973-7d55-4324-ba96-3f8672e4e326",
   "metadata": {
    "editable": true,
    "slideshow": {
     "slide_type": "fragment"
    },
    "tags": []
   },
   "source": [
    "### … und wie es weiterging"
   ]
  },
  {
   "cell_type": "markdown",
   "id": "782d488d-11d3-4c72-b56c-4e27f748b2ea",
   "metadata": {
    "editable": true,
    "slideshow": {
     "slide_type": "notes"
    },
    "tags": []
   },
   "source": [
    "Heute übernimmt GitHub Sponsors die Kosten für die Infrastruktur, wie z.B.\n",
    "den Betrieb der API und den Cloud-Speicher."
   ]
  },
  {
   "cell_type": "markdown",
   "id": "d10b642f-ea7b-4b69-a23a-be2ea1092211",
   "metadata": {
    "editable": true,
    "slideshow": {
     "slide_type": "subslide"
    },
    "tags": []
   },
   "source": [
    "## 1. Was ist Protomaps?\n",
    "### 1.B Architektur"
   ]
  },
  {
   "cell_type": "markdown",
   "id": "73288ea8-24fb-4112-8613-5352a5941fe4",
   "metadata": {
    "editable": true,
    "slideshow": {
     "slide_type": "fragment"
    },
    "tags": []
   },
   "source": [
    "Ein Protomaps-Service besteht aus drei Hauptkomponenten:"
   ]
  },
  {
   "cell_type": "markdown",
   "id": "1b33ebd8-6037-49fe-8430-efbea5033e23",
   "metadata": {
    "editable": true,
    "slideshow": {
     "slide_type": "fragment"
    },
    "tags": []
   },
   "source": [
    "| Komponente | Zweck |\n",
    "| :--- | :--- |\n",
    "| PMTiles erstellen | Einlesen von Geo‑Daten und Generieren der Tiles, z.B. in einer CI/CD‑Pipeline |\n",
    "| PMTiles‑Store | Persistente Speicherung der `*.pmtiles`-Dateien z.B. in einem S3-kompatiblen Speicherplattform, die HTTP Range Requests und Cross-Origin Resource Sharing (CORS) unterstützt |\n",
    "| PMTiles‑Server | HTTP/2‑basierter Web‑Server, der Caching und Range‑Requests unterstützt, z.B. Caddy oder nginx |"
   ]
  },
  {
   "cell_type": "markdown",
   "id": "cd96a513-4149-42ab-9412-3fbfd69ab9a9",
   "metadata": {
    "editable": true,
    "slideshow": {
     "slide_type": "notes"
    },
    "tags": []
   },
   "source": [
    "Hier zeigt sich schön, wie Protomaps die Unix-Philosophie umsetzt\n",
    "\n",
    "> *„Mache nur eine Sache und mache sie gut“*\n",
    "\n",
    "Zentral ist das PMTiles-Format, für Speicher und Web-Server werden andere bekannte\n",
    "Technologien verwendet."
   ]
  },
  {
   "cell_type": "markdown",
   "id": "356f5cbb-d835-4a9b-8f3b-6100a9404395",
   "metadata": {
    "editable": true,
    "slideshow": {
     "slide_type": "subslide"
    },
    "tags": []
   },
   "source": [
    "## 1. Was ist Protomaps?\n",
    "### 1.C Datengrundlage und Verarbeitung"
   ]
  },
  {
   "cell_type": "markdown",
   "id": "c6fa4007-4c9b-4ce9-968f-f5b2b7929a31",
   "metadata": {
    "editable": true,
    "slideshow": {
     "slide_type": "notes"
    },
    "tags": []
   },
   "source": [
    "* PMTiles ist ein Einzeldatei-Archivformat für pyramidal gekachelte Daten.\n",
    "* Die gekachelten Daten können über Z/X/Y-Koordinaten in HTTP Range Requests adressiert werden\n",
    "* Bei den Daten kann es sich um\n",
    "  * kartografische Basiskarten\n",
    "  * Fernerkundungsdaten\n",
    "  * JPEG-Bilder\n",
    "  * o.ä. handeln.\n",
    "\n",
    "* Die Kacheln und Verzeichnisse sind so angeordnet, dass der Aufwand beim\n",
    "  Verschieben und Zoomen minimiert wird.\n",
    "* PMTiles ist jedoch ein schreibgeschütztes Format, das es nicht möglich,\n",
    "  ein Archiv zu aktualisieren, ohne die gesamte Datei neu zu schreiben."
   ]
  },
  {
   "cell_type": "markdown",
   "id": "5e302f33-56da-48db-8ea1-1f2032764181",
   "metadata": {
    "editable": true,
    "slideshow": {
     "slide_type": "slide"
    },
    "tags": []
   },
   "source": [
    "## 1. Was ist Protomaps?\n",
    "### 1.D Datenquellen"
   ]
  },
  {
   "cell_type": "markdown",
   "id": "d5ae9c64-1389-40d5-9990-a2567ba34901",
   "metadata": {
    "editable": true,
    "slideshow": {
     "slide_type": "fragment"
    },
    "tags": []
   },
   "source": [
    "* Basiskarten aus OpenStreetMap⁶- und Natural Earth¹³-Daten"
   ]
  },
  {
   "cell_type": "markdown",
   "id": "c4c36545-4c0c-4ccf-b3b0-391a54c76c66",
   "metadata": {
    "editable": true,
    "slideshow": {
     "slide_type": "notes"
    },
    "tags": []
   },
   "source": [
    "Die bereitgestellten Basiskarten verwenden OpenStreetMap- und Natural\n",
    "Earth-Daten zur Generierung der `*.pmtiles`-Dateien.\n",
    "\n",
    "Es enthält jedoch nicht alle Daten und Tags aus OSM, sondern versucht\n",
    "ein Gleichgewicht zwischen Kachelgröße und Vollständigkeit herzustellen,\n",
    "damit es als allgemeine Karte verwendet werden kann."
   ]
  },
  {
   "cell_type": "markdown",
   "id": "54c07f6e-eb68-4597-a8dd-50744cd933f6",
   "metadata": {
    "editable": true,
    "slideshow": {
     "slide_type": "fragment"
    },
    "tags": []
   },
   "source": [
    "* Eigene Karten mit `github.com/protomaps/basemaps`"
   ]
  },
  {
   "cell_type": "markdown",
   "id": "bb031cc4-7ac1-400d-ae85-eb4bd9326fd7",
   "metadata": {
    "editable": true,
    "slideshow": {
     "slide_type": "notes"
    },
    "tags": []
   },
   "source": [
    "Das Repository enthält ein Java-Planetiler-Profil zum Erstellen von PMTiles. So\n",
    "lassen sich z.B. mit `addr_housenumber` für `kind=address` auch die Hausnummern\n",
    "übernehmen.\n",
    "\n",
    "Die Organisation der Ebenen und Tags basiert auf dem Open-Source-Projekt Tilezen\n",
    "und ist in Basemap Layers dokumentiert."
   ]
  },
  {
   "cell_type": "markdown",
   "id": "106b2f96-9c8b-434a-baac-dbca964abe64",
   "metadata": {
    "editable": true,
    "slideshow": {
     "slide_type": "fragment"
    },
    "tags": []
   },
   "source": [
    "* Ausschnitte aus diesen Karten mit `pmtiles extract`¹⁸"
   ]
  },
  {
   "cell_type": "markdown",
   "id": "1ccc22eb-267b-4e92-8fdc-27678391ef23",
   "metadata": {
    "editable": true,
    "slideshow": {
     "slide_type": "fragment"
    },
    "tags": []
   },
   "source": [
    "* `pmtiles convert`¹⁹ konvertiert MBTiles-Archive in PMTiles"
   ]
  },
  {
   "cell_type": "markdown",
   "id": "4722804d-4ca3-4a3c-b9a6-33c8834eb77a",
   "metadata": {
    "editable": true,
    "slideshow": {
     "slide_type": "fragment"
    },
    "tags": []
   },
   "source": [
    "* tippecanoe²⁰ kann auch GeoJSON-, FlatGeobuf- und anderen Dateiformaten"
   ]
  },
  {
   "cell_type": "markdown",
   "id": "4128af1c-9b31-4b3a-a3e0-255b0496c149",
   "metadata": {
    "editable": true,
    "slideshow": {
     "slide_type": "fragment"
    },
    "tags": []
   },
   "source": [
    "* rio-pmtiles²¹ ist ein Plugin für die Rasterio²²-Python-Bibliothek, mit dem\n",
    "  GeoTIFFs konvertiert werden können"
   ]
  },
  {
   "cell_type": "markdown",
   "id": "bea07987-e7df-4f9a-bb70-d9e015f43883",
   "metadata": {
    "editable": true,
    "slideshow": {
     "slide_type": "fragment"
    },
    "tags": []
   },
   "source": [
    "* GDAL ≥ 3.8.0 bietet native Unterstützung für PMTiles²³"
   ]
  },
  {
   "cell_type": "markdown",
   "id": "1b51a554-debd-470b-93b2-cb1cd80d143f",
   "metadata": {
    "editable": true,
    "slideshow": {
     "slide_type": "subslide"
    },
    "tags": []
   },
   "source": [
    "## 1. Was ist Protomaps?\n",
    "### 1.E Überprüfen der Daten"
   ]
  },
  {
   "cell_type": "markdown",
   "id": "29df7731-4d24-4e90-8be3-63516be5c395",
   "metadata": {
    "editable": true,
    "slideshow": {
     "slide_type": "fragment"
    },
    "tags": []
   },
   "source": [
    "Überprüfen der erstellten Protomaps-Dateien mit `pmtiles verify\n",
    "{NAME}.pmtiles` "
   ]
  },
  {
   "cell_type": "markdown",
   "id": "3b114310-5cb5-4508-bf5d-cb74f0db9172",
   "metadata": {
    "editable": true,
    "slideshow": {
     "slide_type": "fragment"
    },
    "tags": []
   },
   "source": [
    "Header-Daten anzeigen lassen mit"
   ]
  },
  {
   "cell_type": "markdown",
   "id": "a3f0be56-3743-4a63-8880-7fb53dc89911",
   "metadata": {
    "editable": true,
    "slideshow": {
     "slide_type": "fragment"
    },
    "tags": []
   },
   "source": [
    "```console\n",
    "$ pmtiles show NAME.pmtiles  --header-json\n",
    "```"
   ]
  },
  {
   "cell_type": "markdown",
   "id": "75d613ea-a1a9-4104-948a-99b3b5ef08f0",
   "metadata": {
    "editable": true,
    "slideshow": {
     "slide_type": "fragment"
    },
    "tags": []
   },
   "source": [
    "```json\n",
    "{\n",
    "    \"tile_compression\": \"gzip\",\n",
    "    \"tile_type\": \"mvt\",\n",
    "    \"minzoom\": 0,\n",
    "    \"maxzoom\": 7,\n",
    "    \"bounds\": [\n",
    "        -176.684714,\n",
    "        -14.37374,\n",
    "        145.830418,\n",
    "        71.341223\n",
    "    ],\n",
    "    \"center\": [\n",
    "        -82.96875,\n",
    "        37.71024,\n",
    "        7\n",
    "    ]\n",
    "}\n",
    "```"
   ]
  },
  {
   "cell_type": "markdown",
   "id": "2978530f-3451-4b1e-9a7c-eca299a4b235",
   "metadata": {
    "editable": true,
    "slideshow": {
     "slide_type": "subslide"
    },
    "tags": []
   },
   "source": [
    "## 1. Was ist Protomaps?\n",
    "### 1.E Überprüfen der Daten\n",
    "Meta-Daten anzeigen lassen mit"
   ]
  },
  {
   "cell_type": "markdown",
   "id": "db531a36-b72b-4447-8842-a8a83abe235f",
   "metadata": {
    "editable": true,
    "slideshow": {
     "slide_type": "fragment"
    },
    "tags": []
   },
   "source": [
    "```console\n",
    "$ pmtiles show NAME.pmtiles --metadata\n",
    "```"
   ]
  },
  {
   "cell_type": "markdown",
   "id": "4a60d1dc-aa73-4da9-bafd-416800f4e6f8",
   "metadata": {
    "editable": true,
    "slideshow": {
     "slide_type": "fragment"
    },
    "tags": []
   },
   "source": [
    "```json\n",
    "{\"description\":\"NAME.mbtiles\",\"format\":\"pbf\",\"generator\":\"tippecanoe v2.8.1\",\"generator_options\":\"/Users/veit/workspace/protomaps/tippecanoe/tippecanoe -zg '--projection=EPSG:4326' -o NAME.mbtiles -l zcta NAME.json\",\"maxzoom\":\"7\",\"minzoom\":\"0\",\"name\":\"NAME.mbtiles\",… \"vector_layers\":[{\"description\":\"\",\"fields\":{\"AFFGEOID10\":\"String\",\"ALAND10\":\"Number\",\"AWATER10\":\"Number\",\"GEOID10\":\"String\",\"NAME10\":\"String\"},\"id\":\"name\",\"maxzoom\":7,\"minzoom\":0}],\"version\":\"2\"}\n",
    "```"
   ]
  },
  {
   "cell_type": "markdown",
   "id": "953cf6db-e6d3-4515-a867-8235f4b018f9",
   "metadata": {
    "editable": true,
    "slideshow": {
     "slide_type": "subslide"
    },
    "tags": []
   },
   "source": [
    "### 1.E Überprüfen der Daten\n",
    "\n",
    "Wollt ihr euch eure PMTiles-Daten anzeigen lassen, könnt ihr den PMTiles\n",
    "Viewer²⁵ verwenden:"
   ]
  },
  {
   "cell_type": "markdown",
   "id": "f3046beb-5b10-43c9-97c8-29a1355ca5ac",
   "metadata": {
    "editable": true,
    "slideshow": {
     "slide_type": "fragment"
    },
    "tags": []
   },
   "source": [
    "![pmtiles.io Screenshot](pmtiles.png)"
   ]
  },
  {
   "cell_type": "markdown",
   "id": "e2d07ac9-4638-4825-b9e2-ee65b57938cd",
   "metadata": {
    "editable": true,
    "slideshow": {
     "slide_type": "slide"
    },
    "tags": []
   },
   "source": [
    "## 2. Deployment"
   ]
  },
  {
   "cell_type": "markdown",
   "id": "e61e1a64-0f71-4187-883b-7badc84fa0cf",
   "metadata": {
    "editable": true,
    "slideshow": {
     "slide_type": "fragment"
    },
    "tags": []
   },
   "source": [
    "### S3"
   ]
  },
  {
   "cell_type": "markdown",
   "id": "0c72f4ab-c8a1-4285-82ba-18146bdafba2",
   "metadata": {
    "editable": true,
    "slideshow": {
     "slide_type": "notes"
    },
    "tags": []
   },
   "source": [
    "* PMTiles funktioniert auf jedem S3-kompatiblen Cloud-Speicher, der HTTP Range\n",
    "  Requests unterstützt.\n",
    "* Zudem ist Cross-Origin Resource Sharing (CORS) ist erforderlich, wenn euer\n",
    "  Karten-Frontend auf einer anderen Domain als euer Speicher gehostet wird.\n",
    "* Mit `pmtiles upload` könnt ihr PMTiles in den S3-kompatiblen Cloud-Speicher\n",
    "  verschieben:"
   ]
  },
  {
   "cell_type": "markdown",
   "id": "2ade9461-1e27-4645-92ba-94161b03bea3",
   "metadata": {
    "editable": true,
    "slideshow": {
     "slide_type": "fragment"
    },
    "tags": []
   },
   "source": [
    "```console\n",
    "$ pmtiles upload INPUT.pmtiles REMOTE.pmtiles --bucket=s3://BUCKET_NAME\n",
    "```"
   ]
  },
  {
   "cell_type": "markdown",
   "id": "10075049-91ca-4e86-ae2f-fe35b086e64a",
   "metadata": {
    "editable": true,
    "slideshow": {
     "slide_type": "subslide"
    },
    "tags": []
   },
   "source": [
    "## 2. Deployment\n",
    "\n",
    "### HTTP2-Server"
   ]
  },
  {
   "cell_type": "markdown",
   "id": "b7abab75-2ee5-425b-9440-fdb8f563ff88",
   "metadata": {
    "editable": true,
    "slideshow": {
     "slide_type": "fragment"
    },
    "tags": []
   },
   "source": [
    "#### Caddy"
   ]
  },
  {
   "cell_type": "markdown",
   "id": "52dc24ce-19e2-4ff5-bc06-9df4c37efcbf",
   "metadata": {
    "editable": true,
    "slideshow": {
     "slide_type": "fragment"
    },
    "tags": []
   },
   "source": [
    "```\n",
    "map.cusy.io {\n",
    "\t### CORS Config ###\n",
    "    header @map_origins Access-Control-Allow-Origin \"https://map.cusy.io\"\n",
    "\theader @map_origins Access-Control-Allow-Methods \"GET, HEAD\"\n",
    "\theader @map_origins Access-Control-Allow-Headers \"Range, If-Match\"\n",
    "\theader @map_origins Access-Control-Expose-Headers \"ETag\"\n",
    "\n",
    "\t### Tiles ###\n",
    "\thandle_path /tiles/* {\n",
    "\t\troot * {{ tiles_dir }}\n",
    "\t\tfile_server\n",
    "\t}\n",
    "}\n",
    "```"
   ]
  },
  {
   "cell_type": "markdown",
   "id": "0ffd7300-571d-4a2d-a1f6-e60c19b9659e",
   "metadata": {
    "editable": true,
    "slideshow": {
     "slide_type": "notes"
    },
    "tags": []
   },
   "source": [
    "Ihr könnt jedoch auch euren eigenen HTTP-Server, z. B. mit Caddy²⁷ aufetzen.\n",
    "Neben der `file_server`-Konfiguration für eure `*.pmtiles` aus einem statischen\n",
    "Verzeichnis `/tiles/` müsst ihr dann nur noch die CORS-Header setzen."
   ]
  },
  {
   "cell_type": "markdown",
   "id": "96b9cb0c-af6e-462e-91e2-5c778165b330",
   "metadata": {
    "editable": true,
    "slideshow": {
     "slide_type": "subslide"
    },
    "tags": []
   },
   "source": [
    "## 2. Deployment\n",
    "\n",
    "### HTTP2-Server\n",
    "\n",
    "#### nginx"
   ]
  },
  {
   "cell_type": "markdown",
   "id": "313ac848-87f5-4e8c-a243-9765d55e42f6",
   "metadata": {
    "editable": true,
    "slideshow": {
     "slide_type": "fragment"
    },
    "tags": []
   },
   "source": [
    "```\n",
    "if ($request_method = \"OPTIONS\") {\n",
    "  add_header \"Access-Control-Max-Age\" 3600;\n",
    "  add_header \"Content-Type\" \"text/plain charset=UTF-8\";\n",
    "  add_header \"Access-Control-Allow-Origin\" \"*\" always;\n",
    "  add_header \"Access-Control-Allow-Headers\" \"DNT,User-Agent,X-Requested-With,If-Modified-Since,Cache-Control,Content-Type,Range\" always;\n",
    "  add_header \"Content-Length\" 0;\n",
    "  return 204;\n",
    "}\n",
    "```"
   ]
  },
  {
   "cell_type": "markdown",
   "id": "bc3d6a6d-ae78-4403-a7c2-e52edf321adb",
   "metadata": {
    "editable": true,
    "slideshow": {
     "slide_type": "slide"
    },
    "tags": []
   },
   "source": [
    "## Integration"
   ]
  },
  {
   "cell_type": "markdown",
   "id": "9d7d40cb-d206-4b86-8f77-0a701ab69bd2",
   "metadata": {
    "editable": true,
    "slideshow": {
     "slide_type": "fragment"
    },
    "tags": []
   },
   "source": [
    "### MapLibre GL JS"
   ]
  },
  {
   "cell_type": "markdown",
   "id": "153a9417-6b45-4633-88e8-7ad750860d69",
   "metadata": {
    "editable": true,
    "slideshow": {
     "slide_type": "notes"
    },
    "tags": []
   },
   "source": [
    "PMTiles können auch vom MapLibre GL JS²⁸-Renderer direkt im Browser gerendert\n",
    "werden, entweder für thematische Overlay-Tilesets oder Basiskarten-Tilesets."
   ]
  },
  {
   "cell_type": "markdown",
   "id": "ba045506-525f-49b6-8883-86fee781df7f",
   "metadata": {
    "editable": true,
    "slideshow": {
     "slide_type": "subslide"
    },
    "tags": []
   },
   "source": [
    "## Integration\n",
    "\n",
    "```console\n",
    "$ npm install pmtiles\n",
    "```"
   ]
  },
  {
   "cell_type": "markdown",
   "id": "3033286c-bad3-44db-b7bc-559d51fc40c9",
   "metadata": {
    "editable": true,
    "slideshow": {
     "slide_type": "fragment"
    },
    "tags": []
   },
   "source": [
    "```javascript\n",
    "import { Protocol } from \"pmtiles\";\n",
    "\n",
    "let protocol = new Protocol();\n",
    "maplibregl.addProtocol(\"pmtiles\",protocol.tile);\n",
    "```"
   ]
  },
  {
   "cell_type": "markdown",
   "id": "4905f722-3f85-4436-b194-944c847f31ec",
   "metadata": {
    "editable": true,
    "slideshow": {
     "slide_type": "notes"
    },
    "tags": []
   },
   "source": [
    "Um PMTiles direkt lesen zu können, benötigt ihr die JavaScript-Bibliothek\n",
    "PMTiles²⁹.\n",
    "\n",
    "Sie enthält ein Plugin für MapLibre GL, das dessen\n",
    "`addProtocol`-Funktion³⁰ nutzt."
   ]
  },
  {
   "cell_type": "markdown",
   "id": "82ae6b43-aea7-4dad-9154-99f6738c4eed",
   "metadata": {
    "editable": true,
    "slideshow": {
     "slide_type": "subslide"
    },
    "tags": []
   },
   "source": [
    "## Integration\n",
    "\n",
    "### MapLibre GL JS"
   ]
  },
  {
   "cell_type": "markdown",
   "id": "e0aa9bc4-c886-4978-9f82-8dc47f95f157",
   "metadata": {
    "editable": true,
    "slideshow": {
     "slide_type": "notes"
    },
    "tags": []
   },
   "source": [
    "Ihr könnt auch eine Karte mit eurem Stil rendern mit dem NPM-Paket\n",
    "@protomaps/basemaps³⁵.\n",
    "\n",
    "Das gibt euch eine umfassende Kontrolle bei wenig Code."
   ]
  },
  {
   "cell_type": "markdown",
   "id": "9e5554eb-8876-4c85-b892-299aa396f5cf",
   "metadata": {
    "editable": true,
    "slideshow": {
     "slide_type": "fragment"
    },
    "tags": []
   },
   "source": [
    "```typescript\n",
    "  getStyle(): StyleSpecification {\n",
    "    const colorScheme = this.getActiveColorScheme();\n",
    "    const flavors = this.normalizeFlavors(this.options.flavors);\n",
    "    const sprites =\n",
    "      colorScheme == \"dark\" && flavors.invertDark ? \"light\" : colorScheme;\n",
    "    return {\n",
    "      version: 8,\n",
    "      glyphs: \"https://map.cusy.io/fonts/{fontstack}/{range}.pbf\",\n",
    "      sprite: \"https://map.cusy.io/sprites/v4/${sprites}\",\n",
    "      sources: {\n",
    "        [PMTILES_SOURCE]: {\n",
    "          type: \"vector\",\n",
    "          url: \"pmtiles://${this.tilesURL}\",\n",
    "          attribution:\n",
    "            \"Map data: <a href=\"https://www.openstreetmap.org/copyright\" target=\"_blank\">OpenStreetMap</a>\",\n",
    "        },\n",
    "      },\n",
    "      layers: layers(PMTILES_SOURCE, flavors[colorScheme], DEFAULT_LAYERS_OPTS),\n",
    "    };\n",
    "  }\n",
    "```"
   ]
  },
  {
   "cell_type": "markdown",
   "id": "28478f9d-cda1-4fb2-bcfa-9694e2f50f8d",
   "metadata": {
    "editable": true,
    "slideshow": {
     "slide_type": "notes"
    },
    "tags": []
   },
   "source": [
    "`layers` von `@protomaps/basemaps` ist eine Funktion mit den folgenden drei\n",
    "Argumenten:\n",
    "\n",
    "* der Quellenname der Basiskarte\n",
    "* Ein Flavor-Objekt; die Standardeinstellungen können unter `namedFlavor` mit\n",
    "`light`, `dark`, `white`, `black`, `grayscale` abgerufen werden.\n",
    "* Ein `options`-Objekt für Beschriftungen, Sprachschlüssel und Label."
   ]
  },
  {
   "cell_type": "markdown",
   "id": "07956f02-427a-496c-861d-47e835f87e1e",
   "metadata": {
    "editable": true,
    "slideshow": {
     "slide_type": "subslide"
    },
    "tags": []
   },
   "source": [
    "## Integration\n",
    "\n",
    "### Leaflet⁴"
   ]
  },
  {
   "cell_type": "markdown",
   "id": "70f8cec1-e7ae-45c2-b454-49c807cec22b",
   "metadata": {
    "editable": true,
    "slideshow": {
     "slide_type": "notes"
    },
    "tags": []
   },
   "source": [
    "Als Alternative zu MapLibre können PMTiles auch von `Leaflet`⁴ im Browser\n",
    "gerendert werden."
   ]
  },
  {
   "cell_type": "markdown",
   "id": "768caac3-182c-4ce7-8ae5-d686b39ba07f",
   "metadata": {
    "editable": true,
    "slideshow": {
     "slide_type": "fragment"
    },
    "tags": []
   },
   "source": [
    "```console\n",
    "$ npm install protomaps-leaflet\n",
    "```"
   ]
  },
  {
   "cell_type": "markdown",
   "id": "2c126734-5369-44c9-8663-519adf4ed30c",
   "metadata": {
    "editable": true,
    "slideshow": {
     "slide_type": "fragment"
    },
    "tags": []
   },
   "source": [
    "```html\n",
    "<script src=\"protomaps-leaflet.js\"></script>\n",
    "<script>\n",
    "    const map = L.map(\"map\")\n",
    "    var layer = protomapsL.leafletLayer({url:\"FILE.pmtiles\", flavor: \"light\", lang: \"en\"})\n",
    "    layer.addTo(map)\n",
    "</script>\n",
    "```"
   ]
  },
  {
   "cell_type": "markdown",
   "id": "fd05dbfe-88df-414c-9e10-4ce413ac9c04",
   "metadata": {
    "editable": true,
    "slideshow": {
     "slide_type": "subslide"
    },
    "tags": []
   },
   "source": [
    "## Integration\n",
    "\n",
    "### OpenLayers³⁶"
   ]
  },
  {
   "cell_type": "markdown",
   "id": "d8b10047-dcf8-478a-ad19-4da517a6141a",
   "metadata": {
    "editable": true,
    "slideshow": {
     "slide_type": "fragment"
    },
    "tags": []
   },
   "source": [
    "```console\n",
    "$ npm install ol-pmtiles\n",
    "```"
   ]
  },
  {
   "cell_type": "markdown",
   "id": "d04de392-0fd2-48fc-8baa-d71fdf646456",
   "metadata": {
    "editable": true,
    "slideshow": {
     "slide_type": "fragment"
    },
    "tags": []
   },
   "source": [
    "```javascript\n",
    "import \"./style.css\";\n",
    "import { Map, View } from \"ol\";\n",
    "import VectorTile from \"ol/layer/VectorTile\";\n",
    "import { PMTilesVectorSource } from \"ol-pmtiles\";\n",
    "import { Style, Stroke, Fill } from \"ol/style\";\n",
    "import { useGeographic } from \"ol/proj\";\n",
    "```"
   ]
  },
  {
   "cell_type": "markdown",
   "id": "385793cc-7b45-4254-9772-e7b2313b1aeb",
   "metadata": {
    "editable": true,
    "slideshow": {
     "slide_type": "subslide"
    },
    "tags": []
   },
   "source": [
    "## Integration\n",
    "\n",
    "### OpenLayers\n",
    "\n",
    "```javascript\n",
    "const vectorLayer = new VectorTile({\n",
    "  declutter: true,\n",
    "  source: new PMTilesVectorSource({\n",
    "    url: \"https://r2-public.protomaps.com/protomaps-sample-datasets/nz-buildings-v3.pmtiles\",\n",
    "    attributions: [\"© Land Information New Zealand\"],\n",
    "  }),\n",
    "  style: new Style({\n",
    "    stroke: new Stroke({\n",
    "      color: \"gray\",\n",
    "      width: 1,\n",
    "    }),\n",
    "    fill: new Fill({\n",
    "      color: \"rgba(20,20,20,0.9)\",\n",
    "    }),\n",
    "  }),\n",
    "});\n",
    "```"
   ]
  },
  {
   "cell_type": "markdown",
   "id": "cef24ac0-456c-488e-91a3-463b4294b219",
   "metadata": {
    "editable": true,
    "slideshow": {
     "slide_type": "subslide"
    },
    "tags": []
   },
   "source": [
    "## Integration\n",
    "\n",
    "### OpenLayers\n",
    "\n",
    "```javascript\n",
    "useGeographic();\n",
    "\n",
    "const map = new Map({\n",
    "  target: \"map\",\n",
    "  layers: [vectorLayer],\n",
    "  view: new View({\n",
    "    center: [172.606201,-43.556510],\n",
    "    zoom: 7,\n",
    "  }),\n",
    "});\n",
    "```"
   ]
  },
  {
   "cell_type": "markdown",
   "id": "f1391b51-0734-448e-afe4-38e2cc866c7b",
   "metadata": {
    "editable": true,
    "slideshow": {
     "slide_type": "slide"
    },
    "tags": []
   },
   "source": [
    "## 4. Wofür könnt ihr Protomaps einsetzen?"
   ]
  },
  {
   "cell_type": "markdown",
   "id": "699f9a73-f875-4f28-b5c7-8efc9e1d4fbe",
   "metadata": {
    "editable": true,
    "slideshow": {
     "slide_type": "notes"
    },
    "tags": []
   },
   "source": [
    "Werfen wir einen Blick auf verschiedene Anwendungen, bei denen sich Protomaps als transformativ erweisen kann."
   ]
  },
  {
   "cell_type": "markdown",
   "id": "f2f66c30-6e2f-4b9c-9a08-b3d99fe89252",
   "metadata": {
    "editable": true,
    "slideshow": {
     "slide_type": "fragment"
    },
    "tags": []
   },
   "source": [
    "* Städte und Gemeinden"
   ]
  },
  {
   "cell_type": "markdown",
   "id": "0056a4d3-4913-44dc-82f7-fe03b1c079da",
   "metadata": {
    "editable": true,
    "slideshow": {
     "slide_type": "notes"
    },
    "tags": []
   },
   "source": [
    "Städte und Gemeinden können ihr kommerzielles Kartensystem durch eine Protomaps-basierte Lösung ersetzen, um\n",
    "* Gebietsinformationen\n",
    "* Infrastrukturprojekte und\n",
    "* kommunale Ressourcen\n",
    "anzuzeigen.\n",
    "\n",
    "Durch die selbst gehostete Implementierung  \n",
    "* entfallen wiederkehrende Lizenzkosten\n",
    "* kommt die Möglichkeit hinzu, auf den Karten lokale Orientierungspunkte und Gemeindegrenzen hinzuzufügen, die zuvor mit kommerziellen Diensten nicht oder nur schwer zu markieren waren."
   ]
  },
  {
   "cell_type": "markdown",
   "id": "8f58cc70-2388-49a7-8f3f-de1bbc4bbfdf",
   "metadata": {
    "editable": true,
    "slideshow": {
     "slide_type": "fragment"
    },
    "tags": []
   },
   "source": [
    "* Offline-Karten"
   ]
  },
  {
   "cell_type": "markdown",
   "id": "6552476c-a96d-466b-85ba-f35ccbe3e666",
   "metadata": {
    "editable": true,
    "slideshow": {
     "slide_type": "notes"
    },
    "tags": []
   },
   "source": [
    "Protomaps ermöglicht die Erstellung von offline-fähigen Kartentools in Gebieten mit sporadischer oder fehlender Internetverbindung.\n",
    "\n",
    "Durch die Verteilung von PMTiles-Dateien, die detaillierte lokale und regionale Karten enthalten, kann auf interaktive Kartentools zugegriffen werden, ohne dass ein ständiger Internetzugang erforderlich ist."
   ]
  },
  {
   "cell_type": "markdown",
   "id": "218e0ee1-7bed-4af2-89f8-213fb97f3841",
   "metadata": {
    "editable": true,
    "slideshow": {
     "slide_type": "fragment"
    },
    "tags": []
   },
   "source": [
    "* Datenschutzkritische Anwendungen"
   ]
  },
  {
   "cell_type": "markdown",
   "id": "8f7acdfe-7a83-4b1e-aff2-2448f4a1199e",
   "metadata": {
    "editable": true,
    "slideshow": {
     "slide_type": "notes"
    },
    "tags": []
   },
   "source": [
    "Z.B. können Gesundheitsdienstleister Protomaps nutzen, um Tools zur Standortbestimmung von Einrichtungen zu erstellen.\n",
    "\n",
    "Dabei können die Standortdaten auf dem Gerät der Endanwender*innen verbleiben."
   ]
  },
  {
   "cell_type": "markdown",
   "id": "c1473243-70fe-444a-a9d3-b240a99a7582",
   "metadata": {
    "editable": true,
    "slideshow": {
     "slide_type": "fragment"
    },
    "tags": []
   },
   "source": [
    "* Spezialisierte Tools"
   ]
  },
  {
   "cell_type": "markdown",
   "id": "e1d4feb1-b20c-49ee-9083-cbaa96c912f0",
   "metadata": {
    "editable": true,
    "slideshow": {
     "slide_type": "notes"
    },
    "tags": []
   },
   "source": [
    "PMTiles ermöglicht es Unternehmen, hochspezialisierte Karten mit branchenspezifischen Symbolen und Datenvisualisierungen zu erstellen, die von kommerziellen Kartenanbietern nicht angeboten werden können.\n",
    "\n",
    "Gleichzeitig kann sichergestellt werden, dass die Karten zugänglich sind."
   ]
  },
  {
   "cell_type": "markdown",
   "id": "b000ff3c-475e-42dd-81d5-80d1bf2065c2",
   "metadata": {
    "editable": true,
    "slideshow": {
     "slide_type": "subslide"
    },
    "tags": []
   },
   "source": [
    "## 4. Wofür könnt ihr Protomaps einsetzen … und wofür nicht?"
   ]
  },
  {
   "cell_type": "markdown",
   "id": "3fda3568-ccdd-447d-b27b-5173384a997d",
   "metadata": {
    "editable": true,
    "slideshow": {
     "slide_type": "fragment"
    },
    "tags": []
   },
   "source": [
    "PMTiles ist für die webbasierte Anzeige von großen, statischen Datensätzen gedacht, d.h."
   ]
  },
  {
   "cell_type": "markdown",
   "id": "c8eeebdf-2f2b-4e5e-bd2b-91f9bd8de9f6",
   "metadata": {
    "editable": true,
    "slideshow": {
     "slide_type": "fragment"
    },
    "tags": []
   },
   "source": [
    "* sie basieren auf einer Web-Plattform und nicht auf einer lokalen Desktop-Anwendung."
   ]
  },
  {
   "cell_type": "markdown",
   "id": "d88a8dd6-8589-4e46-b55e-6cd4483f8faf",
   "metadata": {
    "editable": true,
    "slideshow": {
     "slide_type": "fragment"
    },
    "tags": []
   },
   "source": [
    "* die Informationen umfassen insgesamt mehr als ein paar Megabyte, also mehr als auf einmal sinnvoll geladen werden kann."
   ]
  },
  {
   "cell_type": "markdown",
   "id": "4a226e96-bb90-40bd-859c-3e5aa89f70d6",
   "metadata": {
    "editable": true,
    "slideshow": {
     "slide_type": "fragment"
    },
    "tags": []
   },
   "source": [
    "* der Datenbestand ändert sich höchstens täglich oder nie."
   ]
  },
  {
   "cell_type": "markdown",
   "id": "c31983d3-2b44-4b07-8459-c6e36abee38c",
   "metadata": {
    "editable": true,
    "slideshow": {
     "slide_type": "subslide"
    },
    "tags": []
   },
   "source": [
    "## 4. Wofür könnt ihr Protomaps einsetzen … und wofür nicht?\n",
    "\n",
    "Wenn eure Anwendung nicht über diese drei Features verfügt, gibt es einfachere Alternativen zu PMTiles:"
   ]
  },
  {
   "cell_type": "markdown",
   "id": "8681d57e-8973-4274-98eb-9c4f5a945cfe",
   "metadata": {
    "editable": true,
    "slideshow": {
     "slide_type": "fragment"
    },
    "tags": []
   },
   "source": [
    "* GeoJSON"
   ]
  },
  {
   "cell_type": "markdown",
   "id": "46612882-dbbd-44d4-b51b-7289c1191cc8",
   "metadata": {
    "editable": true,
    "slideshow": {
     "slide_type": "notes"
    },
    "tags": []
   },
   "source": [
    "Wenn\n",
    "* ihr eine webbasierte Karte mit statischen Informationen erstellt,\n",
    "* eure Daten aber klein sind,\n",
    "solltet ihr sie als eine einzige GeoJSON-Datei bereitstellen.\n",
    "\n",
    "Dies erspart euch die mühsame Konvertierung eurer Daten in Kacheln.\n",
    "\n",
    "Ihr könnt die gleichen Kartendesign- und Interaktionstechniken verwenden wie bei gekachelten Daten."
   ]
  },
  {
   "cell_type": "markdown",
   "id": "6a8b2160-fdad-4305-a4ed-f02c55fead16",
   "metadata": {
    "editable": true,
    "slideshow": {
     "slide_type": "fragment"
    },
    "tags": []
   },
   "source": [
    "* PostGIS"
   ]
  },
  {
   "cell_type": "markdown",
   "id": "7126d4be-1618-4b62-b666-23a781e4c2c3",
   "metadata": {
    "editable": true,
    "slideshow": {
     "slide_type": "notes"
    },
    "tags": []
   },
   "source": [
    "Wenn ihr eine webbasierte Karte für einen **großen** Datensatz erstellt, der **dynamisch** ist und **häufig aktualisiert** wird, solltet ihr eure Features in einer transaktionalen Datenbank speichern.\n",
    "\n",
    "Es ist zwar möglich, eine PMTiles-Datei regelmäßig zu aktualisieren, aber dazu muss die Datei bei jedem Speichern neu geladen werden. Dies mag für tägliche Aktualisierungen in Ordnung sein, aber jede höhere Frequenz erfordert eine ineffiziente Datenübertragung."
   ]
  },
  {
   "cell_type": "markdown",
   "id": "72d85a6b-f9bf-467e-8be5-dfceb3250779",
   "metadata": {
    "editable": true,
    "slideshow": {
     "slide_type": "fragment"
    },
    "tags": []
   },
   "source": [
    "* GeoParquet"
   ]
  },
  {
   "cell_type": "markdown",
   "id": "070e6e94-d4f7-4d1a-bf48-c2c2f3c29309",
   "metadata": {
    "editable": true,
    "slideshow": {
     "slide_type": "notes"
    },
    "tags": []
   },
   "source": [
    "Wenn ihr große, statische Datensätze erforscht, aber **keine Veröffentlichung im Internet** benötiget, könnt ihr das **Kacheln vermeiden** und die Dateien **direkt mit Desktop-Software visualisieren**.\n",
    "\n",
    "Das Kacheln mit Tools wie tippecanoe erfordert die vorherige Berechnung allgemeiner Übersichtskacheln und ist für den Abruf kleiner, optimierter Datenstücke über das Internet konzipiert. Wenn das Netzwerk nicht der Engpass ist und ihr euren Datensatz lokal habt, ist QGIS eine ausgezeichnete Open-Source-Lösung für die Visualisierung und Kartenerstellung.\n",
    "\n",
    "GeoParquet ein relativ neues Format, das große Datensätze effizient speichern kann und mit Open-Source-Datentools interoperabel ist."
   ]
  },
  {
   "cell_type": "markdown",
   "id": "1f10debd-d7ec-4097-8441-bf5829ea7001",
   "metadata": {
    "editable": true,
    "slideshow": {
     "slide_type": "fragment"
    },
    "tags": []
   },
   "source": [
    "* Lonboard"
   ]
  },
  {
   "cell_type": "markdown",
   "id": "b10853b6-3467-48f9-b4aa-8e1aba889f74",
   "metadata": {
    "editable": true,
    "slideshow": {
     "slide_type": "notes"
    },
    "tags": []
   },
   "source": [
    "* Tools wie Lonboard ermöglichen die Visualisierung von GeoParquet in Jupyter-Notebooks.\n",
    "* Für lokale Daten sind GeoParquet und Lonboard jedoch eine großartige Lösung für die explorative Datenanalyse.\n",
    "* Sie ersparen euch die Konvertierung in ein netzwerkoptimiertes Kachelformat."
   ]
  },
  {
   "cell_type": "markdown",
   "id": "1a4c221f-a46f-4dd5-a0b0-f926614b24f9",
   "metadata": {
    "editable": true,
    "slideshow": {
     "slide_type": "slide"
    },
    "tags": []
   },
   "source": [
    "## 5. Zum Weiterlesen\n",
    "\n",
    "¹ Protomaps: https://protomaps.com\n",
    "\n",
    "² OpenStreetMap: https://www.openstreetmap.org\n",
    "\n",
    "³ MapLibre: https://maplibre.org\n",
    "\n",
    "⁴ Leaflet: https://leafletjs.com\n",
    "\n",
    "⁵ Mapbox: https://www.mapbox.com\n",
    "\n",
    "⁶ OpenStreetMap (OSM): https://www.openstreetmap.org\n",
    "\n",
    "⁷ NGI0 Core Fund: https://nlnet.nl/core\n",
    "\n",
    "⁸ NLnet Foundation: https://nlnet.nl/project/Protomaps/\n",
    "\n",
    "⁹ HTTP Range Requests: https://developer.mozilla.org/en-US/docs/Web/HTTP/Range_requests\n",
    "\n",
    "¹⁰ Cross-Origin Resource Sharing (CORS): https://developer.mozilla.org/en-US/docs/Web/HTTP/CORS\n",
    "\n",
    "¹¹ Basiskarten: https://maps.protomaps.com/builds/\n",
    "\n",
    "¹² OpenStreetMap: https://openstreetmap.org/"
   ]
  },
  {
   "cell_type": "markdown",
   "id": "b42a4abb-6e50-48e0-8d55-86cf83d132dd",
   "metadata": {
    "editable": true,
    "slideshow": {
     "slide_type": "slide"
    },
    "tags": []
   },
   "source": [
    "## 5. Zum Weiterlesen\n",
    "\n",
    "¹³ Natural Earth: https://naturalearthdata.com/\n",
    "\n",
    "¹⁴ basemaps-Repository: https://github.com/protomaps/basemaps\n",
    "\n",
    "¹⁵ Planetiler: https://github.com/onthegomap/planetiler\n",
    "\n",
    "¹⁶ Basemap Layers: https://docs.protomaps.com/basemaps/layers\n",
    "\n",
    "¹⁷ Tilezen: https://tilezen.readthedocs.io/en/latest/layers/\n",
    "\n",
    "¹⁸ `pmtiles extract`: https://docs.protomaps.com/pmtiles/cli#extract\n",
    "\n",
    "¹⁹ `pmtiles convert`: https://docs.protomaps.com/pmtiles/cli#convert\n",
    "\n",
    "²⁰ tippecanoe: https://github.com/felt/tippecanoe\n",
    "\n",
    "²¹ rio-pmtiles: https://pypi.org/project/rio-pmtiles/\n",
    "\n",
    "²² Rasterio: https://rasterio.readthedocs.io/en/stable/\n",
    "\n",
    "²³ GDAL docs: https://gdal.org/en/stable/drivers/vector/pmtiles.html\n",
    "\n",
    "²⁴ tilemaker: https://github.com/systemed/tilemaker"
   ]
  },
  {
   "cell_type": "markdown",
   "id": "cca8933c-6781-4bd0-837e-fe2828f134d2",
   "metadata": {
    "editable": true,
    "slideshow": {
     "slide_type": "slide"
    },
    "tags": []
   },
   "source": [
    "## 5. Zum Weiterlesen\n",
    "\n",
    "²⁵ PMTiles Viewer: https://pmtiles.io/\n",
    "\n",
    "²⁶ RClone: https://rclone.org/\n",
    "\n",
    "²⁷ Caddy: https://caddyserver.com/\n",
    "\n",
    "²⁸ MapLibre GL JS: https://maplibre.org/maplibre-gl-js/docs/\n",
    "\n",
    "²⁹ PMTiles: https://www.npmjs.com/package/pmtiles\n",
    "\n",
    "³⁰ MapLibre GL `addProtocol`-Funktion: https://maplibre.org/maplibre-gl-js/docs/API/functions/addProtocol/\n",
    "\n",
    "³¹ MapLibre-Fontstack: https://maplibre.org/maplibre-style-spec/glyphs/\n",
    "\n",
    "³² MapLibre-Spritesheet-Assets: https://maplibre.org/maplibre-style-spec/sprite/\n",
    "\n",
    "³³ Basemaps-Assets-Repository: http://github.com/protomaps/basemaps-assets\n",
    "\n",
    "³⁴ MapLibre-Stile: https://maplibre.org/maplibre-style-spec/\n",
    "\n",
    "³⁵ @protomaps/basemaps: https://www.npmjs.com/package/@protomaps/basemaps\n",
    "\n",
    "³⁶ OpenLayers: https://openlayers.org"
   ]
  }
 ],
 "metadata": {
  "kernelspec": {
   "display_name": "Python 3.13 Kernel",
   "language": "python",
   "name": "python313"
  },
  "language_info": {
   "codemirror_mode": {
    "name": "ipython",
    "version": 3
   },
   "file_extension": ".py",
   "mimetype": "text/x-python",
   "name": "python",
   "nbconvert_exporter": "python",
   "pygments_lexer": "ipython3",
   "version": "3.13.0"
  },
  "widgets": {
   "application/vnd.jupyter.widget-state+json": {
    "state": {},
    "version_major": 2,
    "version_minor": 0
   }
  }
 },
 "nbformat": 4,
 "nbformat_minor": 5
}
