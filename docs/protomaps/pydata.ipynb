{
 "cells": [
  {
   "cell_type": "markdown",
   "id": "bb8c3a16-f342-4a25-a754-ea39ac5be66a",
   "metadata": {
    "editable": true,
    "slideshow": {
     "slide_type": "slide"
    },
    "tags": []
   },
   "source": [
    "# Democratizing Digital Maps\n",
    "\n",
    "<img src=\"../img/veit-duotone.png\" alt=\"Portrait Veit Schiele\" style=\"float: left; width:256px; margin-right:32px; border-radius: 50%;\"/>\n",
    "<p>Veit Schiele</p>\n",
    "<p>\n",
    "    • Founder and managing director of <a href=\"https://cusy.io/de\">cusy GmbH</a>, Berlin<br>\n",
    "    • Author of the <a href=\"https://www.python4data.science/de/latest/\">Python for Data Science Tutorials</a><br>\n",
    "    • Author of the <a href=\"https://python-basics-tutorial.readthedocs.io/de/latest/\">Python-Basics-Tutorial</a><br>\n",
    "    • Contact: <a href=\"https://cusy.io/veit\">cusy.io/veit</a>\n",
    "</p>\n",
    "<img src=\"democratizing-digital-maps.svg\"\n",
    "     alt=\"QR code for the URL slides.cusy.io/protomaps/pydata.html\"/>"
   ]
  },
  {
   "cell_type": "markdown",
   "id": "bd175181-28e9-4a41-a77f-e7ec419795fb",
   "metadata": {
    "editable": true,
    "slideshow": {
     "slide_type": "notes"
    },
    "tags": []
   },
   "source": [
    "The market for digital map services has so far been dominated by proprietary providers such as Mapbox – with high licence fees, limited control over the data and a strong vendor lock-in.\n",
    "\n",
    "In this talk, Protomaps is presented as an open source alternative and its potential for various use cases is analysed.\n",
    "\n",
    "cusy supports research groups with a research platform for developing their software. In this context, we have been using Protomaps for some time now to visualise geodata."
   ]
  },
  {
   "cell_type": "markdown",
   "id": "7e00e4af-3173-4753-a8c1-2cf1cb4dae45",
   "metadata": {
    "editable": true,
    "slideshow": {
     "slide_type": "slide"
    },
    "tags": []
   },
   "source": [
    "## Contents"
   ]
  },
  {
   "cell_type": "markdown",
   "id": "16836639-8ad2-42c7-9ebd-c6061c4211fc",
   "metadata": {
    "editable": true,
    "slideshow": {
     "slide_type": "fragment"
    },
    "tags": []
   },
   "source": [
    "1. What is Protomaps? History, architecture, data basis and processing, checking the data"
   ]
  },
  {
   "cell_type": "markdown",
   "id": "19f2cdac-3b1d-48c0-9780-bd9b3e321d7d",
   "metadata": {
    "editable": true,
    "slideshow": {
     "slide_type": "notes"
    },
    "tags": []
   },
   "source": [
    "Firstly, there is a brief introduction to vector tiles, the basic idea behind Protomaps and the most important differences to conventional raster or proprietary tile services. The complete Protomaps tool stack – from the open source datasets from OpenStreetMap, to efficient tile generation, to delivery via HTTP/2 and the lean PMTiles format - is then described in more detail."
   ]
  },
  {
   "cell_type": "markdown",
   "id": "10c0c443-f531-4a73-8513-c95e0886e157",
   "metadata": {
    "editable": true,
    "slideshow": {
     "slide_type": "fragment"
    },
    "tags": []
   },
   "source": [
    "2. Deployment with S3, Caddy or nginx"
   ]
  },
  {
   "cell_type": "markdown",
   "id": "fe985a75-e004-483b-8a65-3dae1367b278",
   "metadata": {
    "editable": true,
    "slideshow": {
     "slide_type": "notes"
    },
    "tags": []
   },
   "source": [
    "A special focus is on deployment."
   ]
  },
  {
   "cell_type": "markdown",
   "id": "0c31c1b2-ac8d-4878-873a-6d2d86bdb706",
   "metadata": {
    "editable": true,
    "slideshow": {
     "slide_type": "fragment"
    },
    "tags": []
   },
   "source": [
    "3. Integration with common front-end libraries such as MapLibre³, Leaflet⁴ and OpenLayers³⁶"
   ]
  },
  {
   "cell_type": "markdown",
   "id": "6238c15c-5c86-4f52-b64c-49777694107b",
   "metadata": {
    "editable": true,
    "slideshow": {
     "slide_type": "notes"
    },
    "tags": []
   },
   "source": [
    "Practical examples show how to generate your own tiles, how to host Protomaps yourself and how to fulfil data protection requirements."
   ]
  },
  {
   "cell_type": "markdown",
   "id": "da70f343-48c8-428a-8e2b-4f688429191b",
   "metadata": {
    "editable": true,
    "slideshow": {
     "slide_type": "fragment"
    },
    "tags": []
   },
   "source": [
    "4. What can you use protomaps for … and what not?"
   ]
  },
  {
   "cell_type": "markdown",
   "id": "6ca77a7f-230f-4dd9-93f5-2ae814da9094",
   "metadata": {
    "editable": true,
    "slideshow": {
     "slide_type": "notes"
    },
    "tags": []
   },
   "source": [
    "Finally, the most important advantages over Mapbox are discussed – free of charge, data control and offline capability – and a brief outlook on future developments in the open source mapping ecosystem is given."
   ]
  },
  {
   "cell_type": "markdown",
   "id": "58bbd75c-2ff3-426c-9a16-f9f2e56a3099",
   "metadata": {
    "editable": true,
    "slideshow": {
     "slide_type": "fragment"
    },
    "tags": []
   },
   "source": [
    "5. Protomaps sprint"
   ]
  },
  {
   "cell_type": "markdown",
   "id": "d3a044b0-5511-44a4-8bd1-d34d41c2f330",
   "metadata": {
    "editable": true,
    "slideshow": {
     "slide_type": "notes"
    },
    "tags": []
   },
   "source": [
    "We are planning a sprint in the spring of next year. The date and location are yet to be announced."
   ]
  },
  {
   "cell_type": "markdown",
   "id": "fd56c723-8a0e-4762-b618-dbe6c0ef4b25",
   "metadata": {
    "editable": true,
    "slideshow": {
     "slide_type": "fragment"
    },
    "tags": []
   },
   "source": [
    "6. Read more"
   ]
  },
  {
   "cell_type": "markdown",
   "id": "ee7d8b4a-e9a2-4aaa-82f3-902cf97b8cb2",
   "metadata": {
    "editable": true,
    "slideshow": {
     "slide_type": "notes"
    },
    "tags": []
   },
   "source": [
    "The focus of Protomaps is exclusively on tile-based cartography and interactive visualisation.\n",
    "\n",
    "However, there are also extensions for geocoding and routing."
   ]
  },
  {
   "cell_type": "markdown",
   "id": "aa10ccc2-118a-4cec-b3e2-3ba7c7bec33e",
   "metadata": {
    "editable": true,
    "slideshow": {
     "slide_type": "slide"
    },
    "tags": []
   },
   "source": [
    "## 1. What is Protomaps?"
   ]
  },
  {
   "cell_type": "markdown",
   "id": "7f9e1ea7-a07b-415e-8a56-c0ab6e9bdb9e",
   "metadata": {
    "editable": true,
    "slideshow": {
     "slide_type": "fragment"
    },
    "tags": []
   },
   "source": [
    "Protomaps¹ is an open source ecosystem for"
   ]
  },
  {
   "cell_type": "markdown",
   "id": "b6caff0f-2ad5-48ce-9c35-ea9e7356dce5",
   "metadata": {
    "editable": true,
    "slideshow": {
     "slide_type": "notes"
    },
    "tags": []
   },
   "source": [
    "While conventional map services such as Mapbox⁵ market their data as a proprietary service, Protomaps provides a complete open source solution:"
   ]
  },
  {
   "cell_type": "markdown",
   "id": "6d669215-401e-493a-9331-7e29d3709bd7",
   "metadata": {
    "editable": true,
    "slideshow": {
     "slide_type": "fragment"
    },
    "tags": []
   },
   "source": [
    "1. Creation"
   ]
  },
  {
   "cell_type": "markdown",
   "id": "a91ca42d-283b-42bc-9161-d70861b99a2c",
   "metadata": {
    "editable": true,
    "slideshow": {
     "slide_type": "notes"
    },
    "tags": []
   },
   "source": [
    "Developers can import geodata for example from OpenStreetMap², Natural Earth or GeoJSON or similar"
   ]
  },
  {
   "cell_type": "markdown",
   "id": "22d45823-7da5-4de3-ac3b-a3c41d7be707",
   "metadata": {
    "editable": true,
    "slideshow": {
     "slide_type": "fragment"
    },
    "tags": []
   },
   "source": [
    "2. Storage"
   ]
  },
  {
   "cell_type": "markdown",
   "id": "1bb3553b-ca95-4439-8de9-44fccbdec8e0",
   "metadata": {
    "editable": true,
    "slideshow": {
     "slide_type": "notes"
    },
    "tags": []
   },
   "source": [
    "Storage takes place in the efficient PMTiles format"
   ]
  },
  {
   "cell_type": "markdown",
   "id": "bde85002-8f49-463c-8a8d-a47bff09c408",
   "metadata": {
    "editable": true,
    "slideshow": {
     "slide_type": "fragment"
    },
    "tags": []
   },
   "source": [
    "3. Delivery of vector tiles"
   ]
  },
  {
   "cell_type": "markdown",
   "id": "c84b434d-b129-482f-983b-24b494013999",
   "metadata": {
    "editable": true,
    "slideshow": {
     "slide_type": "notes"
    },
    "tags": []
   },
   "source": [
    "The resulting tiles can be delivered via a lightweight HTTP/2 server."
   ]
  },
  {
   "cell_type": "markdown",
   "id": "c445c1f5-bebb-416a-9ed6-7b8a57d603e6",
   "metadata": {
    "editable": true,
    "slideshow": {
     "slide_type": "subslide"
    },
    "tags": []
   },
   "source": [
    "## 1. What is Protomaps?\n",
    "\n",
    "### 1.A How it all began"
   ]
  },
  {
   "cell_type": "markdown",
   "id": "a7f3a087-39fc-427c-a8f9-cafe3c5792ba",
   "metadata": {
    "editable": true,
    "slideshow": {
     "slide_type": "notes"
    },
    "tags": []
   },
   "source": [
    "The Protomaps project was started by one person, Brandon Liu (`@bdon`⁷), who’s still the main person keeping it going.\n",
    "\n",
    "The project was funded by the NGI Zero Core Fund⁸."
   ]
  },
  {
   "cell_type": "markdown",
   "id": "3cce4973-7d55-4324-ba96-3f8672e4e326",
   "metadata": {
    "editable": true,
    "slideshow": {
     "slide_type": "fragment"
    },
    "tags": []
   },
   "source": [
    "### … and what happened next"
   ]
  },
  {
   "cell_type": "markdown",
   "id": "782d488d-11d3-4c72-b56c-4e27f748b2ea",
   "metadata": {
    "editable": true,
    "slideshow": {
     "slide_type": "notes"
    },
    "tags": []
   },
   "source": [
    "Now, GitHub Sponsors covers the costs for stuff like running the API and cloud storage."
   ]
  },
  {
   "cell_type": "markdown",
   "id": "d10b642f-ea7b-4b69-a23a-be2ea1092211",
   "metadata": {
    "editable": true,
    "slideshow": {
     "slide_type": "subslide"
    },
    "tags": []
   },
   "source": [
    "## 1. What is Protomaps?\n",
    "### 1.B Architecture"
   ]
  },
  {
   "cell_type": "markdown",
   "id": "73288ea8-24fb-4112-8613-5352a5941fe4",
   "metadata": {
    "editable": true,
    "slideshow": {
     "slide_type": "fragment"
    },
    "tags": []
   },
   "source": [
    "A Protomaps service consists of three main components:"
   ]
  },
  {
   "cell_type": "markdown",
   "id": "1b33ebd8-6037-49fe-8430-efbea5033e23",
   "metadata": {
    "editable": true,
    "slideshow": {
     "slide_type": "fragment"
    },
    "tags": []
   },
   "source": [
    "| Component | Purpose |\n",
    "| :--- | :--- |\n",
    "| Create PMTiles | Einlesen von Geo‑Daten und Generieren der Tiles, z.B. in einer CI/CD‑Pipeline |\n",
    "| Store PMTiles | Persistent storage of `*.pmtiles` files, for example, in an S3-compatible storage platform that supports HTTP range requests and Cross-Origin Resource Sharing (CORS) |\n",
    "| PMTiles Server | HTTP/2-based web server that supports caching and range requests, for example, Caddy or nginx |"
   ]
  },
  {
   "cell_type": "markdown",
   "id": "cd96a513-4149-42ab-9412-3fbfd69ab9a9",
   "metadata": {
    "editable": true,
    "slideshow": {
     "slide_type": "notes"
    },
    "tags": []
   },
   "source": [
    "This is a great example of how Protomaps implements the Unix philosophy\n",
    "\n",
    "> *“Do one thing and do it well.”*\n",
    "\n",
    "The PMTiles format is central, while other well-known technologies are used for storage and web servers."
   ]
  },
  {
   "cell_type": "markdown",
   "id": "854d228c-3151-4f72-9773-4e05bbf4e908",
   "metadata": {
    "editable": true,
    "slideshow": {
     "slide_type": "subslide"
    },
    "tags": []
   },
   "source": [
    "## 1. What is Protomaps?\n",
    "### 1.C Data basis and processing"
   ]
  },
  {
   "cell_type": "markdown",
   "id": "44a9473c-60fe-4b68-bece-a8502dae23f1",
   "metadata": {
    "editable": true,
    "slideshow": {
     "slide_type": "subslide"
    },
    "tags": []
   },
   "source": [
    "![HTTP range requests when zooming in](network-headers.png)"
   ]
  },
  {
   "cell_type": "markdown",
   "id": "c6fa4007-4c9b-4ce9-968f-f5b2b7929a31",
   "metadata": {
    "editable": true,
    "slideshow": {
     "slide_type": "notes"
    },
    "tags": []
   },
   "source": [
    "* PMTiles is a single-file archive format for pyramid-tiled data.\n",
    "* The tiled data can be addressed via Z/X/Y coordinates in HTTP range requests.\n",
    "* The tiles and directories are arranged in such a way that the effort required for moving and zooming is minimised.\n",
    "  * In our example, zooming in loads eight additional resources with a size of 760 KB in 620 ms. \n",
    "* What you see here is the cartographic base maps. However, you can also integrate additional resources into a Protomaps file, for example:\n",
    "  * remote sensing data\n",
    "  * JPEG images\n",
    "  * and so on\n",
    "\n",
    "* However, PMTiles is a read-only format, which means that it is not possible to update an archive without rewriting the entire file."
   ]
  },
  {
   "cell_type": "markdown",
   "id": "5e302f33-56da-48db-8ea1-1f2032764181",
   "metadata": {
    "editable": true,
    "slideshow": {
     "slide_type": "slide"
    },
    "tags": []
   },
   "source": [
    "## 1. What is Protomaps?\n",
    "### 1.D Data sources"
   ]
  },
  {
   "cell_type": "markdown",
   "id": "d5ae9c64-1389-40d5-9990-a2567ba34901",
   "metadata": {
    "editable": true,
    "slideshow": {
     "slide_type": "fragment"
    },
    "tags": []
   },
   "source": [
    "* Base maps from OpenStreetMap⁶ and Natural Earth¹³ data"
   ]
  },
  {
   "cell_type": "markdown",
   "id": "c4c36545-4c0c-4ccf-b3b0-391a54c76c66",
   "metadata": {
    "editable": true,
    "slideshow": {
     "slide_type": "notes"
    },
    "tags": []
   },
   "source": [
    "The base maps provided use OpenStreetMap and Natural Earth data to\n",
    "generate the `*.pmtiles` files.\n",
    "\n",
    "However, it does not contain all data and tags from OSM, but attempts to\n",
    "strike a balance between tile size and completeness so that it can be\n",
    "used as a general map."
   ]
  },
  {
   "cell_type": "markdown",
   "id": "54c07f6e-eb68-4597-a8dd-50744cd933f6",
   "metadata": {
    "editable": true,
    "slideshow": {
     "slide_type": "fragment"
    },
    "tags": []
   },
   "source": [
    "* Create your own maps with `github.com/protomaps/basemaps`"
   ]
  },
  {
   "cell_type": "markdown",
   "id": "bb031cc4-7ac1-400d-ae85-eb4bd9326fd7",
   "metadata": {
    "editable": true,
    "slideshow": {
     "slide_type": "notes"
    },
    "tags": []
   },
   "source": [
    "The organisation of the layers and tags is based on the open source project\n",
    "Tilezen and is documented in Basemap Layers.\n",
    "\n",
    "The repository contains a Java Planetiler profile for creating PMTiles. For\n",
    "example, you can also include house numbers with `addr_housenumber` for\n",
    "`kind=address`."
   ]
  },
  {
   "cell_type": "markdown",
   "id": "106b2f96-9c8b-434a-baac-dbca964abe64",
   "metadata": {
    "editable": true,
    "slideshow": {
     "slide_type": "fragment"
    },
    "tags": []
   },
   "source": [
    "* Excerpts from these maps with `pmtiles extract`¹⁸"
   ]
  },
  {
   "cell_type": "markdown",
   "id": "1ccc22eb-267b-4e92-8fdc-27678391ef23",
   "metadata": {
    "editable": true,
    "slideshow": {
     "slide_type": "fragment"
    },
    "tags": []
   },
   "source": [
    "* `pmtiles convert`¹⁹ converts MBTiles archives to PMTiles"
   ]
  },
  {
   "cell_type": "markdown",
   "id": "4722804d-4ca3-4a3c-b9a6-33c8834eb77a",
   "metadata": {
    "editable": true,
    "slideshow": {
     "slide_type": "fragment"
    },
    "tags": []
   },
   "source": [
    "* tippecanoe²⁰ can also convert GeoJSON, FlatGeobuf and other file formats"
   ]
  },
  {
   "cell_type": "markdown",
   "id": "4128af1c-9b31-4b3a-a3e0-255b0496c149",
   "metadata": {
    "editable": true,
    "slideshow": {
     "slide_type": "fragment"
    },
    "tags": []
   },
   "source": [
    "* rio-pmtiles²¹ is a plugin for the Rasterio²² Python library that can be used to convert GeoTIFFs"
   ]
  },
  {
   "cell_type": "markdown",
   "id": "bea07987-e7df-4f9a-bb70-d9e015f43883",
   "metadata": {
    "editable": true,
    "slideshow": {
     "slide_type": "fragment"
    },
    "tags": []
   },
   "source": [
    "* GDAL  ≥ 3.8.0 offers native support for PMTiles²³"
   ]
  },
  {
   "cell_type": "markdown",
   "id": "1b51a554-debd-470b-93b2-cb1cd80d143f",
   "metadata": {
    "editable": true,
    "slideshow": {
     "slide_type": "subslide"
    },
    "tags": []
   },
   "source": [
    "## 1. What is Protomaps?\n",
    "### 1.E Checking the data"
   ]
  },
  {
   "cell_type": "markdown",
   "id": "29df7731-4d24-4e90-8be3-63516be5c395",
   "metadata": {
    "editable": true,
    "slideshow": {
     "slide_type": "fragment"
    },
    "tags": []
   },
   "source": [
    "Check the created Protomaps files with `pmtiles verify {NAME}.pmtiles` "
   ]
  },
  {
   "cell_type": "markdown",
   "id": "3b114310-5cb5-4508-bf5d-cb74f0db9172",
   "metadata": {
    "editable": true,
    "slideshow": {
     "slide_type": "fragment"
    },
    "tags": []
   },
   "source": [
    "Display header data with"
   ]
  },
  {
   "cell_type": "markdown",
   "id": "a3f0be56-3743-4a63-8880-7fb53dc89911",
   "metadata": {
    "editable": true,
    "slideshow": {
     "slide_type": "fragment"
    },
    "tags": []
   },
   "source": [
    "```console\n",
    "$ pmtiles show NAME.pmtiles  --header-json\n",
    "```"
   ]
  },
  {
   "cell_type": "markdown",
   "id": "75d613ea-a1a9-4104-948a-99b3b5ef08f0",
   "metadata": {
    "editable": true,
    "slideshow": {
     "slide_type": "fragment"
    },
    "tags": []
   },
   "source": [
    "```json\n",
    "{\n",
    "    \"tile_compression\": \"gzip\",\n",
    "    \"tile_type\": \"mvt\",\n",
    "    \"minzoom\": 0,\n",
    "    \"maxzoom\": 7,\n",
    "    \"bounds\": [\n",
    "        -176.684714,\n",
    "        -14.37374,\n",
    "        145.830418,\n",
    "        71.341223\n",
    "    ],\n",
    "    \"center\": [\n",
    "        -82.96875,\n",
    "        37.71024,\n",
    "        7\n",
    "    ]\n",
    "}\n",
    "```"
   ]
  },
  {
   "cell_type": "markdown",
   "id": "2978530f-3451-4b1e-9a7c-eca299a4b235",
   "metadata": {
    "editable": true,
    "slideshow": {
     "slide_type": "subslide"
    },
    "tags": []
   },
   "source": [
    "## 1. What is Protomaps?\n",
    "### 1.E Checking the data\n",
    "Display meta data with"
   ]
  },
  {
   "cell_type": "markdown",
   "id": "db531a36-b72b-4447-8842-a8a83abe235f",
   "metadata": {
    "editable": true,
    "slideshow": {
     "slide_type": "fragment"
    },
    "tags": []
   },
   "source": [
    "```console\n",
    "$ pmtiles show NAME.pmtiles --metadata\n",
    "```"
   ]
  },
  {
   "cell_type": "markdown",
   "id": "4a60d1dc-aa73-4da9-bafd-416800f4e6f8",
   "metadata": {
    "editable": true,
    "slideshow": {
     "slide_type": "fragment"
    },
    "tags": []
   },
   "source": [
    "```json\n",
    "{\"description\":\"NAME.mbtiles\",\"format\":\"pbf\",\"generator\":\"tippecanoe v2.8.1\",\"generator_options\":\"/Users/veit/workspace/protomaps/tippecanoe/tippecanoe -zg '--projection=EPSG:4326' -o NAME.mbtiles -l zcta NAME.json\",\"maxzoom\":\"7\",\"minzoom\":\"0\",\"name\":\"NAME.mbtiles\",… \"vector_layers\":[{\"description\":\"\",\"fields\":{\"AFFGEOID10\":\"String\",\"ALAND10\":\"Number\",\"AWATER10\":\"Number\",\"GEOID10\":\"String\",\"NAME10\":\"String\"},\"id\":\"name\",\"maxzoom\":7,\"minzoom\":0}],\"version\":\"2\"}\n",
    "```"
   ]
  },
  {
   "cell_type": "markdown",
   "id": "953cf6db-e6d3-4515-a867-8235f4b018f9",
   "metadata": {
    "editable": true,
    "slideshow": {
     "slide_type": "subslide"
    },
    "tags": []
   },
   "source": [
    "### 1.E Checking the data\n",
    "\n",
    "If you want to view your PMTiles data, you can use the PMTiles Viewer²⁵:"
   ]
  },
  {
   "cell_type": "markdown",
   "id": "f3046beb-5b10-43c9-97c8-29a1355ca5ac",
   "metadata": {
    "editable": true,
    "slideshow": {
     "slide_type": "fragment"
    },
    "tags": []
   },
   "source": [
    "![pmtiles.io Screenshot](pmtiles.png)"
   ]
  },
  {
   "cell_type": "markdown",
   "id": "e2d07ac9-4638-4825-b9e2-ee65b57938cd",
   "metadata": {
    "editable": true,
    "slideshow": {
     "slide_type": "slide"
    },
    "tags": []
   },
   "source": [
    "## 2. Deployment"
   ]
  },
  {
   "cell_type": "markdown",
   "id": "e61e1a64-0f71-4187-883b-7badc84fa0cf",
   "metadata": {
    "editable": true,
    "slideshow": {
     "slide_type": "fragment"
    },
    "tags": []
   },
   "source": [
    "### S3"
   ]
  },
  {
   "cell_type": "markdown",
   "id": "0c72f4ab-c8a1-4285-82ba-18146bdafba2",
   "metadata": {
    "editable": true,
    "slideshow": {
     "slide_type": "notes"
    },
    "tags": []
   },
   "source": [
    "* PMTiles works on any S3-compatible cloud storage that supports HTTP range requests.\n",
    "* In addition, Cross-Origin Resource Sharing (CORS) is required if your map frontend is hosted on a different domain than your storage.\n",
    "* With `pmtiles upload`, you can move PMTiles to S3-compatible cloud storage:"
   ]
  },
  {
   "cell_type": "markdown",
   "id": "2ade9461-1e27-4645-92ba-94161b03bea3",
   "metadata": {
    "editable": true,
    "slideshow": {
     "slide_type": "fragment"
    },
    "tags": []
   },
   "source": [
    "```console\n",
    "$ pmtiles upload INPUT.pmtiles REMOTE.pmtiles --bucket=s3://BUCKET_NAME\n",
    "```"
   ]
  },
  {
   "cell_type": "markdown",
   "id": "10075049-91ca-4e86-ae2f-fe35b086e64a",
   "metadata": {
    "editable": true,
    "slideshow": {
     "slide_type": "subslide"
    },
    "tags": []
   },
   "source": [
    "## 2. Deployment\n",
    "\n",
    "### HTTP2 server"
   ]
  },
  {
   "cell_type": "markdown",
   "id": "b7abab75-2ee5-425b-9440-fdb8f563ff88",
   "metadata": {
    "editable": true,
    "slideshow": {
     "slide_type": "fragment"
    },
    "tags": []
   },
   "source": [
    "#### Caddy"
   ]
  },
  {
   "cell_type": "markdown",
   "id": "52dc24ce-19e2-4ff5-bc06-9df4c37efcbf",
   "metadata": {
    "editable": true,
    "slideshow": {
     "slide_type": "fragment"
    },
    "tags": []
   },
   "source": [
    "```\n",
    "map.cusy.io {\n",
    "\t### CORS Config ###\n",
    "    header @map_origins Access-Control-Allow-Origin \"https://map.cusy.io\"\n",
    "\theader @map_origins Access-Control-Allow-Methods \"GET, HEAD\"\n",
    "\theader @map_origins Access-Control-Allow-Headers \"Range, If-Match\"\n",
    "\theader @map_origins Access-Control-Expose-Headers \"ETag\"\n",
    "\n",
    "\t### Tiles ###\n",
    "\thandle_path /tiles/* {\n",
    "\t\troot * {{ tiles_dir }}\n",
    "\t\tfile_server\n",
    "\t}\n",
    "}\n",
    "```"
   ]
  },
  {
   "cell_type": "markdown",
   "id": "0ffd7300-571d-4a2d-a1f6-e60c19b9659e",
   "metadata": {
    "editable": true,
    "slideshow": {
     "slide_type": "notes"
    },
    "tags": []
   },
   "source": [
    "However, you can also set up your own HTTP server, for example with Caddy²⁷. In\n",
    "addition to the `file_server` configuration for your `*.pmtiles` from a static\n",
    "directory `/tiles/`, you then only need to set the CORS headers."
   ]
  },
  {
   "cell_type": "markdown",
   "id": "96b9cb0c-af6e-462e-91e2-5c778165b330",
   "metadata": {
    "editable": true,
    "slideshow": {
     "slide_type": "subslide"
    },
    "tags": []
   },
   "source": [
    "## 2. Deployment\n",
    "\n",
    "### HTTP2 server\n",
    "\n",
    "#### nginx"
   ]
  },
  {
   "cell_type": "markdown",
   "id": "313ac848-87f5-4e8c-a243-9765d55e42f6",
   "metadata": {
    "editable": true,
    "slideshow": {
     "slide_type": "fragment"
    },
    "tags": []
   },
   "source": [
    "```\n",
    "if ($request_method = \"OPTIONS\") {\n",
    "  add_header \"Access-Control-Max-Age\" 3600;\n",
    "  add_header \"Content-Type\" \"text/plain charset=UTF-8\";\n",
    "  add_header \"Access-Control-Allow-Origin\" \"*\" always;\n",
    "  add_header \"Access-Control-Allow-Headers\" \"DNT,User-Agent,X-Requested-With,If-Modified-Since,Cache-Control,Content-Type,Range\" always;\n",
    "  add_header \"Content-Length\" 0;\n",
    "  return 204;\n",
    "}\n",
    "```"
   ]
  },
  {
   "cell_type": "markdown",
   "id": "bc3d6a6d-ae78-4403-a7c2-e52edf321adb",
   "metadata": {
    "editable": true,
    "slideshow": {
     "slide_type": "slide"
    },
    "tags": []
   },
   "source": [
    "## Integration"
   ]
  },
  {
   "cell_type": "markdown",
   "id": "9d7d40cb-d206-4b86-8f77-0a701ab69bd2",
   "metadata": {
    "editable": true,
    "slideshow": {
     "slide_type": "fragment"
    },
    "tags": []
   },
   "source": [
    "### MapLibre GL JS"
   ]
  },
  {
   "cell_type": "markdown",
   "id": "153a9417-6b45-4633-88e8-7ad750860d69",
   "metadata": {
    "editable": true,
    "slideshow": {
     "slide_type": "notes"
    },
    "tags": []
   },
   "source": [
    "PMTiles can also be rendered directly in the browser by the MapLibre GL JS²⁸\n",
    "renderer, either for thematic overlay tilesets or base map tilesets."
   ]
  },
  {
   "cell_type": "markdown",
   "id": "ba045506-525f-49b6-8883-86fee781df7f",
   "metadata": {
    "editable": true,
    "slideshow": {
     "slide_type": "subslide"
    },
    "tags": []
   },
   "source": [
    "## Integration\n",
    "\n",
    "### MapLibre GL JS\n",
    "\n",
    "```console\n",
    "$ npm install pmtiles\n",
    "```"
   ]
  },
  {
   "cell_type": "code",
   "execution_count": null,
   "id": "441cec9f-aa31-48da-91fc-a9916ef3aba7",
   "metadata": {
    "editable": true,
    "slideshow": {
     "slide_type": ""
    },
    "tags": []
   },
   "outputs": [],
   "source": [
    "You can also render a map with your own style using the NPM package @protomaps/basemaps³⁵.\n",
    "\n",
    "This gives you comprehensive control with minimal code."
   ]
  },
  {
   "cell_type": "markdown",
   "id": "3033286c-bad3-44db-b7bc-559d51fc40c9",
   "metadata": {
    "editable": true,
    "slideshow": {
     "slide_type": "fragment"
    },
    "tags": []
   },
   "source": [
    "```javascript\n",
    "import { Protocol } from \"pmtiles\";\n",
    "\n",
    "let protocol = new Protocol();\n",
    "maplibregl.addProtocol(\"pmtiles\",protocol.tile);\n",
    "```"
   ]
  },
  {
   "cell_type": "markdown",
   "id": "4905f722-3f85-4436-b194-944c847f31ec",
   "metadata": {
    "editable": true,
    "slideshow": {
     "slide_type": "notes"
    },
    "tags": []
   },
   "source": [
    "To read PMTiles directly, you need the JavaScript library PMTiles²⁹.\n",
    "\n",
    "It contains a plugin for MapLibre GL that uses its `addProtocol` function³⁰."
   ]
  },
  {
   "cell_type": "markdown",
   "id": "82ae6b43-aea7-4dad-9154-99f6738c4eed",
   "metadata": {
    "editable": true,
    "slideshow": {
     "slide_type": "subslide"
    },
    "tags": []
   },
   "source": [
    "## Integration\n",
    "\n",
    "### MapLibre GL JS\n",
    "\n",
    "```typescript\n",
    "  getStyle(): StyleSpecification {\n",
    "    const colorScheme = this.getActiveColorScheme();\n",
    "    const flavors = this.normalizeFlavors(this.options.flavors);\n",
    "    const sprites =\n",
    "      colorScheme == \"dark\" && flavors.invertDark ? \"light\" : colorScheme;\n",
    "    return {\n",
    "      version: 8,\n",
    "      glyphs: \"https://map.cusy.io/fonts/{fontstack}/{range}.pbf\",\n",
    "      sprite: \"https://map.cusy.io/sprites/v4/${sprites}\",\n",
    "      sources: {\n",
    "        [PMTILES_SOURCE]: {\n",
    "          type: \"vector\",\n",
    "          url: \"pmtiles://${this.tilesURL}\",\n",
    "          attribution:\n",
    "            \"Map data: <a href=\"https://www.openstreetmap.org/copyright\" target=\"_blank\">OpenStreetMap</a>\",\n",
    "        },\n",
    "      },\n",
    "      layers: layers(PMTILES_SOURCE, flavors[colorScheme], DEFAULT_LAYERS_OPTS),\n",
    "    };\n",
    "  }\n",
    "```"
   ]
  },
  {
   "cell_type": "markdown",
   "id": "28478f9d-cda1-4fb2-bcfa-9694e2f50f8d",
   "metadata": {
    "editable": true,
    "slideshow": {
     "slide_type": "notes"
    },
    "tags": []
   },
   "source": [
    "`layers` from `@protomaps/basemaps` is a function with the following three arguments:\n",
    "\n",
    "* The source name of the base map\n",
    "* A flavour object; the default settings can be retrieved under `namedFlavor` with\n",
    "`light`, `dark`, `white`, `black` and `grayscale`.\n",
    "* An `options` object for labels, language keys and labels."
   ]
  },
  {
   "cell_type": "markdown",
   "id": "07956f02-427a-496c-861d-47e835f87e1e",
   "metadata": {
    "editable": true,
    "slideshow": {
     "slide_type": "subslide"
    },
    "tags": []
   },
   "source": [
    "## Integration\n",
    "\n",
    "### Leaflet⁴"
   ]
  },
  {
   "cell_type": "markdown",
   "id": "70f8cec1-e7ae-45c2-b454-49c807cec22b",
   "metadata": {
    "editable": true,
    "slideshow": {
     "slide_type": "notes"
    },
    "tags": []
   },
   "source": [
    "As an alternative to MapLibre, PMTiles can also be rendered by `Leaflet`⁴ in the browser."
   ]
  },
  {
   "cell_type": "markdown",
   "id": "768caac3-182c-4ce7-8ae5-d686b39ba07f",
   "metadata": {
    "editable": true,
    "slideshow": {
     "slide_type": "fragment"
    },
    "tags": []
   },
   "source": [
    "```console\n",
    "$ npm install protomaps-leaflet\n",
    "```"
   ]
  },
  {
   "cell_type": "markdown",
   "id": "2c126734-5369-44c9-8663-519adf4ed30c",
   "metadata": {
    "editable": true,
    "slideshow": {
     "slide_type": "fragment"
    },
    "tags": []
   },
   "source": [
    "```html\n",
    "<script src=\"protomaps-leaflet.js\"></script>\n",
    "<script>\n",
    "    const map = L.map(\"map\")\n",
    "    var layer = protomapsL.leafletLayer({url:\"FILE.pmtiles\", flavor: \"light\", lang: \"en\"})\n",
    "    layer.addTo(map)\n",
    "</script>\n",
    "```"
   ]
  },
  {
   "cell_type": "markdown",
   "id": "fd05dbfe-88df-414c-9e10-4ce413ac9c04",
   "metadata": {
    "editable": true,
    "slideshow": {
     "slide_type": "subslide"
    },
    "tags": []
   },
   "source": [
    "## Integration\n",
    "\n",
    "### OpenLayers³⁶"
   ]
  },
  {
   "cell_type": "markdown",
   "id": "d8b10047-dcf8-478a-ad19-4da517a6141a",
   "metadata": {
    "editable": true,
    "slideshow": {
     "slide_type": "fragment"
    },
    "tags": []
   },
   "source": [
    "```console\n",
    "$ npm install ol-pmtiles\n",
    "```"
   ]
  },
  {
   "cell_type": "markdown",
   "id": "d04de392-0fd2-48fc-8baa-d71fdf646456",
   "metadata": {
    "editable": true,
    "slideshow": {
     "slide_type": "fragment"
    },
    "tags": []
   },
   "source": [
    "```javascript\n",
    "import \"./style.css\";\n",
    "import { Map, View } from \"ol\";\n",
    "import VectorTile from \"ol/layer/VectorTile\";\n",
    "import { PMTilesVectorSource } from \"ol-pmtiles\";\n",
    "import { Style, Stroke, Fill } from \"ol/style\";\n",
    "import { useGeographic } from \"ol/proj\";\n",
    "```"
   ]
  },
  {
   "cell_type": "markdown",
   "id": "385793cc-7b45-4254-9772-e7b2313b1aeb",
   "metadata": {
    "editable": true,
    "slideshow": {
     "slide_type": "subslide"
    },
    "tags": []
   },
   "source": [
    "## Integration\n",
    "\n",
    "### OpenLayers\n",
    "\n",
    "```javascript\n",
    "const vectorLayer = new VectorTile({\n",
    "  declutter: true,\n",
    "  source: new PMTilesVectorSource({\n",
    "    url: \"https://r2-public.protomaps.com/protomaps-sample-datasets/nz-buildings-v3.pmtiles\",\n",
    "    attributions: [\"© Land Information New Zealand\"],\n",
    "  }),\n",
    "  style: new Style({\n",
    "    stroke: new Stroke({\n",
    "      color: \"gray\",\n",
    "      width: 1,\n",
    "    }),\n",
    "    fill: new Fill({\n",
    "      color: \"rgba(20,20,20,0.9)\",\n",
    "    }),\n",
    "  }),\n",
    "});\n",
    "```"
   ]
  },
  {
   "cell_type": "markdown",
   "id": "cef24ac0-456c-488e-91a3-463b4294b219",
   "metadata": {
    "editable": true,
    "slideshow": {
     "slide_type": "subslide"
    },
    "tags": []
   },
   "source": [
    "## Integration\n",
    "\n",
    "### OpenLayers\n",
    "\n",
    "```javascript\n",
    "useGeographic();\n",
    "\n",
    "const map = new Map({\n",
    "  target: \"map\",\n",
    "  layers: [vectorLayer],\n",
    "  view: new View({\n",
    "    center: [172.606201,-43.556510],\n",
    "    zoom: 7,\n",
    "  }),\n",
    "});\n",
    "```"
   ]
  },
  {
   "cell_type": "markdown",
   "id": "f1391b51-0734-448e-afe4-38e2cc866c7b",
   "metadata": {
    "editable": true,
    "slideshow": {
     "slide_type": "slide"
    },
    "tags": []
   },
   "source": [
    "## 4. What can you use Protomaps for?"
   ]
  },
  {
   "cell_type": "markdown",
   "id": "699f9a73-f875-4f28-b5c7-8efc9e1d4fbe",
   "metadata": {
    "editable": true,
    "slideshow": {
     "slide_type": "notes"
    },
    "tags": []
   },
   "source": [
    "Let’s take a look at various applications where Protomaps can prove transformative."
   ]
  },
  {
   "cell_type": "markdown",
   "id": "f2f66c30-6e2f-4b9c-9a08-b3d99fe89252",
   "metadata": {
    "editable": true,
    "slideshow": {
     "slide_type": "fragment"
    },
    "tags": []
   },
   "source": [
    "* Cities and municipalities"
   ]
  },
  {
   "cell_type": "markdown",
   "id": "0056a4d3-4913-44dc-82f7-fe03b1c079da",
   "metadata": {
    "editable": true,
    "slideshow": {
     "slide_type": "notes"
    },
    "tags": []
   },
   "source": [
    "Cities and municipalities can replace their commercial mapping system with a Protomaps-based solution to display\n",
    "* area information\n",
    "* infrastructure projects and\n",
    "* municipal resources.\n",
    "\n",
    "The self-hosted implementation  \n",
    "* eliminates recurring licence costs\n",
    "* and adds the ability to add local landmarks and municipal boundaries to the maps, which were previously difficult or impossible to mark with commercial services."
   ]
  },
  {
   "cell_type": "markdown",
   "id": "8f58cc70-2388-49a7-8f3f-de1bbc4bbfdf",
   "metadata": {
    "editable": true,
    "slideshow": {
     "slide_type": "fragment"
    },
    "tags": []
   },
   "source": [
    "* Offline maps"
   ]
  },
  {
   "cell_type": "markdown",
   "id": "6552476c-a96d-466b-85ba-f35ccbe3e666",
   "metadata": {
    "editable": true,
    "slideshow": {
     "slide_type": "notes"
    },
    "tags": []
   },
   "source": [
    "Protomaps enables the creation of offline-capable map tools in areas with sporadic or no internet connection.\n",
    "\n",
    "By distributing PMTiles files containing detailed local and regional maps, interactive map tools can be accessed without the need for constant internet access.\n",
    "\n",
    "This is ideal for crisis areas where the internet is down."
   ]
  },
  {
   "cell_type": "markdown",
   "id": "218e0ee1-7bed-4af2-89f8-213fb97f3841",
   "metadata": {
    "editable": true,
    "slideshow": {
     "slide_type": "fragment"
    },
    "tags": []
   },
   "source": [
    "* Privacy-critical applications"
   ]
  },
  {
   "cell_type": "markdown",
   "id": "8f7acdfe-7a83-4b1e-aff2-2448f4a1199e",
   "metadata": {
    "editable": true,
    "slideshow": {
     "slide_type": "notes"
    },
    "tags": []
   },
   "source": [
    "For example, healthcare providers can use Protomaps to create tools for locating facilities.\n",
    "\n",
    "The location data can remain on the end user’s device."
   ]
  },
  {
   "cell_type": "markdown",
   "id": "c1473243-70fe-444a-a9d3-b240a99a7582",
   "metadata": {
    "editable": true,
    "slideshow": {
     "slide_type": "fragment"
    },
    "tags": []
   },
   "source": [
    "* Specialised tools"
   ]
  },
  {
   "cell_type": "markdown",
   "id": "e1d4feb1-b20c-49ee-9083-cbaa96c912f0",
   "metadata": {
    "editable": true,
    "slideshow": {
     "slide_type": "notes"
    },
    "tags": []
   },
   "source": [
    "PMTiles enables companies to create highly specialised maps with industry-specific symbols and data visualisations that cannot be offered by commercial map providers.\n",
    "\n",
    "At the same time, it ensures that the maps are accessible."
   ]
  },
  {
   "cell_type": "markdown",
   "id": "b000ff3c-475e-42dd-81d5-80d1bf2065c2",
   "metadata": {
    "editable": true,
    "slideshow": {
     "slide_type": "subslide"
    },
    "tags": []
   },
   "source": [
    "## 4. What can you use Protomaps for… and what can’t you use them for?"
   ]
  },
  {
   "cell_type": "markdown",
   "id": "3fda3568-ccdd-447d-b27b-5173384a997d",
   "metadata": {
    "editable": true,
    "slideshow": {
     "slide_type": "fragment"
    },
    "tags": []
   },
   "source": [
    "PMTiles is intended for the web-based display of large, static data sets, which means"
   ]
  },
  {
   "cell_type": "markdown",
   "id": "c8eeebdf-2f2b-4e5e-bd2b-91f9bd8de9f6",
   "metadata": {
    "editable": true,
    "slideshow": {
     "slide_type": "fragment"
    },
    "tags": []
   },
   "source": [
    "* they are based on a web platform and not on a local desktop application."
   ]
  },
  {
   "cell_type": "markdown",
   "id": "d88a8dd6-8589-4e46-b55e-6cd4483f8faf",
   "metadata": {
    "editable": true,
    "slideshow": {
     "slide_type": "fragment"
    },
    "tags": []
   },
   "source": [
    "* the information totals more than a few megabytes, which is more than can be sensibly loaded at one time."
   ]
  },
  {
   "cell_type": "markdown",
   "id": "4a226e96-bb90-40bd-859c-3e5aa89f70d6",
   "metadata": {
    "editable": true,
    "slideshow": {
     "slide_type": "fragment"
    },
    "tags": []
   },
   "source": [
    "* the data set changes at most daily or never."
   ]
  },
  {
   "cell_type": "markdown",
   "id": "c31983d3-2b44-4b07-8459-c6e36abee38c",
   "metadata": {
    "editable": true,
    "slideshow": {
     "slide_type": "subslide"
    },
    "tags": []
   },
   "source": [
    "## 4. What can you use Protomaps for… and what can’t you use them for?\n",
    "\n",
    "If your application does not have these three features, there are simpler alternatives to PMTiles:"
   ]
  },
  {
   "cell_type": "markdown",
   "id": "8681d57e-8973-4274-98eb-9c4f5a945cfe",
   "metadata": {
    "editable": true,
    "slideshow": {
     "slide_type": "fragment"
    },
    "tags": []
   },
   "source": [
    "* GeoJSON"
   ]
  },
  {
   "cell_type": "markdown",
   "id": "46612882-dbbd-44d4-b51b-7289c1191cc8",
   "metadata": {
    "editable": true,
    "slideshow": {
     "slide_type": "notes"
    },
    "tags": []
   },
   "source": [
    "If\n",
    "* you are creating a web-based map with static information,\n",
    "* but your data is small,\n",
    "you should provide it as a single GeoJSON file.\n",
    "\n",
    "This saves you the hassle of converting your data into tiles.\n",
    "\n",
    "You can use the same map design and interaction techniques as with tiled data."
   ]
  },
  {
   "cell_type": "markdown",
   "id": "6a8b2160-fdad-4305-a4ed-f02c55fead16",
   "metadata": {
    "editable": true,
    "slideshow": {
     "slide_type": "fragment"
    },
    "tags": []
   },
   "source": [
    "* PostGIS"
   ]
  },
  {
   "cell_type": "markdown",
   "id": "7126d4be-1618-4b62-b666-23a781e4c2c3",
   "metadata": {
    "editable": true,
    "slideshow": {
     "slide_type": "notes"
    },
    "tags": []
   },
   "source": [
    "If you are creating a web-based map for a **large** dataset that is **dynamic** and **frequently updated**, you should store your features in a transactional database.\n",
    "\n",
    "While it is possible to update a PMTiles file regularly, this requires reloading the file each time it is saved. This may be fine for daily updates, but any higher frequency requires inefficient data transfer."
   ]
  },
  {
   "cell_type": "markdown",
   "id": "72d85a6b-f9bf-467e-8be5-dfceb3250779",
   "metadata": {
    "editable": true,
    "slideshow": {
     "slide_type": "fragment"
    },
    "tags": []
   },
   "source": [
    "* GeoParquet"
   ]
  },
  {
   "cell_type": "markdown",
   "id": "070e6e94-d4f7-4d1a-bf48-c2c2f3c29309",
   "metadata": {
    "editable": true,
    "slideshow": {
     "slide_type": "notes"
    },
    "tags": []
   },
   "source": [
    "If you are exploring large, static datasets but **do not need to publish them on the internet**, you can **avoid tiling** and **visualise the files directly with desktop software**.\n",
    "\n",
    "Tiling with tools such as tippecanoe requires the prior calculation of general overview tiles and is designed for retrieving small, optimised pieces of data over the internet. If the network is not the bottleneck and you have your dataset locally, QGIS is an excellent open-source solution for visualisation and map creation.\n",
    "\n",
    "GeoParquet is a relatively new format that can efficiently store large data sets and is interoperable with open-source data tools."
   ]
  },
  {
   "cell_type": "markdown",
   "id": "1f10debd-d7ec-4097-8441-bf5829ea7001",
   "metadata": {
    "editable": true,
    "slideshow": {
     "slide_type": "fragment"
    },
    "tags": []
   },
   "source": [
    "* Lonboard"
   ]
  },
  {
   "cell_type": "markdown",
   "id": "bbf83617-a440-4360-9aa0-e26e86c455cd",
   "metadata": {
    "editable": true,
    "slideshow": {
     "slide_type": "notes"
    },
    "tags": []
   },
   "source": [
    "* Tools such as Lonboard enable the visualisation of GeoParquet in Jupyter notebooks.\n",
    "* However, for local data, GeoParquet and Lonboard are a great solution for exploratory data analysis.\n",
    "* They save you the trouble of converting to a network-optimised tile format."
   ]
  },
  {
   "cell_type": "markdown",
   "id": "0e6f05aa-ab69-4e9d-a7d0-4df3719e6525",
   "metadata": {
    "editable": true,
    "slideshow": {
     "slide_type": "slide"
    },
    "tags": []
   },
   "source": [
    "## 5. Protomaps sprint"
   ]
  },
  {
   "cell_type": "markdown",
   "id": "8a11cfed-1ace-41a0-9bf5-21dc9758cd7b",
   "metadata": {
    "editable": true,
    "slideshow": {
     "slide_type": "notes"
    },
    "tags": []
   },
   "source": [
    "Next spring.\n",
    "\n",
    "Stay tuned and check our events page from time to time: "
   ]
  },
  {
   "cell_type": "markdown",
   "id": "87ce9441-5c26-420c-b5fe-9eaf97578739",
   "metadata": {
    "editable": true,
    "slideshow": {
     "slide_type": "fragment"
    },
    "tags": []
   },
   "source": [
    "[cusy.io/en/about/events/](https://cusy.io/en/about/events/)"
   ]
  },
  {
   "cell_type": "markdown",
   "id": "fff208c0-4497-4893-8fbd-667127f619b8",
   "metadata": {
    "editable": true,
    "slideshow": {
     "slide_type": "slide"
    },
    "tags": []
   },
   "source": [
    "## 6. Read more\n",
    "\n",
    "¹ Protomaps: https://protomaps.com\n",
    "\n",
    "² OpenStreetMap: https://www.openstreetmap.org\n",
    "\n",
    "³ MapLibre: https://maplibre.org\n",
    "\n",
    "⁴ Leaflet: https://leafletjs.com\n",
    "\n",
    "⁵ Mapbox: https://www.mapbox.com\n",
    "\n",
    "⁶ OpenStreetMap (OSM): https://www.openstreetmap.org\n",
    "\n",
    "⁷ NGI0 Core Fund: https://nlnet.nl/core\n",
    "\n",
    "⁸ NLnet Foundation: https://nlnet.nl/project/Protomaps/\n",
    "\n",
    "⁹ HTTP Range Requests: https://developer.mozilla.org/en-US/docs/Web/HTTP/Range_requests\n",
    "\n",
    "¹⁰ Cross-Origin Resource Sharing (CORS): https://developer.mozilla.org/en-US/docs/Web/HTTP/CORS\n",
    "\n",
    "¹¹ Base maps: https://maps.protomaps.com/builds/\n",
    "\n",
    "¹² OpenStreetMap: https://openstreetmap.org/"
   ]
  },
  {
   "cell_type": "markdown",
   "id": "b42a4abb-6e50-48e0-8d55-86cf83d132dd",
   "metadata": {
    "editable": true,
    "slideshow": {
     "slide_type": "subslide"
    },
    "tags": []
   },
   "source": [
    "## 6. Read more\n",
    "\n",
    "¹³ Natural Earth: https://naturalearthdata.com/\n",
    "\n",
    "¹⁴ basemaps repository: https://github.com/protomaps/basemaps\n",
    "\n",
    "¹⁵ Planetiler: https://github.com/onthegomap/planetiler\n",
    "\n",
    "¹⁶ Basemap Layers: https://docs.protomaps.com/basemaps/layers\n",
    "\n",
    "¹⁷ Tilezen: https://tilezen.readthedocs.io/en/latest/layers/\n",
    "\n",
    "¹⁸ `pmtiles extract`: https://docs.protomaps.com/pmtiles/cli#extract\n",
    "\n",
    "¹⁹ `pmtiles convert`: https://docs.protomaps.com/pmtiles/cli#convert\n",
    "\n",
    "²⁰ tippecanoe: https://github.com/felt/tippecanoe\n",
    "\n",
    "²¹ rio-pmtiles: https://pypi.org/project/rio-pmtiles/\n",
    "\n",
    "²² Rasterio: https://rasterio.readthedocs.io/en/stable/\n",
    "\n",
    "²³ GDAL docs: https://gdal.org/en/stable/drivers/vector/pmtiles.html\n",
    "\n",
    "²⁴ tilemaker: https://github.com/systemed/tilemaker"
   ]
  },
  {
   "cell_type": "markdown",
   "id": "cca8933c-6781-4bd0-837e-fe2828f134d2",
   "metadata": {
    "editable": true,
    "slideshow": {
     "slide_type": "subslide"
    },
    "tags": []
   },
   "source": [
    "## 6. Read more\n",
    "\n",
    "²⁵ PMTiles Viewer: https://pmtiles.io/\n",
    "\n",
    "²⁶ RClone: https://rclone.org/\n",
    "\n",
    "²⁷ Caddy: https://caddyserver.com/\n",
    "\n",
    "²⁸ MapLibre GL JS: https://maplibre.org/maplibre-gl-js/docs/\n",
    "\n",
    "²⁹ PMTiles: https://www.npmjs.com/package/pmtiles\n",
    "\n",
    "³⁰ MapLibre GL `addProtocol`-Funktion: https://maplibre.org/maplibre-gl-js/docs/API/functions/addProtocol/\n",
    "\n",
    "³¹ MapLibre fontstack: https://maplibre.org/maplibre-style-spec/glyphs/\n",
    "\n",
    "³² MapLibre spritesheet assets: https://maplibre.org/maplibre-style-spec/sprite/\n",
    "\n",
    "³³ Basemaps assets repository: http://github.com/protomaps/basemaps-assets\n",
    "\n",
    "³⁴ MapLibre style: https://maplibre.org/maplibre-style-spec/\n",
    "\n",
    "³⁵ @protomaps/basemaps: https://www.npmjs.com/package/@protomaps/basemaps\n",
    "\n",
    "³⁶ OpenLayers: https://openlayers.org"
   ]
  },
  {
   "cell_type": "markdown",
   "id": "16644800-d913-42b6-98a5-332237409df9",
   "metadata": {
    "editable": true,
    "slideshow": {
     "slide_type": "subslide"
    },
    "tags": []
   },
   "source": [
    "## 6. Read more\n",
    "\n",
    "³⁷ Nominatim: https://nominatim.org/\n",
    "\n",
    "³⁸ Photon: https://photon.komoot.io/\n",
    "\n",
    "³⁹ Pelias: https://pelias.io/\n",
    "\n",
    "⁴⁰ Valhalla: https://valhalla.github.io/valhalla/\n",
    "\n",
    "⁴¹ OpenTripPlanner: https://www.opentripplanner.org/"
   ]
  }
 ],
 "metadata": {
  "kernelspec": {
   "display_name": "Python 3.13 Kernel",
   "language": "python",
   "name": "python313"
  },
  "language_info": {
   "codemirror_mode": {
    "name": "ipython",
    "version": 3
   },
   "file_extension": ".py",
   "mimetype": "text/x-python",
   "name": "python",
   "nbconvert_exporter": "python",
   "pygments_lexer": "ipython3",
   "version": "3.13.0"
  },
  "widgets": {
   "application/vnd.jupyter.widget-state+json": {
    "state": {},
    "version_major": 2,
    "version_minor": 0
   }
  }
 },
 "nbformat": 4,
 "nbformat_minor": 5
}
