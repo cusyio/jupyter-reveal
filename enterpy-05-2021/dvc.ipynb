{
 "cells": [
  {
   "cell_type": "markdown",
   "id": "respiratory-count",
   "metadata": {
    "slideshow": {
     "slide_type": "slide"
    }
   },
   "source": [
    "# Versionskontrolle in ML-Projekten\n",
    "\n",
    "<img src=\"fho.png\" alt=\"Portrait Frank Hofmann\" style=\"float: left; width:256px; margin-right:32px; border-radius: 50%;\"/>\n",
    "\n",
    "Frank Hofmann<br>Cusy GmbH, Berlin<br>enterPy, 6. Mai 2021"
   ]
  },
  {
   "cell_type": "markdown",
   "id": "afraid-slovakia",
   "metadata": {
    "slideshow": {
     "slide_type": "slide"
    }
   },
   "source": [
    "## Installation\n",
    "\n",
    "```\n",
    "$ pipenv install dvc[ssh]\n",
    "```"
   ]
  },
  {
   "cell_type": "markdown",
   "id": "married-supplement",
   "metadata": {
    "slideshow": {
     "slide_type": "fragment"
    }
   },
   "source": [
    "### Extras\n",
    "\n",
    "* `[ssh]`\n",
    "* `[s3]`\n",
    "* `[gs]`\n",
    "* `[azure]`\n",
    "* `[oss]`\n",
    "* `[all]`"
   ]
  },
  {
   "cell_type": "markdown",
   "id": "interim-competition",
   "metadata": {
    "slideshow": {
     "slide_type": "slide"
    }
   },
   "source": [
    "## Projekt erstellen\n",
    "\n",
    "```bash\n",
    "$ mkdir -p dvc-example/data\n",
    "$ cd dvc-example\n",
    "$ git init\n",
    "$ dvc init\n",
    "$ git add .dvc\n",
    "$ git commit -m \"Initialise DVC\"\n",
    "```"
   ]
  },
  {
   "cell_type": "markdown",
   "id": "sporting-programmer",
   "metadata": {
    "slideshow": {
     "slide_type": "subslide"
    }
   },
   "source": [
    "<dl>\n",
    "    <dt><code>dvc init</code></dt>\n",
    "    <dd>erstellt ein Verzeichnis <code>.dvc/</code> mit <code>config</code>, <code>.gitignore</code> und <code>cache</code>-Verzeichnis.</dd>\n",
    "    <dt><code>git commit</code></dt>\n",
    "    <dd>stellt <code>.dvc/config</code> und <code>.dvc/.gitignore</code> unter Git-Versionskontrolle.</dd>\n",
    "</dl>"
   ]
  },
  {
   "cell_type": "markdown",
   "id": "spanish-daily",
   "metadata": {
    "slideshow": {
     "slide_type": "slide"
    }
   },
   "source": [
    "## DVC konfigurieren\n",
    "\n",
    "Bevor DVC verwendet wird, sollte noch ein entfernter Speicherplatz (remote storage) eingerichtet werden, z.B. ein NFS-Mount. "
   ]
  },
  {
   "cell_type": "markdown",
   "id": "frequent-actress",
   "metadata": {
    "slideshow": {
     "slide_type": "subslide"
    }
   },
   "source": [
    "```bash\n",
    "$ sudo mkdir -p /var/dvc-storage\n",
    "$ dvc remote add -d local /var/dvc-storage\n",
    "Setting 'local' as a default remote.\n",
    "$ git commit .dvc/config -m \"Configure local remote\"\n",
    "[master efaeb84] Configure local remote\n",
    " 1 file changed, 4 insertions(+)\n",
    "```"
   ]
  },
  {
   "cell_type": "markdown",
   "id": "removed-credit",
   "metadata": {
    "slideshow": {
     "slide_type": "subslide"
    }
   },
   "source": [
    "<dl>\n",
    "    <dt><code>-d, --default</code></dt>\n",
    "        <dd>Standardwert für den entfernten Speicherplatz\n",
    "    <dt><code>local</code></dt>\n",
    "    <dd>Name des entfernten Speicherplatz</dd>\n",
    "    <dt><code>/var/dvc-storage</code></dt>\n",
    "    <dd>URL des entfernten Speicherplatzes</dd>"
   ]
  },
  {
   "cell_type": "markdown",
   "id": "adjusted-priority",
   "metadata": {
    "slideshow": {
     "slide_type": "subslide"
    }
   },
   "source": [
    "Daneben werden noch weitere Protokolle unterstützt, die dem Pfad vorangestellt werden, u.a. `ssh:`, `hdfs:`, `https:`.\n",
    "\n",
    "So kann beispielsweise einfach ein weterer entfernter Datenspeicher hinzugefügt werden mit:\n",
    "\n",
    "```bash\n",
    "$ dvc remote add webserver https://dvc.cusy.io/myproject\n",
    "```"
   ]
  },
  {
   "cell_type": "markdown",
   "id": "approved-banks",
   "metadata": {
    "slideshow": {
     "slide_type": "subslide"
    }
   },
   "source": [
    "Die zugehörige Konfigurationsdatei `.dvc/config` sieht dann so aus:\n",
    "```ini\n",
    "['remote \"local\"']\n",
    "url = /var/dvc-storage\n",
    "[core]\n",
    "remote = local\n",
    "['remote \"webserver\"']\n",
    "url = https://dvc.cusy.io/myproject\n",
    "```"
   ]
  },
  {
   "cell_type": "markdown",
   "id": "military-experience",
   "metadata": {
    "slideshow": {
     "slide_type": "slide"
    }
   },
   "source": [
    "## Daten hinzufügen\n",
    "\n",
    "```bash\n",
    "$ dvc get https://github.com/iterative/dataset-registry get-started/data.xml \\\n",
    "    -o data/data.xml\n",
    "$ dvc add data/data.xml\n",
    "```"
   ]
  },
  {
   "cell_type": "markdown",
   "id": "intermediate-cabin",
   "metadata": {
    "slideshow": {
     "slide_type": "subslide"
    }
   },
   "source": [
    "1. Dies fügt die Datei `data/data.xml` in `data/.gitignore` hinzu\n",
    "2. Die Metanangaben werden in `data/data.xml.dvc`.\n",
    "\n",
    "Weitere Informationen zum Dateiformat der `*.dvc`-Datei erhaltet ihr unter [DVC-File Format](https://dvc.org/doc/user-guide/dvc-file-format)."
   ]
  },
  {
   "cell_type": "markdown",
   "id": "virtual-leisure",
   "metadata": {
    "slideshow": {
     "slide_type": "subslide"
    }
   },
   "source": [
    "In Git werden für die verschiedene Versionen eurer Projektdaten verwaltet indem Ihr die CVS-Datei hinzufügt:\n",
    "\n",
    "```bash\n",
    "$ git add data/.gitignore data/fortune500.csv.dvc\n",
    "$ git commit -m \"Add raw data to project\"\n",
    "```"
   ]
  },
  {
   "cell_type": "markdown",
   "id": "downtown-truck",
   "metadata": {
    "slideshow": {
     "slide_type": "slide"
    }
   },
   "source": [
    "## Daten speichern und abrufen\n",
    "\n",
    "Die Daten können vom Arbeitsverzeichnis eures Git-Repository auf den entfernten Speicherplatz kopiert werden mit\n",
    "\n",
    "```bash\n",
    "$ dvc push\n",
    "```"
   ]
  },
  {
   "cell_type": "markdown",
   "id": "chinese-twins",
   "metadata": {
    "slideshow": {
     "slide_type": "subslide"
    }
   },
   "source": [
    "Falls ihr aktuellere Daten abrufen wollt, könnt ihr dies mit\n",
    "\n",
    "```bash\n",
    "$ dvc pull\n",
    "```"
   ]
  },
  {
   "cell_type": "markdown",
   "id": "statistical-spiritual",
   "metadata": {
    "slideshow": {
     "slide_type": "slide"
    }
   },
   "source": [
    "## Importieren und Aktualisieren"
   ]
  },
  {
   "cell_type": "markdown",
   "id": "choice-testing",
   "metadata": {
    "slideshow": {
     "slide_type": "subslide"
    }
   },
   "source": [
    "### `dvc import`"
   ]
  },
  {
   "cell_type": "markdown",
   "id": "modified-landscape",
   "metadata": {
    "slideshow": {
     "slide_type": "fragment"
    }
   },
   "source": [
    "Beispiel\n",
    "\n",
    "```bash\n",
    "$ dvc import https://github.com/iterative/dataset-registry  get-started/data.xml\n",
    "Importing 'get-started/data.xml (https://github.com/iterative/dataset-registry)' -> 'data.xml'\n",
    "```"
   ]
  },
  {
   "cell_type": "markdown",
   "id": "unique-cement",
   "metadata": {
    "slideshow": {
     "slide_type": "fragment"
    }
   },
   "source": [
    "1. Dies lädt die Datei aus der [dataset-registry](https://github.com/iterative/dataset-registry) in das aktuelle Arbeitsverzeichnis\n",
    "2. fügt sie der `.gitignore`-Datei hinzu\n",
    "3. erstellt die Datei `data.xml.dvc`"
   ]
  },
  {
   "cell_type": "markdown",
   "id": "executed-hybrid",
   "metadata": {
    "slideshow": {
     "slide_type": "subslide"
    }
   },
   "source": [
    "### `dvc update`"
   ]
  },
  {
   "cell_type": "markdown",
   "id": "certain-project",
   "metadata": {
    "slideshow": {
     "slide_type": "fragment"
    }
   },
   "source": [
    "Beispiel\n",
    "\n",
    "```bash\n",
    "$ dvc update data.xml.dvc\n",
    "Stage 'data.xml.dvc' didn't change.\n",
    "Saving information to 'data.xml.dvc'.\n",
    "```"
   ]
  },
  {
   "cell_type": "markdown",
   "id": "cosmetic-cheat",
   "metadata": {
    "slideshow": {
     "slide_type": "slide"
    }
   },
   "source": [
    "## Big Picture\n",
    "\n",
    "![Code und Daten verbinden](combine-git-dvc_1.svg)"
   ]
  },
  {
   "cell_type": "markdown",
   "id": "be55c449",
   "metadata": {
    "slideshow": {
     "slide_type": "subslide"
    }
   },
   "source": [
    "## Big Picture\n",
    "\n",
    "![Code und Daten verbinden](combine-git-dvc_2.svg)"
   ]
  },
  {
   "cell_type": "markdown",
   "id": "5caba5df",
   "metadata": {
    "slideshow": {
     "slide_type": "subslide"
    }
   },
   "source": [
    "## Big Picture\n",
    "\n",
    "![Code und Daten verbinden](combine-git-dvc_3.svg)"
   ]
  },
  {
   "cell_type": "markdown",
   "id": "6c97f598",
   "metadata": {
    "slideshow": {
     "slide_type": "subslide"
    }
   },
   "source": [
    "## Big Picture\n",
    "\n",
    "![Code und Daten verbinden](combine-git-dvc_4.svg)"
   ]
  },
  {
   "cell_type": "markdown",
   "id": "1ff520e0",
   "metadata": {
    "slideshow": {
     "slide_type": "subslide"
    }
   },
   "source": [
    "## Big Picture\n",
    "\n",
    "![Code und Daten verbinden](combine-git-dvc_5.svg)"
   ]
  },
  {
   "cell_type": "markdown",
   "id": "cosmetic-cheat",
   "metadata": {
    "slideshow": {
     "slide_type": "subslide"
    }
   },
   "source": [
    "## Big Picture\n",
    "\n",
    "![Code und Daten verbinden](combine-git-dvc_6.svg)"
   ]
  },
  {
   "cell_type": "markdown",
   "id": "exciting-temple",
   "metadata": {
    "slideshow": {
     "slide_type": "slide"
    }
   },
   "source": [
    "## Pipelines\n",
    "\n",
    "`dvc run` erstellt Verbeitungsstufen.\n",
    "\n",
    "Jede Stufe ist gekennzeichnet durch\n",
    "\n",
    "* eine, mit Git verwaltete, Quellcode-Datei\n",
    "* weitere Abhängigkeiten\n",
    "* Ausgabedaten\n",
    "\n",
    "Alle Stufen zusammen bilden die DVC-Pipeline."
   ]
  },
  {
   "cell_type": "markdown",
   "id": "northern-consent",
   "metadata": {
    "slideshow": {
     "slide_type": "slide"
    }
   },
   "source": [
    "## Beispiel\n",
    "\n",
    "[github.com/cusyio/dvc-example](https://github.com/cusyio/dvc-example)"
   ]
  },
  {
   "cell_type": "markdown",
   "id": "diverse-recommendation",
   "metadata": {
    "slideshow": {
     "slide_type": "slide"
    }
   },
   "source": [
    "### 1. Phase: Aufteilen in Trainings- und Testdaten"
   ]
  },
  {
   "cell_type": "markdown",
   "id": "political-index",
   "metadata": {
    "slideshow": {
     "slide_type": "subslide"
    }
   },
   "source": [
    "[dvc-example/src/split.py](https://github.com/cusyio/dvc-example/blob/main/src/split.py)"
   ]
  },
  {
   "cell_type": "markdown",
   "id": "pregnant-excitement",
   "metadata": {
    "slideshow": {
     "slide_type": "fragment"
    }
   },
   "source": [
    "```bash\n",
    "$ dvc run -n split -d src/split.py -d data/data.xml -o data/splitted \\\n",
    "    python src/split.py data/data.xml\n",
    "```"
   ]
  },
  {
   "cell_type": "markdown",
   "id": "elegant-history",
   "metadata": {
    "slideshow": {
     "slide_type": "fragment"
    }
   },
   "source": [
    "<dl>\n",
    "    <dt><code>-n</code></dt>\n",
    "    <dd>gibt den Namen der Verarbeitungsstufe an.</dd>\n",
    "</dl>"
   ]
  },
  {
   "cell_type": "markdown",
   "id": "complimentary-constitutional",
   "metadata": {
    "slideshow": {
     "slide_type": "fragment"
    }
   },
   "source": [
    "<dl>\n",
    "    <dt><code>-d</code></dt>\n",
    "    <dd>gibt Abhängigkeiten (dependencies) für das reproduzierbare Kommando an.<br><br>\n",
    "    Wenn zum Reproduzieren der Ergebnisse beim nächsten Mal <code>dvc repo</code> aufgerufen wird, überprüft DVC diese Abhängigkeiten und entscheidet, ob diese auf dem aktuellen Stand sond oder erneut ausgeführt werden müssen um aktuellere Ergebnisse zu erhalten.\n",
    "</dd>\n",
    "</dl>"
   ]
  },
  {
   "cell_type": "markdown",
   "id": "noble-ultimate",
   "metadata": {
    "slideshow": {
     "slide_type": "fragment"
    }
   },
   "source": [
    "<dl>\n",
    "    <dt><code>-o</code></dt>\n",
    "    <dd>gibt die Ausgabedatei oder das Ausgabeverzeichnis an.</dd>\n",
    "</dl>"
   ]
  },
  {
   "cell_type": "markdown",
   "id": "experienced-consistency",
   "metadata": {
    "slideshow": {
     "slide_type": "subslide"
    }
   },
   "source": [
    "Der Arbeitsbereich hat sich nun geändert in:\n",
    "\n",
    "```bash\n",
    "  .\n",
    "  ├── data\n",
    "  │   ├── data.xml\n",
    "  │   ├── data.xml.dvc\n",
    "+ │   └── splitted\n",
    "+ │       ├── test.tsv\n",
    "+ │       └── train.tsv\n",
    "+ ├── dvc.lock\n",
    "+ ├── dvc.yaml\n",
    "  ├── requirements.txt\n",
    "  └── src\n",
    "      └── split.py\n",
    "```"
   ]
  },
  {
   "cell_type": "markdown",
   "id": "synthetic-cylinder",
   "metadata": {
    "slideshow": {
     "slide_type": "subslide"
    }
   },
   "source": [
    "Die generierte `dvc.yaml`-Datei sieht dann folgendermaßen aus:\n",
    "\n",
    "```yaml\n",
    "stages:\n",
    "  split:\n",
    "    cmd: pipenv run python src/split.py data/data.xml\n",
    "    deps:\n",
    "    - data/data.xml\n",
    "    - src/split.py\n",
    "    outs:\n",
    "    - data/splitted\n",
    "```"
   ]
  },
  {
   "cell_type": "markdown",
   "id": "olive-compatibility",
   "metadata": {
    "slideshow": {
     "slide_type": "subslide"
    }
   },
   "source": [
    "Da die Daten im Ausgabeverzeichnis nie mit Git versioniert werden sollten, hat `dvc run` bereits die `data/.gitignore`-Datei geschrieben:\n",
    "\n",
    "```ini\n",
    "  /data.xml\n",
    "+ /splitted\n",
    "```"
   ]
  },
  {
   "cell_type": "markdown",
   "id": "studied-calibration",
   "metadata": {
    "slideshow": {
     "slide_type": "subslide"
    }
   },
   "source": [
    "Anschließend müssen die geänderten Daten nur noch in Git bzw. DVC übernommen werden:\n",
    "\n",
    "```bash\n",
    "$ git add data/.gitignore dvc.yaml\n",
    "$ git commit -m \"Create split stage\"\n",
    "$ dvc push\n",
    "```"
   ]
  },
  {
   "cell_type": "markdown",
   "id": "instructional-triple",
   "metadata": {
    "slideshow": {
     "slide_type": "subslide"
    }
   },
   "source": [
    "Werden nun mehrere Phasen mit `dvc run` erstellt, wobei die Ausgabe eines Kommandos als Abhängigkeit eines anderen angegeben wird, entsteht eine DVC Pipeline."
   ]
  },
  {
   "cell_type": "markdown",
   "id": "worldwide-macro",
   "metadata": {
    "slideshow": {
     "slide_type": "slide"
    }
   },
   "source": [
    "### 2. Phase: Parametrisierung"
   ]
  },
  {
   "cell_type": "markdown",
   "id": "challenging-carnival",
   "metadata": {
    "slideshow": {
     "slide_type": "subslide"
    }
   },
   "source": [
    "`params.yaml` mit folgendem Inhalt:\n",
    "\n",
    "```yaml\n",
    "max_features: 6000\n",
    "ngram_range:\n",
    "  lo: 1\n",
    "  hi: 2\n",
    "```"
   ]
  },
  {
   "cell_type": "markdown",
   "id": "assisted-rabbit",
   "metadata": {
    "slideshow": {
     "slide_type": "subslide"
    }
   },
   "source": [
    "`dvc run` mit `-p <filename>:<params_list>` liest die Parameter, in unserem Beispiel:\n",
    "\n",
    "```bash\n",
    "$ dvc run -n featurize -d src/featurization.py -d data/splitted \\\n",
    "    -p params.yaml:max_features,ngram_range.lo,ngram_range.hi -o data/features \\\n",
    "    python src/featurization.py data/splitted data/features\n",
    "```"
   ]
  },
  {
   "cell_type": "markdown",
   "id": "surprising-glance",
   "metadata": {
    "slideshow": {
     "slide_type": "subslide"
    }
   },
   "source": [
    "Dies ergänzt die `dvc.yaml`-Datei um den `featurize`-Abschnitt:\n",
    "\n",
    "```yaml\n",
    "featurize:\n",
    "  cmd: python src/featurization.py data/splitted data/features\n",
    "  deps:\n",
    "  - data/splitted\n",
    "  - src/featurization.py\n",
    "  params:\n",
    "  - max_features\n",
    "  - ngram_range.lo\n",
    "  - ngram_range.hi\n",
    "  outs:\n",
    "  - data/features\n",
    "```"
   ]
  },
  {
   "cell_type": "markdown",
   "id": "trained-bachelor",
   "metadata": {
    "slideshow": {
     "slide_type": "subslide"
    }
   },
   "source": [
    "Damit diese Phase wiederholt werden kann, werden die hd5-Hashwerte und Parameterwerte in der `dvc.lock`-Datei gespeichert:\n",
    "\n",
    "```yaml\n",
    "featurize:\n",
    "  cmd: python src/featurization.py data/splitted data/features\n",
    "  deps:\n",
    "  - path: data/splitted\n",
    "    md5: 1ce9051bf386e57c03fe779d476d93e7.dir\n",
    "  - path: src/featurization.py\n",
    "    md5: a56570e715e39134adb4fdc779296373\n",
    "  params:\n",
    "    params.yaml:\n",
    "      max_features: 1000\n",
    "      ngram_range.hi: 2\n",
    "      ngram_range.lo: 1\n",
    "```"
   ]
  },
  {
   "cell_type": "markdown",
   "id": "antique-maryland",
   "metadata": {
    "slideshow": {
     "slide_type": "subslide"
    }
   },
   "source": [
    "Schließlich müssen noch die folgenden Dateien im Git-Repository aktualisiert werden:\n",
    "\n",
    "* `dvc.lock`\n",
    "* `dvc.yaml`\n",
    "* `data/.gitignore`\n",
    "\n",
    "```bash\n",
    "$ git add dvc.lock dvc.yaml data/.gitignore\n",
    "```"
   ]
  },
  {
   "cell_type": "markdown",
   "id": "legal-pontiac",
   "metadata": {
    "slideshow": {
     "slide_type": "slide"
    }
   },
   "source": [
    "### 3. Phase: Evaluation"
   ]
  },
  {
   "cell_type": "markdown",
   "id": "complete-wesley",
   "metadata": {
    "slideshow": {
     "slide_type": "subslide"
    }
   },
   "source": [
    "[dvc-example/src/evaluate.py](https://github.com/cusyio/dvc-example/blob/main/src/evaluate.py) berechnet den Wert für die [Fläche unter der Kurve](https://de.wikipedia.org/wiki/Fl%C3%A4che_unter_der_Kurve) (engl.: AUC (**A**rea **U**nder the **C**urve). "
   ]
  },
  {
   "cell_type": "markdown",
   "id": "violent-capability",
   "metadata": {
    "slideshow": {
     "slide_type": "fragment"
    }
   },
   "source": [
    "Dabei verwendet es den Testdatensatz, ließt die Features aus `features/test.pkl` und erstellt die Metrikdatei `auc.metric`."
   ]
  },
  {
   "cell_type": "markdown",
   "id": "lucky-happiness",
   "metadata": {
    "slideshow": {
     "slide_type": "fragment"
    }
   },
   "source": [
    "`auc.metric` kann DVC als Metrik mit der `-M`-Option von `dvc run` kenntlich gemacht werden:"
   ]
  },
  {
   "cell_type": "markdown",
   "id": "extended-natural",
   "metadata": {
    "slideshow": {
     "slide_type": "fragment"
    }
   },
   "source": [
    "```bash\n",
    "$ dvc run -n evaluate -d src/evaluate.py -d model.pkl -d data/features \\\n",
    "    -M auc.json python src/evaluate.py model.pkl data/features auc.json\n",
    "```"
   ]
  },
  {
   "cell_type": "markdown",
   "id": "alpine-bidder",
   "metadata": {
    "slideshow": {
     "slide_type": "subslide"
    }
   },
   "source": [
    "Dies erweitert die `/dvc.yaml`-Datei um den `evaluate`-Abschnitt:\n",
    "\n",
    "```yaml\n",
    "evaluate:\n",
    "  cmd: python src/evaluate.py model.pkl data/features auc.json\n",
    "  deps:\n",
    "  - data/features\n",
    "  - model.pkl\n",
    "  - src/evaluate.py\n",
    "  metrics:\n",
    "  - auc.json:\n",
    "      cache: false\n",
    "```"
   ]
  },
  {
   "cell_type": "markdown",
   "id": "significant-webster",
   "metadata": {
    "slideshow": {
     "slide_type": "subslide"
    }
   },
   "source": [
    "## Versuchsmetriken\n",
    "\n",
    "Mit `dvc metrics show` lassen sich Experimente über verschiedene Branches und Tags hinweg vergleichen:"
   ]
  },
  {
   "cell_type": "markdown",
   "id": "arctic-virginia",
   "metadata": {
    "slideshow": {
     "slide_type": "fragment"
    }
   },
   "source": [
    "```bash\n",
    "$ dvc metrics show\n",
    "        auc.json: 0.514172\n",
    "```"
   ]
  },
  {
   "cell_type": "markdown",
   "id": "changed-switzerland",
   "metadata": {
    "slideshow": {
     "slide_type": "subslide"
    }
   },
   "source": [
    "Die DVC-Pipeline kann nun zusammen mit einem Tag dem Git-Repository hinzugefügt werden:\n",
    "\n",
    "```bash\n",
    "$ git add dvc.yaml dvc.lock auc.json\n",
    "$ git commit -m 'Add stage ‹evaluate›'\n",
    "$ git tag -a 0.1.0 -m \"Initial pipeline version 0.1.0\"\n",
    "```"
   ]
  },
  {
   "cell_type": "markdown",
   "id": "weekly-theology",
   "metadata": {
    "slideshow": {
     "slide_type": "slide"
    }
   },
   "source": [
    "## Pipelines anzeigen\n",
    "\n",
    "```bash\n",
    "$ dvc dag\n",
    "\n",
    "    +-------------------+\n",
    "    | data/data.xml.dvc |\n",
    "    +-------------------+\n",
    "              *\n",
    "              *\n",
    "              *\n",
    "          +-------+\n",
    "          | split |\n",
    "          +-------+\n",
    "              *\n",
    "              *\n",
    "              *\n",
    "        +-----------+\n",
    "        | featurize |\n",
    "        +-----------+\n",
    "         **        **\n",
    "       **            *\n",
    "      *               **\n",
    "+-------+               *\n",
    "| train |             **\n",
    "+-------+            *\n",
    "         **        **\n",
    "           **    **\n",
    "             *  *\n",
    "        +----------+\n",
    "        | evaluate |\n",
    "        +----------+\n",
    "\n",
    "data/data.xml.dvc\n",
    "prepare.dvc\n",
    "featurize.dvc\n",
    "train.dvc\n",
    "evaluate.dvc\n",
    "```"
   ]
  },
  {
   "cell_type": "markdown",
   "id": "complicated-stake",
   "metadata": {
    "slideshow": {
     "slide_type": "subslide"
    }
   },
   "source": [
    "`dvc dag --dot` generiert eine [Graphviz](http://www.graphviz.org/)-`.dot`-Datei, die dann z.B. als SVG-Datei gerendert werden kann:\n",
    "\n",
    "![DVC-Pipeline](pipeline.svg)"
   ]
  },
  {
   "cell_type": "markdown",
   "id": "corresponding-yugoslavia",
   "metadata": {
    "slideshow": {
     "slide_type": "slide"
    }
   },
   "source": [
    "## Ergebnisse reproduzieren"
   ]
  },
  {
   "cell_type": "markdown",
   "id": "laughing-richards",
   "metadata": {
    "slideshow": {
     "slide_type": "subslide"
    }
   },
   "source": [
    "### 1. Code und Daten wiederherstellen"
   ]
  },
  {
   "cell_type": "markdown",
   "id": "gorgeous-advertiser",
   "metadata": {
    "slideshow": {
     "slide_type": "fragment"
    }
   },
   "source": [
    "```bash\n",
    "$ git clone https://github.com/veit/dvc-example.git\n",
    "$ cd dvc-example\n",
    "$ dvc pull -TR\n",
    "A       data/data.xml\n",
    "1 file added\n",
    "$ ls data/\n",
    "data.xml    data.xml.dvc\n",
    "```"
   ]
  },
  {
   "cell_type": "markdown",
   "id": "recovered-romania",
   "metadata": {
    "slideshow": {
     "slide_type": "subslide"
    }
   },
   "source": [
    "### 2. Ergebnisse reproduzieren"
   ]
  },
  {
   "cell_type": "markdown",
   "id": "generic-british",
   "metadata": {
    "slideshow": {
     "slide_type": "fragment"
    }
   },
   "source": [
    "```bash\n",
    "$ dvc repro\n",
    "Verifying data sources in stage: 'data/data.xml.dvc'\n",
    "Stage 'split' didn't change, skipping\n",
    "Stage 'featurize' didn't change, skipping\n",
    "Stage 'train' didn't change, skipping\n",
    "Stage 'evaluate' didn't change, skipping\n",
    "```"
   ]
  },
  {
   "cell_type": "markdown",
   "id": "cubic-dispatch",
   "metadata": {
    "slideshow": {
     "slide_type": "subslide"
    }
   },
   "source": [
    "### 3. Parametrisieren"
   ]
  },
  {
   "cell_type": "markdown",
   "id": "backed-breed",
   "metadata": {
    "slideshow": {
     "slide_type": "fragment"
    }
   },
   "source": [
    "Die Parameter in der `params.yaml`-Datei können geändert und anschließend die Pipeline erneut durchlaufen werden:\n",
    "\n",
    "```bash\n",
    "$ dvc repro\n",
    "Stage 'data/data.xml.dvc' didn't change, skipping\n",
    "Stage 'split' didn't change, skipping\n",
    "Running stage 'featurize' with command:\n",
    "    python src/featurization.py data/splitted data/features\n",
    "…\n",
    "Stage 'train' didn't change, skipping\n",
    "Stage 'evaluate' didn't change, skipping\n",
    "To track the changes with git, run:\n",
    "    git add dvc.lock\n",
    "```"
   ]
  },
  {
   "cell_type": "markdown",
   "id": "loose-johns",
   "metadata": {
    "slideshow": {
     "slide_type": "subslide"
    }
   },
   "source": [
    "Die Änderung der Parameter hatte keinen Einfluss auf das Ergebnis.\n",
    "\n",
    "DVC erkennt Änderungen an Abhängigkeiten und Ausgaben über die md5-Hashwerte, die in der `dvc.lock`-Datei gespeichert sind."
   ]
  },
  {
   "cell_type": "markdown",
   "id": "minimal-framing",
   "metadata": {
    "slideshow": {
     "slide_type": "slide"
    }
   },
   "source": [
    "## Zum Weiterlesen\n",
    "\n",
    "* [DVC im Jupyter-Tutorial](https://jupyter-tutorial.readthedocs.io/de/latest/productive/dvc/index.html)\n",
    "* [Documentation](https://dvc.org/doc)\n",
    "  * [params](https://dvc.org/doc/command-reference/params)\n",
    "* [Git Repository](https://github.com/iterative/dvc)"
   ]
  }
 ],
 "metadata": {
  "celltoolbar": "Slideshow",
  "kernelspec": {
   "display_name": "Python 3",
   "language": "python",
   "name": "python3"
  },
  "language_info": {
   "codemirror_mode": {
    "name": "ipython",
    "version": 3
   },
   "file_extension": ".py",
   "mimetype": "text/x-python",
   "name": "python",
   "nbconvert_exporter": "python",
   "pygments_lexer": "ipython3",
   "version": "3.9.4"
  },
  "latex_envs": {
   "LaTeX_envs_menu_present": true,
   "autoclose": false,
   "autocomplete": true,
   "bibliofile": "biblio.bib",
   "cite_by": "apalike",
   "current_citInitial": 1,
   "eqLabelWithNumbers": true,
   "eqNumInitial": 1,
   "hotkeys": {
    "equation": "Ctrl-E",
    "itemize": "Ctrl-I"
   },
   "labels_anchors": false,
   "latex_user_defs": false,
   "report_style_numbering": false,
   "user_envs_cfg": false
  }
 },
 "nbformat": 4,
 "nbformat_minor": 5
}
