{
 "cells": [
  {
   "cell_type": "markdown",
   "id": "respiratory-count",
   "metadata": {
    "slideshow": {
     "slide_type": "slide"
    }
   },
   "source": [
    "# What’s new in Python\n",
    "\n",
    "<img src=\"../img/veit-duotone.png\" alt=\"Portrait Veit Schiele\" style=\"float: left; width:256px; margin-right:32px; border-radius: 50%;\"/>\n",
    "\n",
    "Veit Schiele<br>Cusy GmbH, Berlin<br>Python Users Berlin, 10 March 2022\n",
    "\n",
    "<p style=\"clear: both; margin-bottom: 0;\">\n",
    "    <br>\n",
    "    <a href=\"https://github.com/cusyio/jupyter-reveal/tree/main/pub/pub_2022-03.pdf\">github.com/cusyio/jupyter-reveal/pub/pub_2022-03.pdf</a>\n",
    "<p/>"
   ]
  },
  {
   "cell_type": "markdown",
   "id": "382b0887",
   "metadata": {
    "slideshow": {
     "slide_type": "slide"
    }
   },
   "source": [
    "## Python 3.11.0a6 released\n",
    "\n",
    "On Monday, 7 March, Python 3.11 a6 was released"
   ]
  },
  {
   "cell_type": "markdown",
   "id": "3456a5e0",
   "metadata": {
    "slideshow": {
     "slide_type": "fragment"
    }
   },
   "source": [
    "### Release schedule\n",
    "\n",
    "Final release of Python 3.11 is planned for October 2022,\n",
    "\n",
    "see [PEP 664 – Python 3.11 Release Schedule](https://www.python.org/dev/peps/pep-0664/)"
   ]
  },
  {
   "cell_type": "markdown",
   "id": "5d599aaf",
   "metadata": {
    "slideshow": {
     "slide_type": "subslide"
    }
   },
   "source": [
    "## Python 3.11.0a6 released\n",
    "\n",
    "### New features\n",
    "\n",
    "see [Python 3.11.0a6 release notes](https://peps.python.org/pep-0664/)"
   ]
  },
  {
   "cell_type": "markdown",
   "id": "4a874f77",
   "metadata": {
    "slideshow": {
     "slide_type": "subslide"
    }
   },
   "source": [
    "## Python 3.11.0a6 released\n",
    "\n",
    "### New features\n",
    "\n",
    "#### [PEP 657 – Include Fine Grained Error Locations in Tracebacks](https://peps.python.org/pep-0657/)\n",
    "\n",
    "The traceback contains visual feedback about the exact location in a line that threw an exception, for example\n",
    "\n",
    "```python\n",
    "Traceback (most recent call last):\n",
    "  File \"test.py\", line 2, in <module>\n",
    "    x['a']['b']['c']['d'] = 1\n",
    "    ~~~~~~~~~~~^^^^^\n",
    "TypeError: 'NoneType' object is not subscriptable\n",
    "```"
   ]
  },
  {
   "cell_type": "markdown",
   "id": "59b8f86c",
   "metadata": {
    "slideshow": {
     "slide_type": "subslide"
    }
   },
   "source": [
    "## Python 3.11.0a6 released\n",
    "\n",
    "### New features\n",
    "\n",
    "#### [PEP 657 – Include Fine Grained Error Locations in Tracebacks](https://peps.python.org/pep-0657/)\n",
    "\n",
    "Opt-out mechanism\n",
    "\n",
    "… to save memory and still allow tools to automatically analyse tracebacks:\n",
    "\n",
    "* Environment variable: `PYTHONNODEBUGRANGES`\n",
    "* Command line option: `python -Xno_debug_ranges`"
   ]
  },
  {
   "cell_type": "markdown",
   "id": "ea32bb43",
   "metadata": {
    "slideshow": {
     "slide_type": "subslide"
    }
   },
   "source": [
    "## Python 3.11.0a6 released\n",
    "\n",
    "### New features\n",
    "\n",
    "#### [PEP 654 – Exception Groups and except*](https://peps.python.org/pep-0654/)\n",
    "\n",
    "There will be a new exception type called *exception group*, which will allow multiple exceptions to be grouped into one container. This essentially simplifies error handling in concurrent code, especially with Async IO, but also, for example, when grouping multiple exceptions that occur during data validation."
   ]
  },
  {
   "cell_type": "markdown",
   "id": "b4a4d483",
   "metadata": {
    "slideshow": {
     "slide_type": "subslide"
    }
   },
   "source": [
    "## Python 3.11.0a6 released\n",
    "\n",
    "### New features\n",
    "\n",
    "#### [PEP 654 – Exception Groups and except*](https://peps.python.org/pep-0654/)\n",
    "\n",
    "##### ExceptionGroup and BaseExceptionGroup\n",
    "\n",
    "```python\n",
    ">>> eg = ExceptionGroup(\n",
    "...     \"one\",\n",
    "...     [\n",
    "...         TypeError(1),\n",
    "...         ExceptionGroup(\n",
    "...             \"two\",\n",
    "...              [TypeError(2), ValueError(3)]\n",
    "...         ),\n",
    "...         ExceptionGroup(\n",
    "...              \"three\",\n",
    "...               [OSError(4)]\n",
    "...         )\n",
    "...     ]\n",
    "... )\n",
    "```"
   ]
  },
  {
   "cell_type": "markdown",
   "id": "5e5d0c18",
   "metadata": {
    "slideshow": {
     "slide_type": "subslide"
    }
   },
   "source": [
    "## Python 3.11.0a6 released\n",
    "\n",
    "### New features\n",
    "\n",
    "#### [PEP 654 – Exception Groups and except*](https://www.python.org/dev/peps/pep-0654/)\n",
    "\n",
    "##### ExceptionGroup and BaseExceptionGroup\n",
    "\n",
    "```python\n",
    ">>> import traceback\n",
    ">>> traceback.print_exception(eg)\n",
    "  | ExceptionGroup: one (3 sub-exceptions)\n",
    "  +-+---------------- 1 ----------------\n",
    "    | TypeError: 1\n",
    "    +---------------- 2 ----------------\n",
    "    | ExceptionGroup: two (2 sub-exceptions)\n",
    "    +-+---------------- 1 ----------------\n",
    "      | TypeError: 2\n",
    "      +---------------- 2 ----------------\n",
    "      | ValueError: 3\n",
    "      +------------------------------------\n",
    "```"
   ]
  },
  {
   "cell_type": "markdown",
   "id": "374f0ec0",
   "metadata": {
    "slideshow": {
     "slide_type": "subslide"
    }
   },
   "source": [
    "## Python 3.11.0a6 released\n",
    "\n",
    "### New features\n",
    "\n",
    "#### [PEP 654 – Exception Groups and except*](https://peps.python.org/pep-0654/)\n",
    "\n",
    "##### except*\n",
    "\n",
    "This introduces a new variant of the try except syntax to simplify working with exception groups.\n",
    "\n",
    "`*` indicates that multiple exceptions can be handled by each `except*` clause:"
   ]
  },
  {
   "cell_type": "markdown",
   "id": "2f53cd44",
   "metadata": {
    "slideshow": {
     "slide_type": "fragment"
    }
   },
   "source": [
    "```python\n",
    "try:\n",
    "    ...\n",
    "except* SpamError:\n",
    "    ...\n",
    "except* FooError as e:\n",
    "    ...\n",
    "except* (BarError, BazError) as e:\n",
    "    ...\n",
    "```"
   ]
  },
  {
   "cell_type": "markdown",
   "id": "65aa4f09",
   "metadata": {
    "slideshow": {
     "slide_type": "subslide"
    }
   },
   "source": [
    "## Python 3.11.0a6 released\n",
    "\n",
    "### New features\n",
    "\n",
    "#### [PEP 673 – Self Type](https://peps.python.org/pep-0673/)\n",
    "\n",
    "PEP 673 wants to introduce a simpler and more intuitive way to annotate methods that return an instance of their class. This corresponds to the TypeVar-based approach in [PEP 484 – Type Hints](https://www.python.org/dev/peps/pep-0484/)."
   ]
  },
  {
   "cell_type": "markdown",
   "id": "001ea786",
   "metadata": {
    "slideshow": {
     "slide_type": "fragment"
    }
   },
   "source": [
    "Reference implementation: [PyRight](https://github.com/microsoft/pyright)"
   ]
  },
  {
   "cell_type": "markdown",
   "id": "001ea786",
   "metadata": {
    "slideshow": {
     "slide_type": "fragment"
    }
   },
   "source": [
    "> **See also:**\n",
    "> \n",
    "> Mypy thread from 2016 talking about ways to tackle the self-typing problem [SelfType or another way to spell \"type of self\" (or, How to define a copy() function)](https://github.com/python/mypy/issues/1212)."
   ]
  },
  {
   "cell_type": "markdown",
   "id": "185fb00f",
   "metadata": {
    "slideshow": {
     "slide_type": "subslide"
    }
   },
   "source": [
    "## Python3.11.0a6 released\n",
    "\n",
    "### New features\n",
    "\n",
    "#### [PEP 646 – Variadic Generics](https://www.python.org/dev/peps/pep-0646/)\n",
    "\n",
    "Variadic generics in the form of `TypeVarTuple` want to solve a very special use case in scientific libraries like NumPy and simplify the handling of multidimensional arrays. Thus, the shape of an array is to be defined by parameterising its type with a variable number of placeholder types."
   ]
  },
  {
   "cell_type": "markdown",
   "id": "c5228fc9",
   "metadata": {
    "slideshow": {
     "slide_type": "subslide"
    }
   },
   "source": [
    "## Python 3.11.0a6 released\n",
    "\n",
    "### New features\n",
    "\n",
    "#### [PEP 680 – tomllib: Support for Parsing TOML in the Standard Library](https://peps.python.org/pep-0680/)\n",
    "\n",
    "The Steering Committee recently adopted PEP 680, which justifies the need for a TOML parser in the Python standard library, as [PEP 517 – A build-system independent format for source trees](https://peps.python.org/pep-0517/) leads to a new build system based on `pyproject.toml`. Previously, packaging tools had to bundle a library to read project metadata from that file."
   ]
  },
  {
   "cell_type": "markdown",
   "id": "1a18f3d4",
   "metadata": {
    "slideshow": {
     "slide_type": "fragment"
    }
   },
   "source": [
    "> **Note:**\n",
    "> \n",
    "> The current plan only provides for a TOML parser, without the corresponding serialiser. To write TOML data, an external library must still be installed and imported."
   ]
  },
  {
   "cell_type": "markdown",
   "id": "3f34c11e",
   "metadata": {
    "slideshow": {
     "slide_type": "subslide"
    }
   },
   "source": [
    "## Python 3.11.0a6 released\n",
    "\n",
    "### Performance optimisations\n",
    "\n",
    "According to Anthony Shaw from the [Faster Cpython Project](https://github.com/faster-cpython), CPython 3.11 is up to 45% faster at creating instances of base classes and calling methods (most Python code!) 🥳"
   ]
  },
  {
   "cell_type": "markdown",
   "id": "4066111a",
   "metadata": {
    "slideshow": {
     "slide_type": "slide"
    }
   },
   "source": [
    "## Python Issues Moving to GitHub\n",
    "\n",
    "If you have found a bug in Python 3.11.0 a6, you can currently report it to the [Roundup](https://roundup.sourceforge.io/)-based [Python Bug Tracker (BPO)](https://bugs.python.org/). From 24 March, however, the move to GitHub Issues will begin."
   ]
  },
  {
   "cell_type": "markdown",
   "id": "ba0cf474",
   "metadata": {
    "slideshow": {
     "slide_type": "fragment"
    }
   },
   "source": [
    "> **See also:**\n",
    "> \n",
    "> * [Github Issues Migration is coming soon](https://discuss.python.org/t/github-issues-migration-is-coming-soon/)\n",
    "> * [PEP 581 – Using GitHub Issues for CPython](https://peps.python.org/pep-0581/)"
   ]
  },
  {
   "cell_type": "markdown",
   "id": "5d880f27",
   "metadata": {
    "slideshow": {
     "slide_type": "slide"
    }
   },
   "source": [
    "## PEPs have a new home: [peps.python.org](https://peps.python.org/)"
   ]
  },
  {
   "cell_type": "markdown",
   "id": "55573a4c",
   "metadata": {
    "slideshow": {
     "slide_type": "fragment"
    }
   },
   "source": [
    "* [Request for comment: Making PEP rendering self-contained](https://discuss.python.org/t/request-for-comment-making-pep-rendering-self-contained/10774)\n",
    "* The known URLs http://python.org/dev/peps/… are redirected"
   ]
  },
  {
   "cell_type": "markdown",
   "id": "17fed65f",
   "metadata": {
    "slideshow": {
     "slide_type": "slide"
    }
   },
   "source": [
    "## PyCon US 2022 schedule announced\n",
    "\n",
    "* After two years in which PyCon US was held virtually due to the pandemic, PyCon US 2022 seems to be able to take place in person again.\n",
    "* This time the conference will be held in Salt Lake City, Utah.\n",
    "* At the same time, there will be an online streaming option."
   ]
  },
  {
   "cell_type": "markdown",
   "id": "18d88299",
   "metadata": {
    "slideshow": {
     "slide_type": "subslide"
    }
   },
   "source": [
    "## PyCon US 2022 schedule announced\n",
    "\n",
    "### Tutorials, Summits etc.\n",
    "\n",
    "Dates | Events | Notes\n",
    ":---- | :----- | :----\n",
    "27-28 April | [Tutorials](https://us.pycon.org/2022/schedule/tutorials/) | 150 USD per session; there are two timeslots per day\n",
    "28 April | [Sponsor Workshops](https://us.pycon.org/2022/schedule/sponsor-workshops/) | No entry fee\n",
    "28 April | [Education Summit](https://us.pycon.org/2022/events/education-summit/) | No entry fee\n",
    "29 April | [Maintainers Summit](https://us.pycon.org/2022/events/maintainers-summit/) | No entry fee\n",
    "30 April | [Mentored Sprints for Diverse Beginners](https://us.pycon.org/2022/events/mentored-sprints/) | No entry fee\n",
    "30 April | [PyLadies Auction](https://us.pycon.org/2022/events/pyladies-auction/) | 35 or 50 USD Entry; supporter rates are offered"
   ]
  },
  {
   "cell_type": "markdown",
   "id": "65f6fc35",
   "metadata": {
    "slideshow": {
     "slide_type": "fragment"
    }
   },
   "source": [
    "> **See also:**\n",
    "> \n",
    "> * [Conference Schedule](https://us.pycon.org/2022/events/pyladies-auction/)\n",
    "> * [Registration](https://us.pycon.org/2022/attend/information/)"
   ]
  },
  {
   "cell_type": "markdown",
   "id": "4b647f42",
   "metadata": {
    "slideshow": {
     "slide_type": "slide"
    }
   },
   "source": [
    "## GeoPython 2022\n",
    "\n",
    "Due to an overlap with a major event in Basel, [GeoPython 2022](https://2022.geopython.net/) had to be postponed to 20–22 June 2022."
   ]
  },
  {
   "cell_type": "markdown",
   "id": "69a4548a",
   "metadata": {
    "slideshow": {
     "slide_type": "fragment"
    }
   },
   "source": [
    "Other important dates are:\n",
    "\n",
    "* Submission deadline workshops: 15 March 2022 (12:00 AoE)\n",
    "* Registration deadline: 15 March 2022\n",
    "* Timetable for the first draft: 20 March 2022"
   ]
  },
  {
   "cell_type": "markdown",
   "id": "8d474476",
   "metadata": {
    "slideshow": {
     "slide_type": "slide"
    }
   },
   "source": [
    "## PSF hires to improve PyPI\n",
    "\n",
    "The Python Software Foundation (PSF) is looking to hire two developers to develop new features in the Python Package Index (PyPI). This decision was made after some surveys in the Python community identified the main user requirements that are currently missing in PyPI: the most requested feature was organisational accounts in PyPI. This is to become a paid service offered to companies."
   ]
  },
  {
   "cell_type": "markdown",
   "id": "556c5d29",
   "metadata": {
    "slideshow": {
     "slide_type": "fragment"
    }
   },
   "source": [
    "One of the contractors will focus on the back-end while the other will take care of the front-end. Both roles will be location independent and contract work is expected to start in early April 2022. The budget for each role is up to $98k for approximately 560 hours, with 35 hours per working week."
   ]
  },
  {
   "cell_type": "markdown",
   "id": "9ab5c183",
   "metadata": {
    "slideshow": {
     "slide_type": "fragment"
    }
   },
   "source": [
    "> **See also:**\n",
    "> \n",
    "> * [We are hiring to expand our Infrastructure staff!](https://pyfound.blogspot.com/2022/03/we-are-hiring-to-expand-our.html)\n",
    "> * [Evaluation criteria](https://github.com/psf/request-for/blob/main/2022-PyPI/RFP.md#evaluation-criteria)"
   ]
  },
  {
   "cell_type": "markdown",
   "id": "bb9109d2",
   "metadata": {
    "slideshow": {
     "slide_type": "slide"
    }
   },
   "source": [
    "## `pythoncapi_compat` is now a project of the GitHub Python Organisation\n",
    "\n",
    "[pythoncapi_compat](https://github.com/python/pythoncapi_compat) is used to write a C extension for different Python versions with a single code base."
   ]
  }
 ],
 "metadata": {
  "celltoolbar": "Slideshow",
  "kernelspec": {
   "display_name": "Python 3 (ipykernel)",
   "language": "python",
   "name": "python3"
  },
  "language_info": {
   "codemirror_mode": {
    "name": "ipython",
    "version": 3
   },
   "file_extension": ".py",
   "mimetype": "text/x-python",
   "name": "python",
   "nbconvert_exporter": "python",
   "pygments_lexer": "ipython3",
   "version": "3.7.12"
  },
  "latex_envs": {
   "LaTeX_envs_menu_present": true,
   "autoclose": false,
   "autocomplete": true,
   "bibliofile": "biblio.bib",
   "cite_by": "apalike",
   "current_citInitial": 1,
   "eqLabelWithNumbers": true,
   "eqNumInitial": 1,
   "hotkeys": {
    "equation": "Ctrl-E",
    "itemize": "Ctrl-I"
   },
   "labels_anchors": false,
   "latex_user_defs": false,
   "report_style_numbering": false,
   "user_envs_cfg": false
  }
 },
 "nbformat": 4,
 "nbformat_minor": 5
}
