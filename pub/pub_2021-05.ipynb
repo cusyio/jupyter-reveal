{
 "cells": [
  {
   "cell_type": "markdown",
   "id": "respiratory-count",
   "metadata": {
    "slideshow": {
     "slide_type": "slide"
    }
   },
   "source": [
    "# What’s new in Python\n",
    "\n",
    "<img src=\"../img/veit-duotone.png\" alt=\"Portrait Veit Schiele\" style=\"float: left; width:256px; margin-right:32px; border-radius: 50%;\"/>\n",
    "\n",
    "Veit Schiele<br>Cusy GmbH, Berlin<br>Python Users Berlin, 13 May 2021\n",
    "\n",
    "<p style=\"clear: both; margin-bottom: 0;\">\n",
    "    <br>\n",
    "    <a href=\"https://github.com/cusyio/jupyter-reveal/tree/main/pub/pub_2021-05.pdf\">github.com/cusyio/jupyter-reveal/pub/pub_2021-05.pdf</a>\n",
    "<p/>"
   ]
  },
  {
   "cell_type": "markdown",
   "id": "ca33ce25",
   "metadata": {
    "slideshow": {
     "slide_type": "slide"
    }
   },
   "source": [
    "## Python is on Mars\n",
    "\n",
    "LINUX Unplugged did an interview with Tim Canham, the Mars Helicopter Operations Lead.\n",
    "\n",
    "From the 43 minute he talks about Python: [How Linux Got to Mars](https://linuxunplugged.com/396).\n",
    "\n",
    "See also:\n",
    "* [github.com/nasa/fprime](https://github.com/nasa/fprime)"
   ]
  },
  {
   "cell_type": "markdown",
   "id": "afraid-slovakia",
   "metadata": {
    "slideshow": {
     "slide_type": "slide"
    }
   },
   "source": [
    "## Coverage.py\n",
    "\n",
    "The next version of coverage․py will be 6.0, dropping support for Python 2 and Python 3.5.\n",
    "\n",
    "See also:\n",
    "* [Comparing changes](https://github.com/nedbat/coveragepy/compare/27d82554...8acc7448)"
   ]
  },
  {
   "cell_type": "markdown",
   "id": "3a0b3756",
   "metadata": {
    "slideshow": {
     "slide_type": "slide"
    }
   },
   "source": [
    "## PCA on the security incident disclosed by codecov\n",
    "\n",
    "Codecov disclosed a security incident: [Bash Uploader Security Update](https://about.codecov.io/security-update/).\n",
    "\n",
    "The PCA (Python Cryptographic Authority) noted that this has [no impact on their use of codecov](https://mail.python.org/pipermail/cryptography-dev/2021-April/001036.html)."
   ]
  },
  {
   "cell_type": "markdown",
   "id": "1b2d26ac",
   "metadata": {
    "slideshow": {
     "slide_type": "slide"
    }
   },
   "source": [
    "## PyCon US 2021\n",
    "\n",
    "https://us.pycon.org/2021\n",
    "\n",
    "* Tutorials: 12-13 May 2021\n",
    "* Conference: 14–15 May 2021\n",
    "* Job Fair: 16 May 2021\n",
    "* Sprints: 16-18 May 2021"
   ]
  },
  {
   "cell_type": "markdown",
   "id": "4fda86c8",
   "metadata": {
    "slideshow": {
     "slide_type": "slide"
    }
   },
   "source": [
    "## Python Software Foundation\n",
    "\n",
    "* [Call for nomination for the PSF board](https://discuss.python.org/t/interested-in-running-for-the-psf-board-read-about-board-responsibilities-here/8564)\n",
    "\n",
    "  Nominations ends on 31 May 2021."
   ]
  },
  {
   "cell_type": "markdown",
   "id": "interim-competition",
   "metadata": {
    "slideshow": {
     "slide_type": "slide"
    }
   },
   "source": [
    "## New in our bookshelf\n",
    "\n",
    "* [Machine Learning mit Python](https://t.co/5eKE0xfTX8?amp=1) by Sebastian Raschka und Vahid Mirjalili\n",
    "* [Refactoring](https://www.mitp.de/IT-WEB/Software-Entwicklung/Refactoring.html) by Martin Fowler"
   ]
  }
 ],
 "metadata": {
  "celltoolbar": "Slideshow",
  "kernelspec": {
   "display_name": "Python 3",
   "language": "python",
   "name": "python3"
  },
  "language_info": {
   "codemirror_mode": {
    "name": "ipython",
    "version": 3
   },
   "file_extension": ".py",
   "mimetype": "text/x-python",
   "name": "python",
   "nbconvert_exporter": "python",
   "pygments_lexer": "ipython3",
   "version": "3.9.4"
  },
  "latex_envs": {
   "LaTeX_envs_menu_present": true,
   "autoclose": false,
   "autocomplete": true,
   "bibliofile": "biblio.bib",
   "cite_by": "apalike",
   "current_citInitial": 1,
   "eqLabelWithNumbers": true,
   "eqNumInitial": 1,
   "hotkeys": {
    "equation": "Ctrl-E",
    "itemize": "Ctrl-I"
   },
   "labels_anchors": false,
   "latex_user_defs": false,
   "report_style_numbering": false,
   "user_envs_cfg": false
  }
 },
 "nbformat": 4,
 "nbformat_minor": 5
}
