{
 "cells": [
  {
   "cell_type": "markdown",
   "id": "respiratory-count",
   "metadata": {
    "slideshow": {
     "slide_type": "slide"
    }
   },
   "source": [
    "# What’s new in Python\n",
    "\n",
    "<img src=\"../img/veit-duotone.png\" alt=\"Portrait Veit Schiele\" style=\"float: left; width:256px; margin-right:32px; border-radius: 50%;\"/>\n",
    "\n",
    "Veit Schiele<br>Cusy GmbH, Berlin<br>Python Users Berlin, 13 May 2021\n",
    "\n",
    "<p style=\"clear: both; margin-bottom: 0;\">\n",
    "    <br>\n",
    "    <a href=\"https://github.com/cusyio/jupyter-reveal/tree/main/pub/pub_2021-05.pdf\">github.com/cusyio/jupyter-reveal/pub/pub_2021-05.pdf</a>\n",
    "<p/>"
   ]
  },
  {
   "cell_type": "markdown",
   "id": "b4c3aebc",
   "metadata": {
    "slideshow": {
     "slide_type": "slide"
    }
   },
   "source": [
    "## Python is on Mars\n",
    "\n",
    "LINUX Unplugged did an interview with Tim Canham, the Mars Helicopter Operations Lead.\n",
    "\n",
    "From the 43 minute he talks about Python: [How Linux Got to Mars](https://linuxunplugged.com/396).\n",
    "\n",
    "See also:\n",
    "* [github.com/nasa/fprime](https://github.com/nasa/fprime)"
   ]
  },
  {
   "cell_type": "markdown",
   "id": "a783bed7",
   "metadata": {
    "slideshow": {
     "slide_type": "slide"
    }
   },
   "source": [
    "## Improved error handling"
   ]
  },
  {
   "cell_type": "markdown",
   "id": "8dcf2767",
   "metadata": {
    "slideshow": {
     "slide_type": "fragment"
    }
   },
   "source": [
    "On 9 April, Pablo Galindo, release manager for Python 3.10 and 3.11, tweeted a question to Python trainers:\n",
    "> Python educators and users: I have been working on improving SyntaxError messages in CPython lately. What error (only *SyntaxErrors* for now 😅) messages you or your students have struggle with? Which ones you think we should improve? 🤔 (Pls RT to help reaching more people 🙏).\n",
    "\n",
    "[twitter.com/pyblogsal/status/1380516575485263873](https://twitter.com/pyblogsal/status/1380516575485263873)"
   ]
  },
  {
   "cell_type": "markdown",
   "id": "c4041704",
   "metadata": {
    "slideshow": {
     "slide_type": "fragment"
    }
   },
   "source": [
    "He has received many answers also to improved error messages for assignment (`=`) and comparison (`==`) operators, indentation errors, and missing colons."
   ]
  },
  {
   "cell_type": "markdown",
   "id": "8da83880",
   "metadata": {
    "slideshow": {
     "slide_type": "fragment"
    }
   },
   "source": [
    "See also:\n",
    "\n",
    "* [Better error messages](https://docs.python.org/3.10/whatsnew/3.10.html#better-error-messages)"
   ]
  },
  {
   "cell_type": "markdown",
   "id": "36d11287",
   "metadata": {
    "slideshow": {
     "slide_type": "slide"
    }
   },
   "source": [
    "## Python 3.8.10, 3.9.5, and 3.10.0b1 are now available\n",
    "\n",
    "See also:\n",
    "* [Python 3.8.10, 3.9.5, and 3.10.0b1 are now available](https://discuss.python.org/t/python-3-8-10-3-9-5-and-3-10-0b1-are-now-available/8533)"
   ]
  },
  {
   "cell_type": "markdown",
   "id": "69a4548a",
   "metadata": {
    "slideshow": {
     "slide_type": "subslide"
    }
   },
   "source": [
    "## Python 3.8.10, 3.9.5, and 3.10.0b1 are now available\n",
    "\n",
    "### Python 3.10.0b1\n",
    "\n",
    "* Python 3.10 is now in Beta\n",
    "* Beta release previews are intended to give the wider community the opportunity to test new features and bug fixes.\n",
    "* Third-party Python projects should test and prepare their projects to support the new feature release.\n",
    "* [PEP 619 – Python 3.10 Release Schedule](https://www.python.org/dev/peps/pep-0619/)"
   ]
  },
  {
   "cell_type": "markdown",
   "id": "8f4564d1",
   "metadata": {
    "slideshow": {
     "slide_type": "subslide"
    }
   },
   "source": [
    "## Python 3.8.10, 3.9.5, and 3.10.0b1 are now available\n",
    "\n",
    "### Python 3.9.5\n",
    "\n",
    "* [Python 3.9.5 Changelog](https://docs.python.org/release/3.9.5/whatsnew/changelog.html)\n",
    "* Python 3.9.5 is the newest major **stable** release.\n",
    "* On macOS, you should use the `universal2` binary installer variant whenever possible.\n",
    "  The legacy 10.9+ Intel-only variant will not be provided for Python 3.10 and the `universal2` variant will become the default download for future 3.9.x releases."
   ]
  },
  {
   "cell_type": "markdown",
   "id": "0aa203bf",
   "metadata": {
    "slideshow": {
     "slide_type": "subslide"
    }
   },
   "source": [
    "## Python 3.8.10, 3.9.5, and 3.10.0b1 are now available\n",
    "\n",
    "### Python 3.8.10\n",
    "\n",
    "* [PEP 569 – Python 3.8 Release Schedule](https://www.python.org/dev/peps/pep-0569/)\n",
    "* Python 3.8.10 is the final regular maintenance release.\n",
    "* Starting now, the 3.8 branch will only accept security fixes.\n",
    "* Releases will be made in source-only form until October 2024."
   ]
  },
  {
   "cell_type": "markdown",
   "id": "007e6e96",
   "metadata": {
    "slideshow": {
     "slide_type": "slide"
    }
   },
   "source": [
    "## CPython repository switched from `master` to `main`\n",
    "\n",
    "* [Community’s take on changing `master` branch to `main`](https://discuss.python.org/t/communitys-take-on-changing-master-branch-to-main/4462)\n",
    "* [github.com/github/renaming](https://github.com/github/renaming)"
   ]
  },
  {
   "cell_type": "markdown",
   "id": "afraid-slovakia",
   "metadata": {
    "slideshow": {
     "slide_type": "slide"
    }
   },
   "source": [
    "## Coverage.py\n",
    "\n",
    "The next version of coverage․py will be 6.0, dropping support for Python 2 and Python 3.5.\n",
    "\n",
    "See also:\n",
    "* [Comparing changes](https://github.com/nedbat/coveragepy/compare/27d82554...8acc7448)"
   ]
  },
  {
   "cell_type": "markdown",
   "id": "e9310bb5",
   "metadata": {
    "slideshow": {
     "slide_type": "slide"
    }
   },
   "source": [
    "## PCA on the security incident disclosed by codecov\n",
    "\n",
    "Codecov disclosed a security incident: [Bash Uploader Security Update](https://about.codecov.io/security-update/).\n",
    "\n",
    "The PCA (Python Cryptographic Authority) noted that this has [no impact on their use of codecov](https://mail.python.org/pipermail/cryptography-dev/2021-April/001036.html)."
   ]
  },
  {
   "cell_type": "markdown",
   "id": "f1d039b9",
   "metadata": {
    "slideshow": {
     "slide_type": "slide"
    }
   },
   "source": [
    "## PyCon US 2021\n",
    "\n",
    "https://us.pycon.org/2021\n",
    "\n",
    "* Tutorials: 12-13 May 2021\n",
    "* Conference: 14–15 May 2021\n",
    "* Job Fair: 16 May 2021\n",
    "* Sprints: 16-18 May 2021"
   ]
  },
  {
   "cell_type": "markdown",
   "id": "8a2335e4",
   "metadata": {
    "slideshow": {
     "slide_type": "slide"
    }
   },
   "source": [
    "## Two times faster CPython in 3.11"
   ]
  },
  {
   "cell_type": "markdown",
   "id": "c6516c4b",
   "metadata": {
    "slideshow": {
     "slide_type": "fragment"
    }
   },
   "source": [
    "### Planning\n",
    "\n",
    "* [The Shannon Plan](https://github.com/markshannon/faster-cpython/blob/master/plan.md)\n",
    "* Based on experience with [HotPy](http://code.google.com/p/hotpy/)\n",
    "* Small team funded by Microsoft with Eric Snow, Mark Shannon and Guido van Rossum\n",
    "* Fully open collaboration with core devs\n",
    "* Open [Issue tracker for Faster CPython project](https://github.com/faster-cpython/ideas/issues)\n",
    "* [Tools for gathering bytecode statistics](https://github.com/faster-cpython/tools)\n",
    "* [PEP 659 – Specializing Adaptive Interpreter](https://www.python.org/dev/peps/pep-0659/)"
   ]
  },
  {
   "cell_type": "markdown",
   "id": "c45f2ba1",
   "metadata": {
    "slideshow": {
     "slide_type": "subslide"
    }
   },
   "source": [
    "## Two times faster CPython in 3.11\n",
    "\n",
    "### Constraints\n",
    "\n",
    "* ABI compatibility\n",
    "* API compatibility\n",
    "* Don’t slow down extreme cases\n",
    "* Keep code maintainable"
   ]
  },
  {
   "cell_type": "markdown",
   "id": "4823434c",
   "metadata": {
    "slideshow": {
     "slide_type": "subslide"
    }
   },
   "source": [
    "## Two times faster CPython in 3.11\n",
    "\n",
    "### How to\n",
    "\n",
    "* Adaptive, specialising byte code interpreter\n",
    "* Various other specialised optimisations\n",
    "\n",
    "    * optimise frame stack\n",
    "    * faster calls\n",
    "    * tweak allocation\n",
    "    * *Zero overhead* exception handling"
   ]
  },
  {
   "cell_type": "markdown",
   "id": "1cf4a036",
   "metadata": {
    "slideshow": {
     "slide_type": "subslide"
    }
   },
   "source": [
    "## Two times faster CPython in 3.11\n",
    "\n",
    "### Benefits\n",
    "\n",
    "* CPU intensive pure Python Code\n",
    "* Websites build in Python"
   ]
  },
  {
   "cell_type": "markdown",
   "id": "e11c0b7a",
   "metadata": {
    "slideshow": {
     "slide_type": "fragment"
    }
   },
   "source": [
    "### Low benefits\n",
    "\n",
    "* Code that’s already in C\n",
    "* I/O bound code\n",
    "* Multi-threading code"
   ]
  },
  {
   "cell_type": "markdown",
   "id": "d8cc30f4",
   "metadata": {
    "slideshow": {
     "slide_type": "slide"
    }
   },
   "source": [
    "## Python Software Foundation\n",
    "\n",
    "* [Call for nomination for the PSF board](https://discuss.python.org/t/interested-in-running-for-the-psf-board-read-about-board-responsibilities-here/8564)\n",
    "\n",
    "  Nominations ends on 31 May 2021."
   ]
  },
  {
   "cell_type": "markdown",
   "id": "interim-competition",
   "metadata": {
    "slideshow": {
     "slide_type": "slide"
    }
   },
   "source": [
    "## New in our bookshelf\n",
    "\n",
    "* [Machine Learning mit Python](https://t.co/5eKE0xfTX8?amp=1) by Sebastian Raschka und Vahid Mirjalili\n",
    "* [Refactoring](https://www.mitp.de/IT-WEB/Software-Entwicklung/Refactoring.html) by Martin Fowler"
   ]
  }
 ],
 "metadata": {
  "celltoolbar": "Slideshow",
  "kernelspec": {
   "display_name": "Python 3",
   "language": "python",
   "name": "python3"
  },
  "language_info": {
   "codemirror_mode": {
    "name": "ipython",
    "version": 3
   },
   "file_extension": ".py",
   "mimetype": "text/x-python",
   "name": "python",
   "nbconvert_exporter": "python",
   "pygments_lexer": "ipython3",
   "version": "3.9.4"
  },
  "latex_envs": {
   "LaTeX_envs_menu_present": true,
   "autoclose": false,
   "autocomplete": true,
   "bibliofile": "biblio.bib",
   "cite_by": "apalike",
   "current_citInitial": 1,
   "eqLabelWithNumbers": true,
   "eqNumInitial": 1,
   "hotkeys": {
    "equation": "Ctrl-E",
    "itemize": "Ctrl-I"
   },
   "labels_anchors": false,
   "latex_user_defs": false,
   "report_style_numbering": false,
   "user_envs_cfg": false
  }
 },
 "nbformat": 4,
 "nbformat_minor": 5
}
