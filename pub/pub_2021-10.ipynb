{
 "cells": [
  {
   "cell_type": "markdown",
   "id": "respiratory-count",
   "metadata": {
    "slideshow": {
     "slide_type": "slide"
    }
   },
   "source": [
    "# What’s new in Python\n",
    "\n",
    "<img src=\"../img/veit-duotone.png\" alt=\"Portrait Veit Schiele\" style=\"float: left; width:256px; margin-right:32px; border-radius: 50%;\"/>\n",
    "\n",
    "Veit Schiele<br>Cusy GmbH, Berlin<br>Python Users Berlin, 14 October 2021\n",
    "\n",
    "<p style=\"clear: both; margin-bottom: 0;\">\n",
    "    <br>\n",
    "    <a href=\"https://github.com/cusyio/jupyter-reveal/tree/main/pub/pub_2021-10.pdf\">github.com/cusyio/jupyter-reveal/pub/pub_2021-10.pdf</a>\n",
    "<p/>"
   ]
  },
  {
   "cell_type": "markdown",
   "id": "e5165dc6",
   "metadata": {
    "slideshow": {
     "slide_type": "slide"
    }
   },
   "source": [
    "## TIOBE-Index Oktober 2021\n",
    "\n",
    "Python at the top for the first time, see [TIOBE Index for October 2021](https://www.tiobe.com/tiobe-index/)."
   ]
  },
  {
   "cell_type": "markdown",
   "id": "69253cb4",
   "metadata": {
    "slideshow": {
     "slide_type": "slide"
    }
   },
   "source": [
    "## Python 3.10 released\n",
    "\n",
    "* Release Date: 4 Oct. 2021\n",
    "* Fatures\n",
    "  * union types as X | Y\n",
    "  * Parameter Specification Variables\n",
    "  * Parenthesised context managers\n",
    "  * Explicit Type Aliases\n",
    "  * Structural Pattern Matching\n",
    "  * optional EncodingWarning\n",
    "* Deprecates\n",
    "  * distutils module\n",
    "  * support for OpenSSL < 1.1.1\n",
    "  * Py_UNICODE encoder APIs\n",
    "\n",
    "> **See also:**\n",
    "> \n",
    "> * [Python 3.10.0](https://www.python.org/downloads/release/python-3100/)"
   ]
  },
  {
   "cell_type": "markdown",
   "id": "da093ed7",
   "metadata": {
    "slideshow": {
     "slide_type": "slide"
    }
   },
   "source": [
    "## An open and free version of Germany\n",
    "\n",
    "This can be installed with Python:\n",
    "    \n",
    "```\n",
    "$ python -m pip install deutschland\n",
    "```"
   ]
  },
  {
   "cell_type": "markdown",
   "id": "178c01d7",
   "metadata": {
    "slideshow": {
     "slide_type": "fragment"
    }
   },
   "source": [
    "Deutschland is a python package that gives you easy access to the most valuable datasets of Germany:\n",
    "* geographic data\n",
    "* company data\n",
    "* consumer protection data\n",
    "* federal job openings\n",
    "* …"
   ]
  },
  {
   "cell_type": "markdown",
   "id": "5ec4b479",
   "metadata": {
    "slideshow": {
     "slide_type": "slide"
    }
   },
   "source": [
    "## PyData Global 2021\n",
    "\n",
    "* 28-30 October 2021\n",
    "* [PyData Global 2021](https://pydata.org/global2021/)"
   ]
  },
  {
   "cell_type": "markdown",
   "id": "69a4548a",
   "metadata": {
    "slideshow": {
     "slide_type": "slide"
    }
   },
   "source": [
    "## PyConDE and PyData Berlin 2022\n",
    "\n",
    "* 11-13 April 2022 at bcc Berlin Congress Center\n",
    "* [PyConDE and PyData Berlin 2022](https://2022.pycon.de/blog/pyconde-pydata-berlin-2022/)"
   ]
  },
  {
   "cell_type": "markdown",
   "id": "f3350662",
   "metadata": {
    "slideshow": {
     "slide_type": "slide"
    }
   },
   "source": [
    "## New in our bookshelf\n",
    "\n",
    "* [Architekturpatterns mit Python – Test-Driven Development, Domain-Driven Design und Event-Driven Microservices praktisch umgesetzt](https://oreilly.de/produkt/architekturpatterns-mit-python/) by Harry J. W. Percival and Bob Gregory\n",
    "* [MLOps – Kernkonzepte im Überblick](https://oreilly.de/produkt/mlops-kernkonzepte-im-ueberblick/) by Mark Treveil, Nicolas Omont, Clément Stenac, Kenji Lefèvre and Du Phan\n",
    "* [Think Python](https://oreilly.de/produkt/think-python/) by Allen B. Downey\n",
    "* [Praktische Statistik für Data Scientists](https://oreilly.de/produkt/praktische-statistik-fuer-data-scientists/) by Peter Bruce, Andrew Bruce and Peter Gedeck\n",
    "* [Machine Learning – kurz & gut](https://dpunkt.de/produkt/machine-learning-kurz-gut/) by Chi Nhan Nguyen and Oliver Zeigermann\n",
    "* [Einfache Programmierung mit MicroPython](https://www.mitp.de/IT-WEB/Elektronik-Maker/Raspberry-Pi-Pico-Schnelleinstieg.html) by Thomas Brühlmann\n",
    "* [Raspberry Pi programmieren mit Python](https://www.mitp.de/IT-WEB/Elektronik-Maker/Raspberry-Pi-programmieren-mit-Python.html) by Michael Weigend"
   ]
  }
 ],
 "metadata": {
  "celltoolbar": "Slideshow",
  "kernelspec": {
   "display_name": "Python 3 (ipykernel)",
   "language": "python",
   "name": "python3"
  },
  "language_info": {
   "codemirror_mode": {
    "name": "ipython",
    "version": 3
   },
   "file_extension": ".py",
   "mimetype": "text/x-python",
   "name": "python",
   "nbconvert_exporter": "python",
   "pygments_lexer": "ipython3",
   "version": "3.9.0rc1"
  },
  "latex_envs": {
   "LaTeX_envs_menu_present": true,
   "autoclose": false,
   "autocomplete": true,
   "bibliofile": "biblio.bib",
   "cite_by": "apalike",
   "current_citInitial": 1,
   "eqLabelWithNumbers": true,
   "eqNumInitial": 1,
   "hotkeys": {
    "equation": "Ctrl-E",
    "itemize": "Ctrl-I"
   },
   "labels_anchors": false,
   "latex_user_defs": false,
   "report_style_numbering": false,
   "user_envs_cfg": false
  }
 },
 "nbformat": 4,
 "nbformat_minor": 5
}
